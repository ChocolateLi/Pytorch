{
 "cells": [
  {
   "cell_type": "markdown",
   "id": "0537f7ba",
   "metadata": {},
   "source": [
    "# 加载模型"
   ]
  },
  {
   "cell_type": "code",
   "execution_count": 2,
   "id": "1cd73cea",
   "metadata": {},
   "outputs": [
    {
     "name": "stderr",
     "output_type": "stream",
     "text": [
      "Some weights of the model checkpoint at schen/longformer-chinese-base-4096 were not used when initializing BertModel: ['bert.encoder.layer.5.attention.self.value_global.bias', 'bert.encoder.layer.4.attention.self.key_global.bias', 'bert.encoder.layer.1.attention.self.query_global.weight', 'bert.encoder.layer.3.attention.self.query_global.bias', 'bert.encoder.layer.8.attention.self.query_global.weight', 'bert.encoder.layer.11.attention.self.query_global.bias', 'cls.predictions.decoder.bias', 'bert.encoder.layer.10.attention.self.query_global.weight', 'bert.encoder.layer.9.attention.self.key_global.weight', 'bert.encoder.layer.2.attention.self.key_global.weight', 'bert.encoder.layer.9.attention.self.key_global.bias', 'bert.encoder.layer.7.attention.self.query_global.bias', 'cls.predictions.transform.dense.bias', 'cls.seq_relationship.weight', 'bert.encoder.layer.7.attention.self.value_global.weight', 'bert.encoder.layer.6.attention.self.key_global.weight', 'cls.predictions.bias', 'bert.encoder.layer.6.attention.self.query_global.bias', 'bert.encoder.layer.5.attention.self.query_global.bias', 'bert.encoder.layer.4.attention.self.query_global.bias', 'bert.encoder.layer.7.attention.self.key_global.bias', 'bert.encoder.layer.4.attention.self.value_global.bias', 'bert.encoder.layer.1.attention.self.value_global.weight', 'bert.encoder.layer.5.attention.self.query_global.weight', 'bert.encoder.layer.1.attention.self.value_global.bias', 'bert.encoder.layer.8.attention.self.key_global.bias', 'bert.encoder.layer.11.attention.self.key_global.bias', 'bert.encoder.layer.8.attention.self.value_global.bias', 'bert.encoder.layer.0.attention.self.query_global.weight', 'bert.encoder.layer.2.attention.self.value_global.bias', 'bert.encoder.layer.8.attention.self.value_global.weight', 'bert.encoder.layer.2.attention.self.query_global.weight', 'bert.encoder.layer.6.attention.self.query_global.weight', 'bert.encoder.layer.4.attention.self.value_global.weight', 'bert.encoder.layer.6.attention.self.value_global.weight', 'bert.encoder.layer.7.attention.self.key_global.weight', 'bert.encoder.layer.9.attention.self.value_global.bias', 'bert.encoder.layer.2.attention.self.key_global.bias', 'cls.predictions.decoder.weight', 'bert.encoder.layer.3.attention.self.query_global.weight', 'bert.encoder.layer.2.attention.self.value_global.weight', 'bert.encoder.layer.11.attention.self.query_global.weight', 'cls.predictions.transform.dense.weight', 'bert.encoder.layer.1.attention.self.key_global.bias', 'bert.encoder.layer.8.attention.self.query_global.bias', 'bert.encoder.layer.1.attention.self.query_global.bias', 'bert.encoder.layer.10.attention.self.value_global.bias', 'bert.encoder.layer.10.attention.self.value_global.weight', 'cls.predictions.transform.LayerNorm.bias', 'bert.encoder.layer.10.attention.self.key_global.weight', 'bert.encoder.layer.3.attention.self.value_global.weight', 'bert.encoder.layer.0.attention.self.key_global.weight', 'cls.seq_relationship.bias', 'bert.encoder.layer.3.attention.self.key_global.bias', 'bert.encoder.layer.4.attention.self.query_global.weight', 'bert.encoder.layer.0.attention.self.value_global.bias', 'bert.encoder.layer.0.attention.self.value_global.weight', 'bert.encoder.layer.0.attention.self.key_global.bias', 'bert.encoder.layer.1.attention.self.key_global.weight', 'bert.encoder.layer.10.attention.self.query_global.bias', 'bert.encoder.layer.0.attention.self.query_global.bias', 'bert.encoder.layer.4.attention.self.key_global.weight', 'cls.predictions.transform.LayerNorm.weight', 'bert.encoder.layer.6.attention.self.value_global.bias', 'bert.encoder.layer.5.attention.self.key_global.bias', 'bert.encoder.layer.2.attention.self.query_global.bias', 'bert.encoder.layer.11.attention.self.value_global.weight', 'bert.encoder.layer.6.attention.self.key_global.bias', 'bert.encoder.layer.7.attention.self.value_global.bias', 'bert.encoder.layer.11.attention.self.value_global.bias', 'bert.encoder.layer.7.attention.self.query_global.weight', 'bert.encoder.layer.8.attention.self.key_global.weight', 'bert.encoder.layer.5.attention.self.value_global.weight', 'bert.encoder.layer.3.attention.self.key_global.weight', 'bert.encoder.layer.11.attention.self.key_global.weight', 'bert.encoder.layer.9.attention.self.query_global.bias', 'bert.encoder.layer.3.attention.self.value_global.bias', 'bert.encoder.layer.5.attention.self.key_global.weight', 'bert.encoder.layer.9.attention.self.value_global.weight', 'bert.encoder.layer.9.attention.self.query_global.weight', 'bert.encoder.layer.10.attention.self.key_global.bias']\n",
      "- This IS expected if you are initializing BertModel from the checkpoint of a model trained on another task or with another architecture (e.g. initializing a BertForSequenceClassification model from a BertForPreTraining model).\n",
      "- This IS NOT expected if you are initializing BertModel from the checkpoint of a model that you expect to be exactly identical (initializing a BertForSequenceClassification model from a BertForSequenceClassification model).\n"
     ]
    }
   ],
   "source": [
    "from transformers import AutoTokenizer, AutoModel\n",
    "\n",
    "tokenizer = AutoTokenizer.from_pretrained(\"schen/longformer-chinese-base-4096\")\n",
    "\n",
    "model = AutoModel.from_pretrained(\"schen/longformer-chinese-base-4096\")"
   ]
  },
  {
   "cell_type": "code",
   "execution_count": 4,
   "id": "40158683",
   "metadata": {},
   "outputs": [
    {
     "data": {
      "text/plain": [
       "PreTrainedTokenizerFast(name_or_path='schen/longformer-chinese-base-4096', vocab_size=21128, model_max_len=4096, is_fast=True, padding_side='right', truncation_side='right', special_tokens={'unk_token': '[UNK]', 'sep_token': '[SEP]', 'pad_token': '[PAD]', 'cls_token': '[CLS]', 'mask_token': '[MASK]'})"
      ]
     },
     "execution_count": 4,
     "metadata": {},
     "output_type": "execute_result"
    }
   ],
   "source": [
    "tokenizer"
   ]
  },
  {
   "cell_type": "markdown",
   "id": "2c740e45",
   "metadata": {},
   "source": [
    "# 分词"
   ]
  },
  {
   "cell_type": "code",
   "execution_count": 6,
   "id": "71c89fd4",
   "metadata": {},
   "outputs": [
    {
     "data": {
      "text/plain": [
       "['深',\n",
       " '度',\n",
       " '学',\n",
       " '习',\n",
       " '好',\n",
       " '难',\n",
       " '啊',\n",
       " '！',\n",
       " '搞',\n",
       " '不',\n",
       " '定',\n",
       " '！',\n",
       " '怎',\n",
       " '么',\n",
       " '办',\n",
       " '！']"
      ]
     },
     "execution_count": 6,
     "metadata": {},
     "output_type": "execute_result"
    }
   ],
   "source": [
    "sequence = \"深度学习好难啊！搞不定！怎么办！\"\n",
    "tokens = tokenizer.tokenize(sequence)\n",
    "tokens"
   ]
  },
  {
   "cell_type": "markdown",
   "id": "adaada51",
   "metadata": {},
   "source": [
    "# 将tokens转化为对应的tokens id"
   ]
  },
  {
   "cell_type": "code",
   "execution_count": 7,
   "id": "ff88070c",
   "metadata": {},
   "outputs": [
    {
     "data": {
      "text/plain": [
       "[3918,\n",
       " 2428,\n",
       " 2110,\n",
       " 739,\n",
       " 1962,\n",
       " 7410,\n",
       " 1557,\n",
       " 8013,\n",
       " 3018,\n",
       " 679,\n",
       " 2137,\n",
       " 8013,\n",
       " 2582,\n",
       " 720,\n",
       " 1215,\n",
       " 8013]"
      ]
     },
     "execution_count": 7,
     "metadata": {},
     "output_type": "execute_result"
    }
   ],
   "source": [
    "ids = tokenizer.convert_tokens_to_ids(tokens)\n",
    "ids"
   ]
  },
  {
   "cell_type": "code",
   "execution_count": null,
   "id": "86fd7309",
   "metadata": {},
   "outputs": [],
   "source": []
  },
  {
   "cell_type": "code",
   "execution_count": null,
   "id": "f59a7cce",
   "metadata": {},
   "outputs": [],
   "source": []
  }
 ],
 "metadata": {
  "kernelspec": {
   "display_name": "pytorch",
   "language": "python",
   "name": "pytorch"
  },
  "language_info": {
   "codemirror_mode": {
    "name": "ipython",
    "version": 3
   },
   "file_extension": ".py",
   "mimetype": "text/x-python",
   "name": "python",
   "nbconvert_exporter": "python",
   "pygments_lexer": "ipython3",
   "version": "3.7.11"
  },
  "toc": {
   "base_numbering": 1,
   "nav_menu": {},
   "number_sections": true,
   "sideBar": true,
   "skip_h1_title": false,
   "title_cell": "Table of Contents",
   "title_sidebar": "Contents",
   "toc_cell": false,
   "toc_position": {},
   "toc_section_display": true,
   "toc_window_display": false
  }
 },
 "nbformat": 4,
 "nbformat_minor": 5
}
