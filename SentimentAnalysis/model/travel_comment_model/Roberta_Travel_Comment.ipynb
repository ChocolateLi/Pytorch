{
 "cells": [
  {
   "cell_type": "code",
   "execution_count": 19,
   "id": "f4bd0eac",
   "metadata": {},
   "outputs": [],
   "source": [
    "# model_checkpoint = \"bert-base-chinese\"\n",
    "# model_checkpoint = \"schen/longformer-chinese-base-4096\"\n",
    "model_checkpoint = \"uer/chinese_roberta_L-2_H-128\"\n",
    "batch_size = 2 # 每一批次的数量\n",
    "num_labels = 2 # 多少分类，这里是二分类问题，积极和消极\n",
    "output_dir = \"/home/chenli/pre_model/roberta\" # 模型保存路径\n",
    "learning_rate = 1e-5 # 学习率\n",
    "# weight_decay=0.01 # 学习率衰减，设置0.01即可。如果weight_decay设置太小，几乎就不起作用了。\n",
    "num_train_epochs = 10 # 训练轮次，差不多设置为5左右。轮数不要设置太大。轮数设置的太大，Loss是下降了，但是微调的时候效果不是很好，有可能训练过头了"
   ]
  },
  {
   "cell_type": "code",
   "execution_count": 2,
   "id": "81351f71",
   "metadata": {},
   "outputs": [],
   "source": [
    "from datasets import load_dataset\n",
    "from datasets import load_from_disk\n",
    "# 加载一个评估标准，默认的评估标准\n",
    "from datasets import load_metric"
   ]
  },
  {
   "cell_type": "code",
   "execution_count": 3,
   "id": "908a58f3",
   "metadata": {},
   "outputs": [
    {
     "name": "stderr",
     "output_type": "stream",
     "text": [
      "Using custom data configuration default-be87a0d28564f2ae\n",
      "Reusing dataset csv (/home/chenli/.cache/huggingface/datasets/csv/default-be87a0d28564f2ae/0.0.0/652c3096f041ee27b04d2232d41f10547a8fecda3e284a79a0ec4053c916ef7a)\n",
      "Using custom data configuration default-e6970b6e6097a9c9\n",
      "Reusing dataset csv (/home/chenli/.cache/huggingface/datasets/csv/default-e6970b6e6097a9c9/0.0.0/652c3096f041ee27b04d2232d41f10547a8fecda3e284a79a0ec4053c916ef7a)\n",
      "Using custom data configuration default-8cb27c720d5c6049\n",
      "Reusing dataset csv (/home/chenli/.cache/huggingface/datasets/csv/default-8cb27c720d5c6049/0.0.0/652c3096f041ee27b04d2232d41f10547a8fecda3e284a79a0ec4053c916ef7a)\n"
     ]
    }
   ],
   "source": [
    "# 加载数据集\n",
    "train_dataset = load_dataset('csv',data_files='../../data/MyDataset/travel_comment_data/train_dataset.csv',split='train')\n",
    "valid_dataset = load_dataset('csv',data_files='../../data/MyDataset/travel_comment_data/valid_dataset.csv',split='train')\n",
    "test_dataset = load_dataset('csv',data_files='../../data/MyDataset/travel_comment_data/test_dataset.csv',split='train')"
   ]
  },
  {
   "cell_type": "code",
   "execution_count": 4,
   "id": "a39205ad",
   "metadata": {},
   "outputs": [
    {
     "data": {
      "text/plain": [
       "Dataset({\n",
       "    features: ['text', 'label'],\n",
       "    num_rows: 33858\n",
       "})"
      ]
     },
     "execution_count": 4,
     "metadata": {},
     "output_type": "execute_result"
    }
   ],
   "source": [
    "train_dataset"
   ]
  },
  {
   "cell_type": "code",
   "execution_count": 5,
   "id": "60cd8f1c",
   "metadata": {},
   "outputs": [
    {
     "data": {
      "text/plain": [
       "Dataset({\n",
       "    features: ['text', 'label'],\n",
       "    num_rows: 4232\n",
       "})"
      ]
     },
     "execution_count": 5,
     "metadata": {},
     "output_type": "execute_result"
    }
   ],
   "source": [
    "valid_dataset"
   ]
  },
  {
   "cell_type": "code",
   "execution_count": 6,
   "id": "f641d493",
   "metadata": {},
   "outputs": [
    {
     "data": {
      "text/plain": [
       "Dataset({\n",
       "    features: ['text', 'label'],\n",
       "    num_rows: 4233\n",
       "})"
      ]
     },
     "execution_count": 6,
     "metadata": {},
     "output_type": "execute_result"
    }
   ],
   "source": [
    "test_dataset"
   ]
  },
  {
   "cell_type": "code",
   "execution_count": 8,
   "id": "910f8ae6",
   "metadata": {},
   "outputs": [
    {
     "data": {
      "application/vnd.jupyter.widget-view+json": {
       "model_id": "71a43f16cc0d448db2255dc539ff0879",
       "version_major": 2,
       "version_minor": 0
      },
      "text/plain": [
       "Downloading:   0%|          | 0.00/128k [00:00<?, ?B/s]"
      ]
     },
     "metadata": {},
     "output_type": "display_data"
    },
    {
     "data": {
      "application/vnd.jupyter.widget-view+json": {
       "model_id": "3b1a3ea7d64649cabeb453aef3a55b5e",
       "version_major": 2,
       "version_minor": 0
      },
      "text/plain": [
       "Downloading:   0%|          | 0.00/112 [00:00<?, ?B/s]"
      ]
     },
     "metadata": {},
     "output_type": "display_data"
    }
   ],
   "source": [
    "from transformers import AutoTokenizer\n",
    "    \n",
    "tokenizer = AutoTokenizer.from_pretrained(model_checkpoint, use_fast=True)"
   ]
  },
  {
   "cell_type": "code",
   "execution_count": 9,
   "id": "63a6f1dc",
   "metadata": {},
   "outputs": [],
   "source": [
    "# 分词\n",
    "def preprocess_function(data):\n",
    "    return tokenizer(data['text'],padding='max_length', max_length=100,truncation=True,return_tensors='pt')"
   ]
  },
  {
   "cell_type": "code",
   "execution_count": 10,
   "id": "b50f0aeb",
   "metadata": {},
   "outputs": [
    {
     "data": {
      "application/vnd.jupyter.widget-view+json": {
       "model_id": "5687aa42312e436190debb20765bed11",
       "version_major": 2,
       "version_minor": 0
      },
      "text/plain": [
       "  0%|          | 0/34 [00:00<?, ?ba/s]"
      ]
     },
     "metadata": {},
     "output_type": "display_data"
    },
    {
     "data": {
      "application/vnd.jupyter.widget-view+json": {
       "model_id": "7ba920c8bb9d44b6acb4d68c1ff8ba6e",
       "version_major": 2,
       "version_minor": 0
      },
      "text/plain": [
       "  0%|          | 0/5 [00:00<?, ?ba/s]"
      ]
     },
     "metadata": {},
     "output_type": "display_data"
    },
    {
     "data": {
      "application/vnd.jupyter.widget-view+json": {
       "model_id": "facaf109829241c68d2b1fe914d04f81",
       "version_major": 2,
       "version_minor": 0
      },
      "text/plain": [
       "  0%|          | 0/5 [00:00<?, ?ba/s]"
      ]
     },
     "metadata": {},
     "output_type": "display_data"
    }
   ],
   "source": [
    "train_encoded_dataset = train_dataset.map(function=preprocess_function,\n",
    "                     batched=True,\n",
    "                     remove_columns=['text'])\n",
    "val_encoded_dataset = valid_dataset.map(function=preprocess_function,\n",
    "                     batched=True,\n",
    "                     remove_columns=['text'])\n",
    "test_encoded_dataset = test_dataset.map(function=preprocess_function,\n",
    "                     batched=True,\n",
    "                     remove_columns=['text'])"
   ]
  },
  {
   "cell_type": "code",
   "execution_count": 11,
   "id": "ae6a14de",
   "metadata": {},
   "outputs": [
    {
     "data": {
      "text/plain": [
       "Dataset({\n",
       "    features: ['label', 'input_ids', 'token_type_ids', 'attention_mask'],\n",
       "    num_rows: 33858\n",
       "})"
      ]
     },
     "execution_count": 11,
     "metadata": {},
     "output_type": "execute_result"
    }
   ],
   "source": [
    "train_encoded_dataset"
   ]
  },
  {
   "cell_type": "code",
   "execution_count": 12,
   "id": "49a171c3",
   "metadata": {},
   "outputs": [
    {
     "data": {
      "text/plain": [
       "Dataset({\n",
       "    features: ['label', 'input_ids', 'token_type_ids', 'attention_mask'],\n",
       "    num_rows: 4232\n",
       "})"
      ]
     },
     "execution_count": 12,
     "metadata": {},
     "output_type": "execute_result"
    }
   ],
   "source": [
    "val_encoded_dataset"
   ]
  },
  {
   "cell_type": "code",
   "execution_count": 13,
   "id": "0bb02782",
   "metadata": {},
   "outputs": [
    {
     "data": {
      "text/plain": [
       "Dataset({\n",
       "    features: ['label', 'input_ids', 'token_type_ids', 'attention_mask'],\n",
       "    num_rows: 4233\n",
       "})"
      ]
     },
     "execution_count": 13,
     "metadata": {},
     "output_type": "execute_result"
    }
   ],
   "source": [
    "test_encoded_dataset"
   ]
  },
  {
   "cell_type": "code",
   "execution_count": 15,
   "id": "c1e822e8",
   "metadata": {},
   "outputs": [
    {
     "data": {
      "application/vnd.jupyter.widget-view+json": {
       "model_id": "c7f77a8e473c4feca32871e563b3e89a",
       "version_major": 2,
       "version_minor": 0
      },
      "text/plain": [
       "Downloading:   0%|          | 0.00/12.2M [00:00<?, ?B/s]"
      ]
     },
     "metadata": {},
     "output_type": "display_data"
    },
    {
     "name": "stderr",
     "output_type": "stream",
     "text": [
      "Some weights of the model checkpoint at uer/chinese_roberta_L-2_H-128 were not used when initializing BertForSequenceClassification: ['cls.predictions.transform.dense.bias', 'cls.predictions.bias', 'cls.predictions.decoder.bias', 'cls.predictions.transform.LayerNorm.bias', 'cls.predictions.transform.LayerNorm.weight', 'cls.predictions.transform.dense.weight', 'cls.predictions.decoder.weight']\n",
      "- This IS expected if you are initializing BertForSequenceClassification from the checkpoint of a model trained on another task or with another architecture (e.g. initializing a BertForSequenceClassification model from a BertForPreTraining model).\n",
      "- This IS NOT expected if you are initializing BertForSequenceClassification from the checkpoint of a model that you expect to be exactly identical (initializing a BertForSequenceClassification model from a BertForSequenceClassification model).\n",
      "Some weights of BertForSequenceClassification were not initialized from the model checkpoint at uer/chinese_roberta_L-2_H-128 and are newly initialized: ['classifier.bias', 'bert.pooler.dense.bias', 'bert.pooler.dense.weight', 'classifier.weight']\n",
      "You should probably TRAIN this model on a down-stream task to be able to use it for predictions and inference.\n"
     ]
    }
   ],
   "source": [
    "from transformers import AutoModelForSequenceClassification, TrainingArguments, Trainer\n",
    "\n",
    "model = AutoModelForSequenceClassification.from_pretrained(model_checkpoint, num_labels=num_labels)"
   ]
  },
  {
   "cell_type": "code",
   "execution_count": 21,
   "id": "7380a3b1",
   "metadata": {},
   "outputs": [],
   "source": [
    "metric_name = \"accuracy\"\n",
    "\n",
    "args = TrainingArguments(\n",
    "    output_dir = output_dir,\n",
    "    evaluation_strategy = \"epoch\",\n",
    "    save_strategy = \"epoch\",# no step epoch\n",
    "    learning_rate = learning_rate,\n",
    "    per_device_train_batch_size = batch_size,\n",
    "    per_device_eval_batch_size = 1,\n",
    "    num_train_epochs = num_train_epochs,\n",
    "    weight_decay=0.01,\n",
    "    load_best_model_at_end=True,\n",
    "    metric_for_best_model=metric_name,\n",
    "    # _n_gpu=2\n",
    ")"
   ]
  },
  {
   "cell_type": "code",
   "execution_count": 22,
   "id": "82fda4d7",
   "metadata": {},
   "outputs": [],
   "source": [
    "import numpy as np\n",
    "def compute_metrics(eval_preds):\n",
    "    metric = load_metric('glue','mrpc')\n",
    "    logits,labels = eval_preds # 预测值和真实值\n",
    "    predictions = np.argmax(logits,axis=-1)\n",
    "    return metric.compute(predictions=predictions,references=labels)"
   ]
  },
  {
   "cell_type": "code",
   "execution_count": 23,
   "id": "201bb00d",
   "metadata": {},
   "outputs": [],
   "source": [
    "trainer = Trainer(\n",
    "    model,\n",
    "    args,\n",
    "    train_dataset=train_encoded_dataset,\n",
    "    eval_dataset=val_encoded_dataset,\n",
    "    tokenizer=tokenizer,\n",
    "    compute_metrics=compute_metrics\n",
    ")"
   ]
  },
  {
   "cell_type": "markdown",
   "id": "27610c8b",
   "metadata": {},
   "source": [
    "### 20230522"
   ]
  },
  {
   "cell_type": "code",
   "execution_count": 24,
   "id": "57c1eeaa",
   "metadata": {},
   "outputs": [
    {
     "name": "stderr",
     "output_type": "stream",
     "text": [
      "***** Running training *****\n",
      "  Num examples = 33858\n",
      "  Num Epochs = 10\n",
      "  Instantaneous batch size per device = 2\n",
      "  Total train batch size (w. parallel, distributed & accumulation) = 4\n",
      "  Gradient Accumulation steps = 1\n",
      "  Total optimization steps = 84650\n",
      "/home/anaconda/anaconda3/envs/pytorch/lib/python3.7/site-packages/torch/nn/parallel/_functions.py:68: UserWarning: Was asked to gather along dimension 0, but all input tensors were scalars; will instead unsqueeze and return a vector.\n",
      "  warnings.warn('Was asked to gather along dimension 0, but all '\n"
     ]
    },
    {
     "data": {
      "text/html": [
       "\n",
       "    <div>\n",
       "      \n",
       "      <progress value='84650' max='84650' style='width:300px; height:20px; vertical-align: middle;'></progress>\n",
       "      [84650/84650 53:15, Epoch 10/10]\n",
       "    </div>\n",
       "    <table border=\"1\" class=\"dataframe\">\n",
       "  <thead>\n",
       "    <tr style=\"text-align: left;\">\n",
       "      <th>Epoch</th>\n",
       "      <th>Training Loss</th>\n",
       "      <th>Validation Loss</th>\n",
       "      <th>Accuracy</th>\n",
       "      <th>F1</th>\n",
       "    </tr>\n",
       "  </thead>\n",
       "  <tbody>\n",
       "    <tr>\n",
       "      <td>1</td>\n",
       "      <td>0.243200</td>\n",
       "      <td>0.256524</td>\n",
       "      <td>0.939272</td>\n",
       "      <td>0.959432</td>\n",
       "    </tr>\n",
       "    <tr>\n",
       "      <td>2</td>\n",
       "      <td>0.246800</td>\n",
       "      <td>0.229447</td>\n",
       "      <td>0.946834</td>\n",
       "      <td>0.964212</td>\n",
       "    </tr>\n",
       "    <tr>\n",
       "      <td>3</td>\n",
       "      <td>0.212300</td>\n",
       "      <td>0.227041</td>\n",
       "      <td>0.949433</td>\n",
       "      <td>0.965869</td>\n",
       "    </tr>\n",
       "    <tr>\n",
       "      <td>4</td>\n",
       "      <td>0.240300</td>\n",
       "      <td>0.219134</td>\n",
       "      <td>0.951323</td>\n",
       "      <td>0.967353</td>\n",
       "    </tr>\n",
       "    <tr>\n",
       "      <td>5</td>\n",
       "      <td>0.189500</td>\n",
       "      <td>0.217023</td>\n",
       "      <td>0.951087</td>\n",
       "      <td>0.967262</td>\n",
       "    </tr>\n",
       "    <tr>\n",
       "      <td>6</td>\n",
       "      <td>0.204900</td>\n",
       "      <td>0.208243</td>\n",
       "      <td>0.952977</td>\n",
       "      <td>0.968518</td>\n",
       "    </tr>\n",
       "    <tr>\n",
       "      <td>7</td>\n",
       "      <td>0.193500</td>\n",
       "      <td>0.207504</td>\n",
       "      <td>0.954868</td>\n",
       "      <td>0.969678</td>\n",
       "    </tr>\n",
       "    <tr>\n",
       "      <td>8</td>\n",
       "      <td>0.127500</td>\n",
       "      <td>0.208868</td>\n",
       "      <td>0.954395</td>\n",
       "      <td>0.969409</td>\n",
       "    </tr>\n",
       "    <tr>\n",
       "      <td>9</td>\n",
       "      <td>0.159700</td>\n",
       "      <td>0.205656</td>\n",
       "      <td>0.956049</td>\n",
       "      <td>0.970504</td>\n",
       "    </tr>\n",
       "    <tr>\n",
       "      <td>10</td>\n",
       "      <td>0.197400</td>\n",
       "      <td>0.205122</td>\n",
       "      <td>0.955813</td>\n",
       "      <td>0.970350</td>\n",
       "    </tr>\n",
       "  </tbody>\n",
       "</table><p>"
      ],
      "text/plain": [
       "<IPython.core.display.HTML object>"
      ]
     },
     "metadata": {},
     "output_type": "display_data"
    },
    {
     "name": "stderr",
     "output_type": "stream",
     "text": [
      "***** Running Evaluation *****\n",
      "  Num examples = 4232\n",
      "  Batch size = 2\n",
      "Saving model checkpoint to /home/chenli/pre_model/roberta/checkpoint-8465\n",
      "Configuration saved in /home/chenli/pre_model/roberta/checkpoint-8465/config.json\n",
      "Model weights saved in /home/chenli/pre_model/roberta/checkpoint-8465/pytorch_model.bin\n",
      "tokenizer config file saved in /home/chenli/pre_model/roberta/checkpoint-8465/tokenizer_config.json\n",
      "Special tokens file saved in /home/chenli/pre_model/roberta/checkpoint-8465/special_tokens_map.json\n",
      "/home/anaconda/anaconda3/envs/pytorch/lib/python3.7/site-packages/torch/nn/parallel/_functions.py:68: UserWarning: Was asked to gather along dimension 0, but all input tensors were scalars; will instead unsqueeze and return a vector.\n",
      "  warnings.warn('Was asked to gather along dimension 0, but all '\n",
      "***** Running Evaluation *****\n",
      "  Num examples = 4232\n",
      "  Batch size = 2\n",
      "Saving model checkpoint to /home/chenli/pre_model/roberta/checkpoint-16930\n",
      "Configuration saved in /home/chenli/pre_model/roberta/checkpoint-16930/config.json\n",
      "Model weights saved in /home/chenli/pre_model/roberta/checkpoint-16930/pytorch_model.bin\n",
      "tokenizer config file saved in /home/chenli/pre_model/roberta/checkpoint-16930/tokenizer_config.json\n",
      "Special tokens file saved in /home/chenli/pre_model/roberta/checkpoint-16930/special_tokens_map.json\n",
      "/home/anaconda/anaconda3/envs/pytorch/lib/python3.7/site-packages/torch/nn/parallel/_functions.py:68: UserWarning: Was asked to gather along dimension 0, but all input tensors were scalars; will instead unsqueeze and return a vector.\n",
      "  warnings.warn('Was asked to gather along dimension 0, but all '\n",
      "***** Running Evaluation *****\n",
      "  Num examples = 4232\n",
      "  Batch size = 2\n",
      "Saving model checkpoint to /home/chenli/pre_model/roberta/checkpoint-25395\n",
      "Configuration saved in /home/chenli/pre_model/roberta/checkpoint-25395/config.json\n",
      "Model weights saved in /home/chenli/pre_model/roberta/checkpoint-25395/pytorch_model.bin\n",
      "tokenizer config file saved in /home/chenli/pre_model/roberta/checkpoint-25395/tokenizer_config.json\n",
      "Special tokens file saved in /home/chenli/pre_model/roberta/checkpoint-25395/special_tokens_map.json\n",
      "/home/anaconda/anaconda3/envs/pytorch/lib/python3.7/site-packages/torch/nn/parallel/_functions.py:68: UserWarning: Was asked to gather along dimension 0, but all input tensors were scalars; will instead unsqueeze and return a vector.\n",
      "  warnings.warn('Was asked to gather along dimension 0, but all '\n",
      "***** Running Evaluation *****\n",
      "  Num examples = 4232\n",
      "  Batch size = 2\n",
      "Saving model checkpoint to /home/chenli/pre_model/roberta/checkpoint-33860\n",
      "Configuration saved in /home/chenli/pre_model/roberta/checkpoint-33860/config.json\n",
      "Model weights saved in /home/chenli/pre_model/roberta/checkpoint-33860/pytorch_model.bin\n",
      "tokenizer config file saved in /home/chenli/pre_model/roberta/checkpoint-33860/tokenizer_config.json\n",
      "Special tokens file saved in /home/chenli/pre_model/roberta/checkpoint-33860/special_tokens_map.json\n",
      "/home/anaconda/anaconda3/envs/pytorch/lib/python3.7/site-packages/torch/nn/parallel/_functions.py:68: UserWarning: Was asked to gather along dimension 0, but all input tensors were scalars; will instead unsqueeze and return a vector.\n",
      "  warnings.warn('Was asked to gather along dimension 0, but all '\n",
      "***** Running Evaluation *****\n",
      "  Num examples = 4232\n",
      "  Batch size = 2\n",
      "Saving model checkpoint to /home/chenli/pre_model/roberta/checkpoint-42325\n",
      "Configuration saved in /home/chenli/pre_model/roberta/checkpoint-42325/config.json\n",
      "Model weights saved in /home/chenli/pre_model/roberta/checkpoint-42325/pytorch_model.bin\n",
      "tokenizer config file saved in /home/chenli/pre_model/roberta/checkpoint-42325/tokenizer_config.json\n",
      "Special tokens file saved in /home/chenli/pre_model/roberta/checkpoint-42325/special_tokens_map.json\n",
      "/home/anaconda/anaconda3/envs/pytorch/lib/python3.7/site-packages/torch/nn/parallel/_functions.py:68: UserWarning: Was asked to gather along dimension 0, but all input tensors were scalars; will instead unsqueeze and return a vector.\n",
      "  warnings.warn('Was asked to gather along dimension 0, but all '\n",
      "***** Running Evaluation *****\n",
      "  Num examples = 4232\n",
      "  Batch size = 2\n",
      "Saving model checkpoint to /home/chenli/pre_model/roberta/checkpoint-50790\n",
      "Configuration saved in /home/chenli/pre_model/roberta/checkpoint-50790/config.json\n",
      "Model weights saved in /home/chenli/pre_model/roberta/checkpoint-50790/pytorch_model.bin\n",
      "tokenizer config file saved in /home/chenli/pre_model/roberta/checkpoint-50790/tokenizer_config.json\n",
      "Special tokens file saved in /home/chenli/pre_model/roberta/checkpoint-50790/special_tokens_map.json\n",
      "/home/anaconda/anaconda3/envs/pytorch/lib/python3.7/site-packages/torch/nn/parallel/_functions.py:68: UserWarning: Was asked to gather along dimension 0, but all input tensors were scalars; will instead unsqueeze and return a vector.\n",
      "  warnings.warn('Was asked to gather along dimension 0, but all '\n",
      "***** Running Evaluation *****\n",
      "  Num examples = 4232\n",
      "  Batch size = 2\n",
      "Saving model checkpoint to /home/chenli/pre_model/roberta/checkpoint-59255\n",
      "Configuration saved in /home/chenli/pre_model/roberta/checkpoint-59255/config.json\n",
      "Model weights saved in /home/chenli/pre_model/roberta/checkpoint-59255/pytorch_model.bin\n",
      "tokenizer config file saved in /home/chenli/pre_model/roberta/checkpoint-59255/tokenizer_config.json\n",
      "Special tokens file saved in /home/chenli/pre_model/roberta/checkpoint-59255/special_tokens_map.json\n",
      "/home/anaconda/anaconda3/envs/pytorch/lib/python3.7/site-packages/torch/nn/parallel/_functions.py:68: UserWarning: Was asked to gather along dimension 0, but all input tensors were scalars; will instead unsqueeze and return a vector.\n",
      "  warnings.warn('Was asked to gather along dimension 0, but all '\n",
      "***** Running Evaluation *****\n",
      "  Num examples = 4232\n",
      "  Batch size = 2\n",
      "Saving model checkpoint to /home/chenli/pre_model/roberta/checkpoint-67720\n",
      "Configuration saved in /home/chenli/pre_model/roberta/checkpoint-67720/config.json\n",
      "Model weights saved in /home/chenli/pre_model/roberta/checkpoint-67720/pytorch_model.bin\n",
      "tokenizer config file saved in /home/chenli/pre_model/roberta/checkpoint-67720/tokenizer_config.json\n",
      "Special tokens file saved in /home/chenli/pre_model/roberta/checkpoint-67720/special_tokens_map.json\n",
      "/home/anaconda/anaconda3/envs/pytorch/lib/python3.7/site-packages/torch/nn/parallel/_functions.py:68: UserWarning: Was asked to gather along dimension 0, but all input tensors were scalars; will instead unsqueeze and return a vector.\n",
      "  warnings.warn('Was asked to gather along dimension 0, but all '\n",
      "***** Running Evaluation *****\n",
      "  Num examples = 4232\n",
      "  Batch size = 2\n",
      "Saving model checkpoint to /home/chenli/pre_model/roberta/checkpoint-76185\n",
      "Configuration saved in /home/chenli/pre_model/roberta/checkpoint-76185/config.json\n",
      "Model weights saved in /home/chenli/pre_model/roberta/checkpoint-76185/pytorch_model.bin\n",
      "tokenizer config file saved in /home/chenli/pre_model/roberta/checkpoint-76185/tokenizer_config.json\n",
      "Special tokens file saved in /home/chenli/pre_model/roberta/checkpoint-76185/special_tokens_map.json\n",
      "/home/anaconda/anaconda3/envs/pytorch/lib/python3.7/site-packages/torch/nn/parallel/_functions.py:68: UserWarning: Was asked to gather along dimension 0, but all input tensors were scalars; will instead unsqueeze and return a vector.\n",
      "  warnings.warn('Was asked to gather along dimension 0, but all '\n",
      "***** Running Evaluation *****\n",
      "  Num examples = 4232\n",
      "  Batch size = 2\n",
      "Using the latest cached version of the module from /home/chenli/.cache/huggingface/modules/datasets_modules/metrics/glue/91f3cfc5498873918ecf119dbf806fb10815786c84f41b85a5d3c47c1519b343 (last modified on Fri Nov 11 21:04:53 2022) since it couldn't be found locally at glue, or remotely on the Hugging Face Hub.\n",
      "Saving model checkpoint to /home/chenli/pre_model/roberta/checkpoint-84650\n",
      "Configuration saved in /home/chenli/pre_model/roberta/checkpoint-84650/config.json\n",
      "Model weights saved in /home/chenli/pre_model/roberta/checkpoint-84650/pytorch_model.bin\n",
      "tokenizer config file saved in /home/chenli/pre_model/roberta/checkpoint-84650/tokenizer_config.json\n",
      "Special tokens file saved in /home/chenli/pre_model/roberta/checkpoint-84650/special_tokens_map.json\n"
     ]
    },
    {
     "name": "stderr",
     "output_type": "stream",
     "text": [
      "\n",
      "\n",
      "Training completed. Do not forget to share your model on huggingface.co/models =)\n",
      "\n",
      "\n",
      "Loading best model from /home/chenli/pre_model/roberta/checkpoint-76185 (score: 0.9560491493383743).\n"
     ]
    },
    {
     "data": {
      "text/plain": [
       "TrainOutput(global_step=84650, training_loss=0.21092526561468927, metrics={'train_runtime': 3199.8721, 'train_samples_per_second': 105.81, 'train_steps_per_second': 26.454, 'total_flos': 84015918360000.0, 'train_loss': 0.21092526561468927, 'epoch': 10.0})"
      ]
     },
     "execution_count": 24,
     "metadata": {},
     "output_type": "execute_result"
    }
   ],
   "source": [
    "trainer.train()"
   ]
  },
  {
   "cell_type": "markdown",
   "id": "1ecdcbdf",
   "metadata": {},
   "source": [
    "评估测试"
   ]
  },
  {
   "cell_type": "code",
   "execution_count": 25,
   "id": "192c6899",
   "metadata": {},
   "outputs": [
    {
     "name": "stderr",
     "output_type": "stream",
     "text": [
      "***** Running Evaluation *****\n",
      "  Num examples = 4233\n",
      "  Batch size = 2\n",
      "/home/anaconda/anaconda3/envs/pytorch/lib/python3.7/site-packages/torch/nn/parallel/_functions.py:68: UserWarning: Was asked to gather along dimension 0, but all input tensors were scalars; will instead unsqueeze and return a vector.\n",
      "  warnings.warn('Was asked to gather along dimension 0, but all '\n"
     ]
    },
    {
     "data": {
      "text/html": [
       "\n",
       "    <div>\n",
       "      \n",
       "      <progress value='2117' max='2117' style='width:300px; height:20px; vertical-align: middle;'></progress>\n",
       "      [2117/2117 00:31]\n",
       "    </div>\n",
       "    "
      ],
      "text/plain": [
       "<IPython.core.display.HTML object>"
      ]
     },
     "metadata": {},
     "output_type": "display_data"
    },
    {
     "data": {
      "text/plain": [
       "{'eval_loss': 0.19011814892292023,\n",
       " 'eval_accuracy': 0.9593668792818332,\n",
       " 'eval_f1': 0.9735221674876847,\n",
       " 'eval_runtime': 33.3693,\n",
       " 'eval_samples_per_second': 126.853,\n",
       " 'eval_steps_per_second': 63.442,\n",
       " 'epoch': 10.0}"
      ]
     },
     "execution_count": 25,
     "metadata": {},
     "output_type": "execute_result"
    }
   ],
   "source": [
    "trainer.evaluate(eval_dataset=test_encoded_dataset)"
   ]
  }
 ],
 "metadata": {
  "kernelspec": {
   "display_name": "pytorch",
   "language": "python",
   "name": "pytorch"
  },
  "language_info": {
   "codemirror_mode": {
    "name": "ipython",
    "version": 3
   },
   "file_extension": ".py",
   "mimetype": "text/x-python",
   "name": "python",
   "nbconvert_exporter": "python",
   "pygments_lexer": "ipython3",
   "version": "3.7.11"
  }
 },
 "nbformat": 4,
 "nbformat_minor": 5
}
