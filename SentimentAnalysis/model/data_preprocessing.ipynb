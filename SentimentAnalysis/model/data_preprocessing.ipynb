{
 "cells": [
  {
   "cell_type": "code",
   "execution_count": 1,
   "id": "2d3207a1",
   "metadata": {},
   "outputs": [],
   "source": [
    "import numpy as np\n",
    "import pandas as pd"
   ]
  },
  {
   "cell_type": "code",
   "execution_count": 3,
   "id": "3c86861d",
   "metadata": {},
   "outputs": [],
   "source": [
    "texts = pd.read_csv('../pre_data/second_data.csv')"
   ]
  },
  {
   "cell_type": "code",
   "execution_count": 4,
   "id": "4ef26ee9",
   "metadata": {},
   "outputs": [
    {
     "data": {
      "text/html": [
       "<div>\n",
       "<style scoped>\n",
       "    .dataframe tbody tr th:only-of-type {\n",
       "        vertical-align: middle;\n",
       "    }\n",
       "\n",
       "    .dataframe tbody tr th {\n",
       "        vertical-align: top;\n",
       "    }\n",
       "\n",
       "    .dataframe thead th {\n",
       "        text-align: right;\n",
       "    }\n",
       "</style>\n",
       "<table border=\"1\" class=\"dataframe\">\n",
       "  <thead>\n",
       "    <tr style=\"text-align: right;\">\n",
       "      <th></th>\n",
       "      <th>review</th>\n",
       "    </tr>\n",
       "  </thead>\n",
       "  <tbody>\n",
       "    <tr>\n",
       "      <th>0</th>\n",
       "      <td>初夏时候，选择游三峡，一个梦幻般奇妙旅程就这样跟着夏日一同开启了。 游三峡，通常有两条线路...</td>\n",
       "    </tr>\n",
       "    <tr>\n",
       "      <th>1</th>\n",
       "      <td>6月19日从北京出发，目标，109国道上，318国道下，7月5日回到北京，用时17天，行程...</td>\n",
       "    </tr>\n",
       "    <tr>\n",
       "      <th>2</th>\n",
       "      <td>旅行，是一种心愿，一种由未知而引发的美好憧憬。旅行不只是为了躲避生活的苟且，更是为了认识旅行...</td>\n",
       "    </tr>\n",
       "    <tr>\n",
       "      <th>3</th>\n",
       "      <td>驴程户外（www.lvcc.cc）组织的12月东北赏雪7天活动，在这里不得一说的是，驴程户...</td>\n",
       "    </tr>\n",
       "    <tr>\n",
       "      <th>4</th>\n",
       "      <td>之行是在看了《阿凡达》的时候有的念头，虽然知道卡梅隆是数码化了的山，但是还是想亲自一探究竟...</td>\n",
       "    </tr>\n",
       "  </tbody>\n",
       "</table>\n",
       "</div>"
      ],
      "text/plain": [
       "                                              review\n",
       "0   初夏时候，选择游三峡，一个梦幻般奇妙旅程就这样跟着夏日一同开启了。 游三峡，通常有两条线路...\n",
       "1   6月19日从北京出发，目标，109国道上，318国道下，7月5日回到北京，用时17天，行程...\n",
       "2  旅行，是一种心愿，一种由未知而引发的美好憧憬。旅行不只是为了躲避生活的苟且，更是为了认识旅行...\n",
       "3   驴程户外（www.lvcc.cc）组织的12月东北赏雪7天活动，在这里不得一说的是，驴程户...\n",
       "4   之行是在看了《阿凡达》的时候有的念头，虽然知道卡梅隆是数码化了的山，但是还是想亲自一探究竟..."
      ]
     },
     "metadata": {},
     "output_type": "display_data"
    }
   ],
   "source": [
    "# 显示前五行看看数据长啥样\n",
    "display(texts.head())"
   ]
  },
  {
   "cell_type": "markdown",
   "id": "49e8564d",
   "metadata": {},
   "source": [
    "# 文本预处理\n",
    "缺失值处理\n",
    "\n",
    "重复值处理 \n",
    "\n",
    "文本预处理 "
   ]
  },
  {
   "cell_type": "code",
   "execution_count": 5,
   "id": "f43839eb",
   "metadata": {},
   "outputs": [
    {
     "data": {
      "text/plain": [
       "review    0\n",
       "dtype: int64"
      ]
     },
     "execution_count": 5,
     "metadata": {},
     "output_type": "execute_result"
    }
   ],
   "source": [
    "# 检测缺失值\n",
    "texts.isnull().sum()"
   ]
  },
  {
   "cell_type": "code",
   "execution_count": 6,
   "id": "9ca134ac",
   "metadata": {},
   "outputs": [
    {
     "name": "stdout",
     "output_type": "stream",
     "text": [
      "24\n"
     ]
    },
    {
     "data": {
      "text/html": [
       "<div>\n",
       "<style scoped>\n",
       "    .dataframe tbody tr th:only-of-type {\n",
       "        vertical-align: middle;\n",
       "    }\n",
       "\n",
       "    .dataframe tbody tr th {\n",
       "        vertical-align: top;\n",
       "    }\n",
       "\n",
       "    .dataframe thead th {\n",
       "        text-align: right;\n",
       "    }\n",
       "</style>\n",
       "<table border=\"1\" class=\"dataframe\">\n",
       "  <thead>\n",
       "    <tr style=\"text-align: right;\">\n",
       "      <th></th>\n",
       "      <th>review</th>\n",
       "    </tr>\n",
       "  </thead>\n",
       "  <tbody>\n",
       "    <tr>\n",
       "      <th>224</th>\n",
       "      <td>向往去已经很久了。这次，和LG一拍即合，我们预定了6.29日（周日）中午的东方航空公司空客...</td>\n",
       "    </tr>\n",
       "    <tr>\n",
       "      <th>461</th>\n",
       "      <td>行走是一次心灵的放松，有时也是一场心灵的逃离，逃离现实中各种的无奈与困惑，在行走中可以暂时抽...</td>\n",
       "    </tr>\n",
       "    <tr>\n",
       "      <th>497</th>\n",
       "      <td>在北京，每年立秋至秋分这一个多月，是老婆的蒿草过敏期，准的不行。鼻涕、眼泪，喷嚏涟涟，烦得不...</td>\n",
       "    </tr>\n",
       "    <tr>\n",
       "      <th>693</th>\n",
       "      <td>因为工作的烦恼，因为自己太懒，始终没有整理这次旅行。但是人的记忆总是有限的，随着时间的流逝，...</td>\n",
       "    </tr>\n",
       "    <tr>\n",
       "      <th>825</th>\n",
       "      <td>看见了就有了想法，有了想法，很简单，那就是出发。因为，再不疯狂，我们就老了。7.2~7.11...</td>\n",
       "    </tr>\n",
       "    <tr>\n",
       "      <th>922</th>\n",
       "      <td>序喜欢两个人的旅行在悠然的情境中呼吸大自然的空气体味无尽的变化九寨 黄龙我梦中的天堂关于九寨...</td>\n",
       "    </tr>\n",
       "    <tr>\n",
       "      <th>923</th>\n",
       "      <td>炎炎夏日，这边独好(记我们美妙的西北七日行)燥热的夏天，即使有想去旅游的心，恐怕也会因为天气...</td>\n",
       "    </tr>\n",
       "    <tr>\n",
       "      <th>928</th>\n",
       "      <td>久有凌云志，此生上华山！10号，下午2点到了，出了检票口直奔预定好的大酒店（门市价157...</td>\n",
       "    </tr>\n",
       "    <tr>\n",
       "      <th>969</th>\n",
       "      <td>\\n                    \\n                      ...</td>\n",
       "    </tr>\n",
       "    <tr>\n",
       "      <th>999</th>\n",
       "      <td>序喜欢两个人的旅行在悠然的情境中呼吸大自然的空气体味无尽的变化九寨 黄龙我梦中的天堂关于九寨...</td>\n",
       "    </tr>\n",
       "    <tr>\n",
       "      <th>1001</th>\n",
       "      <td>写在前面的话： 非常开心，3月份收到《心理育儿》杂志的样刊，打开卷首《封蜜来了》，我和宝宝天...</td>\n",
       "    </tr>\n",
       "    <tr>\n",
       "      <th>1028</th>\n",
       "      <td>2015独自一人走过了七大古都之一的、走过了“听海之城”厦门。和朋友游荡了“水晶之城”、七大...</td>\n",
       "    </tr>\n",
       "    <tr>\n",
       "      <th>1078</th>\n",
       "      <td>我们在旅游的世界里面，很多事情，如果自己不去挖掘的话，总是会错过很多的魅力风景，其实旅游不在...</td>\n",
       "    </tr>\n",
       "    <tr>\n",
       "      <th>1095</th>\n",
       "      <td>我呢一直都喜欢到处跑跑，上学以来就没有安身过，却一直都没有写过游记攻略。假期闲在家里翻翻以前...</td>\n",
       "    </tr>\n",
       "    <tr>\n",
       "      <th>1211</th>\n",
       "      <td>每年都想去，因为各种原因而耽误，都说，不入西藏终生误，一入西藏悟终生。网上谣言说是2020年...</td>\n",
       "    </tr>\n",
       "    <tr>\n",
       "      <th>1250</th>\n",
       "      <td>时间：2019年1月25日至2月1日人数：1人出行方式：火车+公交出发地点：成都一、1月26...</td>\n",
       "    </tr>\n",
       "    <tr>\n",
       "      <th>1323</th>\n",
       "      <td>盘点2019年，到外省市旅行共住宿了35晚，其中有32晚是自驾游。这超过了2018年（10晚...</td>\n",
       "    </tr>\n",
       "    <tr>\n",
       "      <th>1339</th>\n",
       "      <td>先发一个总体的行程表：day1：下午16:00出发 火车卧铺 day2：下午16左右到达，晚...</td>\n",
       "    </tr>\n",
       "    <tr>\n",
       "      <th>1375</th>\n",
       "      <td>这次西北自驾行去年就有计划，但一直没有成行。本也不在今年的旅行计划，但8月看到习主席西北行又...</td>\n",
       "    </tr>\n",
       "    <tr>\n",
       "      <th>1376</th>\n",
       "      <td>刚从九寨回来，非常兴奋。虽然出发之前做了很多准备，也参考了不少驴友攻略，但还是留下不少遗憾的...</td>\n",
       "    </tr>\n",
       "    <tr>\n",
       "      <th>1402</th>\n",
       "      <td>6月份就订好了今年的出行目标——，但儿子学校放假通知一直没有消息，7月9日儿子会考结束仍然...</td>\n",
       "    </tr>\n",
       "    <tr>\n",
       "      <th>1404</th>\n",
       "      <td>2008年9月底，单位组织去宁夏、甘肃、青海三省旅行，为期七天。由于是跟旅行社，所以诸如吃...</td>\n",
       "    </tr>\n",
       "    <tr>\n",
       "      <th>1454</th>\n",
       "      <td>首先要感谢携程的自由、开放才能使此游记得以保存！因为此篇文章曝光了江西的一些宰客现象，所以一...</td>\n",
       "    </tr>\n",
       "    <tr>\n",
       "      <th>1473</th>\n",
       "      <td>早上广州飞抵（川航10：35至12：55）。机场大巴到西港航空酒店（20元/人，45分钟左右...</td>\n",
       "    </tr>\n",
       "  </tbody>\n",
       "</table>\n",
       "</div>"
      ],
      "text/plain": [
       "                                                 review\n",
       "224    向往去已经很久了。这次，和LG一拍即合，我们预定了6.29日（周日）中午的东方航空公司空客...\n",
       "461   行走是一次心灵的放松，有时也是一场心灵的逃离，逃离现实中各种的无奈与困惑，在行走中可以暂时抽...\n",
       "497   在北京，每年立秋至秋分这一个多月，是老婆的蒿草过敏期，准的不行。鼻涕、眼泪，喷嚏涟涟，烦得不...\n",
       "693   因为工作的烦恼，因为自己太懒，始终没有整理这次旅行。但是人的记忆总是有限的，随着时间的流逝，...\n",
       "825   看见了就有了想法，有了想法，很简单，那就是出发。因为，再不疯狂，我们就老了。7.2~7.11...\n",
       "922   序喜欢两个人的旅行在悠然的情境中呼吸大自然的空气体味无尽的变化九寨 黄龙我梦中的天堂关于九寨...\n",
       "923   炎炎夏日，这边独好(记我们美妙的西北七日行)燥热的夏天，即使有想去旅游的心，恐怕也会因为天气...\n",
       "928     久有凌云志，此生上华山！10号，下午2点到了，出了检票口直奔预定好的大酒店（门市价157...\n",
       "969   \\n                    \\n                      ...\n",
       "999   序喜欢两个人的旅行在悠然的情境中呼吸大自然的空气体味无尽的变化九寨 黄龙我梦中的天堂关于九寨...\n",
       "1001  写在前面的话： 非常开心，3月份收到《心理育儿》杂志的样刊，打开卷首《封蜜来了》，我和宝宝天...\n",
       "1028  2015独自一人走过了七大古都之一的、走过了“听海之城”厦门。和朋友游荡了“水晶之城”、七大...\n",
       "1078  我们在旅游的世界里面，很多事情，如果自己不去挖掘的话，总是会错过很多的魅力风景，其实旅游不在...\n",
       "1095  我呢一直都喜欢到处跑跑，上学以来就没有安身过，却一直都没有写过游记攻略。假期闲在家里翻翻以前...\n",
       "1211  每年都想去，因为各种原因而耽误，都说，不入西藏终生误，一入西藏悟终生。网上谣言说是2020年...\n",
       "1250  时间：2019年1月25日至2月1日人数：1人出行方式：火车+公交出发地点：成都一、1月26...\n",
       "1323  盘点2019年，到外省市旅行共住宿了35晚，其中有32晚是自驾游。这超过了2018年（10晚...\n",
       "1339  先发一个总体的行程表：day1：下午16:00出发 火车卧铺 day2：下午16左右到达，晚...\n",
       "1375  这次西北自驾行去年就有计划，但一直没有成行。本也不在今年的旅行计划，但8月看到习主席西北行又...\n",
       "1376  刚从九寨回来，非常兴奋。虽然出发之前做了很多准备，也参考了不少驴友攻略，但还是留下不少遗憾的...\n",
       "1402   6月份就订好了今年的出行目标——，但儿子学校放假通知一直没有消息，7月9日儿子会考结束仍然...\n",
       "1404   2008年9月底，单位组织去宁夏、甘肃、青海三省旅行，为期七天。由于是跟旅行社，所以诸如吃...\n",
       "1454  首先要感谢携程的自由、开放才能使此游记得以保存！因为此篇文章曝光了江西的一些宰客现象，所以一...\n",
       "1473  早上广州飞抵（川航10：35至12：55）。机场大巴到西港航空酒店（20元/人，45分钟左右..."
      ]
     },
     "metadata": {},
     "output_type": "display_data"
    }
   ],
   "source": [
    "# 重复值处理\n",
    "print(texts.duplicated().sum())\n",
    "display(texts[texts.duplicated()])"
   ]
  },
  {
   "cell_type": "code",
   "execution_count": 7,
   "id": "45882f6a",
   "metadata": {},
   "outputs": [
    {
     "name": "stdout",
     "output_type": "stream",
     "text": [
      "0\n"
     ]
    }
   ],
   "source": [
    "# 删除重复值，并检测是否成功\n",
    "texts.drop_duplicates(inplace=True)\n",
    "print(texts.duplicated().sum())"
   ]
  },
  {
   "cell_type": "markdown",
   "id": "ea260278",
   "metadata": {},
   "source": [
    "文本内容清洗\n",
    "\n",
    "文本中的标点符号与一些特殊的标点符号对文本分析的作用不大，我们可以将其清除"
   ]
  },
  {
   "cell_type": "code",
   "execution_count": 8,
   "id": "aec0257b",
   "metadata": {},
   "outputs": [],
   "source": [
    "import re\n",
    "\n",
    "re_obj = re.compile(r\"[!\\\"#$%&'()*+,-./:;<=>?@[\\]^_`{|}~（）：【】《》▲→▼■←↑→↓↖↗↘↙★●◆‘’“”\\s]+\")\n",
    "\n",
    "def clear(text):\n",
    "    return re_obj.sub(\"\",text)\n",
    "\n",
    "texts['review'] = texts['review'].apply(clear)"
   ]
  },
  {
   "cell_type": "code",
   "execution_count": 9,
   "id": "c5973411",
   "metadata": {},
   "outputs": [
    {
     "data": {
      "text/html": [
       "<div>\n",
       "<style scoped>\n",
       "    .dataframe tbody tr th:only-of-type {\n",
       "        vertical-align: middle;\n",
       "    }\n",
       "\n",
       "    .dataframe tbody tr th {\n",
       "        vertical-align: top;\n",
       "    }\n",
       "\n",
       "    .dataframe thead th {\n",
       "        text-align: right;\n",
       "    }\n",
       "</style>\n",
       "<table border=\"1\" class=\"dataframe\">\n",
       "  <thead>\n",
       "    <tr style=\"text-align: right;\">\n",
       "      <th></th>\n",
       "      <th>review</th>\n",
       "    </tr>\n",
       "  </thead>\n",
       "  <tbody>\n",
       "    <tr>\n",
       "      <th>1261</th>\n",
       "      <td>初游丨云上之城的自由，禁不住让人想留下来度余生拉萨，离天空最近的地方，每次听人说起都免不了神...</td>\n",
       "    </tr>\n",
       "    <tr>\n",
       "      <th>870</th>\n",
       "      <td>北京孔庙大成殿西侧王向东的书法展有特色关裕年也是一种时尚，在北京的古迹遗存的殿堂里搞个书法展...</td>\n",
       "    </tr>\n",
       "    <tr>\n",
       "      <th>1434</th>\n",
       "      <td>春节，又是长假，自然计划好游程，过年长辈拜过后，于9日上午踏上路程，沪宁高速，京沪高速，下午...</td>\n",
       "    </tr>\n",
       "    <tr>\n",
       "      <th>40</th>\n",
       "      <td>烟花、梅溪湖城市岛、谢子龙影像艺术馆……今年的五一小长假，这些景点被抖音、快手、微博等带火，...</td>\n",
       "    </tr>\n",
       "    <tr>\n",
       "      <th>694</th>\n",
       "      <td>庐山避暑胜地，经典两条线路，庐山西线景点集中，较轻松，用时短，东线景点相距远，以瀑布，老别墅...</td>\n",
       "    </tr>\n",
       "  </tbody>\n",
       "</table>\n",
       "</div>"
      ],
      "text/plain": [
       "                                                 review\n",
       "1261  初游丨云上之城的自由，禁不住让人想留下来度余生拉萨，离天空最近的地方，每次听人说起都免不了神...\n",
       "870   北京孔庙大成殿西侧王向东的书法展有特色关裕年也是一种时尚，在北京的古迹遗存的殿堂里搞个书法展...\n",
       "1434  春节，又是长假，自然计划好游程，过年长辈拜过后，于9日上午踏上路程，沪宁高速，京沪高速，下午...\n",
       "40    烟花、梅溪湖城市岛、谢子龙影像艺术馆……今年的五一小长假，这些景点被抖音、快手、微博等带火，...\n",
       "694   庐山避暑胜地，经典两条线路，庐山西线景点集中，较轻松，用时短，东线景点相距远，以瀑布，老别墅..."
      ]
     },
     "execution_count": 9,
     "metadata": {},
     "output_type": "execute_result"
    }
   ],
   "source": [
    "texts.sample(5)"
   ]
  },
  {
   "cell_type": "code",
   "execution_count": 10,
   "id": "c2d8160a",
   "metadata": {},
   "outputs": [],
   "source": [
    "texts.to_csv('../data/second_data.csv',index=False)"
   ]
  },
  {
   "cell_type": "code",
   "execution_count": null,
   "id": "82893c29",
   "metadata": {},
   "outputs": [],
   "source": []
  }
 ],
 "metadata": {
  "kernelspec": {
   "display_name": "pytorch",
   "language": "python",
   "name": "pytorch"
  },
  "language_info": {
   "codemirror_mode": {
    "name": "ipython",
    "version": 3
   },
   "file_extension": ".py",
   "mimetype": "text/x-python",
   "name": "python",
   "nbconvert_exporter": "python",
   "pygments_lexer": "ipython3",
   "version": "3.9.13"
  }
 },
 "nbformat": 4,
 "nbformat_minor": 5
}
