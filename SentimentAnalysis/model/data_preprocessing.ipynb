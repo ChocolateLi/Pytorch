{
 "cells": [
  {
   "cell_type": "code",
   "execution_count": 1,
   "id": "2d3207a1",
   "metadata": {},
   "outputs": [],
   "source": [
    "import numpy as np\n",
    "import pandas as pd"
   ]
  },
  {
   "cell_type": "code",
   "execution_count": 7,
   "id": "3c86861d",
   "metadata": {},
   "outputs": [],
   "source": [
    "texts = pd.read_csv('../pre_data/dataset.csv')"
   ]
  },
  {
   "cell_type": "code",
   "execution_count": 8,
   "id": "4ef26ee9",
   "metadata": {},
   "outputs": [
    {
     "data": {
      "text/html": [
       "<div>\n",
       "<style scoped>\n",
       "    .dataframe tbody tr th:only-of-type {\n",
       "        vertical-align: middle;\n",
       "    }\n",
       "\n",
       "    .dataframe tbody tr th {\n",
       "        vertical-align: top;\n",
       "    }\n",
       "\n",
       "    .dataframe thead th {\n",
       "        text-align: right;\n",
       "    }\n",
       "</style>\n",
       "<table border=\"1\" class=\"dataframe\">\n",
       "  <thead>\n",
       "    <tr style=\"text-align: right;\">\n",
       "      <th></th>\n",
       "      <th>text</th>\n",
       "      <th>label</th>\n",
       "    </tr>\n",
       "  </thead>\n",
       "  <tbody>\n",
       "    <tr>\n",
       "      <th>0</th>\n",
       "      <td>D1九月五号星期五包头1547——北1338K15351338，到达终点站北。7天酒店解放碑...</td>\n",
       "      <td>1</td>\n",
       "    </tr>\n",
       "    <tr>\n",
       "      <th>1</th>\n",
       "      <td>文路客老三我是老三，一个热爱生活的北京土著。待惯了城市，被传染了一身的城市病，想出去走走，或...</td>\n",
       "      <td>0</td>\n",
       "    </tr>\n",
       "    <tr>\n",
       "      <th>2</th>\n",
       "      <td>哈尔滨索菲亚山庄天津飞咯尚志洗浴昆明第一顿！昆明第一顿！昆明第一顿！昆明第一顿！昆明第一顿！...</td>\n",
       "      <td>1</td>\n",
       "    </tr>\n",
       "    <tr>\n",
       "      <th>3</th>\n",
       "      <td>他们说你是3D，4D，我不管，反正你是我的。妈妈说你离过婚，家里还有38口人要养，不能给我好...</td>\n",
       "      <td>0</td>\n",
       "    </tr>\n",
       "    <tr>\n",
       "      <th>4</th>\n",
       "      <td>我觉得如果再不把这篇日志整理完怕就真的全忘记了大家都以为我独自带宝宝周游中国旅行是早早就拟定...</td>\n",
       "      <td>1</td>\n",
       "    </tr>\n",
       "  </tbody>\n",
       "</table>\n",
       "</div>"
      ],
      "text/plain": [
       "                                                text  label\n",
       "0  D1九月五号星期五包头1547——北1338K15351338，到达终点站北。7天酒店解放碑...      1\n",
       "1  文路客老三我是老三，一个热爱生活的北京土著。待惯了城市，被传染了一身的城市病，想出去走走，或...      0\n",
       "2  哈尔滨索菲亚山庄天津飞咯尚志洗浴昆明第一顿！昆明第一顿！昆明第一顿！昆明第一顿！昆明第一顿！...      1\n",
       "3  他们说你是3D，4D，我不管，反正你是我的。妈妈说你离过婚，家里还有38口人要养，不能给我好...      0\n",
       "4  我觉得如果再不把这篇日志整理完怕就真的全忘记了大家都以为我独自带宝宝周游中国旅行是早早就拟定...      1"
      ]
     },
     "metadata": {},
     "output_type": "display_data"
    }
   ],
   "source": [
    "# 显示前五行看看数据长啥样\n",
    "display(texts.head())"
   ]
  },
  {
   "cell_type": "markdown",
   "id": "49e8564d",
   "metadata": {},
   "source": [
    "# 文本预处理\n",
    "缺失值处理\n",
    "\n",
    "重复值处理 \n",
    "\n",
    "文本预处理 "
   ]
  },
  {
   "cell_type": "code",
   "execution_count": 9,
   "id": "f43839eb",
   "metadata": {},
   "outputs": [
    {
     "data": {
      "text/plain": [
       "text     0\n",
       "label    0\n",
       "dtype: int64"
      ]
     },
     "execution_count": 9,
     "metadata": {},
     "output_type": "execute_result"
    }
   ],
   "source": [
    "# 检测缺失值\n",
    "texts.isnull().sum()"
   ]
  },
  {
   "cell_type": "code",
   "execution_count": 10,
   "id": "9ca134ac",
   "metadata": {},
   "outputs": [
    {
     "name": "stdout",
     "output_type": "stream",
     "text": [
      "82\n"
     ]
    },
    {
     "data": {
      "text/html": [
       "<div>\n",
       "<style scoped>\n",
       "    .dataframe tbody tr th:only-of-type {\n",
       "        vertical-align: middle;\n",
       "    }\n",
       "\n",
       "    .dataframe tbody tr th {\n",
       "        vertical-align: top;\n",
       "    }\n",
       "\n",
       "    .dataframe thead th {\n",
       "        text-align: right;\n",
       "    }\n",
       "</style>\n",
       "<table border=\"1\" class=\"dataframe\">\n",
       "  <thead>\n",
       "    <tr style=\"text-align: right;\">\n",
       "      <th></th>\n",
       "      <th>text</th>\n",
       "      <th>label</th>\n",
       "    </tr>\n",
       "  </thead>\n",
       "  <tbody>\n",
       "    <tr>\n",
       "      <th>81</th>\n",
       "      <td>、黄龙是我国最美丽的以水为主题的自然风景区，所谓九寨归来不看水。我在这儿想提醒一下，大多数人...</td>\n",
       "      <td>1</td>\n",
       "    </tr>\n",
       "    <tr>\n",
       "      <th>145</th>\n",
       "      <td>，令人向往的地方，一直吸引着我。在今年五一过后带上老婆和女儿，一起去了。穷游第一步当然是看机...</td>\n",
       "      <td>1</td>\n",
       "    </tr>\n",
       "    <tr>\n",
       "      <th>1006</th>\n",
       "      <td>这次之旅，大部分时间留在了，市区仅仅计划了两天行程，不过有一个地方一定要去，那就是中国最美丽...</td>\n",
       "      <td>1</td>\n",
       "    </tr>\n",
       "    <tr>\n",
       "      <th>1015</th>\n",
       "      <td>人其实是一种意念动物，在思维中寻找美好。在一个自己呆腻的地方到达别人呆腻的地方，就是旅行。其...</td>\n",
       "      <td>1</td>\n",
       "    </tr>\n",
       "    <tr>\n",
       "      <th>1023</th>\n",
       "      <td>2021年6月下旬，在去黑龙江旅游期间，曾经游览了的太阳岛。图为太阳岛的标志——太阳石。20...</td>\n",
       "      <td>1</td>\n",
       "    </tr>\n",
       "    <tr>\n",
       "      <th>...</th>\n",
       "      <td>...</td>\n",
       "      <td>...</td>\n",
       "    </tr>\n",
       "    <tr>\n",
       "      <th>2387</th>\n",
       "      <td>刚过完儿子7岁生日，7月15日一家4人，倒腾了2次火车，从20度清凉无比的丽江来到了35度炎...</td>\n",
       "      <td>1</td>\n",
       "    </tr>\n",
       "    <tr>\n",
       "      <th>2402</th>\n",
       "      <td>DAY16月26号一早，我带上行李和爸妈的祝福出发去上海，到达后发现候车室里好多的背包客都跟...</td>\n",
       "      <td>1</td>\n",
       "    </tr>\n",
       "    <tr>\n",
       "      <th>2416</th>\n",
       "      <td>踏上钢琴码头，我期望中的旅途终于真正的开始了，但如何将这次游走落于纸笔间，却让我犯愁，第一次...</td>\n",
       "      <td>1</td>\n",
       "    </tr>\n",
       "    <tr>\n",
       "      <th>2425</th>\n",
       "      <td>第一天锦州到1230次1920开到济南554注明之所以从锦州去济南，是因为没有买到从的卧铺。...</td>\n",
       "      <td>1</td>\n",
       "    </tr>\n",
       "    <tr>\n",
       "      <th>2429</th>\n",
       "      <td>9月的气温依然让人不安仔细的计划着准备着不记得曾有多少次希望又希望期待又期待可以踏上那片土地...</td>\n",
       "      <td>1</td>\n",
       "    </tr>\n",
       "  </tbody>\n",
       "</table>\n",
       "<p>82 rows × 2 columns</p>\n",
       "</div>"
      ],
      "text/plain": [
       "                                                   text  label\n",
       "81    、黄龙是我国最美丽的以水为主题的自然风景区，所谓九寨归来不看水。我在这儿想提醒一下，大多数人...      1\n",
       "145   ，令人向往的地方，一直吸引着我。在今年五一过后带上老婆和女儿，一起去了。穷游第一步当然是看机...      1\n",
       "1006  这次之旅，大部分时间留在了，市区仅仅计划了两天行程，不过有一个地方一定要去，那就是中国最美丽...      1\n",
       "1015  人其实是一种意念动物，在思维中寻找美好。在一个自己呆腻的地方到达别人呆腻的地方，就是旅行。其...      1\n",
       "1023  2021年6月下旬，在去黑龙江旅游期间，曾经游览了的太阳岛。图为太阳岛的标志——太阳石。20...      1\n",
       "...                                                 ...    ...\n",
       "2387  刚过完儿子7岁生日，7月15日一家4人，倒腾了2次火车，从20度清凉无比的丽江来到了35度炎...      1\n",
       "2402  DAY16月26号一早，我带上行李和爸妈的祝福出发去上海，到达后发现候车室里好多的背包客都跟...      1\n",
       "2416  踏上钢琴码头，我期望中的旅途终于真正的开始了，但如何将这次游走落于纸笔间，却让我犯愁，第一次...      1\n",
       "2425  第一天锦州到1230次1920开到济南554注明之所以从锦州去济南，是因为没有买到从的卧铺。...      1\n",
       "2429  9月的气温依然让人不安仔细的计划着准备着不记得曾有多少次希望又希望期待又期待可以踏上那片土地...      1\n",
       "\n",
       "[82 rows x 2 columns]"
      ]
     },
     "metadata": {},
     "output_type": "display_data"
    }
   ],
   "source": [
    "# 重复值处理\n",
    "print(texts.duplicated().sum())\n",
    "display(texts[texts.duplicated()])"
   ]
  },
  {
   "cell_type": "code",
   "execution_count": 11,
   "id": "45882f6a",
   "metadata": {},
   "outputs": [
    {
     "name": "stdout",
     "output_type": "stream",
     "text": [
      "0\n"
     ]
    }
   ],
   "source": [
    "# 删除重复值，并检测是否成功\n",
    "texts.drop_duplicates(inplace=True)\n",
    "print(texts.duplicated().sum())"
   ]
  },
  {
   "cell_type": "markdown",
   "id": "ea260278",
   "metadata": {},
   "source": [
    "文本内容清洗\n",
    "\n",
    "文本中的标点符号与一些特殊的标点符号对文本分析的作用不大，我们可以将其清除"
   ]
  },
  {
   "cell_type": "code",
   "execution_count": 12,
   "id": "aec0257b",
   "metadata": {},
   "outputs": [],
   "source": [
    "import re\n",
    "\n",
    "re_obj = re.compile(r\"[!\\\"#$%&'()*+,-./:;<=>?@[\\]^_`{|}~（）：【】《》▲→▼■←↑→↓↖↗↘↙★●◆‘’“”\\s]+\")\n",
    "\n",
    "def clear(text):\n",
    "    return re_obj.sub(\"\",text)\n",
    "\n",
    "texts['text'] = texts['text'].apply(clear)"
   ]
  },
  {
   "cell_type": "code",
   "execution_count": 13,
   "id": "c5973411",
   "metadata": {},
   "outputs": [
    {
     "data": {
      "text/html": [
       "<div>\n",
       "<style scoped>\n",
       "    .dataframe tbody tr th:only-of-type {\n",
       "        vertical-align: middle;\n",
       "    }\n",
       "\n",
       "    .dataframe tbody tr th {\n",
       "        vertical-align: top;\n",
       "    }\n",
       "\n",
       "    .dataframe thead th {\n",
       "        text-align: right;\n",
       "    }\n",
       "</style>\n",
       "<table border=\"1\" class=\"dataframe\">\n",
       "  <thead>\n",
       "    <tr style=\"text-align: right;\">\n",
       "      <th></th>\n",
       "      <th>text</th>\n",
       "      <th>label</th>\n",
       "    </tr>\n",
       "  </thead>\n",
       "  <tbody>\n",
       "    <tr>\n",
       "      <th>2129</th>\n",
       "      <td>哈哈哈，没去旅游之前想着回来写游记的，但是回来了后就好懒得写，国庆在家不想干活就无聊写写攻略...</td>\n",
       "      <td>1</td>\n",
       "    </tr>\n",
       "    <tr>\n",
       "      <th>1555</th>\n",
       "      <td>五月的春风温暖轻柔，吹拂着古城的大地，也吹动了我们的心。夕阳红专列开向西北，开向大漠、开向异...</td>\n",
       "      <td>1</td>\n",
       "    </tr>\n",
       "    <tr>\n",
       "      <th>1616</th>\n",
       "      <td>2019925开启期待已久的西藏之旅早上6点40分的早班飞机，凌晨4点起床前往机场。飞行途中...</td>\n",
       "      <td>1</td>\n",
       "    </tr>\n",
       "    <tr>\n",
       "      <th>2296</th>\n",
       "      <td>曾经无比辉煌的秋林公司与帕弗尔大厦老鼎丰长白糕、牛舌酥、长条酥酒糖正阳楼干肠，588元斤，没...</td>\n",
       "      <td>1</td>\n",
       "    </tr>\n",
       "    <tr>\n",
       "      <th>1563</th>\n",
       "      <td>理工大学毕业的老公，喜欢的建筑和桥梁。而身为文科生的我，想寻找的是百年来历史的足迹。当然，我...</td>\n",
       "      <td>1</td>\n",
       "    </tr>\n",
       "  </tbody>\n",
       "</table>\n",
       "</div>"
      ],
      "text/plain": [
       "                                                   text  label\n",
       "2129  哈哈哈，没去旅游之前想着回来写游记的，但是回来了后就好懒得写，国庆在家不想干活就无聊写写攻略...      1\n",
       "1555  五月的春风温暖轻柔，吹拂着古城的大地，也吹动了我们的心。夕阳红专列开向西北，开向大漠、开向异...      1\n",
       "1616  2019925开启期待已久的西藏之旅早上6点40分的早班飞机，凌晨4点起床前往机场。飞行途中...      1\n",
       "2296  曾经无比辉煌的秋林公司与帕弗尔大厦老鼎丰长白糕、牛舌酥、长条酥酒糖正阳楼干肠，588元斤，没...      1\n",
       "1563  理工大学毕业的老公，喜欢的建筑和桥梁。而身为文科生的我，想寻找的是百年来历史的足迹。当然，我...      1"
      ]
     },
     "execution_count": 13,
     "metadata": {},
     "output_type": "execute_result"
    }
   ],
   "source": [
    "texts.sample(5)"
   ]
  },
  {
   "cell_type": "code",
   "execution_count": 14,
   "id": "bf717c1b",
   "metadata": {},
   "outputs": [
    {
     "data": {
      "text/plain": [
       "2363"
      ]
     },
     "execution_count": 14,
     "metadata": {},
     "output_type": "execute_result"
    }
   ],
   "source": [
    "len(texts)"
   ]
  },
  {
   "cell_type": "code",
   "execution_count": 18,
   "id": "50b99cfc",
   "metadata": {},
   "outputs": [
    {
     "data": {
      "text/plain": [
       "text     ，世界四大古都之一，其历史的渊源流长，其文化的博大精深。十三朝建都于此，曾有一个多么美好，多...\n",
       "label                                                    1\n",
       "Name: 2444, dtype: object"
      ]
     },
     "execution_count": 18,
     "metadata": {},
     "output_type": "execute_result"
    }
   ],
   "source": [
    "texts.iloc[2362]"
   ]
  },
  {
   "cell_type": "code",
   "execution_count": 22,
   "id": "76dd3c62",
   "metadata": {},
   "outputs": [],
   "source": [
    "texts.drop(index=0,axis=0,inplace=True)"
   ]
  },
  {
   "cell_type": "code",
   "execution_count": 23,
   "id": "ecdbdf73",
   "metadata": {},
   "outputs": [
    {
     "data": {
      "text/plain": [
       "2362"
      ]
     },
     "execution_count": 23,
     "metadata": {},
     "output_type": "execute_result"
    }
   ],
   "source": [
    "len(texts)"
   ]
  },
  {
   "cell_type": "code",
   "execution_count": 24,
   "id": "c2d8160a",
   "metadata": {},
   "outputs": [],
   "source": [
    "texts.to_csv('../data/MyDataset/dataset.csv',index=False)"
   ]
  },
  {
   "cell_type": "code",
   "execution_count": null,
   "id": "82893c29",
   "metadata": {},
   "outputs": [],
   "source": []
  }
 ],
 "metadata": {
  "kernelspec": {
   "display_name": "pytorch",
   "language": "python",
   "name": "pytorch"
  },
  "language_info": {
   "codemirror_mode": {
    "name": "ipython",
    "version": 3
   },
   "file_extension": ".py",
   "mimetype": "text/x-python",
   "name": "python",
   "nbconvert_exporter": "python",
   "pygments_lexer": "ipython3",
   "version": "3.9.13"
  }
 },
 "nbformat": 4,
 "nbformat_minor": 5
}
