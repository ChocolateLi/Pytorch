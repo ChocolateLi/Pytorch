{
 "cells": [
  {
   "cell_type": "code",
   "execution_count": 1,
   "id": "2d3207a1",
   "metadata": {},
   "outputs": [],
   "source": [
    "import numpy as np\n",
    "import pandas as pd"
   ]
  },
  {
   "cell_type": "code",
   "execution_count": 7,
   "id": "3c86861d",
   "metadata": {},
   "outputs": [],
   "source": [
    "texts = pd.read_csv('../pre_data/dataset.csv')"
   ]
  },
  {
   "cell_type": "code",
   "execution_count": 2,
   "id": "bdf71cd5",
   "metadata": {},
   "outputs": [],
   "source": [
    "texts = pd.read_csv('./data/Beijing_travel_comment.csv')"
   ]
  },
  {
   "cell_type": "code",
   "execution_count": 8,
   "id": "4ef26ee9",
   "metadata": {},
   "outputs": [
    {
     "data": {
      "text/html": [
       "<div>\n",
       "<style scoped>\n",
       "    .dataframe tbody tr th:only-of-type {\n",
       "        vertical-align: middle;\n",
       "    }\n",
       "\n",
       "    .dataframe tbody tr th {\n",
       "        vertical-align: top;\n",
       "    }\n",
       "\n",
       "    .dataframe thead th {\n",
       "        text-align: right;\n",
       "    }\n",
       "</style>\n",
       "<table border=\"1\" class=\"dataframe\">\n",
       "  <thead>\n",
       "    <tr style=\"text-align: right;\">\n",
       "      <th></th>\n",
       "      <th>text</th>\n",
       "      <th>label</th>\n",
       "    </tr>\n",
       "  </thead>\n",
       "  <tbody>\n",
       "    <tr>\n",
       "      <th>0</th>\n",
       "      <td>D1九月五号星期五包头1547——北1338K15351338，到达终点站北。7天酒店解放碑...</td>\n",
       "      <td>1</td>\n",
       "    </tr>\n",
       "    <tr>\n",
       "      <th>1</th>\n",
       "      <td>文路客老三我是老三，一个热爱生活的北京土著。待惯了城市，被传染了一身的城市病，想出去走走，或...</td>\n",
       "      <td>0</td>\n",
       "    </tr>\n",
       "    <tr>\n",
       "      <th>2</th>\n",
       "      <td>哈尔滨索菲亚山庄天津飞咯尚志洗浴昆明第一顿！昆明第一顿！昆明第一顿！昆明第一顿！昆明第一顿！...</td>\n",
       "      <td>1</td>\n",
       "    </tr>\n",
       "    <tr>\n",
       "      <th>3</th>\n",
       "      <td>他们说你是3D，4D，我不管，反正你是我的。妈妈说你离过婚，家里还有38口人要养，不能给我好...</td>\n",
       "      <td>0</td>\n",
       "    </tr>\n",
       "    <tr>\n",
       "      <th>4</th>\n",
       "      <td>我觉得如果再不把这篇日志整理完怕就真的全忘记了大家都以为我独自带宝宝周游中国旅行是早早就拟定...</td>\n",
       "      <td>1</td>\n",
       "    </tr>\n",
       "  </tbody>\n",
       "</table>\n",
       "</div>"
      ],
      "text/plain": [
       "                                                text  label\n",
       "0  D1九月五号星期五包头1547——北1338K15351338，到达终点站北。7天酒店解放碑...      1\n",
       "1  文路客老三我是老三，一个热爱生活的北京土著。待惯了城市，被传染了一身的城市病，想出去走走，或...      0\n",
       "2  哈尔滨索菲亚山庄天津飞咯尚志洗浴昆明第一顿！昆明第一顿！昆明第一顿！昆明第一顿！昆明第一顿！...      1\n",
       "3  他们说你是3D，4D，我不管，反正你是我的。妈妈说你离过婚，家里还有38口人要养，不能给我好...      0\n",
       "4  我觉得如果再不把这篇日志整理完怕就真的全忘记了大家都以为我独自带宝宝周游中国旅行是早早就拟定...      1"
      ]
     },
     "metadata": {},
     "output_type": "display_data"
    }
   ],
   "source": [
    "# 显示前五行看看数据长啥样\n",
    "display(texts.head())"
   ]
  },
  {
   "cell_type": "code",
   "execution_count": 3,
   "id": "7a02d699",
   "metadata": {},
   "outputs": [
    {
     "data": {
      "text/html": [
       "<div>\n",
       "<style scoped>\n",
       "    .dataframe tbody tr th:only-of-type {\n",
       "        vertical-align: middle;\n",
       "    }\n",
       "\n",
       "    .dataframe tbody tr th {\n",
       "        vertical-align: top;\n",
       "    }\n",
       "\n",
       "    .dataframe thead th {\n",
       "        text-align: right;\n",
       "    }\n",
       "</style>\n",
       "<table border=\"1\" class=\"dataframe\">\n",
       "  <thead>\n",
       "    <tr style=\"text-align: right;\">\n",
       "      <th></th>\n",
       "      <th>text</th>\n",
       "      <th>label</th>\n",
       "    </tr>\n",
       "  </thead>\n",
       "  <tbody>\n",
       "    <tr>\n",
       "      <th>0</th>\n",
       "      <td>北京欢乐谷景色不错，有趣好玩，</td>\n",
       "      <td>1</td>\n",
       "    </tr>\n",
       "    <tr>\n",
       "      <th>1</th>\n",
       "      <td>南锣鼓巷北京旅行攻略关于住宿：为了出行方便住在前门推荐798艺术园区、南锣鼓巷、很适合拍照打...</td>\n",
       "      <td>0</td>\n",
       "    </tr>\n",
       "    <tr>\n",
       "      <th>2</th>\n",
       "      <td>八达岭长城不到长城非好汉</td>\n",
       "      <td>1</td>\n",
       "    </tr>\n",
       "    <tr>\n",
       "      <th>3</th>\n",
       "      <td>北京海洋馆票价比实际的高出太多</td>\n",
       "      <td>0</td>\n",
       "    </tr>\n",
       "    <tr>\n",
       "      <th>4</th>\n",
       "      <td>国家大剧院挺好。。。</td>\n",
       "      <td>1</td>\n",
       "    </tr>\n",
       "  </tbody>\n",
       "</table>\n",
       "</div>"
      ],
      "text/plain": [
       "                                                text  label\n",
       "0                                    北京欢乐谷景色不错，有趣好玩，      1\n",
       "1  南锣鼓巷北京旅行攻略关于住宿：为了出行方便住在前门推荐798艺术园区、南锣鼓巷、很适合拍照打...      0\n",
       "2                                       八达岭长城不到长城非好汉      1\n",
       "3                                    北京海洋馆票价比实际的高出太多      0\n",
       "4                                         国家大剧院挺好。。。      1"
      ]
     },
     "metadata": {},
     "output_type": "display_data"
    }
   ],
   "source": [
    "# 显示前五行看看数据长啥样\n",
    "display(texts.head())"
   ]
  },
  {
   "cell_type": "markdown",
   "id": "49e8564d",
   "metadata": {},
   "source": [
    "# 文本预处理\n",
    "缺失值处理\n",
    "\n",
    "重复值处理 \n",
    "\n",
    "文本预处理 "
   ]
  },
  {
   "cell_type": "code",
   "execution_count": 9,
   "id": "f43839eb",
   "metadata": {},
   "outputs": [
    {
     "data": {
      "text/plain": [
       "text     0\n",
       "label    0\n",
       "dtype: int64"
      ]
     },
     "execution_count": 9,
     "metadata": {},
     "output_type": "execute_result"
    }
   ],
   "source": [
    "# 检测缺失值\n",
    "texts.isnull().sum()"
   ]
  },
  {
   "cell_type": "code",
   "execution_count": 4,
   "id": "0bfdab43",
   "metadata": {},
   "outputs": [
    {
     "data": {
      "text/plain": [
       "text     0\n",
       "label    0\n",
       "dtype: int64"
      ]
     },
     "execution_count": 4,
     "metadata": {},
     "output_type": "execute_result"
    }
   ],
   "source": [
    "# 检测缺失值\n",
    "texts.isnull().sum()"
   ]
  },
  {
   "cell_type": "code",
   "execution_count": 10,
   "id": "9ca134ac",
   "metadata": {},
   "outputs": [
    {
     "name": "stdout",
     "output_type": "stream",
     "text": [
      "82\n"
     ]
    },
    {
     "data": {
      "text/html": [
       "<div>\n",
       "<style scoped>\n",
       "    .dataframe tbody tr th:only-of-type {\n",
       "        vertical-align: middle;\n",
       "    }\n",
       "\n",
       "    .dataframe tbody tr th {\n",
       "        vertical-align: top;\n",
       "    }\n",
       "\n",
       "    .dataframe thead th {\n",
       "        text-align: right;\n",
       "    }\n",
       "</style>\n",
       "<table border=\"1\" class=\"dataframe\">\n",
       "  <thead>\n",
       "    <tr style=\"text-align: right;\">\n",
       "      <th></th>\n",
       "      <th>text</th>\n",
       "      <th>label</th>\n",
       "    </tr>\n",
       "  </thead>\n",
       "  <tbody>\n",
       "    <tr>\n",
       "      <th>81</th>\n",
       "      <td>、黄龙是我国最美丽的以水为主题的自然风景区，所谓九寨归来不看水。我在这儿想提醒一下，大多数人...</td>\n",
       "      <td>1</td>\n",
       "    </tr>\n",
       "    <tr>\n",
       "      <th>145</th>\n",
       "      <td>，令人向往的地方，一直吸引着我。在今年五一过后带上老婆和女儿，一起去了。穷游第一步当然是看机...</td>\n",
       "      <td>1</td>\n",
       "    </tr>\n",
       "    <tr>\n",
       "      <th>1006</th>\n",
       "      <td>这次之旅，大部分时间留在了，市区仅仅计划了两天行程，不过有一个地方一定要去，那就是中国最美丽...</td>\n",
       "      <td>1</td>\n",
       "    </tr>\n",
       "    <tr>\n",
       "      <th>1015</th>\n",
       "      <td>人其实是一种意念动物，在思维中寻找美好。在一个自己呆腻的地方到达别人呆腻的地方，就是旅行。其...</td>\n",
       "      <td>1</td>\n",
       "    </tr>\n",
       "    <tr>\n",
       "      <th>1023</th>\n",
       "      <td>2021年6月下旬，在去黑龙江旅游期间，曾经游览了的太阳岛。图为太阳岛的标志——太阳石。20...</td>\n",
       "      <td>1</td>\n",
       "    </tr>\n",
       "    <tr>\n",
       "      <th>...</th>\n",
       "      <td>...</td>\n",
       "      <td>...</td>\n",
       "    </tr>\n",
       "    <tr>\n",
       "      <th>2387</th>\n",
       "      <td>刚过完儿子7岁生日，7月15日一家4人，倒腾了2次火车，从20度清凉无比的丽江来到了35度炎...</td>\n",
       "      <td>1</td>\n",
       "    </tr>\n",
       "    <tr>\n",
       "      <th>2402</th>\n",
       "      <td>DAY16月26号一早，我带上行李和爸妈的祝福出发去上海，到达后发现候车室里好多的背包客都跟...</td>\n",
       "      <td>1</td>\n",
       "    </tr>\n",
       "    <tr>\n",
       "      <th>2416</th>\n",
       "      <td>踏上钢琴码头，我期望中的旅途终于真正的开始了，但如何将这次游走落于纸笔间，却让我犯愁，第一次...</td>\n",
       "      <td>1</td>\n",
       "    </tr>\n",
       "    <tr>\n",
       "      <th>2425</th>\n",
       "      <td>第一天锦州到1230次1920开到济南554注明之所以从锦州去济南，是因为没有买到从的卧铺。...</td>\n",
       "      <td>1</td>\n",
       "    </tr>\n",
       "    <tr>\n",
       "      <th>2429</th>\n",
       "      <td>9月的气温依然让人不安仔细的计划着准备着不记得曾有多少次希望又希望期待又期待可以踏上那片土地...</td>\n",
       "      <td>1</td>\n",
       "    </tr>\n",
       "  </tbody>\n",
       "</table>\n",
       "<p>82 rows × 2 columns</p>\n",
       "</div>"
      ],
      "text/plain": [
       "                                                   text  label\n",
       "81    、黄龙是我国最美丽的以水为主题的自然风景区，所谓九寨归来不看水。我在这儿想提醒一下，大多数人...      1\n",
       "145   ，令人向往的地方，一直吸引着我。在今年五一过后带上老婆和女儿，一起去了。穷游第一步当然是看机...      1\n",
       "1006  这次之旅，大部分时间留在了，市区仅仅计划了两天行程，不过有一个地方一定要去，那就是中国最美丽...      1\n",
       "1015  人其实是一种意念动物，在思维中寻找美好。在一个自己呆腻的地方到达别人呆腻的地方，就是旅行。其...      1\n",
       "1023  2021年6月下旬，在去黑龙江旅游期间，曾经游览了的太阳岛。图为太阳岛的标志——太阳石。20...      1\n",
       "...                                                 ...    ...\n",
       "2387  刚过完儿子7岁生日，7月15日一家4人，倒腾了2次火车，从20度清凉无比的丽江来到了35度炎...      1\n",
       "2402  DAY16月26号一早，我带上行李和爸妈的祝福出发去上海，到达后发现候车室里好多的背包客都跟...      1\n",
       "2416  踏上钢琴码头，我期望中的旅途终于真正的开始了，但如何将这次游走落于纸笔间，却让我犯愁，第一次...      1\n",
       "2425  第一天锦州到1230次1920开到济南554注明之所以从锦州去济南，是因为没有买到从的卧铺。...      1\n",
       "2429  9月的气温依然让人不安仔细的计划着准备着不记得曾有多少次希望又希望期待又期待可以踏上那片土地...      1\n",
       "\n",
       "[82 rows x 2 columns]"
      ]
     },
     "metadata": {},
     "output_type": "display_data"
    }
   ],
   "source": [
    "# 重复值处理\n",
    "print(texts.duplicated().sum())\n",
    "display(texts[texts.duplicated()])"
   ]
  },
  {
   "cell_type": "code",
   "execution_count": 5,
   "id": "f1faf107",
   "metadata": {},
   "outputs": [
    {
     "name": "stdout",
     "output_type": "stream",
     "text": [
      "6610\n"
     ]
    },
    {
     "data": {
      "text/html": [
       "<div>\n",
       "<style scoped>\n",
       "    .dataframe tbody tr th:only-of-type {\n",
       "        vertical-align: middle;\n",
       "    }\n",
       "\n",
       "    .dataframe tbody tr th {\n",
       "        vertical-align: top;\n",
       "    }\n",
       "\n",
       "    .dataframe thead th {\n",
       "        text-align: right;\n",
       "    }\n",
       "</style>\n",
       "<table border=\"1\" class=\"dataframe\">\n",
       "  <thead>\n",
       "    <tr style=\"text-align: right;\">\n",
       "      <th></th>\n",
       "      <th>text</th>\n",
       "      <th>label</th>\n",
       "    </tr>\n",
       "  </thead>\n",
       "  <tbody>\n",
       "    <tr>\n",
       "      <th>202</th>\n",
       "      <td>古北水镇体验很好，</td>\n",
       "      <td>1</td>\n",
       "    </tr>\n",
       "    <tr>\n",
       "      <th>225</th>\n",
       "      <td>香山公园有趣好玩，</td>\n",
       "      <td>1</td>\n",
       "    </tr>\n",
       "    <tr>\n",
       "      <th>274</th>\n",
       "      <td>天坛性价比高，总体超赞，</td>\n",
       "      <td>1</td>\n",
       "    </tr>\n",
       "    <tr>\n",
       "      <th>282</th>\n",
       "      <td>北京动物园景色不错，</td>\n",
       "      <td>1</td>\n",
       "    </tr>\n",
       "    <tr>\n",
       "      <th>380</th>\n",
       "      <td>明十三陵值得一去！</td>\n",
       "      <td>1</td>\n",
       "    </tr>\n",
       "    <tr>\n",
       "      <th>...</th>\n",
       "      <td>...</td>\n",
       "      <td>...</td>\n",
       "    </tr>\n",
       "    <tr>\n",
       "      <th>48890</th>\n",
       "      <td>可玩性低，有待改进，</td>\n",
       "      <td>0</td>\n",
       "    </tr>\n",
       "    <tr>\n",
       "      <th>48892</th>\n",
       "      <td>性价比低，可玩性低，</td>\n",
       "      <td>0</td>\n",
       "    </tr>\n",
       "    <tr>\n",
       "      <th>48896</th>\n",
       "      <td>可玩性低，</td>\n",
       "      <td>0</td>\n",
       "    </tr>\n",
       "    <tr>\n",
       "      <th>48897</th>\n",
       "      <td>景色一般，</td>\n",
       "      <td>0</td>\n",
       "    </tr>\n",
       "    <tr>\n",
       "      <th>48919</th>\n",
       "      <td>性价比低，景色一般，</td>\n",
       "      <td>0</td>\n",
       "    </tr>\n",
       "  </tbody>\n",
       "</table>\n",
       "<p>6610 rows × 2 columns</p>\n",
       "</div>"
      ],
      "text/plain": [
       "               text  label\n",
       "202       古北水镇体验很好，      1\n",
       "225       香山公园有趣好玩，      1\n",
       "274    天坛性价比高，总体超赞，      1\n",
       "282      北京动物园景色不错，      1\n",
       "380       明十三陵值得一去！      1\n",
       "...             ...    ...\n",
       "48890    可玩性低，有待改进，      0\n",
       "48892    性价比低，可玩性低，      0\n",
       "48896         可玩性低，      0\n",
       "48897         景色一般，      0\n",
       "48919    性价比低，景色一般，      0\n",
       "\n",
       "[6610 rows x 2 columns]"
      ]
     },
     "metadata": {},
     "output_type": "display_data"
    }
   ],
   "source": [
    "# 重复值处理\n",
    "print(texts.duplicated().sum())\n",
    "display(texts[texts.duplicated()])"
   ]
  },
  {
   "cell_type": "code",
   "execution_count": 11,
   "id": "45882f6a",
   "metadata": {},
   "outputs": [
    {
     "name": "stdout",
     "output_type": "stream",
     "text": [
      "0\n"
     ]
    }
   ],
   "source": [
    "# 删除重复值，并检测是否成功\n",
    "texts.drop_duplicates(inplace=True)\n",
    "print(texts.duplicated().sum())"
   ]
  },
  {
   "cell_type": "code",
   "execution_count": 6,
   "id": "2e9c6210",
   "metadata": {},
   "outputs": [
    {
     "name": "stdout",
     "output_type": "stream",
     "text": [
      "0\n"
     ]
    }
   ],
   "source": [
    "# 删除重复值，并检测是否成功\n",
    "texts.drop_duplicates(inplace=True)\n",
    "print(texts.duplicated().sum())"
   ]
  },
  {
   "cell_type": "markdown",
   "id": "ea260278",
   "metadata": {},
   "source": [
    "文本内容清洗\n",
    "\n",
    "文本中的标点符号与一些特殊的标点符号对文本分析的作用不大，我们可以将其清除"
   ]
  },
  {
   "cell_type": "code",
   "execution_count": 7,
   "id": "aec0257b",
   "metadata": {},
   "outputs": [],
   "source": [
    "import re\n",
    "\n",
    "re_obj = re.compile(r\"[!\\\"#$%&'()*+,-./:;<=>?@[\\]^_`{|}~（）：【】《》▲→▼■←↑→↓↖↗↘↙★●◆‘’“”\\s]+\")\n",
    "\n",
    "def clear(text):\n",
    "    return re_obj.sub(\"\",text)\n",
    "\n",
    "texts['text'] = texts['text'].apply(clear)"
   ]
  },
  {
   "cell_type": "code",
   "execution_count": 13,
   "id": "c5973411",
   "metadata": {},
   "outputs": [
    {
     "data": {
      "text/html": [
       "<div>\n",
       "<style scoped>\n",
       "    .dataframe tbody tr th:only-of-type {\n",
       "        vertical-align: middle;\n",
       "    }\n",
       "\n",
       "    .dataframe tbody tr th {\n",
       "        vertical-align: top;\n",
       "    }\n",
       "\n",
       "    .dataframe thead th {\n",
       "        text-align: right;\n",
       "    }\n",
       "</style>\n",
       "<table border=\"1\" class=\"dataframe\">\n",
       "  <thead>\n",
       "    <tr style=\"text-align: right;\">\n",
       "      <th></th>\n",
       "      <th>text</th>\n",
       "      <th>label</th>\n",
       "    </tr>\n",
       "  </thead>\n",
       "  <tbody>\n",
       "    <tr>\n",
       "      <th>2129</th>\n",
       "      <td>哈哈哈，没去旅游之前想着回来写游记的，但是回来了后就好懒得写，国庆在家不想干活就无聊写写攻略...</td>\n",
       "      <td>1</td>\n",
       "    </tr>\n",
       "    <tr>\n",
       "      <th>1555</th>\n",
       "      <td>五月的春风温暖轻柔，吹拂着古城的大地，也吹动了我们的心。夕阳红专列开向西北，开向大漠、开向异...</td>\n",
       "      <td>1</td>\n",
       "    </tr>\n",
       "    <tr>\n",
       "      <th>1616</th>\n",
       "      <td>2019925开启期待已久的西藏之旅早上6点40分的早班飞机，凌晨4点起床前往机场。飞行途中...</td>\n",
       "      <td>1</td>\n",
       "    </tr>\n",
       "    <tr>\n",
       "      <th>2296</th>\n",
       "      <td>曾经无比辉煌的秋林公司与帕弗尔大厦老鼎丰长白糕、牛舌酥、长条酥酒糖正阳楼干肠，588元斤，没...</td>\n",
       "      <td>1</td>\n",
       "    </tr>\n",
       "    <tr>\n",
       "      <th>1563</th>\n",
       "      <td>理工大学毕业的老公，喜欢的建筑和桥梁。而身为文科生的我，想寻找的是百年来历史的足迹。当然，我...</td>\n",
       "      <td>1</td>\n",
       "    </tr>\n",
       "  </tbody>\n",
       "</table>\n",
       "</div>"
      ],
      "text/plain": [
       "                                                   text  label\n",
       "2129  哈哈哈，没去旅游之前想着回来写游记的，但是回来了后就好懒得写，国庆在家不想干活就无聊写写攻略...      1\n",
       "1555  五月的春风温暖轻柔，吹拂着古城的大地，也吹动了我们的心。夕阳红专列开向西北，开向大漠、开向异...      1\n",
       "1616  2019925开启期待已久的西藏之旅早上6点40分的早班飞机，凌晨4点起床前往机场。飞行途中...      1\n",
       "2296  曾经无比辉煌的秋林公司与帕弗尔大厦老鼎丰长白糕、牛舌酥、长条酥酒糖正阳楼干肠，588元斤，没...      1\n",
       "1563  理工大学毕业的老公，喜欢的建筑和桥梁。而身为文科生的我，想寻找的是百年来历史的足迹。当然，我...      1"
      ]
     },
     "execution_count": 13,
     "metadata": {},
     "output_type": "execute_result"
    }
   ],
   "source": [
    "texts.sample(5)"
   ]
  },
  {
   "cell_type": "code",
   "execution_count": 8,
   "id": "41a46744",
   "metadata": {},
   "outputs": [
    {
     "data": {
      "text/html": [
       "<div>\n",
       "<style scoped>\n",
       "    .dataframe tbody tr th:only-of-type {\n",
       "        vertical-align: middle;\n",
       "    }\n",
       "\n",
       "    .dataframe tbody tr th {\n",
       "        vertical-align: top;\n",
       "    }\n",
       "\n",
       "    .dataframe thead th {\n",
       "        text-align: right;\n",
       "    }\n",
       "</style>\n",
       "<table border=\"1\" class=\"dataframe\">\n",
       "  <thead>\n",
       "    <tr style=\"text-align: right;\">\n",
       "      <th></th>\n",
       "      <th>text</th>\n",
       "      <th>label</th>\n",
       "    </tr>\n",
       "  </thead>\n",
       "  <tbody>\n",
       "    <tr>\n",
       "      <th>4702</th>\n",
       "      <td>中国科学技术馆孩子的乐园，孩子长知识的地方</td>\n",
       "      <td>1</td>\n",
       "    </tr>\n",
       "    <tr>\n",
       "      <th>33984</th>\n",
       "      <td>龙庆峡景色很不错，确实很不错，值得一来。</td>\n",
       "      <td>1</td>\n",
       "    </tr>\n",
       "    <tr>\n",
       "      <th>35957</th>\n",
       "      <td>中国科学技术馆孩子们玩得很开心，石老师讲解的非常详细，很棒</td>\n",
       "      <td>1</td>\n",
       "    </tr>\n",
       "    <tr>\n",
       "      <th>1205</th>\n",
       "      <td>北京杜莎夫人蜡像馆做的都很逼真，就是门票稍微有点贵了，</td>\n",
       "      <td>1</td>\n",
       "    </tr>\n",
       "    <tr>\n",
       "      <th>39510</th>\n",
       "      <td>没有告知只是言音讲解，到了门口没有标注如何领语音讲解态度差</td>\n",
       "      <td>0</td>\n",
       "    </tr>\n",
       "  </tbody>\n",
       "</table>\n",
       "</div>"
      ],
      "text/plain": [
       "                                text  label\n",
       "4702           中国科学技术馆孩子的乐园，孩子长知识的地方      1\n",
       "33984           龙庆峡景色很不错，确实很不错，值得一来。      1\n",
       "35957  中国科学技术馆孩子们玩得很开心，石老师讲解的非常详细，很棒      1\n",
       "1205     北京杜莎夫人蜡像馆做的都很逼真，就是门票稍微有点贵了，      1\n",
       "39510  没有告知只是言音讲解，到了门口没有标注如何领语音讲解态度差      0"
      ]
     },
     "execution_count": 8,
     "metadata": {},
     "output_type": "execute_result"
    }
   ],
   "source": [
    "texts.sample(5)"
   ]
  },
  {
   "cell_type": "code",
   "execution_count": 14,
   "id": "bf717c1b",
   "metadata": {},
   "outputs": [
    {
     "data": {
      "text/plain": [
       "2363"
      ]
     },
     "execution_count": 14,
     "metadata": {},
     "output_type": "execute_result"
    }
   ],
   "source": [
    "len(texts)"
   ]
  },
  {
   "cell_type": "code",
   "execution_count": 9,
   "id": "f9c7aec6",
   "metadata": {},
   "outputs": [
    {
     "data": {
      "text/plain": [
       "42324"
      ]
     },
     "execution_count": 9,
     "metadata": {},
     "output_type": "execute_result"
    }
   ],
   "source": [
    "len(texts)"
   ]
  },
  {
   "cell_type": "code",
   "execution_count": 18,
   "id": "50b99cfc",
   "metadata": {},
   "outputs": [
    {
     "data": {
      "text/plain": [
       "text     ，世界四大古都之一，其历史的渊源流长，其文化的博大精深。十三朝建都于此，曾有一个多么美好，多...\n",
       "label                                                    1\n",
       "Name: 2444, dtype: object"
      ]
     },
     "execution_count": 18,
     "metadata": {},
     "output_type": "execute_result"
    }
   ],
   "source": [
    "texts.iloc[2362]"
   ]
  },
  {
   "cell_type": "code",
   "execution_count": 10,
   "id": "37f82ef7",
   "metadata": {},
   "outputs": [
    {
     "data": {
      "text/plain": [
       "text     香山公园山不在高，想爬就行，鬼见愁一到一览无遗\n",
       "label                          1\n",
       "Name: 2450, dtype: object"
      ]
     },
     "execution_count": 10,
     "metadata": {},
     "output_type": "execute_result"
    }
   ],
   "source": [
    "texts.iloc[2362]"
   ]
  },
  {
   "cell_type": "code",
   "execution_count": 11,
   "id": "76dd3c62",
   "metadata": {},
   "outputs": [],
   "source": [
    "texts.drop(index=0,axis=0,inplace=True)"
   ]
  },
  {
   "cell_type": "code",
   "execution_count": 23,
   "id": "ecdbdf73",
   "metadata": {},
   "outputs": [
    {
     "data": {
      "text/plain": [
       "2362"
      ]
     },
     "execution_count": 23,
     "metadata": {},
     "output_type": "execute_result"
    }
   ],
   "source": [
    "len(texts)"
   ]
  },
  {
   "cell_type": "code",
   "execution_count": 12,
   "id": "62a0fd1a",
   "metadata": {},
   "outputs": [
    {
     "data": {
      "text/plain": [
       "42323"
      ]
     },
     "execution_count": 12,
     "metadata": {},
     "output_type": "execute_result"
    }
   ],
   "source": [
    "len(texts)"
   ]
  },
  {
   "cell_type": "code",
   "execution_count": 24,
   "id": "c2d8160a",
   "metadata": {},
   "outputs": [],
   "source": [
    "texts.to_csv('../data/MyDataset/dataset.csv',index=False)"
   ]
  },
  {
   "cell_type": "code",
   "execution_count": 13,
   "id": "5fe429e3",
   "metadata": {},
   "outputs": [],
   "source": [
    "texts.to_csv('../data/MyDataset/travel_comment_data/travel_comments.csv',index=False)"
   ]
  },
  {
   "cell_type": "markdown",
   "id": "e8f7b4a6",
   "metadata": {},
   "source": [
    "# 预处理自己的游记文本数据集\n",
    "对标注好的游记文本数据进行打乱处理，划分好训练集、验证集和测试集"
   ]
  },
  {
   "cell_type": "code",
   "execution_count": 14,
   "id": "8e42ba12",
   "metadata": {},
   "outputs": [],
   "source": [
    "import torch\n",
    "import torch.utils.data as D\n",
    "import pandas as pd\n",
    "from datasets import load_dataset"
   ]
  },
  {
   "cell_type": "code",
   "execution_count": 3,
   "id": "8003b055",
   "metadata": {},
   "outputs": [
    {
     "name": "stderr",
     "output_type": "stream",
     "text": [
      "Using custom data configuration default-2ba80473d89ccc09\n"
     ]
    },
    {
     "name": "stdout",
     "output_type": "stream",
     "text": [
      "Downloading and preparing dataset csv/default to /home/chenli/.cache/huggingface/datasets/csv/default-2ba80473d89ccc09/0.0.0/652c3096f041ee27b04d2232d41f10547a8fecda3e284a79a0ec4053c916ef7a...\n"
     ]
    },
    {
     "data": {
      "application/vnd.jupyter.widget-view+json": {
       "model_id": "11695523d03b4a47a1743039b22985d9",
       "version_major": 2,
       "version_minor": 0
      },
      "text/plain": [
       "Downloading data files:   0%|          | 0/1 [00:00<?, ?it/s]"
      ]
     },
     "metadata": {},
     "output_type": "display_data"
    },
    {
     "data": {
      "application/vnd.jupyter.widget-view+json": {
       "model_id": "c9515998f4f148a9b661f1edab7a9f9a",
       "version_major": 2,
       "version_minor": 0
      },
      "text/plain": [
       "Extracting data files:   0%|          | 0/1 [00:00<?, ?it/s]"
      ]
     },
     "metadata": {},
     "output_type": "display_data"
    },
    {
     "data": {
      "application/vnd.jupyter.widget-view+json": {
       "model_id": "",
       "version_major": 2,
       "version_minor": 0
      },
      "text/plain": [
       "0 tables [00:00, ? tables/s]"
      ]
     },
     "metadata": {},
     "output_type": "display_data"
    },
    {
     "name": "stdout",
     "output_type": "stream",
     "text": [
      "Dataset csv downloaded and prepared to /home/chenli/.cache/huggingface/datasets/csv/default-2ba80473d89ccc09/0.0.0/652c3096f041ee27b04d2232d41f10547a8fecda3e284a79a0ec4053c916ef7a. Subsequent calls will reuse this data.\n"
     ]
    },
    {
     "data": {
      "application/vnd.jupyter.widget-view+json": {
       "model_id": "5945b3c574b24ddba97d711c6a35db47",
       "version_major": 2,
       "version_minor": 0
      },
      "text/plain": [
       "  0%|          | 0/1 [00:00<?, ?it/s]"
      ]
     },
     "metadata": {},
     "output_type": "display_data"
    }
   ],
   "source": [
    "dataset = load_dataset('csv',data_files='../data/MyDataset/data2/dataset.csv')"
   ]
  },
  {
   "cell_type": "code",
   "execution_count": 15,
   "id": "a864808a",
   "metadata": {},
   "outputs": [
    {
     "name": "stderr",
     "output_type": "stream",
     "text": [
      "Using custom data configuration default-0cecd588a3a23230\n"
     ]
    },
    {
     "name": "stdout",
     "output_type": "stream",
     "text": [
      "Downloading and preparing dataset csv/default to /home/chenli/.cache/huggingface/datasets/csv/default-0cecd588a3a23230/0.0.0/652c3096f041ee27b04d2232d41f10547a8fecda3e284a79a0ec4053c916ef7a...\n"
     ]
    },
    {
     "data": {
      "application/vnd.jupyter.widget-view+json": {
       "model_id": "7e220f7f112841c6a0348ad38076e997",
       "version_major": 2,
       "version_minor": 0
      },
      "text/plain": [
       "Downloading data files:   0%|          | 0/1 [00:00<?, ?it/s]"
      ]
     },
     "metadata": {},
     "output_type": "display_data"
    },
    {
     "data": {
      "application/vnd.jupyter.widget-view+json": {
       "model_id": "651fb9ef33724550b974e82338e334f0",
       "version_major": 2,
       "version_minor": 0
      },
      "text/plain": [
       "Extracting data files:   0%|          | 0/1 [00:00<?, ?it/s]"
      ]
     },
     "metadata": {},
     "output_type": "display_data"
    },
    {
     "data": {
      "application/vnd.jupyter.widget-view+json": {
       "model_id": "",
       "version_major": 2,
       "version_minor": 0
      },
      "text/plain": [
       "0 tables [00:00, ? tables/s]"
      ]
     },
     "metadata": {},
     "output_type": "display_data"
    },
    {
     "name": "stdout",
     "output_type": "stream",
     "text": [
      "Dataset csv downloaded and prepared to /home/chenli/.cache/huggingface/datasets/csv/default-0cecd588a3a23230/0.0.0/652c3096f041ee27b04d2232d41f10547a8fecda3e284a79a0ec4053c916ef7a. Subsequent calls will reuse this data.\n"
     ]
    },
    {
     "data": {
      "application/vnd.jupyter.widget-view+json": {
       "model_id": "06d79fb18c3d4618aa4ec81802aaf19d",
       "version_major": 2,
       "version_minor": 0
      },
      "text/plain": [
       "  0%|          | 0/1 [00:00<?, ?it/s]"
      ]
     },
     "metadata": {},
     "output_type": "display_data"
    }
   ],
   "source": [
    "dataset = load_dataset('csv',data_files='../data/MyDataset/travel_comment_data/travel_comments.csv')"
   ]
  },
  {
   "cell_type": "code",
   "execution_count": 4,
   "id": "942bc682",
   "metadata": {},
   "outputs": [
    {
     "data": {
      "text/plain": [
       "DatasetDict({\n",
       "    train: Dataset({\n",
       "        features: ['text', 'label'],\n",
       "        num_rows: 3444\n",
       "    })\n",
       "})"
      ]
     },
     "execution_count": 4,
     "metadata": {},
     "output_type": "execute_result"
    }
   ],
   "source": [
    "dataset"
   ]
  },
  {
   "cell_type": "code",
   "execution_count": 16,
   "id": "db7e8ec3",
   "metadata": {},
   "outputs": [
    {
     "data": {
      "text/plain": [
       "DatasetDict({\n",
       "    train: Dataset({\n",
       "        features: ['text', 'label'],\n",
       "        num_rows: 42323\n",
       "    })\n",
       "})"
      ]
     },
     "execution_count": 16,
     "metadata": {},
     "output_type": "execute_result"
    }
   ],
   "source": [
    "dataset"
   ]
  },
  {
   "cell_type": "code",
   "execution_count": 17,
   "id": "f8104c73",
   "metadata": {},
   "outputs": [],
   "source": [
    "dataset = dataset['train']"
   ]
  },
  {
   "cell_type": "markdown",
   "id": "b61e69d9",
   "metadata": {},
   "source": [
    "## 使用pandas对数据进行探索和统计"
   ]
  },
  {
   "cell_type": "code",
   "execution_count": 18,
   "id": "f48850ce",
   "metadata": {},
   "outputs": [],
   "source": [
    "pd_dataset = pd.DataFrame(dataset)"
   ]
  },
  {
   "cell_type": "code",
   "execution_count": 7,
   "id": "53f6a2df",
   "metadata": {},
   "outputs": [
    {
     "data": {
      "text/html": [
       "<div>\n",
       "<style scoped>\n",
       "    .dataframe tbody tr th:only-of-type {\n",
       "        vertical-align: middle;\n",
       "    }\n",
       "\n",
       "    .dataframe tbody tr th {\n",
       "        vertical-align: top;\n",
       "    }\n",
       "\n",
       "    .dataframe thead th {\n",
       "        text-align: right;\n",
       "    }\n",
       "</style>\n",
       "<table border=\"1\" class=\"dataframe\">\n",
       "  <thead>\n",
       "    <tr style=\"text-align: right;\">\n",
       "      <th></th>\n",
       "      <th>text</th>\n",
       "      <th>label</th>\n",
       "    </tr>\n",
       "  </thead>\n",
       "  <tbody>\n",
       "    <tr>\n",
       "      <th>0</th>\n",
       "      <td>D1九月五号星期五包头1547——北1338K15351338，到达终点站北。7天酒店解放碑...</td>\n",
       "      <td>1</td>\n",
       "    </tr>\n",
       "    <tr>\n",
       "      <th>1</th>\n",
       "      <td>文路客老三我是老三，一个热爱生活的北京土著。待惯了城市，被传染了一身的城市病，想出去走走，或...</td>\n",
       "      <td>0</td>\n",
       "    </tr>\n",
       "    <tr>\n",
       "      <th>2</th>\n",
       "      <td>哈尔滨索菲亚山庄天津飞咯尚志洗浴昆明第一顿！昆明第一顿！昆明第一顿！昆明第一顿！昆明第一顿！...</td>\n",
       "      <td>1</td>\n",
       "    </tr>\n",
       "    <tr>\n",
       "      <th>3</th>\n",
       "      <td>他们说你是3D，4D，我不管，反正你是我的。妈妈说你离过婚，家里还有38口人要养，不能给我好...</td>\n",
       "      <td>0</td>\n",
       "    </tr>\n",
       "    <tr>\n",
       "      <th>4</th>\n",
       "      <td>我觉得如果再不把这篇日志整理完怕就真的全忘记了大家都以为我独自带宝宝周游中国旅行是早早就拟定...</td>\n",
       "      <td>1</td>\n",
       "    </tr>\n",
       "    <tr>\n",
       "      <th>...</th>\n",
       "      <td>...</td>\n",
       "      <td>...</td>\n",
       "    </tr>\n",
       "    <tr>\n",
       "      <th>3439</th>\n",
       "      <td>石林峡感觉坑了，门票58，上山下山缆车单程就100一位，去观景台还收40一位，就去一次完事</td>\n",
       "      <td>0</td>\n",
       "    </tr>\n",
       "    <tr>\n",
       "      <th>3440</th>\n",
       "      <td>北海公园买的138的票，到北海公园一看门票才10元，因为风大把划船取消，船票退了5五元，有点...</td>\n",
       "      <td>0</td>\n",
       "    </tr>\n",
       "    <tr>\n",
       "      <th>3441</th>\n",
       "      <td>世界花卉大观园很一般，里面人超级少，可以说几乎没有卖水的……</td>\n",
       "      <td>0</td>\n",
       "    </tr>\n",
       "    <tr>\n",
       "      <th>3442</th>\n",
       "      <td>乐多港奇幻乐园很差的体验，工作人员态度恶劣，设备也很旧，价格不合理，有这钱还不如去欢乐谷。</td>\n",
       "      <td>0</td>\n",
       "    </tr>\n",
       "    <tr>\n",
       "      <th>3443</th>\n",
       "      <td>黑龙潭风景区坑人景点，千万别去。五一去的，几乎没水，乱乱糟糟</td>\n",
       "      <td>0</td>\n",
       "    </tr>\n",
       "  </tbody>\n",
       "</table>\n",
       "<p>3444 rows × 2 columns</p>\n",
       "</div>"
      ],
      "text/plain": [
       "                                                   text  label\n",
       "0     D1九月五号星期五包头1547——北1338K15351338，到达终点站北。7天酒店解放碑...      1\n",
       "1     文路客老三我是老三，一个热爱生活的北京土著。待惯了城市，被传染了一身的城市病，想出去走走，或...      0\n",
       "2     哈尔滨索菲亚山庄天津飞咯尚志洗浴昆明第一顿！昆明第一顿！昆明第一顿！昆明第一顿！昆明第一顿！...      1\n",
       "3     他们说你是3D，4D，我不管，反正你是我的。妈妈说你离过婚，家里还有38口人要养，不能给我好...      0\n",
       "4     我觉得如果再不把这篇日志整理完怕就真的全忘记了大家都以为我独自带宝宝周游中国旅行是早早就拟定...      1\n",
       "...                                                 ...    ...\n",
       "3439      石林峡感觉坑了，门票58，上山下山缆车单程就100一位，去观景台还收40一位，就去一次完事      0\n",
       "3440  北海公园买的138的票，到北海公园一看门票才10元，因为风大把划船取消，船票退了5五元，有点...      0\n",
       "3441                     世界花卉大观园很一般，里面人超级少，可以说几乎没有卖水的……      0\n",
       "3442      乐多港奇幻乐园很差的体验，工作人员态度恶劣，设备也很旧，价格不合理，有这钱还不如去欢乐谷。      0\n",
       "3443                     黑龙潭风景区坑人景点，千万别去。五一去的，几乎没水，乱乱糟糟      0\n",
       "\n",
       "[3444 rows x 2 columns]"
      ]
     },
     "execution_count": 7,
     "metadata": {},
     "output_type": "execute_result"
    }
   ],
   "source": [
    "pd_dataset"
   ]
  },
  {
   "cell_type": "code",
   "execution_count": 19,
   "id": "8c291cff",
   "metadata": {},
   "outputs": [
    {
     "data": {
      "text/html": [
       "<div>\n",
       "<style scoped>\n",
       "    .dataframe tbody tr th:only-of-type {\n",
       "        vertical-align: middle;\n",
       "    }\n",
       "\n",
       "    .dataframe tbody tr th {\n",
       "        vertical-align: top;\n",
       "    }\n",
       "\n",
       "    .dataframe thead th {\n",
       "        text-align: right;\n",
       "    }\n",
       "</style>\n",
       "<table border=\"1\" class=\"dataframe\">\n",
       "  <thead>\n",
       "    <tr style=\"text-align: right;\">\n",
       "      <th></th>\n",
       "      <th>text</th>\n",
       "      <th>label</th>\n",
       "    </tr>\n",
       "  </thead>\n",
       "  <tbody>\n",
       "    <tr>\n",
       "      <th>0</th>\n",
       "      <td>南锣鼓巷北京旅行攻略关于住宿为了出行方便住在前门推荐798艺术园区、南锣鼓巷、很适合拍照打卡...</td>\n",
       "      <td>0</td>\n",
       "    </tr>\n",
       "    <tr>\n",
       "      <th>1</th>\n",
       "      <td>八达岭长城不到长城非好汉</td>\n",
       "      <td>1</td>\n",
       "    </tr>\n",
       "    <tr>\n",
       "      <th>2</th>\n",
       "      <td>北京海洋馆票价比实际的高出太多</td>\n",
       "      <td>0</td>\n",
       "    </tr>\n",
       "    <tr>\n",
       "      <th>3</th>\n",
       "      <td>国家大剧院挺好。。。</td>\n",
       "      <td>1</td>\n",
       "    </tr>\n",
       "    <tr>\n",
       "      <th>4</th>\n",
       "      <td>北京动物园本来第一天房间有些吵得，第二天跟前台说了之后直接就给换了个更大的安静的屋子，本来定...</td>\n",
       "      <td>1</td>\n",
       "    </tr>\n",
       "    <tr>\n",
       "      <th>...</th>\n",
       "      <td>...</td>\n",
       "      <td>...</td>\n",
       "    </tr>\n",
       "    <tr>\n",
       "      <th>42318</th>\n",
       "      <td>很差很差，能不能找个说话利索点的，真恶心！！</td>\n",
       "      <td>0</td>\n",
       "    </tr>\n",
       "    <tr>\n",
       "      <th>42319</th>\n",
       "      <td>误人子弟性价比低，体验不佳，</td>\n",
       "      <td>0</td>\n",
       "    </tr>\n",
       "    <tr>\n",
       "      <th>42320</th>\n",
       "      <td>可玩性低，体验不佳，</td>\n",
       "      <td>0</td>\n",
       "    </tr>\n",
       "    <tr>\n",
       "      <th>42321</th>\n",
       "      <td>差差差差差</td>\n",
       "      <td>0</td>\n",
       "    </tr>\n",
       "    <tr>\n",
       "      <th>42322</th>\n",
       "      <td>很差差差差</td>\n",
       "      <td>0</td>\n",
       "    </tr>\n",
       "  </tbody>\n",
       "</table>\n",
       "<p>42323 rows × 2 columns</p>\n",
       "</div>"
      ],
      "text/plain": [
       "                                                    text  label\n",
       "0      南锣鼓巷北京旅行攻略关于住宿为了出行方便住在前门推荐798艺术园区、南锣鼓巷、很适合拍照打卡...      0\n",
       "1                                           八达岭长城不到长城非好汉      1\n",
       "2                                        北京海洋馆票价比实际的高出太多      0\n",
       "3                                             国家大剧院挺好。。。      1\n",
       "4      北京动物园本来第一天房间有些吵得，第二天跟前台说了之后直接就给换了个更大的安静的屋子，本来定...      1\n",
       "...                                                  ...    ...\n",
       "42318                             很差很差，能不能找个说话利索点的，真恶心！！      0\n",
       "42319                                     误人子弟性价比低，体验不佳，      0\n",
       "42320                                         可玩性低，体验不佳，      0\n",
       "42321                                              差差差差差      0\n",
       "42322                                              很差差差差      0\n",
       "\n",
       "[42323 rows x 2 columns]"
      ]
     },
     "execution_count": 19,
     "metadata": {},
     "output_type": "execute_result"
    }
   ],
   "source": [
    "pd_dataset"
   ]
  },
  {
   "cell_type": "code",
   "execution_count": 8,
   "id": "565f9888",
   "metadata": {},
   "outputs": [
    {
     "data": {
      "text/plain": [
       "label\n",
       "0    1548\n",
       "1    1896\n",
       "dtype: int64"
      ]
     },
     "execution_count": 8,
     "metadata": {},
     "output_type": "execute_result"
    }
   ],
   "source": [
    "# 对label进行分组，探索积极文本有多少，消极文本有多少\n",
    "gp = pd_dataset.groupby(by=['label'])\n",
    "gp.size()"
   ]
  },
  {
   "cell_type": "code",
   "execution_count": 20,
   "id": "8c58ec6f",
   "metadata": {},
   "outputs": [
    {
     "data": {
      "text/plain": [
       "label\n",
       "0    10439\n",
       "1    31884\n",
       "dtype: int64"
      ]
     },
     "execution_count": 20,
     "metadata": {},
     "output_type": "execute_result"
    }
   ],
   "source": [
    "# 对label进行分组，探索积极文本有多少，消极文本有多少\n",
    "gp = pd_dataset.groupby(by=['label'])\n",
    "gp.size()"
   ]
  },
  {
   "cell_type": "markdown",
   "id": "a780cfee",
   "metadata": {},
   "source": [
    "## 探索文章长度"
   ]
  },
  {
   "cell_type": "code",
   "execution_count": 21,
   "id": "22174ea9",
   "metadata": {},
   "outputs": [],
   "source": [
    "def text_length(text):\n",
    "    return len(text)"
   ]
  },
  {
   "cell_type": "code",
   "execution_count": 22,
   "id": "861caf8f",
   "metadata": {},
   "outputs": [],
   "source": [
    "pd_dataset['text_len'] = pd_dataset['text'].apply(text_length)"
   ]
  },
  {
   "cell_type": "code",
   "execution_count": 11,
   "id": "038aa2bf",
   "metadata": {},
   "outputs": [
    {
     "data": {
      "text/html": [
       "<div>\n",
       "<style scoped>\n",
       "    .dataframe tbody tr th:only-of-type {\n",
       "        vertical-align: middle;\n",
       "    }\n",
       "\n",
       "    .dataframe tbody tr th {\n",
       "        vertical-align: top;\n",
       "    }\n",
       "\n",
       "    .dataframe thead th {\n",
       "        text-align: right;\n",
       "    }\n",
       "</style>\n",
       "<table border=\"1\" class=\"dataframe\">\n",
       "  <thead>\n",
       "    <tr style=\"text-align: right;\">\n",
       "      <th></th>\n",
       "      <th>text</th>\n",
       "      <th>label</th>\n",
       "      <th>text_len</th>\n",
       "    </tr>\n",
       "  </thead>\n",
       "  <tbody>\n",
       "    <tr>\n",
       "      <th>1590</th>\n",
       "      <td>洛阳城中心，定鼎路与中州路的交汇点是零公里处，是中国各条高速公路通达洛阳的中心坐标点，是计算...</td>\n",
       "      <td>1</td>\n",
       "      <td>3975</td>\n",
       "    </tr>\n",
       "    <tr>\n",
       "      <th>2752</th>\n",
       "      <td>清凉谷风景区需要花钱的地方很多，管理一般，景色还行，水上娱乐项目很多。</td>\n",
       "      <td>0</td>\n",
       "      <td>35</td>\n",
       "    </tr>\n",
       "    <tr>\n",
       "      <th>587</th>\n",
       "      <td>103\\n门票20块钱倒是不贵。因为这个中秋节吧，出来这个夜游小火车10块钱，下来以后就不做...</td>\n",
       "      <td>0</td>\n",
       "      <td>312</td>\n",
       "    </tr>\n",
       "    <tr>\n",
       "      <th>2298</th>\n",
       "      <td>5我们的花费机票两人来回4874宜昌中转，住宿6天1650微蓝艺术旅居以下是他们的官网htt...</td>\n",
       "      <td>1</td>\n",
       "      <td>1322</td>\n",
       "    </tr>\n",
       "    <tr>\n",
       "      <th>2250</th>\n",
       "      <td>天使之城——曼谷，旅游业十分发达，被评选为2013全球最受欢迎旅游城市。很久之前就想来一趟欢...</td>\n",
       "      <td>1</td>\n",
       "      <td>3957</td>\n",
       "    </tr>\n",
       "  </tbody>\n",
       "</table>\n",
       "</div>"
      ],
      "text/plain": [
       "                                                   text  label  text_len\n",
       "1590  洛阳城中心，定鼎路与中州路的交汇点是零公里处，是中国各条高速公路通达洛阳的中心坐标点，是计算...      1      3975\n",
       "2752                清凉谷风景区需要花钱的地方很多，管理一般，景色还行，水上娱乐项目很多。      0        35\n",
       "587   103\\n门票20块钱倒是不贵。因为这个中秋节吧，出来这个夜游小火车10块钱，下来以后就不做...      0       312\n",
       "2298  5我们的花费机票两人来回4874宜昌中转，住宿6天1650微蓝艺术旅居以下是他们的官网htt...      1      1322\n",
       "2250  天使之城——曼谷，旅游业十分发达，被评选为2013全球最受欢迎旅游城市。很久之前就想来一趟欢...      1      3957"
      ]
     },
     "execution_count": 11,
     "metadata": {},
     "output_type": "execute_result"
    }
   ],
   "source": [
    "pd_dataset.sample(5)"
   ]
  },
  {
   "cell_type": "code",
   "execution_count": 23,
   "id": "dcb1cf5e",
   "metadata": {},
   "outputs": [
    {
     "data": {
      "text/html": [
       "<div>\n",
       "<style scoped>\n",
       "    .dataframe tbody tr th:only-of-type {\n",
       "        vertical-align: middle;\n",
       "    }\n",
       "\n",
       "    .dataframe tbody tr th {\n",
       "        vertical-align: top;\n",
       "    }\n",
       "\n",
       "    .dataframe thead th {\n",
       "        text-align: right;\n",
       "    }\n",
       "</style>\n",
       "<table border=\"1\" class=\"dataframe\">\n",
       "  <thead>\n",
       "    <tr style=\"text-align: right;\">\n",
       "      <th></th>\n",
       "      <th>text</th>\n",
       "      <th>label</th>\n",
       "      <th>text_len</th>\n",
       "    </tr>\n",
       "  </thead>\n",
       "  <tbody>\n",
       "    <tr>\n",
       "      <th>33391</th>\n",
       "      <td>去的时候春天没啥景。感受一般般吧！</td>\n",
       "      <td>0</td>\n",
       "      <td>17</td>\n",
       "    </tr>\n",
       "    <tr>\n",
       "      <th>27356</th>\n",
       "      <td>石林峡很好非常好。</td>\n",
       "      <td>1</td>\n",
       "      <td>9</td>\n",
       "    </tr>\n",
       "    <tr>\n",
       "      <th>21800</th>\n",
       "      <td>古北水镇景区打造的玲珑秀气！削弱了商业气息，让人感觉温馨舒适！</td>\n",
       "      <td>1</td>\n",
       "      <td>31</td>\n",
       "    </tr>\n",
       "    <tr>\n",
       "      <th>17871</th>\n",
       "      <td>雁栖湖项目很不错</td>\n",
       "      <td>1</td>\n",
       "      <td>8</td>\n",
       "    </tr>\n",
       "    <tr>\n",
       "      <th>34936</th>\n",
       "      <td>一般啦，电梯不灵，气味太重，还不够气派</td>\n",
       "      <td>0</td>\n",
       "      <td>19</td>\n",
       "    </tr>\n",
       "  </tbody>\n",
       "</table>\n",
       "</div>"
      ],
      "text/plain": [
       "                                  text  label  text_len\n",
       "33391                去的时候春天没啥景。感受一般般吧！      0        17\n",
       "27356                        石林峡很好非常好。      1         9\n",
       "21800  古北水镇景区打造的玲珑秀气！削弱了商业气息，让人感觉温馨舒适！      1        31\n",
       "17871                         雁栖湖项目很不错      1         8\n",
       "34936              一般啦，电梯不灵，气味太重，还不够气派      0        19"
      ]
     },
     "execution_count": 23,
     "metadata": {},
     "output_type": "execute_result"
    }
   ],
   "source": [
    "pd_dataset.sample(5)"
   ]
  },
  {
   "cell_type": "code",
   "execution_count": 12,
   "id": "8754bfe7",
   "metadata": {},
   "outputs": [
    {
     "data": {
      "text/plain": [
       "count    3444.000000\n",
       "mean     1503.462834\n",
       "std      1465.498726\n",
       "min         8.000000\n",
       "1%         11.000000\n",
       "10%        26.000000\n",
       "25%       103.000000\n",
       "50%      1116.500000\n",
       "75%      2674.500000\n",
       "90%      3778.700000\n",
       "99%      4682.570000\n",
       "max      4908.000000\n",
       "Name: text_len, dtype: float64"
      ]
     },
     "execution_count": 12,
     "metadata": {},
     "output_type": "execute_result"
    }
   ],
   "source": [
    "# 加参数形式（参数过多，加个转置方便看）\n",
    "# 对文本长度进行探索\n",
    "aa = pd_dataset['text_len'].describe([0.01,0.1,0.25,0.5,0.75,0.9,0.99]).T\n",
    "aa"
   ]
  },
  {
   "cell_type": "code",
   "execution_count": 24,
   "id": "c654f82a",
   "metadata": {},
   "outputs": [
    {
     "data": {
      "text/plain": [
       "count    42323.000000\n",
       "mean        56.722208\n",
       "std         89.072497\n",
       "min          2.000000\n",
       "1%           8.000000\n",
       "10%         13.000000\n",
       "25%         20.000000\n",
       "50%         31.000000\n",
       "75%         66.000000\n",
       "90%        105.000000\n",
       "99%        481.780000\n",
       "max       1833.000000\n",
       "Name: text_len, dtype: float64"
      ]
     },
     "execution_count": 24,
     "metadata": {},
     "output_type": "execute_result"
    }
   ],
   "source": [
    "# 加参数形式（参数过多，加个转置方便看）\n",
    "# 对文本长度进行探索\n",
    "aa = pd_dataset['text_len'].describe([0.01,0.1,0.25,0.5,0.75,0.9,0.99]).T\n",
    "aa"
   ]
  },
  {
   "cell_type": "code",
   "execution_count": 13,
   "id": "9185416e",
   "metadata": {},
   "outputs": [
    {
     "data": {
      "text/plain": [
       "count    3444.000000\n",
       "mean     1503.462834\n",
       "std      1465.498726\n",
       "min         8.000000\n",
       "25%       103.000000\n",
       "50%      1116.500000\n",
       "75%      2674.500000\n",
       "max      4908.000000\n",
       "Name: text_len, dtype: float64"
      ]
     },
     "execution_count": 13,
     "metadata": {},
     "output_type": "execute_result"
    }
   ],
   "source": [
    "a = pd_dataset['text_len'].describe()\n",
    "a"
   ]
  },
  {
   "cell_type": "code",
   "execution_count": 25,
   "id": "2605cddb",
   "metadata": {},
   "outputs": [
    {
     "data": {
      "text/plain": [
       "count    42323.000000\n",
       "mean        56.722208\n",
       "std         89.072497\n",
       "min          2.000000\n",
       "25%         20.000000\n",
       "50%         31.000000\n",
       "75%         66.000000\n",
       "max       1833.000000\n",
       "Name: text_len, dtype: float64"
      ]
     },
     "execution_count": 25,
     "metadata": {},
     "output_type": "execute_result"
    }
   ],
   "source": [
    "a = pd_dataset['text_len'].describe()\n",
    "a"
   ]
  },
  {
   "cell_type": "markdown",
   "id": "3b7a43be",
   "metadata": {},
   "source": [
    "## 打乱文章，分开训练集、验证集和测试集"
   ]
  },
  {
   "cell_type": "code",
   "execution_count": 26,
   "id": "77c84b5b",
   "metadata": {},
   "outputs": [],
   "source": [
    "shuffle_dataset = dataset.shuffle(9) # 将数据打乱，数值越大，混乱程度越大"
   ]
  },
  {
   "cell_type": "code",
   "execution_count": 27,
   "id": "6191c24f",
   "metadata": {},
   "outputs": [],
   "source": [
    "train_size = int(0.8 * len(shuffle_dataset))\n",
    "valid_size = int(0.1 * len(shuffle_dataset))\n",
    "test_size = len(shuffle_dataset) - train_size - valid_size\n",
    "train_dataset,valid_dataset,test_dataset = torch.utils.data.random_split(shuffle_dataset, [train_size,valid_size,test_size])"
   ]
  },
  {
   "cell_type": "code",
   "execution_count": 16,
   "id": "f642b59b",
   "metadata": {},
   "outputs": [
    {
     "name": "stdout",
     "output_type": "stream",
     "text": [
      "2755\n",
      "344\n",
      "345\n"
     ]
    }
   ],
   "source": [
    "print(train_size)\n",
    "print(valid_size)\n",
    "print(test_size)"
   ]
  },
  {
   "cell_type": "code",
   "execution_count": 28,
   "id": "a442dd80",
   "metadata": {},
   "outputs": [
    {
     "name": "stdout",
     "output_type": "stream",
     "text": [
      "33858\n",
      "4232\n",
      "4233\n"
     ]
    }
   ],
   "source": [
    "print(train_size)\n",
    "print(valid_size)\n",
    "print(test_size)"
   ]
  },
  {
   "cell_type": "code",
   "execution_count": 19,
   "id": "8efd253f",
   "metadata": {},
   "outputs": [
    {
     "data": {
      "text/plain": [
       "<torch.utils.data.dataset.Subset at 0x7f4cefc65b10>"
      ]
     },
     "execution_count": 19,
     "metadata": {},
     "output_type": "execute_result"
    }
   ],
   "source": []
  },
  {
   "cell_type": "code",
   "execution_count": 29,
   "id": "0170d012",
   "metadata": {},
   "outputs": [],
   "source": [
    "pd_train_dataset = pd.DataFrame(shuffle_dataset[train_dataset.indices])\n",
    "pd_valid_dataset = pd.DataFrame(shuffle_dataset[valid_dataset.indices])\n",
    "pd_test_dataset = pd.DataFrame(shuffle_dataset[test_dataset.indices])"
   ]
  },
  {
   "cell_type": "code",
   "execution_count": 23,
   "id": "ceaea43d",
   "metadata": {},
   "outputs": [
    {
     "name": "stdout",
     "output_type": "stream",
     "text": [
      "label\n",
      "0    1241\n",
      "1    1514\n",
      "dtype: int64\n",
      "label\n",
      "0    154\n",
      "1    190\n",
      "dtype: int64\n",
      "label\n",
      "0    153\n",
      "1    192\n",
      "dtype: int64\n"
     ]
    }
   ],
   "source": [
    "train_gp = pd_train_dataset.groupby(by=['label'])\n",
    "valid_gp = pd_valid_dataset.groupby(by=['label'])\n",
    "test_gp = pd_test_dataset.groupby(by=['label'])\n",
    "print(train_gp.size())\n",
    "print(valid_gp.size())\n",
    "print(test_gp.size())"
   ]
  },
  {
   "cell_type": "code",
   "execution_count": 30,
   "id": "6e00ae70",
   "metadata": {},
   "outputs": [
    {
     "name": "stdout",
     "output_type": "stream",
     "text": [
      "label\n",
      "0     8336\n",
      "1    25522\n",
      "dtype: int64\n",
      "label\n",
      "0    1103\n",
      "1    3129\n",
      "dtype: int64\n",
      "label\n",
      "0    1000\n",
      "1    3233\n",
      "dtype: int64\n"
     ]
    }
   ],
   "source": [
    "train_gp = pd_train_dataset.groupby(by=['label'])\n",
    "valid_gp = pd_valid_dataset.groupby(by=['label'])\n",
    "test_gp = pd_test_dataset.groupby(by=['label'])\n",
    "print(train_gp.size())\n",
    "print(valid_gp.size())\n",
    "print(test_gp.size())"
   ]
  },
  {
   "cell_type": "code",
   "execution_count": 24,
   "id": "927ebbfe",
   "metadata": {},
   "outputs": [],
   "source": [
    "pd_train_dataset.to_csv('../data/MyDataset/data2/train_dataset.csv',index=False)\n",
    "pd_valid_dataset.to_csv('../data/MyDataset/data2/valid_dataset.csv',index=False)\n",
    "pd_test_dataset.to_csv('../data/MyDataset/data2/test_dataset.csv',index=False)"
   ]
  },
  {
   "cell_type": "code",
   "execution_count": 31,
   "id": "a56ab90a",
   "metadata": {},
   "outputs": [],
   "source": [
    "pd_train_dataset.to_csv('../data/MyDataset/travel_comment_data/train_dataset.csv',index=False)\n",
    "pd_valid_dataset.to_csv('../data/MyDataset/travel_comment_data/valid_dataset.csv',index=False)\n",
    "pd_test_dataset.to_csv('../data/MyDataset/travel_comment_data/test_dataset.csv',index=False)"
   ]
  }
 ],
 "metadata": {
  "kernelspec": {
   "display_name": "pytorch",
   "language": "python",
   "name": "pytorch"
  },
  "language_info": {
   "codemirror_mode": {
    "name": "ipython",
    "version": 3
   },
   "file_extension": ".py",
   "mimetype": "text/x-python",
   "name": "python",
   "nbconvert_exporter": "python",
   "pygments_lexer": "ipython3",
   "version": "3.7.11"
  }
 },
 "nbformat": 4,
 "nbformat_minor": 5
}
