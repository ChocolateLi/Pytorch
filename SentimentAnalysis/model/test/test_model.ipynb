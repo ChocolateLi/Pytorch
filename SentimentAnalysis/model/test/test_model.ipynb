{
 "cells": [
  {
   "cell_type": "markdown",
   "id": "56711a16",
   "metadata": {},
   "source": [
    "# 对模型进行验证\n",
    "使用测试集对模型进行验证"
   ]
  },
  {
   "cell_type": "markdown",
   "id": "05aad2d0",
   "metadata": {},
   "source": [
    "## 变量设置"
   ]
  },
  {
   "cell_type": "code",
   "execution_count": 1,
   "id": "ab1a458d",
   "metadata": {},
   "outputs": [],
   "source": [
    "check_point = \"schen/longformer-chinese-base-4096\""
   ]
  },
  {
   "cell_type": "code",
   "execution_count": 1,
   "id": "0565c5f4",
   "metadata": {},
   "outputs": [],
   "source": [
    "check_point = \"/home/chenli/pre_model/best_model/Longformer_SentimentAnalysis\""
   ]
  },
  {
   "cell_type": "markdown",
   "id": "f7c3f722",
   "metadata": {},
   "source": [
    "## 测试集"
   ]
  },
  {
   "cell_type": "code",
   "execution_count": 2,
   "id": "664463d8",
   "metadata": {},
   "outputs": [
    {
     "name": "stderr",
     "output_type": "stream",
     "text": [
      "Using custom data configuration default-062c84d526dcea84\n",
      "Reusing dataset csv (/home/chenli/.cache/huggingface/datasets/csv/default-062c84d526dcea84/0.0.0/652c3096f041ee27b04d2232d41f10547a8fecda3e284a79a0ec4053c916ef7a)\n",
      "Using custom data configuration default-0f8395db45727ded\n",
      "Reusing dataset csv (/home/chenli/.cache/huggingface/datasets/csv/default-0f8395db45727ded/0.0.0/652c3096f041ee27b04d2232d41f10547a8fecda3e284a79a0ec4053c916ef7a)\n"
     ]
    }
   ],
   "source": [
    "from datasets import load_dataset\n",
    "from transformers import AutoTokenizer\n",
    "\n",
    "valid_dataset = load_dataset('csv',data_files='../../data/MyDataset/data2/valid_dataset.csv',split='train')\n",
    "test_dataset = load_dataset('csv',data_files='../../data/MyDataset/data2/test_dataset.csv',split='train')\n",
    "tokenizer = AutoTokenizer.from_pretrained(check_point)"
   ]
  },
  {
   "cell_type": "code",
   "execution_count": 3,
   "id": "4a4e4e58",
   "metadata": {},
   "outputs": [],
   "source": [
    "# 分词\n",
    "def preprocess_function(data):\n",
    "    return tokenizer(data['text'],padding='max_length',max_length=1500,truncation=True)"
   ]
  },
  {
   "cell_type": "code",
   "execution_count": 4,
   "id": "4ddb2b2b",
   "metadata": {},
   "outputs": [
    {
     "name": "stderr",
     "output_type": "stream",
     "text": [
      "Loading cached processed dataset at /home/chenli/.cache/huggingface/datasets/csv/default-062c84d526dcea84/0.0.0/652c3096f041ee27b04d2232d41f10547a8fecda3e284a79a0ec4053c916ef7a/cache-e02ac664b17283c6.arrow\n"
     ]
    },
    {
     "data": {
      "text/plain": [
       "Dataset({\n",
       "    features: ['labels', 'input_ids', 'token_type_ids', 'attention_mask'],\n",
       "    num_rows: 344\n",
       "})"
      ]
     },
     "execution_count": 4,
     "metadata": {},
     "output_type": "execute_result"
    }
   ],
   "source": [
    "encoded_valid_dataset = valid_dataset.map(function=preprocess_function,\n",
    "                     batched=True,\n",
    "                     remove_columns=['text'])\n",
    "encoded_valid_dataset = encoded_valid_dataset.rename_column(\"label\", \"labels\")\n",
    "encoded_valid_dataset"
   ]
  },
  {
   "cell_type": "code",
   "execution_count": 5,
   "id": "810273bf",
   "metadata": {},
   "outputs": [
    {
     "name": "stderr",
     "output_type": "stream",
     "text": [
      "Loading cached processed dataset at /home/chenli/.cache/huggingface/datasets/csv/default-0f8395db45727ded/0.0.0/652c3096f041ee27b04d2232d41f10547a8fecda3e284a79a0ec4053c916ef7a/cache-1750e6b4fb5e8b99.arrow\n"
     ]
    },
    {
     "data": {
      "text/plain": [
       "Dataset({\n",
       "    features: ['labels', 'input_ids', 'token_type_ids', 'attention_mask'],\n",
       "    num_rows: 345\n",
       "})"
      ]
     },
     "execution_count": 5,
     "metadata": {},
     "output_type": "execute_result"
    }
   ],
   "source": [
    "encoded_test_dataset = test_dataset.map(function=preprocess_function,\n",
    "                     batched=True,\n",
    "                     remove_columns=['text'])\n",
    "encoded_test_dataset = encoded_test_dataset.rename_column(\"label\", \"labels\")\n",
    "encoded_test_dataset"
   ]
  },
  {
   "cell_type": "code",
   "execution_count": 6,
   "id": "7e1b9fde",
   "metadata": {},
   "outputs": [],
   "source": [
    "import torch\n",
    "from transformers.data.data_collator import DataCollatorWithPadding\n",
    "batch_size = 2\n",
    "valid_dataloader = torch.utils.data.DataLoader(dataset = encoded_valid_dataset,batch_size=batch_size,collate_fn=DataCollatorWithPadding(tokenizer),shuffle=True,drop_last=True)\n",
    "test_dataloader = torch.utils.data.DataLoader(dataset = encoded_test_dataset,batch_size=batch_size,collate_fn=DataCollatorWithPadding(tokenizer),shuffle=True,drop_last=True)"
   ]
  },
  {
   "cell_type": "markdown",
   "id": "6480123e",
   "metadata": {},
   "source": [
    "## 模型加载"
   ]
  },
  {
   "cell_type": "markdown",
   "id": "752d4021",
   "metadata": {},
   "source": [
    "### Longformer + 没加入激活函数"
   ]
  },
  {
   "cell_type": "markdown",
   "id": "a760daa1",
   "metadata": {},
   "source": [
    "1.模型。"
   ]
  },
  {
   "cell_type": "code",
   "execution_count": 7,
   "id": "3c57ff6f",
   "metadata": {},
   "outputs": [
    {
     "name": "stdout",
     "output_type": "stream",
     "text": [
      "Using cuda device\n"
     ]
    }
   ],
   "source": [
    "from transformers import AutoTokenizer,AutoModelForSequenceClassification, TrainingArguments, Trainer\n",
    "from torch import nn\n",
    "from transformers import AutoModel\n",
    "\n",
    "device = torch.device('cuda:1' if torch.cuda.is_available() else 'cpu')\n",
    "print(f'Using {device} device')\n",
    "class NeuralNetwork(nn.Module):\n",
    "    def __init__(self):\n",
    "        super(NeuralNetwork, self).__init__()\n",
    "        # 这个可以拿到预训练模型最后一层的结果\n",
    "        self.longformer = AutoModel.from_pretrained(check_point)\n",
    "        self.linear = nn.Linear(768, 2)\n",
    "\n",
    "    def forward(self,input_ids,token_type_ids,attention_mask):\n",
    "        # 取最后一层的第一个，因为我们希望拿到的是整句话的一个语义\n",
    "        output = self.longformer(input_ids,token_type_ids,attention_mask).last_hidden_state[:,0] # 维度 [batch,seq,hidden_size]\n",
    "        # 然后输送给分类的linear层\n",
    "        output = self.linear(output)\n",
    "        return output"
   ]
  },
  {
   "cell_type": "markdown",
   "id": "9b51f7f1",
   "metadata": {},
   "source": [
    "2.加载模型参数"
   ]
  },
  {
   "cell_type": "code",
   "execution_count": 8,
   "id": "00259368",
   "metadata": {},
   "outputs": [
    {
     "name": "stderr",
     "output_type": "stream",
     "text": [
      "Some weights of the model checkpoint at schen/longformer-chinese-base-4096 were not used when initializing BertModel: ['bert.encoder.layer.8.attention.self.value_global.weight', 'bert.encoder.layer.4.attention.self.value_global.weight', 'bert.encoder.layer.3.attention.self.query_global.bias', 'bert.encoder.layer.6.attention.self.value_global.weight', 'bert.encoder.layer.10.attention.self.key_global.weight', 'bert.encoder.layer.4.attention.self.query_global.bias', 'bert.encoder.layer.4.attention.self.query_global.weight', 'bert.encoder.layer.8.attention.self.query_global.bias', 'bert.encoder.layer.8.attention.self.key_global.bias', 'bert.encoder.layer.9.attention.self.value_global.bias', 'cls.seq_relationship.bias', 'bert.encoder.layer.11.attention.self.value_global.bias', 'bert.encoder.layer.6.attention.self.query_global.bias', 'bert.encoder.layer.7.attention.self.key_global.weight', 'bert.encoder.layer.0.attention.self.key_global.weight', 'bert.encoder.layer.11.attention.self.query_global.bias', 'bert.encoder.layer.2.attention.self.key_global.bias', 'bert.encoder.layer.0.attention.self.key_global.bias', 'bert.encoder.layer.11.attention.self.key_global.bias', 'bert.encoder.layer.6.attention.self.query_global.weight', 'bert.encoder.layer.11.attention.self.query_global.weight', 'bert.encoder.layer.9.attention.self.query_global.bias', 'bert.encoder.layer.5.attention.self.key_global.bias', 'bert.encoder.layer.5.attention.self.value_global.bias', 'bert.encoder.layer.0.attention.self.query_global.weight', 'bert.encoder.layer.7.attention.self.value_global.bias', 'bert.encoder.layer.3.attention.self.value_global.weight', 'bert.encoder.layer.4.attention.self.key_global.weight', 'bert.encoder.layer.1.attention.self.query_global.bias', 'bert.encoder.layer.5.attention.self.query_global.bias', 'cls.predictions.decoder.weight', 'cls.predictions.transform.LayerNorm.weight', 'bert.encoder.layer.2.attention.self.query_global.weight', 'bert.encoder.layer.3.attention.self.query_global.weight', 'cls.predictions.bias', 'bert.encoder.layer.8.attention.self.key_global.weight', 'cls.predictions.transform.dense.bias', 'bert.encoder.layer.6.attention.self.key_global.weight', 'bert.encoder.layer.4.attention.self.key_global.bias', 'bert.encoder.layer.7.attention.self.query_global.weight', 'bert.encoder.layer.9.attention.self.value_global.weight', 'bert.encoder.layer.2.attention.self.value_global.weight', 'bert.encoder.layer.1.attention.self.query_global.weight', 'bert.encoder.layer.7.attention.self.value_global.weight', 'bert.encoder.layer.10.attention.self.key_global.bias', 'bert.encoder.layer.11.attention.self.value_global.weight', 'bert.encoder.layer.2.attention.self.value_global.bias', 'bert.encoder.layer.2.attention.self.key_global.weight', 'bert.encoder.layer.8.attention.self.value_global.bias', 'bert.encoder.layer.10.attention.self.value_global.weight', 'bert.encoder.layer.6.attention.self.key_global.bias', 'bert.encoder.layer.10.attention.self.value_global.bias', 'bert.encoder.layer.5.attention.self.key_global.weight', 'bert.encoder.layer.0.attention.self.query_global.bias', 'bert.encoder.layer.1.attention.self.value_global.weight', 'bert.encoder.layer.4.attention.self.value_global.bias', 'bert.encoder.layer.8.attention.self.query_global.weight', 'bert.encoder.layer.3.attention.self.key_global.weight', 'bert.encoder.layer.9.attention.self.query_global.weight', 'bert.encoder.layer.6.attention.self.value_global.bias', 'bert.encoder.layer.1.attention.self.key_global.bias', 'bert.encoder.layer.7.attention.self.key_global.bias', 'bert.encoder.layer.7.attention.self.query_global.bias', 'bert.encoder.layer.5.attention.self.query_global.weight', 'bert.encoder.layer.3.attention.self.value_global.bias', 'bert.encoder.layer.2.attention.self.query_global.bias', 'bert.encoder.layer.3.attention.self.key_global.bias', 'bert.encoder.layer.5.attention.self.value_global.weight', 'cls.predictions.decoder.bias', 'bert.encoder.layer.10.attention.self.query_global.weight', 'bert.encoder.layer.1.attention.self.value_global.bias', 'cls.seq_relationship.weight', 'bert.encoder.layer.1.attention.self.key_global.weight', 'bert.encoder.layer.0.attention.self.value_global.weight', 'bert.encoder.layer.9.attention.self.key_global.bias', 'bert.encoder.layer.9.attention.self.key_global.weight', 'bert.encoder.layer.0.attention.self.value_global.bias', 'cls.predictions.transform.dense.weight', 'cls.predictions.transform.LayerNorm.bias', 'bert.encoder.layer.11.attention.self.key_global.weight', 'bert.encoder.layer.10.attention.self.query_global.bias']\n",
      "- This IS expected if you are initializing BertModel from the checkpoint of a model trained on another task or with another architecture (e.g. initializing a BertForSequenceClassification model from a BertForPreTraining model).\n",
      "- This IS NOT expected if you are initializing BertModel from the checkpoint of a model that you expect to be exactly identical (initializing a BertForSequenceClassification model from a BertForSequenceClassification model).\n"
     ]
    },
    {
     "data": {
      "text/plain": [
       "NeuralNetwork(\n",
       "  (longformer): BertModel(\n",
       "    (embeddings): BertEmbeddings(\n",
       "      (word_embeddings): Embedding(21128, 768, padding_idx=0)\n",
       "      (position_embeddings): Embedding(4096, 768)\n",
       "      (token_type_embeddings): Embedding(2, 768)\n",
       "      (LayerNorm): LayerNorm((768,), eps=1e-12, elementwise_affine=True)\n",
       "      (dropout): Dropout(p=0.1, inplace=False)\n",
       "    )\n",
       "    (encoder): BertEncoder(\n",
       "      (layer): ModuleList(\n",
       "        (0): BertLayer(\n",
       "          (attention): BertAttention(\n",
       "            (self): BertSelfAttention(\n",
       "              (query): Linear(in_features=768, out_features=768, bias=True)\n",
       "              (key): Linear(in_features=768, out_features=768, bias=True)\n",
       "              (value): Linear(in_features=768, out_features=768, bias=True)\n",
       "              (dropout): Dropout(p=0.1, inplace=False)\n",
       "            )\n",
       "            (output): BertSelfOutput(\n",
       "              (dense): Linear(in_features=768, out_features=768, bias=True)\n",
       "              (LayerNorm): LayerNorm((768,), eps=1e-12, elementwise_affine=True)\n",
       "              (dropout): Dropout(p=0.1, inplace=False)\n",
       "            )\n",
       "          )\n",
       "          (intermediate): BertIntermediate(\n",
       "            (dense): Linear(in_features=768, out_features=3072, bias=True)\n",
       "          )\n",
       "          (output): BertOutput(\n",
       "            (dense): Linear(in_features=3072, out_features=768, bias=True)\n",
       "            (LayerNorm): LayerNorm((768,), eps=1e-12, elementwise_affine=True)\n",
       "            (dropout): Dropout(p=0.1, inplace=False)\n",
       "          )\n",
       "        )\n",
       "        (1): BertLayer(\n",
       "          (attention): BertAttention(\n",
       "            (self): BertSelfAttention(\n",
       "              (query): Linear(in_features=768, out_features=768, bias=True)\n",
       "              (key): Linear(in_features=768, out_features=768, bias=True)\n",
       "              (value): Linear(in_features=768, out_features=768, bias=True)\n",
       "              (dropout): Dropout(p=0.1, inplace=False)\n",
       "            )\n",
       "            (output): BertSelfOutput(\n",
       "              (dense): Linear(in_features=768, out_features=768, bias=True)\n",
       "              (LayerNorm): LayerNorm((768,), eps=1e-12, elementwise_affine=True)\n",
       "              (dropout): Dropout(p=0.1, inplace=False)\n",
       "            )\n",
       "          )\n",
       "          (intermediate): BertIntermediate(\n",
       "            (dense): Linear(in_features=768, out_features=3072, bias=True)\n",
       "          )\n",
       "          (output): BertOutput(\n",
       "            (dense): Linear(in_features=3072, out_features=768, bias=True)\n",
       "            (LayerNorm): LayerNorm((768,), eps=1e-12, elementwise_affine=True)\n",
       "            (dropout): Dropout(p=0.1, inplace=False)\n",
       "          )\n",
       "        )\n",
       "        (2): BertLayer(\n",
       "          (attention): BertAttention(\n",
       "            (self): BertSelfAttention(\n",
       "              (query): Linear(in_features=768, out_features=768, bias=True)\n",
       "              (key): Linear(in_features=768, out_features=768, bias=True)\n",
       "              (value): Linear(in_features=768, out_features=768, bias=True)\n",
       "              (dropout): Dropout(p=0.1, inplace=False)\n",
       "            )\n",
       "            (output): BertSelfOutput(\n",
       "              (dense): Linear(in_features=768, out_features=768, bias=True)\n",
       "              (LayerNorm): LayerNorm((768,), eps=1e-12, elementwise_affine=True)\n",
       "              (dropout): Dropout(p=0.1, inplace=False)\n",
       "            )\n",
       "          )\n",
       "          (intermediate): BertIntermediate(\n",
       "            (dense): Linear(in_features=768, out_features=3072, bias=True)\n",
       "          )\n",
       "          (output): BertOutput(\n",
       "            (dense): Linear(in_features=3072, out_features=768, bias=True)\n",
       "            (LayerNorm): LayerNorm((768,), eps=1e-12, elementwise_affine=True)\n",
       "            (dropout): Dropout(p=0.1, inplace=False)\n",
       "          )\n",
       "        )\n",
       "        (3): BertLayer(\n",
       "          (attention): BertAttention(\n",
       "            (self): BertSelfAttention(\n",
       "              (query): Linear(in_features=768, out_features=768, bias=True)\n",
       "              (key): Linear(in_features=768, out_features=768, bias=True)\n",
       "              (value): Linear(in_features=768, out_features=768, bias=True)\n",
       "              (dropout): Dropout(p=0.1, inplace=False)\n",
       "            )\n",
       "            (output): BertSelfOutput(\n",
       "              (dense): Linear(in_features=768, out_features=768, bias=True)\n",
       "              (LayerNorm): LayerNorm((768,), eps=1e-12, elementwise_affine=True)\n",
       "              (dropout): Dropout(p=0.1, inplace=False)\n",
       "            )\n",
       "          )\n",
       "          (intermediate): BertIntermediate(\n",
       "            (dense): Linear(in_features=768, out_features=3072, bias=True)\n",
       "          )\n",
       "          (output): BertOutput(\n",
       "            (dense): Linear(in_features=3072, out_features=768, bias=True)\n",
       "            (LayerNorm): LayerNorm((768,), eps=1e-12, elementwise_affine=True)\n",
       "            (dropout): Dropout(p=0.1, inplace=False)\n",
       "          )\n",
       "        )\n",
       "        (4): BertLayer(\n",
       "          (attention): BertAttention(\n",
       "            (self): BertSelfAttention(\n",
       "              (query): Linear(in_features=768, out_features=768, bias=True)\n",
       "              (key): Linear(in_features=768, out_features=768, bias=True)\n",
       "              (value): Linear(in_features=768, out_features=768, bias=True)\n",
       "              (dropout): Dropout(p=0.1, inplace=False)\n",
       "            )\n",
       "            (output): BertSelfOutput(\n",
       "              (dense): Linear(in_features=768, out_features=768, bias=True)\n",
       "              (LayerNorm): LayerNorm((768,), eps=1e-12, elementwise_affine=True)\n",
       "              (dropout): Dropout(p=0.1, inplace=False)\n",
       "            )\n",
       "          )\n",
       "          (intermediate): BertIntermediate(\n",
       "            (dense): Linear(in_features=768, out_features=3072, bias=True)\n",
       "          )\n",
       "          (output): BertOutput(\n",
       "            (dense): Linear(in_features=3072, out_features=768, bias=True)\n",
       "            (LayerNorm): LayerNorm((768,), eps=1e-12, elementwise_affine=True)\n",
       "            (dropout): Dropout(p=0.1, inplace=False)\n",
       "          )\n",
       "        )\n",
       "        (5): BertLayer(\n",
       "          (attention): BertAttention(\n",
       "            (self): BertSelfAttention(\n",
       "              (query): Linear(in_features=768, out_features=768, bias=True)\n",
       "              (key): Linear(in_features=768, out_features=768, bias=True)\n",
       "              (value): Linear(in_features=768, out_features=768, bias=True)\n",
       "              (dropout): Dropout(p=0.1, inplace=False)\n",
       "            )\n",
       "            (output): BertSelfOutput(\n",
       "              (dense): Linear(in_features=768, out_features=768, bias=True)\n",
       "              (LayerNorm): LayerNorm((768,), eps=1e-12, elementwise_affine=True)\n",
       "              (dropout): Dropout(p=0.1, inplace=False)\n",
       "            )\n",
       "          )\n",
       "          (intermediate): BertIntermediate(\n",
       "            (dense): Linear(in_features=768, out_features=3072, bias=True)\n",
       "          )\n",
       "          (output): BertOutput(\n",
       "            (dense): Linear(in_features=3072, out_features=768, bias=True)\n",
       "            (LayerNorm): LayerNorm((768,), eps=1e-12, elementwise_affine=True)\n",
       "            (dropout): Dropout(p=0.1, inplace=False)\n",
       "          )\n",
       "        )\n",
       "        (6): BertLayer(\n",
       "          (attention): BertAttention(\n",
       "            (self): BertSelfAttention(\n",
       "              (query): Linear(in_features=768, out_features=768, bias=True)\n",
       "              (key): Linear(in_features=768, out_features=768, bias=True)\n",
       "              (value): Linear(in_features=768, out_features=768, bias=True)\n",
       "              (dropout): Dropout(p=0.1, inplace=False)\n",
       "            )\n",
       "            (output): BertSelfOutput(\n",
       "              (dense): Linear(in_features=768, out_features=768, bias=True)\n",
       "              (LayerNorm): LayerNorm((768,), eps=1e-12, elementwise_affine=True)\n",
       "              (dropout): Dropout(p=0.1, inplace=False)\n",
       "            )\n",
       "          )\n",
       "          (intermediate): BertIntermediate(\n",
       "            (dense): Linear(in_features=768, out_features=3072, bias=True)\n",
       "          )\n",
       "          (output): BertOutput(\n",
       "            (dense): Linear(in_features=3072, out_features=768, bias=True)\n",
       "            (LayerNorm): LayerNorm((768,), eps=1e-12, elementwise_affine=True)\n",
       "            (dropout): Dropout(p=0.1, inplace=False)\n",
       "          )\n",
       "        )\n",
       "        (7): BertLayer(\n",
       "          (attention): BertAttention(\n",
       "            (self): BertSelfAttention(\n",
       "              (query): Linear(in_features=768, out_features=768, bias=True)\n",
       "              (key): Linear(in_features=768, out_features=768, bias=True)\n",
       "              (value): Linear(in_features=768, out_features=768, bias=True)\n",
       "              (dropout): Dropout(p=0.1, inplace=False)\n",
       "            )\n",
       "            (output): BertSelfOutput(\n",
       "              (dense): Linear(in_features=768, out_features=768, bias=True)\n",
       "              (LayerNorm): LayerNorm((768,), eps=1e-12, elementwise_affine=True)\n",
       "              (dropout): Dropout(p=0.1, inplace=False)\n",
       "            )\n",
       "          )\n",
       "          (intermediate): BertIntermediate(\n",
       "            (dense): Linear(in_features=768, out_features=3072, bias=True)\n",
       "          )\n",
       "          (output): BertOutput(\n",
       "            (dense): Linear(in_features=3072, out_features=768, bias=True)\n",
       "            (LayerNorm): LayerNorm((768,), eps=1e-12, elementwise_affine=True)\n",
       "            (dropout): Dropout(p=0.1, inplace=False)\n",
       "          )\n",
       "        )\n",
       "        (8): BertLayer(\n",
       "          (attention): BertAttention(\n",
       "            (self): BertSelfAttention(\n",
       "              (query): Linear(in_features=768, out_features=768, bias=True)\n",
       "              (key): Linear(in_features=768, out_features=768, bias=True)\n",
       "              (value): Linear(in_features=768, out_features=768, bias=True)\n",
       "              (dropout): Dropout(p=0.1, inplace=False)\n",
       "            )\n",
       "            (output): BertSelfOutput(\n",
       "              (dense): Linear(in_features=768, out_features=768, bias=True)\n",
       "              (LayerNorm): LayerNorm((768,), eps=1e-12, elementwise_affine=True)\n",
       "              (dropout): Dropout(p=0.1, inplace=False)\n",
       "            )\n",
       "          )\n",
       "          (intermediate): BertIntermediate(\n",
       "            (dense): Linear(in_features=768, out_features=3072, bias=True)\n",
       "          )\n",
       "          (output): BertOutput(\n",
       "            (dense): Linear(in_features=3072, out_features=768, bias=True)\n",
       "            (LayerNorm): LayerNorm((768,), eps=1e-12, elementwise_affine=True)\n",
       "            (dropout): Dropout(p=0.1, inplace=False)\n",
       "          )\n",
       "        )\n",
       "        (9): BertLayer(\n",
       "          (attention): BertAttention(\n",
       "            (self): BertSelfAttention(\n",
       "              (query): Linear(in_features=768, out_features=768, bias=True)\n",
       "              (key): Linear(in_features=768, out_features=768, bias=True)\n",
       "              (value): Linear(in_features=768, out_features=768, bias=True)\n",
       "              (dropout): Dropout(p=0.1, inplace=False)\n",
       "            )\n",
       "            (output): BertSelfOutput(\n",
       "              (dense): Linear(in_features=768, out_features=768, bias=True)\n",
       "              (LayerNorm): LayerNorm((768,), eps=1e-12, elementwise_affine=True)\n",
       "              (dropout): Dropout(p=0.1, inplace=False)\n",
       "            )\n",
       "          )\n",
       "          (intermediate): BertIntermediate(\n",
       "            (dense): Linear(in_features=768, out_features=3072, bias=True)\n",
       "          )\n",
       "          (output): BertOutput(\n",
       "            (dense): Linear(in_features=3072, out_features=768, bias=True)\n",
       "            (LayerNorm): LayerNorm((768,), eps=1e-12, elementwise_affine=True)\n",
       "            (dropout): Dropout(p=0.1, inplace=False)\n",
       "          )\n",
       "        )\n",
       "        (10): BertLayer(\n",
       "          (attention): BertAttention(\n",
       "            (self): BertSelfAttention(\n",
       "              (query): Linear(in_features=768, out_features=768, bias=True)\n",
       "              (key): Linear(in_features=768, out_features=768, bias=True)\n",
       "              (value): Linear(in_features=768, out_features=768, bias=True)\n",
       "              (dropout): Dropout(p=0.1, inplace=False)\n",
       "            )\n",
       "            (output): BertSelfOutput(\n",
       "              (dense): Linear(in_features=768, out_features=768, bias=True)\n",
       "              (LayerNorm): LayerNorm((768,), eps=1e-12, elementwise_affine=True)\n",
       "              (dropout): Dropout(p=0.1, inplace=False)\n",
       "            )\n",
       "          )\n",
       "          (intermediate): BertIntermediate(\n",
       "            (dense): Linear(in_features=768, out_features=3072, bias=True)\n",
       "          )\n",
       "          (output): BertOutput(\n",
       "            (dense): Linear(in_features=3072, out_features=768, bias=True)\n",
       "            (LayerNorm): LayerNorm((768,), eps=1e-12, elementwise_affine=True)\n",
       "            (dropout): Dropout(p=0.1, inplace=False)\n",
       "          )\n",
       "        )\n",
       "        (11): BertLayer(\n",
       "          (attention): BertAttention(\n",
       "            (self): BertSelfAttention(\n",
       "              (query): Linear(in_features=768, out_features=768, bias=True)\n",
       "              (key): Linear(in_features=768, out_features=768, bias=True)\n",
       "              (value): Linear(in_features=768, out_features=768, bias=True)\n",
       "              (dropout): Dropout(p=0.1, inplace=False)\n",
       "            )\n",
       "            (output): BertSelfOutput(\n",
       "              (dense): Linear(in_features=768, out_features=768, bias=True)\n",
       "              (LayerNorm): LayerNorm((768,), eps=1e-12, elementwise_affine=True)\n",
       "              (dropout): Dropout(p=0.1, inplace=False)\n",
       "            )\n",
       "          )\n",
       "          (intermediate): BertIntermediate(\n",
       "            (dense): Linear(in_features=768, out_features=3072, bias=True)\n",
       "          )\n",
       "          (output): BertOutput(\n",
       "            (dense): Linear(in_features=3072, out_features=768, bias=True)\n",
       "            (LayerNorm): LayerNorm((768,), eps=1e-12, elementwise_affine=True)\n",
       "            (dropout): Dropout(p=0.1, inplace=False)\n",
       "          )\n",
       "        )\n",
       "      )\n",
       "    )\n",
       "    (pooler): BertPooler(\n",
       "      (dense): Linear(in_features=768, out_features=768, bias=True)\n",
       "      (activation): Tanh()\n",
       "    )\n",
       "  )\n",
       "  (linear): Linear(in_features=768, out_features=2, bias=True)\n",
       ")"
      ]
     },
     "execution_count": 8,
     "metadata": {},
     "output_type": "execute_result"
    }
   ],
   "source": [
    "model = NeuralNetwork().to(device)\n",
    "model.load_state_dict(torch.load('/home/chenli/pre_model/experiment_model/Longformer/epoch_3_valid_acc_97.1_model_weights.bin'))\n",
    "model.eval()"
   ]
  },
  {
   "cell_type": "markdown",
   "id": "52afdf9b",
   "metadata": {},
   "source": [
    "3.指标计算"
   ]
  },
  {
   "cell_type": "code",
   "execution_count": 15,
   "id": "d591c9a6",
   "metadata": {},
   "outputs": [],
   "source": [
    "from sklearn.metrics import confusion_matrix\n",
    "import matplotlib.pyplot as plt\n",
    "import seaborn as sns\n",
    "from sklearn.metrics import accuracy_score\n",
    "from sklearn.metrics import precision_score\n",
    "from sklearn.metrics import recall_score\n",
    "from sklearn.metrics import f1_score\n",
    "import numpy as np\n",
    "\n",
    "def test_loop(dataloader, model, mode='Test'):\n",
    "    assert mode in ['Valid', 'Test']\n",
    "    size = len(dataloader.dataset)\n",
    "    correct = 0\n",
    "\n",
    "    # 存储真实值和预测值\n",
    "    y_true = []\n",
    "    y_pred = []\n",
    "    \n",
    "    model.eval()\n",
    "    with torch.no_grad():\n",
    "        for batch,data in enumerate(dataloader,start=1):\n",
    "            labels = data.labels.to(device)\n",
    "            input_ids = data.input_ids.to(device)\n",
    "            token_type_ids = data.token_type_ids.to(device)\n",
    "            attention_mask = data.attention_mask.to(device)\n",
    "            pred = model(input_ids,token_type_ids,attention_mask)            \n",
    "            # 添加到列表里\n",
    "            y_true.append(labels.tolist())\n",
    "            y_pred.append(pred.argmax(1).tolist())\n",
    "            correct += (pred.argmax(1) == labels).type(torch.float).sum().item()\n",
    "\n",
    "    correct /= size\n",
    "    print(f\"{mode} Accuracy: {(100*correct):>0.1f}%\\n\")\n",
    "    \n",
    "    y_true = [i for k in y_true for i in k]\n",
    "    y_pred = [i for k in y_pred for i in k]\n",
    "    # 混淆矩阵\n",
    "    my_confusion_matrix = confusion_matrix(y_true,y_pred,labels=[0,1])\n",
    "    # 准确率\n",
    "    my_accuracy_score = accuracy_score(y_true,y_pred)\n",
    "    # 精准率\n",
    "    precision_score_micro = precision_score(y_true,y_pred,average='micro')# 推荐使用这个\n",
    "    precision_score_macro = precision_score(y_true,y_pred,average='macro')\n",
    "    precision_score_weighted = precision_score(y_true,y_pred,average='weighted')\n",
    "    precision_score_None = precision_score(y_true,y_pred,average=None)\n",
    "    precision_score_dict = {\n",
    "        \"precision_score_micro\":precision_score_micro,\n",
    "        \"precision_score_macro\":precision_score_macro,\n",
    "        \"precision_score_weighted\":precision_score_weighted,\n",
    "        \"precision_score_None\":precision_score_None\n",
    "    }\n",
    "    # 召回率\n",
    "    recall_score_micro = recall_score(y_true,y_pred,average='micro')\n",
    "    recall_score_macro = recall_score(y_true,y_pred,average='macro')\n",
    "    recall_score_weighted = recall_score(y_true,y_pred,average='weighted')\n",
    "    recall_score_None = recall_score(y_true,y_pred,average=None)\n",
    "    recall_score_dict = {\n",
    "        \"recall_score_micro\":recall_score_micro,\n",
    "        \"recall_score_macro\":recall_score_macro,\n",
    "        \"recall_score_weighted\":recall_score_weighted,\n",
    "        \"recall_score_None\":recall_score_None\n",
    "    }\n",
    "    # F1 score\n",
    "    f1_score_micro = f1_score(y_true,y_pred,average='micro')\n",
    "    f1_score_macro = f1_score(y_true,y_pred,average='macro')\n",
    "    f1_score_weighted = f1_score(y_true,y_pred,average='weighted')\n",
    "    f1_score_None = f1_score(y_true,y_pred,average=None)\n",
    "    f1_score_dict = {\n",
    "        \"f1_score_micro\":f1_score_micro,\n",
    "        \"f1_score_macro\":f1_score_macro,\n",
    "        \"f1_score_weighted\":f1_score_weighted,\n",
    "        \"f1_score_None\":f1_score_None\n",
    "    }\n",
    "    # 综合指标\n",
    "    general_index = {\n",
    "        \"accuracy_score\":my_accuracy_score,\n",
    "        \"precision_score\":precision_score_dict,\n",
    "        \"recall_score\":recall_score_dict,\n",
    "        \"f1_score\":f1_score_dict\n",
    "    }\n",
    "    \n",
    "    \n",
    "    return correct,my_confusion_matrix,general_index"
   ]
  },
  {
   "cell_type": "markdown",
   "id": "1d69762f",
   "metadata": {},
   "source": [
    "4.验证集指标"
   ]
  },
  {
   "cell_type": "code",
   "execution_count": 12,
   "id": "f958c77a",
   "metadata": {},
   "outputs": [
    {
     "name": "stdout",
     "output_type": "stream",
     "text": [
      "Valid Accuracy: 97.1%\n",
      "\n",
      "valid_acc:0.9709302325581395\n",
      "confusion_matrix:[[147   7]\n",
      " [  3 187]]\n",
      "general_index:{'accuracy_score': 0.9709302325581395, 'precision_score': {'precision_score_micro': 0.9709302325581395, 'precision_score_macro': 0.971958762886598, 'precision_score_weighted': 0.9711172380724047, 'precision_score_None': array([0.98      , 0.96391753])}, 'recall_score': {'recall_score_micro': 0.9709302325581395, 'recall_score_macro': 0.969377990430622, 'recall_score_weighted': 0.9709302325581395, 'recall_score_None': array([0.95454545, 0.98421053])}, 'f1_score': {'f1_score_micro': 0.9709302325581395, 'f1_score_macro': 0.9705317982456141, 'f1_score_weighted': 0.9708903891268869, 'f1_score_None': array([0.96710526, 0.97395833])}}\n",
      "Done!\n"
     ]
    }
   ],
   "source": [
    "valid_acc,confusion_matrix,general_index = test_loop(valid_dataloader, model, mode='Valid')\n",
    "print(f'valid_acc:{valid_acc}')\n",
    "print(f'confusion_matrix:{confusion_matrix}')\n",
    "print(f'general_index:{general_index}')\n",
    "print(\"Done!\")"
   ]
  },
  {
   "cell_type": "code",
   "execution_count": 13,
   "id": "70b16755",
   "metadata": {},
   "outputs": [
    {
     "data": {
      "image/png": "[encoded data removed]",
      "text/plain": [
       "<Figure size 432x288 with 2 Axes>"
      ]
     },
     "metadata": {
      "needs_background": "light"
     },
     "output_type": "display_data"
    }
   ],
   "source": [
    "sns.heatmap(confusion_matrix,annot=True,annot_kws={'size':20,'weight':'bold','color':'red'})\n",
    "plt.title('confusion matrix',fontsize=20)\n",
    "plt.xlabel('Predict',fontsize=14)\n",
    "plt.ylabel('Actual',fontsize=14)\n",
    "plt.show()"
   ]
  },
  {
   "cell_type": "markdown",
   "id": "43268300",
   "metadata": {},
   "source": [
    "5.测试集指标"
   ]
  },
  {
   "cell_type": "code",
   "execution_count": 16,
   "id": "3fdc4ce7",
   "metadata": {},
   "outputs": [
    {
     "name": "stdout",
     "output_type": "stream",
     "text": [
      "Test Accuracy: 96.2%\n",
      "\n",
      "valid_acc:0.9623188405797102\n",
      "confusion_matrix:[[143  10]\n",
      " [  2 189]]\n",
      "general_index:{'accuracy_score': 0.9651162790697675, 'precision_score': {'precision_score_micro': 0.9651162790697675, 'precision_score_macro': 0.9679778201351585, 'precision_score_weighted': 0.9659641430891427, 'precision_score_None': array([0.9862069 , 0.94974874])}, 'recall_score': {'recall_score_micro': 0.9651162790697675, 'recall_score_macro': 0.9620846593436676, 'recall_score_weighted': 0.9651162790697675, 'recall_score_None': array([0.93464052, 0.9895288 ])}, 'f1_score': {'f1_score_micro': 0.9651162790697675, 'f1_score_macro': 0.9644811564274651, 'f1_score_weighted': 0.9650058229580626, 'f1_score_None': array([0.95973154, 0.96923077])}}\n",
      "Done!\n"
     ]
    }
   ],
   "source": [
    "valid_acc,confusion_matrix,general_index = test_loop(test_dataloader, model, mode='Test')\n",
    "print(f'valid_acc:{valid_acc}')\n",
    "print(f'confusion_matrix:{confusion_matrix}')\n",
    "print(f'general_index:{general_index}')\n",
    "print(\"Done!\")"
   ]
  },
  {
   "cell_type": "code",
   "execution_count": 17,
   "id": "c4420146",
   "metadata": {},
   "outputs": [
    {
     "data": {
      "image/png": "[encoded data removed]",
      "text/plain": [
       "<Figure size 432x288 with 2 Axes>"
      ]
     },
     "metadata": {
      "needs_background": "light"
     },
     "output_type": "display_data"
    }
   ],
   "source": [
    "sns.heatmap(confusion_matrix,annot=True,annot_kws={'size':20,'weight':'bold','color':'red'})\n",
    "plt.title('confusion matrix',fontsize=20)\n",
    "plt.xlabel('Predict',fontsize=14)\n",
    "plt.ylabel('Actual',fontsize=14)\n",
    "plt.show()"
   ]
  },
  {
   "cell_type": "markdown",
   "id": "46708ca6",
   "metadata": {},
   "source": [
    "### Longformer + 激活函数"
   ]
  },
  {
   "cell_type": "markdown",
   "id": "4ab0c8dd",
   "metadata": {},
   "source": [
    "1.模型"
   ]
  },
  {
   "cell_type": "code",
   "execution_count": 7,
   "id": "99903900",
   "metadata": {},
   "outputs": [
    {
     "name": "stdout",
     "output_type": "stream",
     "text": [
      "Using cuda device\n"
     ]
    },
    {
     "name": "stderr",
     "output_type": "stream",
     "text": [
      "Some weights of the model checkpoint at schen/longformer-chinese-base-4096 were not used when initializing BertModel: ['bert.encoder.layer.7.attention.self.query_global.weight', 'bert.encoder.layer.11.attention.self.value_global.bias', 'bert.encoder.layer.9.attention.self.value_global.weight', 'bert.encoder.layer.7.attention.self.key_global.bias', 'cls.predictions.transform.LayerNorm.weight', 'cls.seq_relationship.bias', 'bert.encoder.layer.6.attention.self.query_global.weight', 'bert.encoder.layer.0.attention.self.key_global.bias', 'bert.encoder.layer.4.attention.self.key_global.bias', 'bert.encoder.layer.10.attention.self.key_global.weight', 'bert.encoder.layer.9.attention.self.key_global.bias', 'bert.encoder.layer.6.attention.self.query_global.bias', 'cls.predictions.decoder.weight', 'cls.predictions.transform.dense.weight', 'bert.encoder.layer.0.attention.self.query_global.bias', 'bert.encoder.layer.10.attention.self.query_global.weight', 'bert.encoder.layer.3.attention.self.key_global.bias', 'bert.encoder.layer.5.attention.self.value_global.bias', 'bert.encoder.layer.3.attention.self.query_global.weight', 'bert.encoder.layer.2.attention.self.value_global.bias', 'bert.encoder.layer.8.attention.self.value_global.weight', 'bert.encoder.layer.4.attention.self.value_global.bias', 'bert.encoder.layer.1.attention.self.key_global.bias', 'bert.encoder.layer.1.attention.self.value_global.weight', 'bert.encoder.layer.1.attention.self.value_global.bias', 'bert.encoder.layer.5.attention.self.key_global.bias', 'bert.encoder.layer.5.attention.self.query_global.bias', 'bert.encoder.layer.9.attention.self.query_global.bias', 'bert.encoder.layer.0.attention.self.value_global.bias', 'bert.encoder.layer.7.attention.self.key_global.weight', 'cls.predictions.decoder.bias', 'bert.encoder.layer.5.attention.self.query_global.weight', 'bert.encoder.layer.8.attention.self.query_global.bias', 'cls.seq_relationship.weight', 'bert.encoder.layer.7.attention.self.value_global.weight', 'bert.encoder.layer.8.attention.self.value_global.bias', 'bert.encoder.layer.10.attention.self.value_global.weight', 'bert.encoder.layer.3.attention.self.key_global.weight', 'bert.encoder.layer.11.attention.self.key_global.bias', 'bert.encoder.layer.0.attention.self.query_global.weight', 'bert.encoder.layer.7.attention.self.query_global.bias', 'bert.encoder.layer.2.attention.self.key_global.bias', 'bert.encoder.layer.6.attention.self.value_global.bias', 'bert.encoder.layer.3.attention.self.value_global.bias', 'bert.encoder.layer.6.attention.self.key_global.bias', 'bert.encoder.layer.6.attention.self.key_global.weight', 'bert.encoder.layer.6.attention.self.value_global.weight', 'bert.encoder.layer.1.attention.self.query_global.weight', 'bert.encoder.layer.9.attention.self.value_global.bias', 'bert.encoder.layer.1.attention.self.key_global.weight', 'bert.encoder.layer.7.attention.self.value_global.bias', 'bert.encoder.layer.0.attention.self.key_global.weight', 'bert.encoder.layer.1.attention.self.query_global.bias', 'bert.encoder.layer.5.attention.self.key_global.weight', 'bert.encoder.layer.9.attention.self.key_global.weight', 'bert.encoder.layer.4.attention.self.key_global.weight', 'bert.encoder.layer.11.attention.self.query_global.bias', 'cls.predictions.bias', 'bert.encoder.layer.11.attention.self.value_global.weight', 'bert.encoder.layer.2.attention.self.value_global.weight', 'cls.predictions.transform.dense.bias', 'bert.encoder.layer.0.attention.self.value_global.weight', 'bert.encoder.layer.3.attention.self.value_global.weight', 'bert.encoder.layer.8.attention.self.key_global.weight', 'bert.encoder.layer.8.attention.self.query_global.weight', 'bert.encoder.layer.10.attention.self.value_global.bias', 'bert.encoder.layer.4.attention.self.query_global.weight', 'bert.encoder.layer.2.attention.self.query_global.bias', 'bert.encoder.layer.5.attention.self.value_global.weight', 'bert.encoder.layer.10.attention.self.query_global.bias', 'cls.predictions.transform.LayerNorm.bias', 'bert.encoder.layer.2.attention.self.key_global.weight', 'bert.encoder.layer.4.attention.self.value_global.weight', 'bert.encoder.layer.4.attention.self.query_global.bias', 'bert.encoder.layer.8.attention.self.key_global.bias', 'bert.encoder.layer.3.attention.self.query_global.bias', 'bert.encoder.layer.11.attention.self.query_global.weight', 'bert.encoder.layer.2.attention.self.query_global.weight', 'bert.encoder.layer.10.attention.self.key_global.bias', 'bert.encoder.layer.9.attention.self.query_global.weight', 'bert.encoder.layer.11.attention.self.key_global.weight']\n",
      "- This IS expected if you are initializing BertModel from the checkpoint of a model trained on another task or with another architecture (e.g. initializing a BertForSequenceClassification model from a BertForPreTraining model).\n",
      "- This IS NOT expected if you are initializing BertModel from the checkpoint of a model that you expect to be exactly identical (initializing a BertForSequenceClassification model from a BertForSequenceClassification model).\n"
     ]
    },
    {
     "name": "stdout",
     "output_type": "stream",
     "text": [
      "NeuralNetwork(\n",
      "  (longformer): BertModel(\n",
      "    (embeddings): BertEmbeddings(\n",
      "      (word_embeddings): Embedding(21128, 768, padding_idx=0)\n",
      "      (position_embeddings): Embedding(4096, 768)\n",
      "      (token_type_embeddings): Embedding(2, 768)\n",
      "      (LayerNorm): LayerNorm((768,), eps=1e-12, elementwise_affine=True)\n",
      "      (dropout): Dropout(p=0.1, inplace=False)\n",
      "    )\n",
      "    (encoder): BertEncoder(\n",
      "      (layer): ModuleList(\n",
      "        (0): BertLayer(\n",
      "          (attention): BertAttention(\n",
      "            (self): BertSelfAttention(\n",
      "              (query): Linear(in_features=768, out_features=768, bias=True)\n",
      "              (key): Linear(in_features=768, out_features=768, bias=True)\n",
      "              (value): Linear(in_features=768, out_features=768, bias=True)\n",
      "              (dropout): Dropout(p=0.1, inplace=False)\n",
      "            )\n",
      "            (output): BertSelfOutput(\n",
      "              (dense): Linear(in_features=768, out_features=768, bias=True)\n",
      "              (LayerNorm): LayerNorm((768,), eps=1e-12, elementwise_affine=True)\n",
      "              (dropout): Dropout(p=0.1, inplace=False)\n",
      "            )\n",
      "          )\n",
      "          (intermediate): BertIntermediate(\n",
      "            (dense): Linear(in_features=768, out_features=3072, bias=True)\n",
      "          )\n",
      "          (output): BertOutput(\n",
      "            (dense): Linear(in_features=3072, out_features=768, bias=True)\n",
      "            (LayerNorm): LayerNorm((768,), eps=1e-12, elementwise_affine=True)\n",
      "            (dropout): Dropout(p=0.1, inplace=False)\n",
      "          )\n",
      "        )\n",
      "        (1): BertLayer(\n",
      "          (attention): BertAttention(\n",
      "            (self): BertSelfAttention(\n",
      "              (query): Linear(in_features=768, out_features=768, bias=True)\n",
      "              (key): Linear(in_features=768, out_features=768, bias=True)\n",
      "              (value): Linear(in_features=768, out_features=768, bias=True)\n",
      "              (dropout): Dropout(p=0.1, inplace=False)\n",
      "            )\n",
      "            (output): BertSelfOutput(\n",
      "              (dense): Linear(in_features=768, out_features=768, bias=True)\n",
      "              (LayerNorm): LayerNorm((768,), eps=1e-12, elementwise_affine=True)\n",
      "              (dropout): Dropout(p=0.1, inplace=False)\n",
      "            )\n",
      "          )\n",
      "          (intermediate): BertIntermediate(\n",
      "            (dense): Linear(in_features=768, out_features=3072, bias=True)\n",
      "          )\n",
      "          (output): BertOutput(\n",
      "            (dense): Linear(in_features=3072, out_features=768, bias=True)\n",
      "            (LayerNorm): LayerNorm((768,), eps=1e-12, elementwise_affine=True)\n",
      "            (dropout): Dropout(p=0.1, inplace=False)\n",
      "          )\n",
      "        )\n",
      "        (2): BertLayer(\n",
      "          (attention): BertAttention(\n",
      "            (self): BertSelfAttention(\n",
      "              (query): Linear(in_features=768, out_features=768, bias=True)\n",
      "              (key): Linear(in_features=768, out_features=768, bias=True)\n",
      "              (value): Linear(in_features=768, out_features=768, bias=True)\n",
      "              (dropout): Dropout(p=0.1, inplace=False)\n",
      "            )\n",
      "            (output): BertSelfOutput(\n",
      "              (dense): Linear(in_features=768, out_features=768, bias=True)\n",
      "              (LayerNorm): LayerNorm((768,), eps=1e-12, elementwise_affine=True)\n",
      "              (dropout): Dropout(p=0.1, inplace=False)\n",
      "            )\n",
      "          )\n",
      "          (intermediate): BertIntermediate(\n",
      "            (dense): Linear(in_features=768, out_features=3072, bias=True)\n",
      "          )\n",
      "          (output): BertOutput(\n",
      "            (dense): Linear(in_features=3072, out_features=768, bias=True)\n",
      "            (LayerNorm): LayerNorm((768,), eps=1e-12, elementwise_affine=True)\n",
      "            (dropout): Dropout(p=0.1, inplace=False)\n",
      "          )\n",
      "        )\n",
      "        (3): BertLayer(\n",
      "          (attention): BertAttention(\n",
      "            (self): BertSelfAttention(\n",
      "              (query): Linear(in_features=768, out_features=768, bias=True)\n",
      "              (key): Linear(in_features=768, out_features=768, bias=True)\n",
      "              (value): Linear(in_features=768, out_features=768, bias=True)\n",
      "              (dropout): Dropout(p=0.1, inplace=False)\n",
      "            )\n",
      "            (output): BertSelfOutput(\n",
      "              (dense): Linear(in_features=768, out_features=768, bias=True)\n",
      "              (LayerNorm): LayerNorm((768,), eps=1e-12, elementwise_affine=True)\n",
      "              (dropout): Dropout(p=0.1, inplace=False)\n",
      "            )\n",
      "          )\n",
      "          (intermediate): BertIntermediate(\n",
      "            (dense): Linear(in_features=768, out_features=3072, bias=True)\n",
      "          )\n",
      "          (output): BertOutput(\n",
      "            (dense): Linear(in_features=3072, out_features=768, bias=True)\n",
      "            (LayerNorm): LayerNorm((768,), eps=1e-12, elementwise_affine=True)\n",
      "            (dropout): Dropout(p=0.1, inplace=False)\n",
      "          )\n",
      "        )\n",
      "        (4): BertLayer(\n",
      "          (attention): BertAttention(\n",
      "            (self): BertSelfAttention(\n",
      "              (query): Linear(in_features=768, out_features=768, bias=True)\n",
      "              (key): Linear(in_features=768, out_features=768, bias=True)\n",
      "              (value): Linear(in_features=768, out_features=768, bias=True)\n",
      "              (dropout): Dropout(p=0.1, inplace=False)\n",
      "            )\n",
      "            (output): BertSelfOutput(\n",
      "              (dense): Linear(in_features=768, out_features=768, bias=True)\n",
      "              (LayerNorm): LayerNorm((768,), eps=1e-12, elementwise_affine=True)\n",
      "              (dropout): Dropout(p=0.1, inplace=False)\n",
      "            )\n",
      "          )\n",
      "          (intermediate): BertIntermediate(\n",
      "            (dense): Linear(in_features=768, out_features=3072, bias=True)\n",
      "          )\n",
      "          (output): BertOutput(\n",
      "            (dense): Linear(in_features=3072, out_features=768, bias=True)\n",
      "            (LayerNorm): LayerNorm((768,), eps=1e-12, elementwise_affine=True)\n",
      "            (dropout): Dropout(p=0.1, inplace=False)\n",
      "          )\n",
      "        )\n",
      "        (5): BertLayer(\n",
      "          (attention): BertAttention(\n",
      "            (self): BertSelfAttention(\n",
      "              (query): Linear(in_features=768, out_features=768, bias=True)\n",
      "              (key): Linear(in_features=768, out_features=768, bias=True)\n",
      "              (value): Linear(in_features=768, out_features=768, bias=True)\n",
      "              (dropout): Dropout(p=0.1, inplace=False)\n",
      "            )\n",
      "            (output): BertSelfOutput(\n",
      "              (dense): Linear(in_features=768, out_features=768, bias=True)\n",
      "              (LayerNorm): LayerNorm((768,), eps=1e-12, elementwise_affine=True)\n",
      "              (dropout): Dropout(p=0.1, inplace=False)\n",
      "            )\n",
      "          )\n",
      "          (intermediate): BertIntermediate(\n",
      "            (dense): Linear(in_features=768, out_features=3072, bias=True)\n",
      "          )\n",
      "          (output): BertOutput(\n",
      "            (dense): Linear(in_features=3072, out_features=768, bias=True)\n",
      "            (LayerNorm): LayerNorm((768,), eps=1e-12, elementwise_affine=True)\n",
      "            (dropout): Dropout(p=0.1, inplace=False)\n",
      "          )\n",
      "        )\n",
      "        (6): BertLayer(\n",
      "          (attention): BertAttention(\n",
      "            (self): BertSelfAttention(\n",
      "              (query): Linear(in_features=768, out_features=768, bias=True)\n",
      "              (key): Linear(in_features=768, out_features=768, bias=True)\n",
      "              (value): Linear(in_features=768, out_features=768, bias=True)\n",
      "              (dropout): Dropout(p=0.1, inplace=False)\n",
      "            )\n",
      "            (output): BertSelfOutput(\n",
      "              (dense): Linear(in_features=768, out_features=768, bias=True)\n",
      "              (LayerNorm): LayerNorm((768,), eps=1e-12, elementwise_affine=True)\n",
      "              (dropout): Dropout(p=0.1, inplace=False)\n",
      "            )\n",
      "          )\n",
      "          (intermediate): BertIntermediate(\n",
      "            (dense): Linear(in_features=768, out_features=3072, bias=True)\n",
      "          )\n",
      "          (output): BertOutput(\n",
      "            (dense): Linear(in_features=3072, out_features=768, bias=True)\n",
      "            (LayerNorm): LayerNorm((768,), eps=1e-12, elementwise_affine=True)\n",
      "            (dropout): Dropout(p=0.1, inplace=False)\n",
      "          )\n",
      "        )\n",
      "        (7): BertLayer(\n",
      "          (attention): BertAttention(\n",
      "            (self): BertSelfAttention(\n",
      "              (query): Linear(in_features=768, out_features=768, bias=True)\n",
      "              (key): Linear(in_features=768, out_features=768, bias=True)\n",
      "              (value): Linear(in_features=768, out_features=768, bias=True)\n",
      "              (dropout): Dropout(p=0.1, inplace=False)\n",
      "            )\n",
      "            (output): BertSelfOutput(\n",
      "              (dense): Linear(in_features=768, out_features=768, bias=True)\n",
      "              (LayerNorm): LayerNorm((768,), eps=1e-12, elementwise_affine=True)\n",
      "              (dropout): Dropout(p=0.1, inplace=False)\n",
      "            )\n",
      "          )\n",
      "          (intermediate): BertIntermediate(\n",
      "            (dense): Linear(in_features=768, out_features=3072, bias=True)\n",
      "          )\n",
      "          (output): BertOutput(\n",
      "            (dense): Linear(in_features=3072, out_features=768, bias=True)\n",
      "            (LayerNorm): LayerNorm((768,), eps=1e-12, elementwise_affine=True)\n",
      "            (dropout): Dropout(p=0.1, inplace=False)\n",
      "          )\n",
      "        )\n",
      "        (8): BertLayer(\n",
      "          (attention): BertAttention(\n",
      "            (self): BertSelfAttention(\n",
      "              (query): Linear(in_features=768, out_features=768, bias=True)\n",
      "              (key): Linear(in_features=768, out_features=768, bias=True)\n",
      "              (value): Linear(in_features=768, out_features=768, bias=True)\n",
      "              (dropout): Dropout(p=0.1, inplace=False)\n",
      "            )\n",
      "            (output): BertSelfOutput(\n",
      "              (dense): Linear(in_features=768, out_features=768, bias=True)\n",
      "              (LayerNorm): LayerNorm((768,), eps=1e-12, elementwise_affine=True)\n",
      "              (dropout): Dropout(p=0.1, inplace=False)\n",
      "            )\n",
      "          )\n",
      "          (intermediate): BertIntermediate(\n",
      "            (dense): Linear(in_features=768, out_features=3072, bias=True)\n",
      "          )\n",
      "          (output): BertOutput(\n",
      "            (dense): Linear(in_features=3072, out_features=768, bias=True)\n",
      "            (LayerNorm): LayerNorm((768,), eps=1e-12, elementwise_affine=True)\n",
      "            (dropout): Dropout(p=0.1, inplace=False)\n",
      "          )\n",
      "        )\n",
      "        (9): BertLayer(\n",
      "          (attention): BertAttention(\n",
      "            (self): BertSelfAttention(\n",
      "              (query): Linear(in_features=768, out_features=768, bias=True)\n",
      "              (key): Linear(in_features=768, out_features=768, bias=True)\n",
      "              (value): Linear(in_features=768, out_features=768, bias=True)\n",
      "              (dropout): Dropout(p=0.1, inplace=False)\n",
      "            )\n",
      "            (output): BertSelfOutput(\n",
      "              (dense): Linear(in_features=768, out_features=768, bias=True)\n",
      "              (LayerNorm): LayerNorm((768,), eps=1e-12, elementwise_affine=True)\n",
      "              (dropout): Dropout(p=0.1, inplace=False)\n",
      "            )\n",
      "          )\n",
      "          (intermediate): BertIntermediate(\n",
      "            (dense): Linear(in_features=768, out_features=3072, bias=True)\n",
      "          )\n",
      "          (output): BertOutput(\n",
      "            (dense): Linear(in_features=3072, out_features=768, bias=True)\n",
      "            (LayerNorm): LayerNorm((768,), eps=1e-12, elementwise_affine=True)\n",
      "            (dropout): Dropout(p=0.1, inplace=False)\n",
      "          )\n",
      "        )\n",
      "        (10): BertLayer(\n",
      "          (attention): BertAttention(\n",
      "            (self): BertSelfAttention(\n",
      "              (query): Linear(in_features=768, out_features=768, bias=True)\n",
      "              (key): Linear(in_features=768, out_features=768, bias=True)\n",
      "              (value): Linear(in_features=768, out_features=768, bias=True)\n",
      "              (dropout): Dropout(p=0.1, inplace=False)\n",
      "            )\n",
      "            (output): BertSelfOutput(\n",
      "              (dense): Linear(in_features=768, out_features=768, bias=True)\n",
      "              (LayerNorm): LayerNorm((768,), eps=1e-12, elementwise_affine=True)\n",
      "              (dropout): Dropout(p=0.1, inplace=False)\n",
      "            )\n",
      "          )\n",
      "          (intermediate): BertIntermediate(\n",
      "            (dense): Linear(in_features=768, out_features=3072, bias=True)\n",
      "          )\n",
      "          (output): BertOutput(\n",
      "            (dense): Linear(in_features=3072, out_features=768, bias=True)\n",
      "            (LayerNorm): LayerNorm((768,), eps=1e-12, elementwise_affine=True)\n",
      "            (dropout): Dropout(p=0.1, inplace=False)\n",
      "          )\n",
      "        )\n",
      "        (11): BertLayer(\n",
      "          (attention): BertAttention(\n",
      "            (self): BertSelfAttention(\n",
      "              (query): Linear(in_features=768, out_features=768, bias=True)\n",
      "              (key): Linear(in_features=768, out_features=768, bias=True)\n",
      "              (value): Linear(in_features=768, out_features=768, bias=True)\n",
      "              (dropout): Dropout(p=0.1, inplace=False)\n",
      "            )\n",
      "            (output): BertSelfOutput(\n",
      "              (dense): Linear(in_features=768, out_features=768, bias=True)\n",
      "              (LayerNorm): LayerNorm((768,), eps=1e-12, elementwise_affine=True)\n",
      "              (dropout): Dropout(p=0.1, inplace=False)\n",
      "            )\n",
      "          )\n",
      "          (intermediate): BertIntermediate(\n",
      "            (dense): Linear(in_features=768, out_features=3072, bias=True)\n",
      "          )\n",
      "          (output): BertOutput(\n",
      "            (dense): Linear(in_features=3072, out_features=768, bias=True)\n",
      "            (LayerNorm): LayerNorm((768,), eps=1e-12, elementwise_affine=True)\n",
      "            (dropout): Dropout(p=0.1, inplace=False)\n",
      "          )\n",
      "        )\n",
      "      )\n",
      "    )\n",
      "    (pooler): BertPooler(\n",
      "      (dense): Linear(in_features=768, out_features=768, bias=True)\n",
      "      (activation): Tanh()\n",
      "    )\n",
      "  )\n",
      "  (linear): Sequential(\n",
      "    (0): Linear(in_features=768, out_features=512, bias=True)\n",
      "    (1): Dropout(p=0.5, inplace=False)\n",
      "    (2): ReLU()\n",
      "    (3): Linear(in_features=512, out_features=2, bias=True)\n",
      "  )\n",
      ")\n"
     ]
    }
   ],
   "source": [
    "from transformers import AutoTokenizer,AutoModelForSequenceClassification, TrainingArguments, Trainer\n",
    "from torch import nn\n",
    "from transformers import AutoModel\n",
    "\n",
    "device = torch.device('cuda:1' if torch.cuda.is_available() else 'cpu')\n",
    "print(f'Using {device} device')\n",
    "class NeuralNetwork(nn.Module):\n",
    "    def __init__(self):\n",
    "        super(NeuralNetwork, self).__init__()\n",
    "        # 这个可以拿到预训练模型最后一层的结果\n",
    "        self.longformer = AutoModel.from_pretrained(check_point)\n",
    "        self.linear = nn.Sequential(\n",
    "            nn.Linear(768,512),\n",
    "            torch.nn.Dropout(0.5),\n",
    "            torch.nn.ReLU(),\n",
    "            nn.Linear(512,2)\n",
    "        )\n",
    "\n",
    "    def forward(self,input_ids,token_type_ids,attention_mask):\n",
    "        # 取最后一层的第一个，因为我们希望拿到的是整句话的一个语义\n",
    "        output = self.longformer(input_ids,token_type_ids,attention_mask).last_hidden_state[:,0] # 维度 [batch,seq,hidden_size]\n",
    "        # 然后输送给分类的linear层\n",
    "        output = self.linear(output)\n",
    "        return output"
   ]
  },
  {
   "cell_type": "markdown",
   "id": "2b3f613c",
   "metadata": {},
   "source": [
    "2.加载模型参数"
   ]
  },
  {
   "cell_type": "code",
   "execution_count": 8,
   "id": "49df62b8",
   "metadata": {},
   "outputs": [
    {
     "name": "stderr",
     "output_type": "stream",
     "text": [
      "Some weights of the model checkpoint at schen/longformer-chinese-base-4096 were not used when initializing BertModel: ['bert.encoder.layer.7.attention.self.query_global.weight', 'bert.encoder.layer.11.attention.self.value_global.bias', 'bert.encoder.layer.9.attention.self.value_global.weight', 'bert.encoder.layer.7.attention.self.key_global.bias', 'cls.predictions.transform.LayerNorm.weight', 'cls.seq_relationship.bias', 'bert.encoder.layer.6.attention.self.query_global.weight', 'bert.encoder.layer.0.attention.self.key_global.bias', 'bert.encoder.layer.4.attention.self.key_global.bias', 'bert.encoder.layer.10.attention.self.key_global.weight', 'bert.encoder.layer.9.attention.self.key_global.bias', 'bert.encoder.layer.6.attention.self.query_global.bias', 'cls.predictions.decoder.weight', 'cls.predictions.transform.dense.weight', 'bert.encoder.layer.0.attention.self.query_global.bias', 'bert.encoder.layer.10.attention.self.query_global.weight', 'bert.encoder.layer.3.attention.self.key_global.bias', 'bert.encoder.layer.5.attention.self.value_global.bias', 'bert.encoder.layer.3.attention.self.query_global.weight', 'bert.encoder.layer.2.attention.self.value_global.bias', 'bert.encoder.layer.8.attention.self.value_global.weight', 'bert.encoder.layer.4.attention.self.value_global.bias', 'bert.encoder.layer.1.attention.self.key_global.bias', 'bert.encoder.layer.1.attention.self.value_global.weight', 'bert.encoder.layer.1.attention.self.value_global.bias', 'bert.encoder.layer.5.attention.self.key_global.bias', 'bert.encoder.layer.5.attention.self.query_global.bias', 'bert.encoder.layer.9.attention.self.query_global.bias', 'bert.encoder.layer.0.attention.self.value_global.bias', 'bert.encoder.layer.7.attention.self.key_global.weight', 'cls.predictions.decoder.bias', 'bert.encoder.layer.5.attention.self.query_global.weight', 'bert.encoder.layer.8.attention.self.query_global.bias', 'cls.seq_relationship.weight', 'bert.encoder.layer.7.attention.self.value_global.weight', 'bert.encoder.layer.8.attention.self.value_global.bias', 'bert.encoder.layer.10.attention.self.value_global.weight', 'bert.encoder.layer.3.attention.self.key_global.weight', 'bert.encoder.layer.11.attention.self.key_global.bias', 'bert.encoder.layer.0.attention.self.query_global.weight', 'bert.encoder.layer.7.attention.self.query_global.bias', 'bert.encoder.layer.2.attention.self.key_global.bias', 'bert.encoder.layer.6.attention.self.value_global.bias', 'bert.encoder.layer.3.attention.self.value_global.bias', 'bert.encoder.layer.6.attention.self.key_global.bias', 'bert.encoder.layer.6.attention.self.key_global.weight', 'bert.encoder.layer.6.attention.self.value_global.weight', 'bert.encoder.layer.1.attention.self.query_global.weight', 'bert.encoder.layer.9.attention.self.value_global.bias', 'bert.encoder.layer.1.attention.self.key_global.weight', 'bert.encoder.layer.7.attention.self.value_global.bias', 'bert.encoder.layer.0.attention.self.key_global.weight', 'bert.encoder.layer.1.attention.self.query_global.bias', 'bert.encoder.layer.5.attention.self.key_global.weight', 'bert.encoder.layer.9.attention.self.key_global.weight', 'bert.encoder.layer.4.attention.self.key_global.weight', 'bert.encoder.layer.11.attention.self.query_global.bias', 'cls.predictions.bias', 'bert.encoder.layer.11.attention.self.value_global.weight', 'bert.encoder.layer.2.attention.self.value_global.weight', 'cls.predictions.transform.dense.bias', 'bert.encoder.layer.0.attention.self.value_global.weight', 'bert.encoder.layer.3.attention.self.value_global.weight', 'bert.encoder.layer.8.attention.self.key_global.weight', 'bert.encoder.layer.8.attention.self.query_global.weight', 'bert.encoder.layer.10.attention.self.value_global.bias', 'bert.encoder.layer.4.attention.self.query_global.weight', 'bert.encoder.layer.2.attention.self.query_global.bias', 'bert.encoder.layer.5.attention.self.value_global.weight', 'bert.encoder.layer.10.attention.self.query_global.bias', 'cls.predictions.transform.LayerNorm.bias', 'bert.encoder.layer.2.attention.self.key_global.weight', 'bert.encoder.layer.4.attention.self.value_global.weight', 'bert.encoder.layer.4.attention.self.query_global.bias', 'bert.encoder.layer.8.attention.self.key_global.bias', 'bert.encoder.layer.3.attention.self.query_global.bias', 'bert.encoder.layer.11.attention.self.query_global.weight', 'bert.encoder.layer.2.attention.self.query_global.weight', 'bert.encoder.layer.10.attention.self.key_global.bias', 'bert.encoder.layer.9.attention.self.query_global.weight', 'bert.encoder.layer.11.attention.self.key_global.weight']\n",
      "- This IS expected if you are initializing BertModel from the checkpoint of a model trained on another task or with another architecture (e.g. initializing a BertForSequenceClassification model from a BertForPreTraining model).\n",
      "- This IS NOT expected if you are initializing BertModel from the checkpoint of a model that you expect to be exactly identical (initializing a BertForSequenceClassification model from a BertForSequenceClassification model).\n"
     ]
    },
    {
     "data": {
      "text/plain": [
       "NeuralNetwork(\n",
       "  (longformer): BertModel(\n",
       "    (embeddings): BertEmbeddings(\n",
       "      (word_embeddings): Embedding(21128, 768, padding_idx=0)\n",
       "      (position_embeddings): Embedding(4096, 768)\n",
       "      (token_type_embeddings): Embedding(2, 768)\n",
       "      (LayerNorm): LayerNorm((768,), eps=1e-12, elementwise_affine=True)\n",
       "      (dropout): Dropout(p=0.1, inplace=False)\n",
       "    )\n",
       "    (encoder): BertEncoder(\n",
       "      (layer): ModuleList(\n",
       "        (0): BertLayer(\n",
       "          (attention): BertAttention(\n",
       "            (self): BertSelfAttention(\n",
       "              (query): Linear(in_features=768, out_features=768, bias=True)\n",
       "              (key): Linear(in_features=768, out_features=768, bias=True)\n",
       "              (value): Linear(in_features=768, out_features=768, bias=True)\n",
       "              (dropout): Dropout(p=0.1, inplace=False)\n",
       "            )\n",
       "            (output): BertSelfOutput(\n",
       "              (dense): Linear(in_features=768, out_features=768, bias=True)\n",
       "              (LayerNorm): LayerNorm((768,), eps=1e-12, elementwise_affine=True)\n",
       "              (dropout): Dropout(p=0.1, inplace=False)\n",
       "            )\n",
       "          )\n",
       "          (intermediate): BertIntermediate(\n",
       "            (dense): Linear(in_features=768, out_features=3072, bias=True)\n",
       "          )\n",
       "          (output): BertOutput(\n",
       "            (dense): Linear(in_features=3072, out_features=768, bias=True)\n",
       "            (LayerNorm): LayerNorm((768,), eps=1e-12, elementwise_affine=True)\n",
       "            (dropout): Dropout(p=0.1, inplace=False)\n",
       "          )\n",
       "        )\n",
       "        (1): BertLayer(\n",
       "          (attention): BertAttention(\n",
       "            (self): BertSelfAttention(\n",
       "              (query): Linear(in_features=768, out_features=768, bias=True)\n",
       "              (key): Linear(in_features=768, out_features=768, bias=True)\n",
       "              (value): Linear(in_features=768, out_features=768, bias=True)\n",
       "              (dropout): Dropout(p=0.1, inplace=False)\n",
       "            )\n",
       "            (output): BertSelfOutput(\n",
       "              (dense): Linear(in_features=768, out_features=768, bias=True)\n",
       "              (LayerNorm): LayerNorm((768,), eps=1e-12, elementwise_affine=True)\n",
       "              (dropout): Dropout(p=0.1, inplace=False)\n",
       "            )\n",
       "          )\n",
       "          (intermediate): BertIntermediate(\n",
       "            (dense): Linear(in_features=768, out_features=3072, bias=True)\n",
       "          )\n",
       "          (output): BertOutput(\n",
       "            (dense): Linear(in_features=3072, out_features=768, bias=True)\n",
       "            (LayerNorm): LayerNorm((768,), eps=1e-12, elementwise_affine=True)\n",
       "            (dropout): Dropout(p=0.1, inplace=False)\n",
       "          )\n",
       "        )\n",
       "        (2): BertLayer(\n",
       "          (attention): BertAttention(\n",
       "            (self): BertSelfAttention(\n",
       "              (query): Linear(in_features=768, out_features=768, bias=True)\n",
       "              (key): Linear(in_features=768, out_features=768, bias=True)\n",
       "              (value): Linear(in_features=768, out_features=768, bias=True)\n",
       "              (dropout): Dropout(p=0.1, inplace=False)\n",
       "            )\n",
       "            (output): BertSelfOutput(\n",
       "              (dense): Linear(in_features=768, out_features=768, bias=True)\n",
       "              (LayerNorm): LayerNorm((768,), eps=1e-12, elementwise_affine=True)\n",
       "              (dropout): Dropout(p=0.1, inplace=False)\n",
       "            )\n",
       "          )\n",
       "          (intermediate): BertIntermediate(\n",
       "            (dense): Linear(in_features=768, out_features=3072, bias=True)\n",
       "          )\n",
       "          (output): BertOutput(\n",
       "            (dense): Linear(in_features=3072, out_features=768, bias=True)\n",
       "            (LayerNorm): LayerNorm((768,), eps=1e-12, elementwise_affine=True)\n",
       "            (dropout): Dropout(p=0.1, inplace=False)\n",
       "          )\n",
       "        )\n",
       "        (3): BertLayer(\n",
       "          (attention): BertAttention(\n",
       "            (self): BertSelfAttention(\n",
       "              (query): Linear(in_features=768, out_features=768, bias=True)\n",
       "              (key): Linear(in_features=768, out_features=768, bias=True)\n",
       "              (value): Linear(in_features=768, out_features=768, bias=True)\n",
       "              (dropout): Dropout(p=0.1, inplace=False)\n",
       "            )\n",
       "            (output): BertSelfOutput(\n",
       "              (dense): Linear(in_features=768, out_features=768, bias=True)\n",
       "              (LayerNorm): LayerNorm((768,), eps=1e-12, elementwise_affine=True)\n",
       "              (dropout): Dropout(p=0.1, inplace=False)\n",
       "            )\n",
       "          )\n",
       "          (intermediate): BertIntermediate(\n",
       "            (dense): Linear(in_features=768, out_features=3072, bias=True)\n",
       "          )\n",
       "          (output): BertOutput(\n",
       "            (dense): Linear(in_features=3072, out_features=768, bias=True)\n",
       "            (LayerNorm): LayerNorm((768,), eps=1e-12, elementwise_affine=True)\n",
       "            (dropout): Dropout(p=0.1, inplace=False)\n",
       "          )\n",
       "        )\n",
       "        (4): BertLayer(\n",
       "          (attention): BertAttention(\n",
       "            (self): BertSelfAttention(\n",
       "              (query): Linear(in_features=768, out_features=768, bias=True)\n",
       "              (key): Linear(in_features=768, out_features=768, bias=True)\n",
       "              (value): Linear(in_features=768, out_features=768, bias=True)\n",
       "              (dropout): Dropout(p=0.1, inplace=False)\n",
       "            )\n",
       "            (output): BertSelfOutput(\n",
       "              (dense): Linear(in_features=768, out_features=768, bias=True)\n",
       "              (LayerNorm): LayerNorm((768,), eps=1e-12, elementwise_affine=True)\n",
       "              (dropout): Dropout(p=0.1, inplace=False)\n",
       "            )\n",
       "          )\n",
       "          (intermediate): BertIntermediate(\n",
       "            (dense): Linear(in_features=768, out_features=3072, bias=True)\n",
       "          )\n",
       "          (output): BertOutput(\n",
       "            (dense): Linear(in_features=3072, out_features=768, bias=True)\n",
       "            (LayerNorm): LayerNorm((768,), eps=1e-12, elementwise_affine=True)\n",
       "            (dropout): Dropout(p=0.1, inplace=False)\n",
       "          )\n",
       "        )\n",
       "        (5): BertLayer(\n",
       "          (attention): BertAttention(\n",
       "            (self): BertSelfAttention(\n",
       "              (query): Linear(in_features=768, out_features=768, bias=True)\n",
       "              (key): Linear(in_features=768, out_features=768, bias=True)\n",
       "              (value): Linear(in_features=768, out_features=768, bias=True)\n",
       "              (dropout): Dropout(p=0.1, inplace=False)\n",
       "            )\n",
       "            (output): BertSelfOutput(\n",
       "              (dense): Linear(in_features=768, out_features=768, bias=True)\n",
       "              (LayerNorm): LayerNorm((768,), eps=1e-12, elementwise_affine=True)\n",
       "              (dropout): Dropout(p=0.1, inplace=False)\n",
       "            )\n",
       "          )\n",
       "          (intermediate): BertIntermediate(\n",
       "            (dense): Linear(in_features=768, out_features=3072, bias=True)\n",
       "          )\n",
       "          (output): BertOutput(\n",
       "            (dense): Linear(in_features=3072, out_features=768, bias=True)\n",
       "            (LayerNorm): LayerNorm((768,), eps=1e-12, elementwise_affine=True)\n",
       "            (dropout): Dropout(p=0.1, inplace=False)\n",
       "          )\n",
       "        )\n",
       "        (6): BertLayer(\n",
       "          (attention): BertAttention(\n",
       "            (self): BertSelfAttention(\n",
       "              (query): Linear(in_features=768, out_features=768, bias=True)\n",
       "              (key): Linear(in_features=768, out_features=768, bias=True)\n",
       "              (value): Linear(in_features=768, out_features=768, bias=True)\n",
       "              (dropout): Dropout(p=0.1, inplace=False)\n",
       "            )\n",
       "            (output): BertSelfOutput(\n",
       "              (dense): Linear(in_features=768, out_features=768, bias=True)\n",
       "              (LayerNorm): LayerNorm((768,), eps=1e-12, elementwise_affine=True)\n",
       "              (dropout): Dropout(p=0.1, inplace=False)\n",
       "            )\n",
       "          )\n",
       "          (intermediate): BertIntermediate(\n",
       "            (dense): Linear(in_features=768, out_features=3072, bias=True)\n",
       "          )\n",
       "          (output): BertOutput(\n",
       "            (dense): Linear(in_features=3072, out_features=768, bias=True)\n",
       "            (LayerNorm): LayerNorm((768,), eps=1e-12, elementwise_affine=True)\n",
       "            (dropout): Dropout(p=0.1, inplace=False)\n",
       "          )\n",
       "        )\n",
       "        (7): BertLayer(\n",
       "          (attention): BertAttention(\n",
       "            (self): BertSelfAttention(\n",
       "              (query): Linear(in_features=768, out_features=768, bias=True)\n",
       "              (key): Linear(in_features=768, out_features=768, bias=True)\n",
       "              (value): Linear(in_features=768, out_features=768, bias=True)\n",
       "              (dropout): Dropout(p=0.1, inplace=False)\n",
       "            )\n",
       "            (output): BertSelfOutput(\n",
       "              (dense): Linear(in_features=768, out_features=768, bias=True)\n",
       "              (LayerNorm): LayerNorm((768,), eps=1e-12, elementwise_affine=True)\n",
       "              (dropout): Dropout(p=0.1, inplace=False)\n",
       "            )\n",
       "          )\n",
       "          (intermediate): BertIntermediate(\n",
       "            (dense): Linear(in_features=768, out_features=3072, bias=True)\n",
       "          )\n",
       "          (output): BertOutput(\n",
       "            (dense): Linear(in_features=3072, out_features=768, bias=True)\n",
       "            (LayerNorm): LayerNorm((768,), eps=1e-12, elementwise_affine=True)\n",
       "            (dropout): Dropout(p=0.1, inplace=False)\n",
       "          )\n",
       "        )\n",
       "        (8): BertLayer(\n",
       "          (attention): BertAttention(\n",
       "            (self): BertSelfAttention(\n",
       "              (query): Linear(in_features=768, out_features=768, bias=True)\n",
       "              (key): Linear(in_features=768, out_features=768, bias=True)\n",
       "              (value): Linear(in_features=768, out_features=768, bias=True)\n",
       "              (dropout): Dropout(p=0.1, inplace=False)\n",
       "            )\n",
       "            (output): BertSelfOutput(\n",
       "              (dense): Linear(in_features=768, out_features=768, bias=True)\n",
       "              (LayerNorm): LayerNorm((768,), eps=1e-12, elementwise_affine=True)\n",
       "              (dropout): Dropout(p=0.1, inplace=False)\n",
       "            )\n",
       "          )\n",
       "          (intermediate): BertIntermediate(\n",
       "            (dense): Linear(in_features=768, out_features=3072, bias=True)\n",
       "          )\n",
       "          (output): BertOutput(\n",
       "            (dense): Linear(in_features=3072, out_features=768, bias=True)\n",
       "            (LayerNorm): LayerNorm((768,), eps=1e-12, elementwise_affine=True)\n",
       "            (dropout): Dropout(p=0.1, inplace=False)\n",
       "          )\n",
       "        )\n",
       "        (9): BertLayer(\n",
       "          (attention): BertAttention(\n",
       "            (self): BertSelfAttention(\n",
       "              (query): Linear(in_features=768, out_features=768, bias=True)\n",
       "              (key): Linear(in_features=768, out_features=768, bias=True)\n",
       "              (value): Linear(in_features=768, out_features=768, bias=True)\n",
       "              (dropout): Dropout(p=0.1, inplace=False)\n",
       "            )\n",
       "            (output): BertSelfOutput(\n",
       "              (dense): Linear(in_features=768, out_features=768, bias=True)\n",
       "              (LayerNorm): LayerNorm((768,), eps=1e-12, elementwise_affine=True)\n",
       "              (dropout): Dropout(p=0.1, inplace=False)\n",
       "            )\n",
       "          )\n",
       "          (intermediate): BertIntermediate(\n",
       "            (dense): Linear(in_features=768, out_features=3072, bias=True)\n",
       "          )\n",
       "          (output): BertOutput(\n",
       "            (dense): Linear(in_features=3072, out_features=768, bias=True)\n",
       "            (LayerNorm): LayerNorm((768,), eps=1e-12, elementwise_affine=True)\n",
       "            (dropout): Dropout(p=0.1, inplace=False)\n",
       "          )\n",
       "        )\n",
       "        (10): BertLayer(\n",
       "          (attention): BertAttention(\n",
       "            (self): BertSelfAttention(\n",
       "              (query): Linear(in_features=768, out_features=768, bias=True)\n",
       "              (key): Linear(in_features=768, out_features=768, bias=True)\n",
       "              (value): Linear(in_features=768, out_features=768, bias=True)\n",
       "              (dropout): Dropout(p=0.1, inplace=False)\n",
       "            )\n",
       "            (output): BertSelfOutput(\n",
       "              (dense): Linear(in_features=768, out_features=768, bias=True)\n",
       "              (LayerNorm): LayerNorm((768,), eps=1e-12, elementwise_affine=True)\n",
       "              (dropout): Dropout(p=0.1, inplace=False)\n",
       "            )\n",
       "          )\n",
       "          (intermediate): BertIntermediate(\n",
       "            (dense): Linear(in_features=768, out_features=3072, bias=True)\n",
       "          )\n",
       "          (output): BertOutput(\n",
       "            (dense): Linear(in_features=3072, out_features=768, bias=True)\n",
       "            (LayerNorm): LayerNorm((768,), eps=1e-12, elementwise_affine=True)\n",
       "            (dropout): Dropout(p=0.1, inplace=False)\n",
       "          )\n",
       "        )\n",
       "        (11): BertLayer(\n",
       "          (attention): BertAttention(\n",
       "            (self): BertSelfAttention(\n",
       "              (query): Linear(in_features=768, out_features=768, bias=True)\n",
       "              (key): Linear(in_features=768, out_features=768, bias=True)\n",
       "              (value): Linear(in_features=768, out_features=768, bias=True)\n",
       "              (dropout): Dropout(p=0.1, inplace=False)\n",
       "            )\n",
       "            (output): BertSelfOutput(\n",
       "              (dense): Linear(in_features=768, out_features=768, bias=True)\n",
       "              (LayerNorm): LayerNorm((768,), eps=1e-12, elementwise_affine=True)\n",
       "              (dropout): Dropout(p=0.1, inplace=False)\n",
       "            )\n",
       "          )\n",
       "          (intermediate): BertIntermediate(\n",
       "            (dense): Linear(in_features=768, out_features=3072, bias=True)\n",
       "          )\n",
       "          (output): BertOutput(\n",
       "            (dense): Linear(in_features=3072, out_features=768, bias=True)\n",
       "            (LayerNorm): LayerNorm((768,), eps=1e-12, elementwise_affine=True)\n",
       "            (dropout): Dropout(p=0.1, inplace=False)\n",
       "          )\n",
       "        )\n",
       "      )\n",
       "    )\n",
       "    (pooler): BertPooler(\n",
       "      (dense): Linear(in_features=768, out_features=768, bias=True)\n",
       "      (activation): Tanh()\n",
       "    )\n",
       "  )\n",
       "  (linear): Sequential(\n",
       "    (0): Linear(in_features=768, out_features=512, bias=True)\n",
       "    (1): Dropout(p=0.5, inplace=False)\n",
       "    (2): ReLU()\n",
       "    (3): Linear(in_features=512, out_features=2, bias=True)\n",
       "  )\n",
       ")"
      ]
     },
     "execution_count": 8,
     "metadata": {},
     "output_type": "execute_result"
    }
   ],
   "source": [
    "model = NeuralNetwork().to(device)\n",
    "model.load_state_dict(torch.load('/home/chenli/pre_model/experiment_model/Longformer/epoch_5_valid_acc_97.1_model_weights.bin'))"
   ]
  },
  {
   "cell_type": "markdown",
   "id": "c84c0be2",
   "metadata": {},
   "source": [
    "3.指标计算"
   ]
  },
  {
   "cell_type": "code",
   "execution_count": 13,
   "id": "5661254c",
   "metadata": {},
   "outputs": [],
   "source": [
    "from sklearn.metrics import confusion_matrix\n",
    "import matplotlib.pyplot as plt\n",
    "import seaborn as sns\n",
    "from sklearn.metrics import accuracy_score\n",
    "from sklearn.metrics import precision_score\n",
    "from sklearn.metrics import recall_score\n",
    "from sklearn.metrics import f1_score\n",
    "import numpy as np\n",
    "\n",
    "def test_loop(dataloader, model, mode='Test'):\n",
    "    assert mode in ['Valid', 'Test']\n",
    "    size = len(dataloader.dataset)\n",
    "    correct = 0\n",
    "\n",
    "    # 存储真实值和预测值\n",
    "    y_true = []\n",
    "    y_pred = []\n",
    "    \n",
    "    model.eval()\n",
    "    with torch.no_grad():\n",
    "        for batch,data in enumerate(dataloader,start=1):\n",
    "            labels = data.labels.to(device)\n",
    "            input_ids = data.input_ids.to(device)\n",
    "            token_type_ids = data.token_type_ids.to(device)\n",
    "            attention_mask = data.attention_mask.to(device)\n",
    "            pred = model(input_ids,token_type_ids,attention_mask)            \n",
    "            # 添加到列表里\n",
    "            y_true.append(labels.tolist())\n",
    "            y_pred.append(pred.argmax(1).tolist())\n",
    "            correct += (pred.argmax(1) == labels).type(torch.float).sum().item()\n",
    "\n",
    "    correct /= size\n",
    "    print(f\"{mode} Accuracy: {(100*correct):>0.1f}%\\n\")\n",
    "    \n",
    "    y_true = [i for k in y_true for i in k]\n",
    "    y_pred = [i for k in y_pred for i in k]\n",
    "    # 混淆矩阵\n",
    "    my_confusion_matrix = confusion_matrix(y_true,y_pred,labels=[0,1])\n",
    "    # 准确率\n",
    "    my_accuracy_score = accuracy_score(y_true,y_pred)\n",
    "    # 精准率\n",
    "    precision_score_micro = precision_score(y_true,y_pred,average='micro')# 推荐使用这个\n",
    "    precision_score_macro = precision_score(y_true,y_pred,average='macro')\n",
    "    precision_score_weighted = precision_score(y_true,y_pred,average='weighted')\n",
    "    precision_score_None = precision_score(y_true,y_pred,average=None)\n",
    "    precision_score_dict = {\n",
    "        \"precision_score_micro\":precision_score_micro,\n",
    "        \"precision_score_macro\":precision_score_macro,\n",
    "        \"precision_score_weighted\":precision_score_weighted,\n",
    "        \"precision_score_None\":precision_score_None\n",
    "    }\n",
    "    # 召回率\n",
    "    recall_score_micro = recall_score(y_true,y_pred,average='micro')\n",
    "    recall_score_macro = recall_score(y_true,y_pred,average='macro')\n",
    "    recall_score_weighted = recall_score(y_true,y_pred,average='weighted')\n",
    "    recall_score_None = recall_score(y_true,y_pred,average=None)\n",
    "    recall_score_dict = {\n",
    "        \"recall_score_micro\":recall_score_micro,\n",
    "        \"recall_score_macro\":recall_score_macro,\n",
    "        \"recall_score_weighted\":recall_score_weighted,\n",
    "        \"recall_score_None\":recall_score_None\n",
    "    }\n",
    "    # F1 score\n",
    "    f1_score_micro = f1_score(y_true,y_pred,average='micro')\n",
    "    f1_score_macro = f1_score(y_true,y_pred,average='macro')\n",
    "    f1_score_weighted = f1_score(y_true,y_pred,average='weighted')\n",
    "    f1_score_None = f1_score(y_true,y_pred,average=None)\n",
    "    f1_score_dict = {\n",
    "        \"f1_score_micro\":f1_score_micro,\n",
    "        \"f1_score_macro\":f1_score_macro,\n",
    "        \"f1_score_weighted\":f1_score_weighted,\n",
    "        \"f1_score_None\":f1_score_None\n",
    "    }\n",
    "    # 综合指标\n",
    "    general_index = {\n",
    "        \"accuracy_score\":my_accuracy_score,\n",
    "        \"precision_score\":precision_score_dict,\n",
    "        \"recall_score\":recall_score_dict,\n",
    "        \"f1_score\":f1_score_dict\n",
    "    }\n",
    "    \n",
    "    \n",
    "    return correct,my_confusion_matrix,general_index"
   ]
  },
  {
   "cell_type": "markdown",
   "id": "2ce80a1e",
   "metadata": {},
   "source": [
    "4.验证集指标"
   ]
  },
  {
   "cell_type": "code",
   "execution_count": 10,
   "id": "6a053943",
   "metadata": {},
   "outputs": [
    {
     "name": "stdout",
     "output_type": "stream",
     "text": [
      "Valid Accuracy: 97.1%\n",
      "\n",
      "valid_acc:0.9709302325581395\n",
      "confusion_matrix:[[147   7]\n",
      " [  3 187]]\n",
      "general_index:{'accuracy_score': 0.9709302325581395, 'precision_score': {'precision_score_micro': 0.9709302325581395, 'precision_score_macro': 0.971958762886598, 'precision_score_weighted': 0.9711172380724047, 'precision_score_None': array([0.98      , 0.96391753])}, 'recall_score': {'recall_score_micro': 0.9709302325581395, 'recall_score_macro': 0.969377990430622, 'recall_score_weighted': 0.9709302325581395, 'recall_score_None': array([0.95454545, 0.98421053])}, 'f1_score': {'f1_score_micro': 0.9709302325581395, 'f1_score_macro': 0.9705317982456141, 'f1_score_weighted': 0.9708903891268869, 'f1_score_None': array([0.96710526, 0.97395833])}}\n",
      "Done!\n"
     ]
    }
   ],
   "source": [
    "valid_acc,confusion_matrix,general_index = test_loop(valid_dataloader, model, mode='Valid')\n",
    "print(f'valid_acc:{valid_acc}')\n",
    "print(f'confusion_matrix:{confusion_matrix}')\n",
    "print(f'general_index:{general_index}')\n",
    "print(\"Done!\")"
   ]
  },
  {
   "cell_type": "code",
   "execution_count": 11,
   "id": "ef57c482",
   "metadata": {},
   "outputs": [
    {
     "data": {
      "image/png": "[encoded data removed]",
      "text/plain": [
       "<Figure size 432x288 with 2 Axes>"
      ]
     },
     "metadata": {
      "needs_background": "light"
     },
     "output_type": "display_data"
    }
   ],
   "source": [
    "sns.heatmap(confusion_matrix,annot=True,annot_kws={'size':20,'weight':'bold','color':'red'})\n",
    "plt.title('confusion matrix',fontsize=20)\n",
    "plt.xlabel('Predict',fontsize=14)\n",
    "plt.ylabel('Actual',fontsize=14)\n",
    "plt.show()"
   ]
  },
  {
   "cell_type": "markdown",
   "id": "8404529e",
   "metadata": {},
   "source": [
    "5.测试集指标"
   ]
  },
  {
   "cell_type": "code",
   "execution_count": 14,
   "id": "f22545e4",
   "metadata": {},
   "outputs": [
    {
     "name": "stdout",
     "output_type": "stream",
     "text": [
      "Test Accuracy: 95.7%\n",
      "\n",
      "valid_acc:0.9565217391304348\n",
      "confusion_matrix:[[140  12]\n",
      " [  2 190]]\n",
      "general_index:{'accuracy_score': 0.9593023255813954, 'precision_score': {'precision_score_micro': 0.9593023255813954, 'precision_score_macro': 0.9632547761818435, 'precision_score_weighted': 0.9606198091148781, 'precision_score_None': array([0.98591549, 0.94059406])}, 'recall_score': {'recall_score_micro': 0.9593023255813954, 'recall_score_macro': 0.9553179824561404, 'recall_score_weighted': 0.9593023255813954, 'recall_score_None': array([0.92105263, 0.98958333])}, 'f1_score': {'f1_score_micro': 0.9593023255813954, 'f1_score_macro': 0.9584239787285472, 'f1_score_weighted': 0.9591266562108257, 'f1_score_None': array([0.95238095, 0.96446701])}}\n",
      "Done!\n"
     ]
    }
   ],
   "source": [
    "valid_acc,confusion_matrix,general_index = test_loop(test_dataloader, model, mode='Test')\n",
    "print(f'valid_acc:{valid_acc}')\n",
    "print(f'confusion_matrix:{confusion_matrix}')\n",
    "print(f'general_index:{general_index}')\n",
    "print(\"Done!\")"
   ]
  },
  {
   "cell_type": "code",
   "execution_count": 15,
   "id": "8b498fd4",
   "metadata": {},
   "outputs": [
    {
     "data": {
      "image/png": "[encoded data removed]",
      "text/plain": [
       "<Figure size 432x288 with 2 Axes>"
      ]
     },
     "metadata": {
      "needs_background": "light"
     },
     "output_type": "display_data"
    }
   ],
   "source": [
    "sns.heatmap(confusion_matrix,annot=True,annot_kws={'size':20,'weight':'bold','color':'red'})\n",
    "plt.title('confusion matrix',fontsize=20)\n",
    "plt.xlabel('Predict',fontsize=14)\n",
    "plt.ylabel('Actual',fontsize=14)\n",
    "plt.show()"
   ]
  },
  {
   "cell_type": "markdown",
   "id": "3010a129",
   "metadata": {},
   "source": [
    "## Longformer-RNN模型"
   ]
  },
  {
   "cell_type": "code",
   "execution_count": 9,
   "id": "738b7244",
   "metadata": {},
   "outputs": [
    {
     "name": "stdout",
     "output_type": "stream",
     "text": [
      "Using cuda device\n"
     ]
    },
    {
     "name": "stderr",
     "output_type": "stream",
     "text": [
      "Some weights of the model checkpoint at schen/longformer-chinese-base-4096 were not used when initializing BertModel: ['bert.encoder.layer.0.attention.self.value_global.weight', 'bert.encoder.layer.1.attention.self.query_global.weight', 'bert.encoder.layer.9.attention.self.key_global.weight', 'bert.encoder.layer.4.attention.self.key_global.bias', 'bert.encoder.layer.1.attention.self.key_global.bias', 'bert.encoder.layer.9.attention.self.query_global.bias', 'bert.encoder.layer.3.attention.self.value_global.weight', 'bert.encoder.layer.1.attention.self.key_global.weight', 'bert.encoder.layer.2.attention.self.query_global.bias', 'bert.encoder.layer.7.attention.self.key_global.weight', 'bert.encoder.layer.0.attention.self.key_global.bias', 'cls.predictions.transform.dense.weight', 'bert.encoder.layer.9.attention.self.query_global.weight', 'bert.encoder.layer.6.attention.self.key_global.weight', 'cls.predictions.decoder.bias', 'bert.encoder.layer.10.attention.self.value_global.weight', 'bert.encoder.layer.0.attention.self.value_global.bias', 'cls.predictions.transform.LayerNorm.bias', 'bert.encoder.layer.7.attention.self.query_global.bias', 'bert.encoder.layer.8.attention.self.query_global.weight', 'bert.encoder.layer.4.attention.self.value_global.bias', 'bert.encoder.layer.2.attention.self.key_global.weight', 'bert.encoder.layer.4.attention.self.query_global.bias', 'bert.encoder.layer.11.attention.self.key_global.weight', 'bert.encoder.layer.9.attention.self.key_global.bias', 'bert.encoder.layer.8.attention.self.value_global.bias', 'bert.encoder.layer.9.attention.self.value_global.bias', 'bert.encoder.layer.5.attention.self.key_global.weight', 'bert.encoder.layer.10.attention.self.query_global.weight', 'bert.encoder.layer.2.attention.self.value_global.bias', 'bert.encoder.layer.0.attention.self.query_global.bias', 'bert.encoder.layer.9.attention.self.value_global.weight', 'bert.encoder.layer.0.attention.self.key_global.weight', 'bert.encoder.layer.3.attention.self.value_global.bias', 'bert.encoder.layer.6.attention.self.value_global.weight', 'bert.encoder.layer.11.attention.self.value_global.weight', 'bert.encoder.layer.8.attention.self.key_global.bias', 'bert.encoder.layer.4.attention.self.value_global.weight', 'bert.encoder.layer.11.attention.self.query_global.bias', 'bert.encoder.layer.8.attention.self.value_global.weight', 'bert.encoder.layer.8.attention.self.query_global.bias', 'cls.seq_relationship.weight', 'bert.encoder.layer.2.attention.self.query_global.weight', 'bert.encoder.layer.11.attention.self.value_global.bias', 'bert.encoder.layer.7.attention.self.value_global.bias', 'cls.predictions.bias', 'bert.encoder.layer.7.attention.self.value_global.weight', 'cls.predictions.transform.LayerNorm.weight', 'bert.encoder.layer.10.attention.self.query_global.bias', 'bert.encoder.layer.5.attention.self.query_global.bias', 'bert.encoder.layer.5.attention.self.query_global.weight', 'bert.encoder.layer.3.attention.self.key_global.weight', 'bert.encoder.layer.6.attention.self.query_global.weight', 'bert.encoder.layer.10.attention.self.key_global.bias', 'bert.encoder.layer.10.attention.self.key_global.weight', 'bert.encoder.layer.11.attention.self.key_global.bias', 'bert.encoder.layer.2.attention.self.value_global.weight', 'bert.encoder.layer.1.attention.self.query_global.bias', 'cls.seq_relationship.bias', 'bert.encoder.layer.5.attention.self.key_global.bias', 'bert.encoder.layer.3.attention.self.query_global.bias', 'bert.encoder.layer.3.attention.self.key_global.bias', 'bert.encoder.layer.4.attention.self.query_global.weight', 'bert.encoder.layer.4.attention.self.key_global.weight', 'bert.encoder.layer.0.attention.self.query_global.weight', 'cls.predictions.decoder.weight', 'bert.encoder.layer.10.attention.self.value_global.bias', 'bert.encoder.layer.7.attention.self.query_global.weight', 'bert.encoder.layer.7.attention.self.key_global.bias', 'bert.encoder.layer.6.attention.self.key_global.bias', 'bert.encoder.layer.1.attention.self.value_global.bias', 'cls.predictions.transform.dense.bias', 'bert.encoder.layer.6.attention.self.value_global.bias', 'bert.encoder.layer.1.attention.self.value_global.weight', 'bert.encoder.layer.11.attention.self.query_global.weight', 'bert.encoder.layer.3.attention.self.query_global.weight', 'bert.encoder.layer.5.attention.self.value_global.weight', 'bert.encoder.layer.6.attention.self.query_global.bias', 'bert.encoder.layer.8.attention.self.key_global.weight', 'bert.encoder.layer.2.attention.self.key_global.bias', 'bert.encoder.layer.5.attention.self.value_global.bias']\n",
      "- This IS expected if you are initializing BertModel from the checkpoint of a model trained on another task or with another architecture (e.g. initializing a BertForSequenceClassification model from a BertForPreTraining model).\n",
      "- This IS NOT expected if you are initializing BertModel from the checkpoint of a model that you expect to be exactly identical (initializing a BertForSequenceClassification model from a BertForSequenceClassification model).\n",
      "/home/anaconda/anaconda3/envs/pytorch/lib/python3.7/site-packages/torch/nn/modules/rnn.py:65: UserWarning: dropout option adds dropout after all but last recurrent layer, so non-zero dropout expects num_layers greater than 1, but got dropout=0.5 and num_layers=1\n",
      "  \"num_layers={}\".format(dropout, num_layers))\n"
     ]
    },
    {
     "name": "stdout",
     "output_type": "stream",
     "text": [
      "NeuralNetwork(\n",
      "  (longformer): BertModel(\n",
      "    (embeddings): BertEmbeddings(\n",
      "      (word_embeddings): Embedding(21128, 768, padding_idx=0)\n",
      "      (position_embeddings): Embedding(4096, 768)\n",
      "      (token_type_embeddings): Embedding(2, 768)\n",
      "      (LayerNorm): LayerNorm((768,), eps=1e-12, elementwise_affine=True)\n",
      "      (dropout): Dropout(p=0.1, inplace=False)\n",
      "    )\n",
      "    (encoder): BertEncoder(\n",
      "      (layer): ModuleList(\n",
      "        (0): BertLayer(\n",
      "          (attention): BertAttention(\n",
      "            (self): BertSelfAttention(\n",
      "              (query): Linear(in_features=768, out_features=768, bias=True)\n",
      "              (key): Linear(in_features=768, out_features=768, bias=True)\n",
      "              (value): Linear(in_features=768, out_features=768, bias=True)\n",
      "              (dropout): Dropout(p=0.1, inplace=False)\n",
      "            )\n",
      "            (output): BertSelfOutput(\n",
      "              (dense): Linear(in_features=768, out_features=768, bias=True)\n",
      "              (LayerNorm): LayerNorm((768,), eps=1e-12, elementwise_affine=True)\n",
      "              (dropout): Dropout(p=0.1, inplace=False)\n",
      "            )\n",
      "          )\n",
      "          (intermediate): BertIntermediate(\n",
      "            (dense): Linear(in_features=768, out_features=3072, bias=True)\n",
      "          )\n",
      "          (output): BertOutput(\n",
      "            (dense): Linear(in_features=3072, out_features=768, bias=True)\n",
      "            (LayerNorm): LayerNorm((768,), eps=1e-12, elementwise_affine=True)\n",
      "            (dropout): Dropout(p=0.1, inplace=False)\n",
      "          )\n",
      "        )\n",
      "        (1): BertLayer(\n",
      "          (attention): BertAttention(\n",
      "            (self): BertSelfAttention(\n",
      "              (query): Linear(in_features=768, out_features=768, bias=True)\n",
      "              (key): Linear(in_features=768, out_features=768, bias=True)\n",
      "              (value): Linear(in_features=768, out_features=768, bias=True)\n",
      "              (dropout): Dropout(p=0.1, inplace=False)\n",
      "            )\n",
      "            (output): BertSelfOutput(\n",
      "              (dense): Linear(in_features=768, out_features=768, bias=True)\n",
      "              (LayerNorm): LayerNorm((768,), eps=1e-12, elementwise_affine=True)\n",
      "              (dropout): Dropout(p=0.1, inplace=False)\n",
      "            )\n",
      "          )\n",
      "          (intermediate): BertIntermediate(\n",
      "            (dense): Linear(in_features=768, out_features=3072, bias=True)\n",
      "          )\n",
      "          (output): BertOutput(\n",
      "            (dense): Linear(in_features=3072, out_features=768, bias=True)\n",
      "            (LayerNorm): LayerNorm((768,), eps=1e-12, elementwise_affine=True)\n",
      "            (dropout): Dropout(p=0.1, inplace=False)\n",
      "          )\n",
      "        )\n",
      "        (2): BertLayer(\n",
      "          (attention): BertAttention(\n",
      "            (self): BertSelfAttention(\n",
      "              (query): Linear(in_features=768, out_features=768, bias=True)\n",
      "              (key): Linear(in_features=768, out_features=768, bias=True)\n",
      "              (value): Linear(in_features=768, out_features=768, bias=True)\n",
      "              (dropout): Dropout(p=0.1, inplace=False)\n",
      "            )\n",
      "            (output): BertSelfOutput(\n",
      "              (dense): Linear(in_features=768, out_features=768, bias=True)\n",
      "              (LayerNorm): LayerNorm((768,), eps=1e-12, elementwise_affine=True)\n",
      "              (dropout): Dropout(p=0.1, inplace=False)\n",
      "            )\n",
      "          )\n",
      "          (intermediate): BertIntermediate(\n",
      "            (dense): Linear(in_features=768, out_features=3072, bias=True)\n",
      "          )\n",
      "          (output): BertOutput(\n",
      "            (dense): Linear(in_features=3072, out_features=768, bias=True)\n",
      "            (LayerNorm): LayerNorm((768,), eps=1e-12, elementwise_affine=True)\n",
      "            (dropout): Dropout(p=0.1, inplace=False)\n",
      "          )\n",
      "        )\n",
      "        (3): BertLayer(\n",
      "          (attention): BertAttention(\n",
      "            (self): BertSelfAttention(\n",
      "              (query): Linear(in_features=768, out_features=768, bias=True)\n",
      "              (key): Linear(in_features=768, out_features=768, bias=True)\n",
      "              (value): Linear(in_features=768, out_features=768, bias=True)\n",
      "              (dropout): Dropout(p=0.1, inplace=False)\n",
      "            )\n",
      "            (output): BertSelfOutput(\n",
      "              (dense): Linear(in_features=768, out_features=768, bias=True)\n",
      "              (LayerNorm): LayerNorm((768,), eps=1e-12, elementwise_affine=True)\n",
      "              (dropout): Dropout(p=0.1, inplace=False)\n",
      "            )\n",
      "          )\n",
      "          (intermediate): BertIntermediate(\n",
      "            (dense): Linear(in_features=768, out_features=3072, bias=True)\n",
      "          )\n",
      "          (output): BertOutput(\n",
      "            (dense): Linear(in_features=3072, out_features=768, bias=True)\n",
      "            (LayerNorm): LayerNorm((768,), eps=1e-12, elementwise_affine=True)\n",
      "            (dropout): Dropout(p=0.1, inplace=False)\n",
      "          )\n",
      "        )\n",
      "        (4): BertLayer(\n",
      "          (attention): BertAttention(\n",
      "            (self): BertSelfAttention(\n",
      "              (query): Linear(in_features=768, out_features=768, bias=True)\n",
      "              (key): Linear(in_features=768, out_features=768, bias=True)\n",
      "              (value): Linear(in_features=768, out_features=768, bias=True)\n",
      "              (dropout): Dropout(p=0.1, inplace=False)\n",
      "            )\n",
      "            (output): BertSelfOutput(\n",
      "              (dense): Linear(in_features=768, out_features=768, bias=True)\n",
      "              (LayerNorm): LayerNorm((768,), eps=1e-12, elementwise_affine=True)\n",
      "              (dropout): Dropout(p=0.1, inplace=False)\n",
      "            )\n",
      "          )\n",
      "          (intermediate): BertIntermediate(\n",
      "            (dense): Linear(in_features=768, out_features=3072, bias=True)\n",
      "          )\n",
      "          (output): BertOutput(\n",
      "            (dense): Linear(in_features=3072, out_features=768, bias=True)\n",
      "            (LayerNorm): LayerNorm((768,), eps=1e-12, elementwise_affine=True)\n",
      "            (dropout): Dropout(p=0.1, inplace=False)\n",
      "          )\n",
      "        )\n",
      "        (5): BertLayer(\n",
      "          (attention): BertAttention(\n",
      "            (self): BertSelfAttention(\n",
      "              (query): Linear(in_features=768, out_features=768, bias=True)\n",
      "              (key): Linear(in_features=768, out_features=768, bias=True)\n",
      "              (value): Linear(in_features=768, out_features=768, bias=True)\n",
      "              (dropout): Dropout(p=0.1, inplace=False)\n",
      "            )\n",
      "            (output): BertSelfOutput(\n",
      "              (dense): Linear(in_features=768, out_features=768, bias=True)\n",
      "              (LayerNorm): LayerNorm((768,), eps=1e-12, elementwise_affine=True)\n",
      "              (dropout): Dropout(p=0.1, inplace=False)\n",
      "            )\n",
      "          )\n",
      "          (intermediate): BertIntermediate(\n",
      "            (dense): Linear(in_features=768, out_features=3072, bias=True)\n",
      "          )\n",
      "          (output): BertOutput(\n",
      "            (dense): Linear(in_features=3072, out_features=768, bias=True)\n",
      "            (LayerNorm): LayerNorm((768,), eps=1e-12, elementwise_affine=True)\n",
      "            (dropout): Dropout(p=0.1, inplace=False)\n",
      "          )\n",
      "        )\n",
      "        (6): BertLayer(\n",
      "          (attention): BertAttention(\n",
      "            (self): BertSelfAttention(\n",
      "              (query): Linear(in_features=768, out_features=768, bias=True)\n",
      "              (key): Linear(in_features=768, out_features=768, bias=True)\n",
      "              (value): Linear(in_features=768, out_features=768, bias=True)\n",
      "              (dropout): Dropout(p=0.1, inplace=False)\n",
      "            )\n",
      "            (output): BertSelfOutput(\n",
      "              (dense): Linear(in_features=768, out_features=768, bias=True)\n",
      "              (LayerNorm): LayerNorm((768,), eps=1e-12, elementwise_affine=True)\n",
      "              (dropout): Dropout(p=0.1, inplace=False)\n",
      "            )\n",
      "          )\n",
      "          (intermediate): BertIntermediate(\n",
      "            (dense): Linear(in_features=768, out_features=3072, bias=True)\n",
      "          )\n",
      "          (output): BertOutput(\n",
      "            (dense): Linear(in_features=3072, out_features=768, bias=True)\n",
      "            (LayerNorm): LayerNorm((768,), eps=1e-12, elementwise_affine=True)\n",
      "            (dropout): Dropout(p=0.1, inplace=False)\n",
      "          )\n",
      "        )\n",
      "        (7): BertLayer(\n",
      "          (attention): BertAttention(\n",
      "            (self): BertSelfAttention(\n",
      "              (query): Linear(in_features=768, out_features=768, bias=True)\n",
      "              (key): Linear(in_features=768, out_features=768, bias=True)\n",
      "              (value): Linear(in_features=768, out_features=768, bias=True)\n",
      "              (dropout): Dropout(p=0.1, inplace=False)\n",
      "            )\n",
      "            (output): BertSelfOutput(\n",
      "              (dense): Linear(in_features=768, out_features=768, bias=True)\n",
      "              (LayerNorm): LayerNorm((768,), eps=1e-12, elementwise_affine=True)\n",
      "              (dropout): Dropout(p=0.1, inplace=False)\n",
      "            )\n",
      "          )\n",
      "          (intermediate): BertIntermediate(\n",
      "            (dense): Linear(in_features=768, out_features=3072, bias=True)\n",
      "          )\n",
      "          (output): BertOutput(\n",
      "            (dense): Linear(in_features=3072, out_features=768, bias=True)\n",
      "            (LayerNorm): LayerNorm((768,), eps=1e-12, elementwise_affine=True)\n",
      "            (dropout): Dropout(p=0.1, inplace=False)\n",
      "          )\n",
      "        )\n",
      "        (8): BertLayer(\n",
      "          (attention): BertAttention(\n",
      "            (self): BertSelfAttention(\n",
      "              (query): Linear(in_features=768, out_features=768, bias=True)\n",
      "              (key): Linear(in_features=768, out_features=768, bias=True)\n",
      "              (value): Linear(in_features=768, out_features=768, bias=True)\n",
      "              (dropout): Dropout(p=0.1, inplace=False)\n",
      "            )\n",
      "            (output): BertSelfOutput(\n",
      "              (dense): Linear(in_features=768, out_features=768, bias=True)\n",
      "              (LayerNorm): LayerNorm((768,), eps=1e-12, elementwise_affine=True)\n",
      "              (dropout): Dropout(p=0.1, inplace=False)\n",
      "            )\n",
      "          )\n",
      "          (intermediate): BertIntermediate(\n",
      "            (dense): Linear(in_features=768, out_features=3072, bias=True)\n",
      "          )\n",
      "          (output): BertOutput(\n",
      "            (dense): Linear(in_features=3072, out_features=768, bias=True)\n",
      "            (LayerNorm): LayerNorm((768,), eps=1e-12, elementwise_affine=True)\n",
      "            (dropout): Dropout(p=0.1, inplace=False)\n",
      "          )\n",
      "        )\n",
      "        (9): BertLayer(\n",
      "          (attention): BertAttention(\n",
      "            (self): BertSelfAttention(\n",
      "              (query): Linear(in_features=768, out_features=768, bias=True)\n",
      "              (key): Linear(in_features=768, out_features=768, bias=True)\n",
      "              (value): Linear(in_features=768, out_features=768, bias=True)\n",
      "              (dropout): Dropout(p=0.1, inplace=False)\n",
      "            )\n",
      "            (output): BertSelfOutput(\n",
      "              (dense): Linear(in_features=768, out_features=768, bias=True)\n",
      "              (LayerNorm): LayerNorm((768,), eps=1e-12, elementwise_affine=True)\n",
      "              (dropout): Dropout(p=0.1, inplace=False)\n",
      "            )\n",
      "          )\n",
      "          (intermediate): BertIntermediate(\n",
      "            (dense): Linear(in_features=768, out_features=3072, bias=True)\n",
      "          )\n",
      "          (output): BertOutput(\n",
      "            (dense): Linear(in_features=3072, out_features=768, bias=True)\n",
      "            (LayerNorm): LayerNorm((768,), eps=1e-12, elementwise_affine=True)\n",
      "            (dropout): Dropout(p=0.1, inplace=False)\n",
      "          )\n",
      "        )\n",
      "        (10): BertLayer(\n",
      "          (attention): BertAttention(\n",
      "            (self): BertSelfAttention(\n",
      "              (query): Linear(in_features=768, out_features=768, bias=True)\n",
      "              (key): Linear(in_features=768, out_features=768, bias=True)\n",
      "              (value): Linear(in_features=768, out_features=768, bias=True)\n",
      "              (dropout): Dropout(p=0.1, inplace=False)\n",
      "            )\n",
      "            (output): BertSelfOutput(\n",
      "              (dense): Linear(in_features=768, out_features=768, bias=True)\n",
      "              (LayerNorm): LayerNorm((768,), eps=1e-12, elementwise_affine=True)\n",
      "              (dropout): Dropout(p=0.1, inplace=False)\n",
      "            )\n",
      "          )\n",
      "          (intermediate): BertIntermediate(\n",
      "            (dense): Linear(in_features=768, out_features=3072, bias=True)\n",
      "          )\n",
      "          (output): BertOutput(\n",
      "            (dense): Linear(in_features=3072, out_features=768, bias=True)\n",
      "            (LayerNorm): LayerNorm((768,), eps=1e-12, elementwise_affine=True)\n",
      "            (dropout): Dropout(p=0.1, inplace=False)\n",
      "          )\n",
      "        )\n",
      "        (11): BertLayer(\n",
      "          (attention): BertAttention(\n",
      "            (self): BertSelfAttention(\n",
      "              (query): Linear(in_features=768, out_features=768, bias=True)\n",
      "              (key): Linear(in_features=768, out_features=768, bias=True)\n",
      "              (value): Linear(in_features=768, out_features=768, bias=True)\n",
      "              (dropout): Dropout(p=0.1, inplace=False)\n",
      "            )\n",
      "            (output): BertSelfOutput(\n",
      "              (dense): Linear(in_features=768, out_features=768, bias=True)\n",
      "              (LayerNorm): LayerNorm((768,), eps=1e-12, elementwise_affine=True)\n",
      "              (dropout): Dropout(p=0.1, inplace=False)\n",
      "            )\n",
      "          )\n",
      "          (intermediate): BertIntermediate(\n",
      "            (dense): Linear(in_features=768, out_features=3072, bias=True)\n",
      "          )\n",
      "          (output): BertOutput(\n",
      "            (dense): Linear(in_features=3072, out_features=768, bias=True)\n",
      "            (LayerNorm): LayerNorm((768,), eps=1e-12, elementwise_affine=True)\n",
      "            (dropout): Dropout(p=0.1, inplace=False)\n",
      "          )\n",
      "        )\n",
      "      )\n",
      "    )\n",
      "    (pooler): BertPooler(\n",
      "      (dense): Linear(in_features=768, out_features=768, bias=True)\n",
      "      (activation): Tanh()\n",
      "    )\n",
      "  )\n",
      "  (rnn): RNN(768, 512, batch_first=True, dropout=0.5)\n",
      "  (linear): Sequential(\n",
      "    (0): Linear(in_features=512, out_features=512, bias=True)\n",
      "    (1): Dropout(p=0.5, inplace=False)\n",
      "    (2): ReLU()\n",
      "    (3): Linear(in_features=512, out_features=2, bias=True)\n",
      "  )\n",
      ")\n"
     ]
    }
   ],
   "source": [
    "from transformers import AutoTokenizer,AutoModelForSequenceClassification, TrainingArguments, Trainer\n",
    "from torch import nn\n",
    "from transformers import AutoModel\n",
    "\n",
    "device = torch.device('cuda' if torch.cuda.is_available() else 'cpu')\n",
    "print(f'Using {device} device')\n",
    "class NeuralNetwork(nn.Module):\n",
    "    def __init__(self):\n",
    "        super(NeuralNetwork, self).__init__()\n",
    "        # 这个可以拿到预训练模型最后一层的结果\n",
    "        self.longformer = AutoModel.from_pretrained(check_point)\n",
    "        # 接一个BiGRU\n",
    "        self.rnn = nn.RNN(input_size=768,hidden_size=512,batch_first=True,dropout=0.5)\n",
    "        # 这里可以接分类层，输入768维，最后分为2个类别\n",
    "        # 这里可以添加其他网络模型，提升效果\n",
    "        # 加多一个线性层\n",
    "        self.linear = nn.Sequential(\n",
    "            nn.Linear(512,512),\n",
    "            torch.nn.Dropout(0.5),\n",
    "            torch.nn.ReLU(),\n",
    "            nn.Linear(512,2)\n",
    "        )\n",
    "        \n",
    "\n",
    "    def forward(self,input_ids,token_type_ids,attention_mask):\n",
    "        # 取最后一层的第一个，因为我们希望拿到的是整句话的一个语义\n",
    "        output = self.longformer(input_ids,token_type_ids,attention_mask).last_hidden_state # 维度 [batch,seq,hidden_size]\n",
    "        output,h_n = self.rnn(output)\n",
    "        output = output[:,-1,:] # [batch,1024]\n",
    "        # 然后输送给分类的linear层\n",
    "        output = self.linear(output)\n",
    "        return output\n",
    "\n",
    "# 如果显卡的话就使用显卡\n",
    "model = NeuralNetwork().to(device)\n",
    "print(model)"
   ]
  },
  {
   "cell_type": "code",
   "execution_count": 11,
   "id": "f06d2b44",
   "metadata": {},
   "outputs": [
    {
     "name": "stderr",
     "output_type": "stream",
     "text": [
      "Some weights of the model checkpoint at schen/longformer-chinese-base-4096 were not used when initializing BertModel: ['bert.encoder.layer.0.attention.self.value_global.weight', 'bert.encoder.layer.1.attention.self.query_global.weight', 'bert.encoder.layer.9.attention.self.key_global.weight', 'bert.encoder.layer.4.attention.self.key_global.bias', 'bert.encoder.layer.1.attention.self.key_global.bias', 'bert.encoder.layer.9.attention.self.query_global.bias', 'bert.encoder.layer.3.attention.self.value_global.weight', 'bert.encoder.layer.1.attention.self.key_global.weight', 'bert.encoder.layer.2.attention.self.query_global.bias', 'bert.encoder.layer.7.attention.self.key_global.weight', 'bert.encoder.layer.0.attention.self.key_global.bias', 'cls.predictions.transform.dense.weight', 'bert.encoder.layer.9.attention.self.query_global.weight', 'bert.encoder.layer.6.attention.self.key_global.weight', 'cls.predictions.decoder.bias', 'bert.encoder.layer.10.attention.self.value_global.weight', 'bert.encoder.layer.0.attention.self.value_global.bias', 'cls.predictions.transform.LayerNorm.bias', 'bert.encoder.layer.7.attention.self.query_global.bias', 'bert.encoder.layer.8.attention.self.query_global.weight', 'bert.encoder.layer.4.attention.self.value_global.bias', 'bert.encoder.layer.2.attention.self.key_global.weight', 'bert.encoder.layer.4.attention.self.query_global.bias', 'bert.encoder.layer.11.attention.self.key_global.weight', 'bert.encoder.layer.9.attention.self.key_global.bias', 'bert.encoder.layer.8.attention.self.value_global.bias', 'bert.encoder.layer.9.attention.self.value_global.bias', 'bert.encoder.layer.5.attention.self.key_global.weight', 'bert.encoder.layer.10.attention.self.query_global.weight', 'bert.encoder.layer.2.attention.self.value_global.bias', 'bert.encoder.layer.0.attention.self.query_global.bias', 'bert.encoder.layer.9.attention.self.value_global.weight', 'bert.encoder.layer.0.attention.self.key_global.weight', 'bert.encoder.layer.3.attention.self.value_global.bias', 'bert.encoder.layer.6.attention.self.value_global.weight', 'bert.encoder.layer.11.attention.self.value_global.weight', 'bert.encoder.layer.8.attention.self.key_global.bias', 'bert.encoder.layer.4.attention.self.value_global.weight', 'bert.encoder.layer.11.attention.self.query_global.bias', 'bert.encoder.layer.8.attention.self.value_global.weight', 'bert.encoder.layer.8.attention.self.query_global.bias', 'cls.seq_relationship.weight', 'bert.encoder.layer.2.attention.self.query_global.weight', 'bert.encoder.layer.11.attention.self.value_global.bias', 'bert.encoder.layer.7.attention.self.value_global.bias', 'cls.predictions.bias', 'bert.encoder.layer.7.attention.self.value_global.weight', 'cls.predictions.transform.LayerNorm.weight', 'bert.encoder.layer.10.attention.self.query_global.bias', 'bert.encoder.layer.5.attention.self.query_global.bias', 'bert.encoder.layer.5.attention.self.query_global.weight', 'bert.encoder.layer.3.attention.self.key_global.weight', 'bert.encoder.layer.6.attention.self.query_global.weight', 'bert.encoder.layer.10.attention.self.key_global.bias', 'bert.encoder.layer.10.attention.self.key_global.weight', 'bert.encoder.layer.11.attention.self.key_global.bias', 'bert.encoder.layer.2.attention.self.value_global.weight', 'bert.encoder.layer.1.attention.self.query_global.bias', 'cls.seq_relationship.bias', 'bert.encoder.layer.5.attention.self.key_global.bias', 'bert.encoder.layer.3.attention.self.query_global.bias', 'bert.encoder.layer.3.attention.self.key_global.bias', 'bert.encoder.layer.4.attention.self.query_global.weight', 'bert.encoder.layer.4.attention.self.key_global.weight', 'bert.encoder.layer.0.attention.self.query_global.weight', 'cls.predictions.decoder.weight', 'bert.encoder.layer.10.attention.self.value_global.bias', 'bert.encoder.layer.7.attention.self.query_global.weight', 'bert.encoder.layer.7.attention.self.key_global.bias', 'bert.encoder.layer.6.attention.self.key_global.bias', 'bert.encoder.layer.1.attention.self.value_global.bias', 'cls.predictions.transform.dense.bias', 'bert.encoder.layer.6.attention.self.value_global.bias', 'bert.encoder.layer.1.attention.self.value_global.weight', 'bert.encoder.layer.11.attention.self.query_global.weight', 'bert.encoder.layer.3.attention.self.query_global.weight', 'bert.encoder.layer.5.attention.self.value_global.weight', 'bert.encoder.layer.6.attention.self.query_global.bias', 'bert.encoder.layer.8.attention.self.key_global.weight', 'bert.encoder.layer.2.attention.self.key_global.bias', 'bert.encoder.layer.5.attention.self.value_global.bias']\n",
      "- This IS expected if you are initializing BertModel from the checkpoint of a model trained on another task or with another architecture (e.g. initializing a BertForSequenceClassification model from a BertForPreTraining model).\n",
      "- This IS NOT expected if you are initializing BertModel from the checkpoint of a model that you expect to be exactly identical (initializing a BertForSequenceClassification model from a BertForSequenceClassification model).\n"
     ]
    },
    {
     "data": {
      "text/plain": [
       "<All keys matched successfully>"
      ]
     },
     "execution_count": 11,
     "metadata": {},
     "output_type": "execute_result"
    }
   ],
   "source": [
    "model = NeuralNetwork().to(device)\n",
    "model.load_state_dict(torch.load('/home/chenli/pre_model/experiment_model/Longformer+RNN/epoch_9_valid_acc_96.2_model_weights.bin'))"
   ]
  },
  {
   "cell_type": "code",
   "execution_count": 12,
   "id": "2d4fce9f",
   "metadata": {},
   "outputs": [],
   "source": [
    "from sklearn.metrics import confusion_matrix\n",
    "import matplotlib.pyplot as plt\n",
    "import seaborn as sns\n",
    "from sklearn.metrics import accuracy_score\n",
    "from sklearn.metrics import precision_score\n",
    "from sklearn.metrics import recall_score\n",
    "from sklearn.metrics import f1_score\n",
    "import numpy as np\n",
    "\n",
    "def test_loop(dataloader, model, mode='Test'):\n",
    "    assert mode in ['Valid', 'Test']\n",
    "    size = len(dataloader.dataset)\n",
    "    correct = 0\n",
    "\n",
    "    # 存储真实值和预测值\n",
    "    y_true = []\n",
    "    y_pred = []\n",
    "    \n",
    "    model.eval()\n",
    "    with torch.no_grad():\n",
    "        for batch,data in enumerate(dataloader,start=1):\n",
    "            labels = data.labels.to(device)\n",
    "            input_ids = data.input_ids.to(device)\n",
    "            token_type_ids = data.token_type_ids.to(device)\n",
    "            attention_mask = data.attention_mask.to(device)\n",
    "            pred = model(input_ids,token_type_ids,attention_mask)            \n",
    "            # 添加到列表里\n",
    "            y_true.append(labels.tolist())\n",
    "            y_pred.append(pred.argmax(1).tolist())\n",
    "            correct += (pred.argmax(1) == labels).type(torch.float).sum().item()\n",
    "\n",
    "    correct /= size\n",
    "    print(f\"{mode} Accuracy: {(100*correct):>0.1f}%\\n\")\n",
    "    \n",
    "    y_true = [i for k in y_true for i in k]\n",
    "    y_pred = [i for k in y_pred for i in k]\n",
    "    # 混淆矩阵\n",
    "    my_confusion_matrix = confusion_matrix(y_true,y_pred,labels=[0,1])\n",
    "    # 准确率\n",
    "    my_accuracy_score = accuracy_score(y_true,y_pred)\n",
    "    # 精准率\n",
    "    precision_score_micro = precision_score(y_true,y_pred,average='micro')# 推荐使用这个\n",
    "    precision_score_macro = precision_score(y_true,y_pred,average='macro')\n",
    "    precision_score_weighted = precision_score(y_true,y_pred,average='weighted')\n",
    "    precision_score_None = precision_score(y_true,y_pred,average=None)\n",
    "    precision_score_dict = {\n",
    "        \"precision_score_micro\":precision_score_micro,\n",
    "        \"precision_score_macro\":precision_score_macro,\n",
    "        \"precision_score_weighted\":precision_score_weighted,\n",
    "        \"precision_score_None\":precision_score_None\n",
    "    }\n",
    "    # 召回率\n",
    "    recall_score_micro = recall_score(y_true,y_pred,average='micro')\n",
    "    recall_score_macro = recall_score(y_true,y_pred,average='macro')\n",
    "    recall_score_weighted = recall_score(y_true,y_pred,average='weighted')\n",
    "    recall_score_None = recall_score(y_true,y_pred,average=None)\n",
    "    recall_score_dict = {\n",
    "        \"recall_score_micro\":recall_score_micro,\n",
    "        \"recall_score_macro\":recall_score_macro,\n",
    "        \"recall_score_weighted\":recall_score_weighted,\n",
    "        \"recall_score_None\":recall_score_None\n",
    "    }\n",
    "    # F1 score\n",
    "    f1_score_micro = f1_score(y_true,y_pred,average='micro')\n",
    "    f1_score_macro = f1_score(y_true,y_pred,average='macro')\n",
    "    f1_score_weighted = f1_score(y_true,y_pred,average='weighted')\n",
    "    f1_score_None = f1_score(y_true,y_pred,average=None)\n",
    "    f1_score_dict = {\n",
    "        \"f1_score_micro\":f1_score_micro,\n",
    "        \"f1_score_macro\":f1_score_macro,\n",
    "        \"f1_score_weighted\":f1_score_weighted,\n",
    "        \"f1_score_None\":f1_score_None\n",
    "    }\n",
    "    # 综合指标\n",
    "    general_index = {\n",
    "        \"accuracy_score\":my_accuracy_score,\n",
    "        \"precision_score\":precision_score_dict,\n",
    "        \"recall_score\":recall_score_dict,\n",
    "        \"f1_score\":f1_score_dict\n",
    "    }\n",
    "    \n",
    "    \n",
    "    return correct,my_confusion_matrix,general_index"
   ]
  },
  {
   "cell_type": "code",
   "execution_count": 13,
   "id": "a732ba61",
   "metadata": {},
   "outputs": [
    {
     "name": "stdout",
     "output_type": "stream",
     "text": [
      "Test Accuracy: 95.1%\n",
      "\n",
      "valid_acc:0.9507246376811594\n",
      "confusion_matrix:[[141  12]\n",
      " [  4 187]]\n",
      "general_index:{'accuracy_score': 0.9534883720930233, 'precision_score': {'precision_score_micro': 0.9534883720930233, 'precision_score_macro': 0.9560561427828799, 'precision_score_weighted': 0.9542491930381658, 'precision_score_None': array([0.97241379, 0.93969849])}, 'recall_score': {'recall_score_micro': 0.9534883720930233, 'recall_score_macro': 0.9503131095370085, 'recall_score_weighted': 0.9534883720930233, 'recall_score_None': array([0.92156863, 0.97905759])}, 'f1_score': {'f1_score_micro': 0.9534883720930233, 'f1_score_macro': 0.9526415419032869, 'f1_score_weighted': 0.953341097277417, 'f1_score_None': array([0.94630872, 0.95897436])}}\n",
      "Done!\n"
     ]
    }
   ],
   "source": [
    "valid_acc,confusion_matrix,general_index = test_loop(test_dataloader, model, mode='Test')\n",
    "print(f'valid_acc:{valid_acc}')\n",
    "print(f'confusion_matrix:{confusion_matrix}')\n",
    "print(f'general_index:{general_index}')\n",
    "print(\"Done!\")"
   ]
  },
  {
   "cell_type": "code",
   "execution_count": 14,
   "id": "729fc16b",
   "metadata": {},
   "outputs": [
    {
     "data": {
      "image/png": "[encoded data removed]",
      "text/plain": [
       "<Figure size 432x288 with 2 Axes>"
      ]
     },
     "metadata": {
      "needs_background": "light"
     },
     "output_type": "display_data"
    }
   ],
   "source": [
    "sns.heatmap(confusion_matrix,annot=True,annot_kws={'size':20,'weight':'bold','color':'red'})\n",
    "plt.title('confusion matrix',fontsize=20)\n",
    "plt.xlabel('Predict',fontsize=14)\n",
    "plt.ylabel('Actual',fontsize=14)\n",
    "plt.show()"
   ]
  },
  {
   "cell_type": "markdown",
   "id": "7612a19f",
   "metadata": {},
   "source": [
    "### Longformer-LSTM模型"
   ]
  },
  {
   "cell_type": "code",
   "execution_count": 7,
   "id": "bebe7293",
   "metadata": {},
   "outputs": [
    {
     "name": "stdout",
     "output_type": "stream",
     "text": [
      "Using cuda:1 device\n"
     ]
    }
   ],
   "source": [
    "from transformers import AutoTokenizer,AutoModelForSequenceClassification, TrainingArguments, Trainer\n",
    "from torch import nn\n",
    "from transformers import AutoModel\n",
    "\n",
    "device = torch.device('cuda:1' if torch.cuda.is_available() else 'cpu')\n",
    "print(f'Using {device} device')\n",
    "class NeuralNetwork(nn.Module):\n",
    "    def __init__(self):\n",
    "        super(NeuralNetwork, self).__init__()\n",
    "        # 这个可以拿到预训练模型最后一层的结果\n",
    "        self.longformer = AutoModel.from_pretrained(check_point)\n",
    "        # 接一个BiGRU\n",
    "        self.lstm = nn.LSTM(input_size=768,hidden_size=512,batch_first=True,dropout=0.5)\n",
    "        # 这里可以接分类层，输入768维，最后分为2个类别\n",
    "        # 这里可以添加其他网络模型，提升效果\n",
    "        # 加多一个线性层\n",
    "        self.linear = self.linear = nn.Sequential(\n",
    "            nn.Linear(512,512),\n",
    "            torch.nn.Dropout(0.5),\n",
    "            torch.nn.ReLU(),\n",
    "            nn.Linear(512,2)\n",
    "        )\n",
    "\n",
    "    def forward(self,input_ids,token_type_ids,attention_mask):\n",
    "        # 取最后一层的第一个，因为我们希望拿到的是整句话的一个语义\n",
    "        output = self.longformer(input_ids,token_type_ids,attention_mask).last_hidden_state # 维度 [batch,seq,hidden_size]\n",
    "        output,h_n = self.lstm(output)\n",
    "        output = output[:,-1,:] # [batch,1024]\n",
    "        # 然后输送给分类的linear层\n",
    "        output = self.linear(output)\n",
    "        return output\n"
   ]
  },
  {
   "cell_type": "code",
   "execution_count": 8,
   "id": "1dba00e3",
   "metadata": {},
   "outputs": [
    {
     "name": "stderr",
     "output_type": "stream",
     "text": [
      "Some weights of the model checkpoint at schen/longformer-chinese-base-4096 were not used when initializing BertModel: ['bert.encoder.layer.9.attention.self.query_global.bias', 'cls.seq_relationship.weight', 'bert.encoder.layer.4.attention.self.value_global.bias', 'bert.encoder.layer.4.attention.self.key_global.bias', 'bert.encoder.layer.1.attention.self.value_global.bias', 'bert.encoder.layer.8.attention.self.value_global.weight', 'bert.encoder.layer.11.attention.self.value_global.weight', 'bert.encoder.layer.9.attention.self.key_global.weight', 'bert.encoder.layer.8.attention.self.query_global.bias', 'cls.predictions.bias', 'bert.encoder.layer.10.attention.self.query_global.bias', 'bert.encoder.layer.8.attention.self.key_global.bias', 'bert.encoder.layer.10.attention.self.value_global.weight', 'bert.encoder.layer.3.attention.self.query_global.weight', 'bert.encoder.layer.0.attention.self.query_global.weight', 'bert.encoder.layer.6.attention.self.value_global.bias', 'bert.encoder.layer.4.attention.self.key_global.weight', 'bert.encoder.layer.2.attention.self.key_global.weight', 'bert.encoder.layer.3.attention.self.query_global.bias', 'bert.encoder.layer.0.attention.self.key_global.weight', 'bert.encoder.layer.5.attention.self.query_global.bias', 'bert.encoder.layer.9.attention.self.key_global.bias', 'bert.encoder.layer.10.attention.self.key_global.bias', 'bert.encoder.layer.2.attention.self.value_global.weight', 'bert.encoder.layer.6.attention.self.query_global.weight', 'cls.predictions.transform.dense.bias', 'bert.encoder.layer.7.attention.self.query_global.weight', 'bert.encoder.layer.6.attention.self.value_global.weight', 'bert.encoder.layer.5.attention.self.value_global.weight', 'bert.encoder.layer.7.attention.self.key_global.bias', 'cls.seq_relationship.bias', 'bert.encoder.layer.1.attention.self.query_global.weight', 'bert.encoder.layer.10.attention.self.query_global.weight', 'bert.encoder.layer.3.attention.self.key_global.bias', 'bert.encoder.layer.11.attention.self.value_global.bias', 'cls.predictions.transform.LayerNorm.bias', 'bert.encoder.layer.7.attention.self.key_global.weight', 'bert.encoder.layer.11.attention.self.key_global.weight', 'bert.encoder.layer.3.attention.self.value_global.weight', 'bert.encoder.layer.2.attention.self.query_global.bias', 'bert.encoder.layer.0.attention.self.value_global.bias', 'bert.encoder.layer.5.attention.self.value_global.bias', 'cls.predictions.decoder.weight', 'bert.encoder.layer.4.attention.self.query_global.weight', 'bert.encoder.layer.0.attention.self.query_global.bias', 'bert.encoder.layer.9.attention.self.query_global.weight', 'bert.encoder.layer.5.attention.self.query_global.weight', 'bert.encoder.layer.4.attention.self.query_global.bias', 'bert.encoder.layer.6.attention.self.key_global.weight', 'bert.encoder.layer.10.attention.self.key_global.weight', 'bert.encoder.layer.9.attention.self.value_global.bias', 'bert.encoder.layer.2.attention.self.value_global.bias', 'bert.encoder.layer.3.attention.self.value_global.bias', 'bert.encoder.layer.11.attention.self.query_global.bias', 'bert.encoder.layer.11.attention.self.query_global.weight', 'bert.encoder.layer.7.attention.self.query_global.bias', 'cls.predictions.decoder.bias', 'bert.encoder.layer.1.attention.self.value_global.weight', 'bert.encoder.layer.8.attention.self.value_global.bias', 'cls.predictions.transform.dense.weight', 'bert.encoder.layer.1.attention.self.query_global.bias', 'bert.encoder.layer.1.attention.self.key_global.bias', 'bert.encoder.layer.9.attention.self.value_global.weight', 'bert.encoder.layer.1.attention.self.key_global.weight', 'bert.encoder.layer.2.attention.self.query_global.weight', 'bert.encoder.layer.7.attention.self.value_global.weight', 'bert.encoder.layer.4.attention.self.value_global.weight', 'bert.encoder.layer.6.attention.self.query_global.bias', 'bert.encoder.layer.5.attention.self.key_global.weight', 'bert.encoder.layer.0.attention.self.value_global.weight', 'bert.encoder.layer.3.attention.self.key_global.weight', 'bert.encoder.layer.2.attention.self.key_global.bias', 'bert.encoder.layer.10.attention.self.value_global.bias', 'bert.encoder.layer.5.attention.self.key_global.bias', 'bert.encoder.layer.7.attention.self.value_global.bias', 'bert.encoder.layer.8.attention.self.key_global.weight', 'bert.encoder.layer.8.attention.self.query_global.weight', 'bert.encoder.layer.0.attention.self.key_global.bias', 'bert.encoder.layer.11.attention.self.key_global.bias', 'cls.predictions.transform.LayerNorm.weight', 'bert.encoder.layer.6.attention.self.key_global.bias']\n",
      "- This IS expected if you are initializing BertModel from the checkpoint of a model trained on another task or with another architecture (e.g. initializing a BertForSequenceClassification model from a BertForPreTraining model).\n",
      "- This IS NOT expected if you are initializing BertModel from the checkpoint of a model that you expect to be exactly identical (initializing a BertForSequenceClassification model from a BertForSequenceClassification model).\n",
      "/home/anaconda/anaconda3/envs/pytorch/lib/python3.7/site-packages/torch/nn/modules/rnn.py:65: UserWarning: dropout option adds dropout after all but last recurrent layer, so non-zero dropout expects num_layers greater than 1, but got dropout=0.5 and num_layers=1\n",
      "  \"num_layers={}\".format(dropout, num_layers))\n"
     ]
    },
    {
     "data": {
      "text/plain": [
       "<All keys matched successfully>"
      ]
     },
     "execution_count": 8,
     "metadata": {},
     "output_type": "execute_result"
    }
   ],
   "source": [
    "model = NeuralNetwork().to(device)\n",
    "model.load_state_dict(torch.load('/home/chenli/pre_model/experiment_model/Longformer+LSTM/epoch_2_valid_acc_95.3_model_weights.bin'))"
   ]
  },
  {
   "cell_type": "code",
   "execution_count": 12,
   "id": "6029a236",
   "metadata": {},
   "outputs": [],
   "source": [
    "from sklearn.metrics import confusion_matrix\n",
    "import matplotlib.pyplot as plt\n",
    "import seaborn as sns\n",
    "from sklearn.metrics import accuracy_score\n",
    "from sklearn.metrics import precision_score\n",
    "from sklearn.metrics import recall_score\n",
    "from sklearn.metrics import f1_score\n",
    "import numpy as np\n",
    "\n",
    "def test_loop(dataloader, model, mode='Test'):\n",
    "    assert mode in ['Valid', 'Test']\n",
    "    size = len(dataloader.dataset)\n",
    "    correct = 0\n",
    "\n",
    "    # 存储真实值和预测值\n",
    "    y_true = []\n",
    "    y_pred = []\n",
    "    \n",
    "    model.eval()\n",
    "    with torch.no_grad():\n",
    "        for batch,data in enumerate(dataloader,start=1):\n",
    "            labels = data.labels.to(device)\n",
    "            input_ids = data.input_ids.to(device)\n",
    "            token_type_ids = data.token_type_ids.to(device)\n",
    "            attention_mask = data.attention_mask.to(device)\n",
    "            pred = model(input_ids,token_type_ids,attention_mask)            \n",
    "            # 添加到列表里\n",
    "            y_true.append(labels.tolist())\n",
    "            y_pred.append(pred.argmax(1).tolist())\n",
    "            correct += (pred.argmax(1) == labels).type(torch.float).sum().item()\n",
    "\n",
    "    correct /= size\n",
    "    print(f\"{mode} Accuracy: {(100*correct):>0.1f}%\\n\")\n",
    "    \n",
    "    y_true = [i for k in y_true for i in k]\n",
    "    y_pred = [i for k in y_pred for i in k]\n",
    "    # 混淆矩阵\n",
    "    my_confusion_matrix = confusion_matrix(y_true,y_pred,labels=[0,1])\n",
    "    # 准确率\n",
    "    my_accuracy_score = accuracy_score(y_true,y_pred)\n",
    "    # 精准率\n",
    "    precision_score_micro = precision_score(y_true,y_pred,average='micro')# 推荐使用这个\n",
    "    precision_score_macro = precision_score(y_true,y_pred,average='macro')\n",
    "    precision_score_weighted = precision_score(y_true,y_pred,average='weighted')\n",
    "    precision_score_None = precision_score(y_true,y_pred,average=None)\n",
    "    precision_score_dict = {\n",
    "        \"precision_score_micro\":precision_score_micro,\n",
    "        \"precision_score_macro\":precision_score_macro,\n",
    "        \"precision_score_weighted\":precision_score_weighted,\n",
    "        \"precision_score_None\":precision_score_None\n",
    "    }\n",
    "    # 召回率\n",
    "    recall_score_micro = recall_score(y_true,y_pred,average='micro')\n",
    "    recall_score_macro = recall_score(y_true,y_pred,average='macro')\n",
    "    recall_score_weighted = recall_score(y_true,y_pred,average='weighted')\n",
    "    recall_score_None = recall_score(y_true,y_pred,average=None)\n",
    "    recall_score_dict = {\n",
    "        \"recall_score_micro\":recall_score_micro,\n",
    "        \"recall_score_macro\":recall_score_macro,\n",
    "        \"recall_score_weighted\":recall_score_weighted,\n",
    "        \"recall_score_None\":recall_score_None\n",
    "    }\n",
    "    # F1 score\n",
    "    f1_score_micro = f1_score(y_true,y_pred,average='micro')\n",
    "    f1_score_macro = f1_score(y_true,y_pred,average='macro')\n",
    "    f1_score_weighted = f1_score(y_true,y_pred,average='weighted')\n",
    "    f1_score_None = f1_score(y_true,y_pred,average=None)\n",
    "    f1_score_dict = {\n",
    "        \"f1_score_micro\":f1_score_micro,\n",
    "        \"f1_score_macro\":f1_score_macro,\n",
    "        \"f1_score_weighted\":f1_score_weighted,\n",
    "        \"f1_score_None\":f1_score_None\n",
    "    }\n",
    "    # 综合指标\n",
    "    general_index = {\n",
    "        \"accuracy_score\":my_accuracy_score,\n",
    "        \"precision_score\":precision_score_dict,\n",
    "        \"recall_score\":recall_score_dict,\n",
    "        \"f1_score\":f1_score_dict\n",
    "    }\n",
    "    \n",
    "    \n",
    "    return correct,my_confusion_matrix,general_index"
   ]
  },
  {
   "cell_type": "code",
   "execution_count": 10,
   "id": "63f22bef",
   "metadata": {},
   "outputs": [
    {
     "name": "stdout",
     "output_type": "stream",
     "text": [
      "Valid Accuracy: 95.3%\n",
      "\n",
      "valid_acc:0.9534883720930233\n",
      "confusion_matrix:[[146   8]\n",
      " [  8 182]]\n",
      "general_index:{'accuracy_score': 0.9534883720930233, 'precision_score': {'precision_score_micro': 0.9534883720930233, 'precision_score_macro': 0.9529733424470266, 'precision_score_weighted': 0.9534883720930233, 'precision_score_None': array([0.94805195, 0.95789474])}, 'recall_score': {'recall_score_micro': 0.9534883720930233, 'recall_score_macro': 0.9529733424470266, 'recall_score_weighted': 0.9534883720930233, 'recall_score_None': array([0.94805195, 0.95789474])}, 'f1_score': {'f1_score_micro': 0.9534883720930233, 'f1_score_macro': 0.9529733424470266, 'f1_score_weighted': 0.9534883720930233, 'f1_score_None': array([0.94805195, 0.95789474])}}\n",
      "Done!\n"
     ]
    }
   ],
   "source": [
    "valid_acc,confusion_matrix,general_index = test_loop(valid_dataloader, model, mode='Valid')\n",
    "print(f'valid_acc:{valid_acc}')\n",
    "print(f'confusion_matrix:{confusion_matrix}')\n",
    "print(f'general_index:{general_index}')\n",
    "print(\"Done!\")"
   ]
  },
  {
   "cell_type": "code",
   "execution_count": 11,
   "id": "b2305ada",
   "metadata": {},
   "outputs": [
    {
     "data": {
      "image/png": "[encoded data removed]",
      "text/plain": [
       "<Figure size 432x288 with 2 Axes>"
      ]
     },
     "metadata": {
      "needs_background": "light"
     },
     "output_type": "display_data"
    }
   ],
   "source": [
    "sns.heatmap(confusion_matrix,annot=True,annot_kws={'size':20,'weight':'bold','color':'red'})\n",
    "plt.title('confusion matrix',fontsize=20)\n",
    "plt.xlabel('Predict',fontsize=14)\n",
    "plt.ylabel('Actual',fontsize=14)\n",
    "plt.show()"
   ]
  },
  {
   "cell_type": "code",
   "execution_count": 13,
   "id": "2f8a36c8",
   "metadata": {},
   "outputs": [
    {
     "name": "stdout",
     "output_type": "stream",
     "text": [
      "Test Accuracy: 95.7%\n",
      "\n",
      "valid_acc:0.9565217391304348\n",
      "confusion_matrix:[[143  10]\n",
      " [  4 187]]\n",
      "general_index:{'accuracy_score': 0.9593023255813954, 'precision_score': {'precision_score_micro': 0.9593023255813954, 'precision_score_macro': 0.9610138471632308, 'precision_score_weighted': 0.9597130907610357, 'precision_score_None': array([0.97278912, 0.94923858])}, 'recall_score': {'recall_score_micro': 0.9593023255813954, 'recall_score_macro': 0.9568490572494268, 'recall_score_weighted': 0.9593023255813954, 'recall_score_None': array([0.93464052, 0.97905759])}, 'f1_score': {'f1_score_micro': 0.9593023255813954, 'f1_score_macro': 0.9586254295532646, 'f1_score_weighted': 0.9592100215775593, 'f1_score_None': array([0.95333333, 0.96391753])}}\n",
      "Done!\n"
     ]
    }
   ],
   "source": [
    "valid_acc,confusion_matrix,general_index = test_loop(test_dataloader, model, mode='Test')\n",
    "print(f'valid_acc:{valid_acc}')\n",
    "print(f'confusion_matrix:{confusion_matrix}')\n",
    "print(f'general_index:{general_index}')\n",
    "print(\"Done!\")"
   ]
  },
  {
   "cell_type": "code",
   "execution_count": 14,
   "id": "d214114a",
   "metadata": {},
   "outputs": [
    {
     "data": {
      "image/png": "[encoded data removed]",
      "text/plain": [
       "<Figure size 432x288 with 2 Axes>"
      ]
     },
     "metadata": {
      "needs_background": "light"
     },
     "output_type": "display_data"
    }
   ],
   "source": [
    "sns.heatmap(confusion_matrix,annot=True,annot_kws={'size':20,'weight':'bold','color':'red'})\n",
    "plt.title('confusion matrix',fontsize=20)\n",
    "plt.xlabel('Predict',fontsize=14)\n",
    "plt.ylabel('Actual',fontsize=14)\n",
    "plt.show()"
   ]
  },
  {
   "cell_type": "markdown",
   "id": "af9d13ff",
   "metadata": {},
   "source": [
    "### Longformer+BiLSTM模型"
   ]
  },
  {
   "cell_type": "code",
   "execution_count": 7,
   "id": "515613f3",
   "metadata": {},
   "outputs": [
    {
     "name": "stdout",
     "output_type": "stream",
     "text": [
      "Using cuda:1 device\n"
     ]
    }
   ],
   "source": [
    "from transformers import AutoTokenizer,AutoModelForSequenceClassification, TrainingArguments, Trainer\n",
    "from torch import nn\n",
    "from transformers import AutoModel\n",
    "\n",
    "device = torch.device('cuda:1' if torch.cuda.is_available() else 'cpu')\n",
    "print(f'Using {device} device')\n",
    "class NeuralNetwork(nn.Module):\n",
    "    def __init__(self):\n",
    "        super(NeuralNetwork, self).__init__()\n",
    "        # 这个可以拿到预训练模型最后一层的结果\n",
    "        self.longformer = AutoModel.from_pretrained(check_point)\n",
    "        # 接一个BiGRU\n",
    "        self.lstm = nn.LSTM(input_size=768,hidden_size=512,batch_first=True,bidirectional=True,dropout=0.5)\n",
    "        # 这里可以接分类层，输入768维，最后分为2个类别\n",
    "        # 这里可以添加其他网络模型，提升效果\n",
    "        # 加多一个线性层\n",
    "        self.linear = self.linear = nn.Sequential(\n",
    "            nn.Linear(1024,512),\n",
    "            torch.nn.Dropout(0.5),\n",
    "            torch.nn.ReLU(),\n",
    "            nn.Linear(512,2)\n",
    "        )\n",
    "\n",
    "    def forward(self,input_ids,token_type_ids,attention_mask):\n",
    "        # 取最后一层的第一个，因为我们希望拿到的是整句话的一个语义\n",
    "        output = self.longformer(input_ids,token_type_ids,attention_mask).last_hidden_state # 维度 [batch,seq,hidden_size]\n",
    "        output,h_n = self.lstm(output)\n",
    "        output = output[:,-1,:] # [batch,1024]\n",
    "        # 然后输送给分类的linear层\n",
    "        output = self.linear(output)\n",
    "        return output"
   ]
  },
  {
   "cell_type": "code",
   "execution_count": 9,
   "id": "9fc0f80a",
   "metadata": {},
   "outputs": [
    {
     "name": "stderr",
     "output_type": "stream",
     "text": [
      "Some weights of the model checkpoint at schen/longformer-chinese-base-4096 were not used when initializing BertModel: ['bert.encoder.layer.7.attention.self.value_global.bias', 'bert.encoder.layer.1.attention.self.value_global.weight', 'bert.encoder.layer.5.attention.self.key_global.bias', 'bert.encoder.layer.4.attention.self.query_global.weight', 'bert.encoder.layer.2.attention.self.query_global.bias', 'bert.encoder.layer.10.attention.self.value_global.weight', 'bert.encoder.layer.0.attention.self.query_global.weight', 'bert.encoder.layer.5.attention.self.query_global.bias', 'bert.encoder.layer.10.attention.self.query_global.weight', 'cls.predictions.transform.dense.bias', 'bert.encoder.layer.3.attention.self.query_global.weight', 'bert.encoder.layer.3.attention.self.key_global.weight', 'bert.encoder.layer.5.attention.self.key_global.weight', 'bert.encoder.layer.4.attention.self.query_global.bias', 'bert.encoder.layer.9.attention.self.value_global.weight', 'cls.predictions.transform.LayerNorm.bias', 'bert.encoder.layer.4.attention.self.key_global.bias', 'bert.encoder.layer.5.attention.self.query_global.weight', 'bert.encoder.layer.8.attention.self.key_global.bias', 'bert.encoder.layer.7.attention.self.key_global.bias', 'bert.encoder.layer.3.attention.self.value_global.bias', 'bert.encoder.layer.9.attention.self.key_global.bias', 'bert.encoder.layer.11.attention.self.key_global.weight', 'bert.encoder.layer.7.attention.self.key_global.weight', 'bert.encoder.layer.1.attention.self.query_global.weight', 'bert.encoder.layer.5.attention.self.value_global.weight', 'bert.encoder.layer.10.attention.self.query_global.bias', 'bert.encoder.layer.10.attention.self.key_global.weight', 'bert.encoder.layer.2.attention.self.key_global.bias', 'bert.encoder.layer.10.attention.self.value_global.bias', 'cls.predictions.transform.dense.weight', 'cls.predictions.decoder.bias', 'bert.encoder.layer.0.attention.self.key_global.weight', 'bert.encoder.layer.8.attention.self.key_global.weight', 'cls.seq_relationship.weight', 'bert.encoder.layer.6.attention.self.value_global.bias', 'bert.encoder.layer.7.attention.self.query_global.bias', 'bert.encoder.layer.0.attention.self.key_global.bias', 'bert.encoder.layer.4.attention.self.value_global.bias', 'bert.encoder.layer.9.attention.self.query_global.weight', 'bert.encoder.layer.1.attention.self.value_global.bias', 'bert.encoder.layer.11.attention.self.query_global.bias', 'cls.predictions.transform.LayerNorm.weight', 'bert.encoder.layer.11.attention.self.query_global.weight', 'bert.encoder.layer.10.attention.self.key_global.bias', 'bert.encoder.layer.1.attention.self.key_global.weight', 'bert.encoder.layer.9.attention.self.key_global.weight', 'bert.encoder.layer.3.attention.self.query_global.bias', 'cls.predictions.bias', 'bert.encoder.layer.8.attention.self.query_global.bias', 'bert.encoder.layer.6.attention.self.key_global.weight', 'bert.encoder.layer.9.attention.self.value_global.bias', 'bert.encoder.layer.6.attention.self.key_global.bias', 'bert.encoder.layer.8.attention.self.value_global.weight', 'bert.encoder.layer.7.attention.self.query_global.weight', 'bert.encoder.layer.11.attention.self.value_global.bias', 'bert.encoder.layer.1.attention.self.key_global.bias', 'bert.encoder.layer.2.attention.self.value_global.bias', 'bert.encoder.layer.9.attention.self.query_global.bias', 'cls.predictions.decoder.weight', 'bert.encoder.layer.2.attention.self.query_global.weight', 'bert.encoder.layer.0.attention.self.query_global.bias', 'bert.encoder.layer.1.attention.self.query_global.bias', 'bert.encoder.layer.3.attention.self.value_global.weight', 'bert.encoder.layer.8.attention.self.query_global.weight', 'bert.encoder.layer.6.attention.self.query_global.weight', 'bert.encoder.layer.2.attention.self.value_global.weight', 'bert.encoder.layer.3.attention.self.key_global.bias', 'bert.encoder.layer.11.attention.self.key_global.bias', 'bert.encoder.layer.7.attention.self.value_global.weight', 'bert.encoder.layer.8.attention.self.value_global.bias', 'bert.encoder.layer.4.attention.self.value_global.weight', 'bert.encoder.layer.4.attention.self.key_global.weight', 'bert.encoder.layer.0.attention.self.value_global.weight', 'bert.encoder.layer.2.attention.self.key_global.weight', 'bert.encoder.layer.6.attention.self.query_global.bias', 'cls.seq_relationship.bias', 'bert.encoder.layer.6.attention.self.value_global.weight', 'bert.encoder.layer.5.attention.self.value_global.bias', 'bert.encoder.layer.0.attention.self.value_global.bias', 'bert.encoder.layer.11.attention.self.value_global.weight']\n",
      "- This IS expected if you are initializing BertModel from the checkpoint of a model trained on another task or with another architecture (e.g. initializing a BertForSequenceClassification model from a BertForPreTraining model).\n",
      "- This IS NOT expected if you are initializing BertModel from the checkpoint of a model that you expect to be exactly identical (initializing a BertForSequenceClassification model from a BertForSequenceClassification model).\n"
     ]
    },
    {
     "data": {
      "text/plain": [
       "<All keys matched successfully>"
      ]
     },
     "execution_count": 9,
     "metadata": {},
     "output_type": "execute_result"
    }
   ],
   "source": [
    "model = NeuralNetwork().to(device)\n",
    "model.load_state_dict(torch.load('/home/chenli/pre_model/experiment_model/Longformer+BiLSTM/epoch_9_valid_acc_96.8_model_weights.bin'))"
   ]
  },
  {
   "cell_type": "code",
   "execution_count": 12,
   "id": "50f11293",
   "metadata": {},
   "outputs": [],
   "source": [
    "from sklearn.metrics import confusion_matrix\n",
    "import matplotlib.pyplot as plt\n",
    "import seaborn as sns\n",
    "from sklearn.metrics import accuracy_score\n",
    "from sklearn.metrics import precision_score\n",
    "from sklearn.metrics import recall_score\n",
    "from sklearn.metrics import f1_score\n",
    "import numpy as np\n",
    "\n",
    "def test_loop(dataloader, model, mode='Test'):\n",
    "    assert mode in ['Valid', 'Test']\n",
    "    size = len(dataloader.dataset)\n",
    "    correct = 0\n",
    "\n",
    "    # 存储真实值和预测值\n",
    "    y_true = []\n",
    "    y_pred = []\n",
    "    \n",
    "    model.eval()\n",
    "    with torch.no_grad():\n",
    "        for batch,data in enumerate(dataloader,start=1):\n",
    "            labels = data.labels.to(device)\n",
    "            input_ids = data.input_ids.to(device)\n",
    "            token_type_ids = data.token_type_ids.to(device)\n",
    "            attention_mask = data.attention_mask.to(device)\n",
    "            pred = model(input_ids,token_type_ids,attention_mask)            \n",
    "            # 添加到列表里\n",
    "            y_true.append(labels.tolist())\n",
    "            y_pred.append(pred.argmax(1).tolist())\n",
    "            correct += (pred.argmax(1) == labels).type(torch.float).sum().item()\n",
    "\n",
    "    correct /= size\n",
    "    print(f\"{mode} Accuracy: {(100*correct):>0.1f}%\\n\")\n",
    "    \n",
    "    y_true = [i for k in y_true for i in k]\n",
    "    y_pred = [i for k in y_pred for i in k]\n",
    "    # 混淆矩阵\n",
    "    my_confusion_matrix = confusion_matrix(y_true,y_pred,labels=[0,1])\n",
    "    # 准确率\n",
    "    my_accuracy_score = accuracy_score(y_true,y_pred)\n",
    "    # 精准率\n",
    "    precision_score_micro = precision_score(y_true,y_pred,average='micro')# 推荐使用这个\n",
    "    precision_score_macro = precision_score(y_true,y_pred,average='macro')\n",
    "    precision_score_weighted = precision_score(y_true,y_pred,average='weighted')\n",
    "    precision_score_None = precision_score(y_true,y_pred,average=None)\n",
    "    precision_score_dict = {\n",
    "        \"precision_score_micro\":precision_score_micro,\n",
    "        \"precision_score_macro\":precision_score_macro,\n",
    "        \"precision_score_weighted\":precision_score_weighted,\n",
    "        \"precision_score_None\":precision_score_None\n",
    "    }\n",
    "    # 召回率\n",
    "    recall_score_micro = recall_score(y_true,y_pred,average='micro')\n",
    "    recall_score_macro = recall_score(y_true,y_pred,average='macro')\n",
    "    recall_score_weighted = recall_score(y_true,y_pred,average='weighted')\n",
    "    recall_score_None = recall_score(y_true,y_pred,average=None)\n",
    "    recall_score_dict = {\n",
    "        \"recall_score_micro\":recall_score_micro,\n",
    "        \"recall_score_macro\":recall_score_macro,\n",
    "        \"recall_score_weighted\":recall_score_weighted,\n",
    "        \"recall_score_None\":recall_score_None\n",
    "    }\n",
    "    # F1 score\n",
    "    f1_score_micro = f1_score(y_true,y_pred,average='micro')\n",
    "    f1_score_macro = f1_score(y_true,y_pred,average='macro')\n",
    "    f1_score_weighted = f1_score(y_true,y_pred,average='weighted')\n",
    "    f1_score_None = f1_score(y_true,y_pred,average=None)\n",
    "    f1_score_dict = {\n",
    "        \"f1_score_micro\":f1_score_micro,\n",
    "        \"f1_score_macro\":f1_score_macro,\n",
    "        \"f1_score_weighted\":f1_score_weighted,\n",
    "        \"f1_score_None\":f1_score_None\n",
    "    }\n",
    "    # 综合指标\n",
    "    general_index = {\n",
    "        \"accuracy_score\":my_accuracy_score,\n",
    "        \"precision_score\":precision_score_dict,\n",
    "        \"recall_score\":recall_score_dict,\n",
    "        \"f1_score\":f1_score_dict\n",
    "    }\n",
    "    \n",
    "    \n",
    "    return correct,my_confusion_matrix,general_index"
   ]
  },
  {
   "cell_type": "code",
   "execution_count": 11,
   "id": "e0e90001",
   "metadata": {},
   "outputs": [
    {
     "name": "stdout",
     "output_type": "stream",
     "text": [
      "Valid Accuracy: 96.8%\n",
      "\n",
      "valid_acc:0.9680232558139535\n",
      "confusion_matrix:[[147   7]\n",
      " [  4 186]]\n",
      "general_index:{'accuracy_score': 0.9680232558139535, 'precision_score': {'precision_score_micro': 0.9680232558139535, 'precision_score_macro': 0.9686202518615105, 'precision_score_weighted': 0.9681085409636044, 'precision_score_None': array([0.97350993, 0.96373057])}, 'recall_score': {'recall_score_micro': 0.9680232558139535, 'recall_score_macro': 0.9667464114832536, 'recall_score_weighted': 0.9680232558139535, 'recall_score_None': array([0.95454545, 0.97894737])}, 'f1_score': {'f1_score_micro': 0.9680232558139535, 'f1_score_macro': 0.9676068997988273, 'f1_score_weighted': 0.9679912284281745, 'f1_score_None': array([0.96393443, 0.97127937])}}\n",
      "Done!\n"
     ]
    }
   ],
   "source": [
    "valid_acc,confusion_matrix,general_index = test_loop(valid_dataloader, model, mode='Valid')\n",
    "print(f'valid_acc:{valid_acc}')\n",
    "print(f'confusion_matrix:{confusion_matrix}')\n",
    "print(f'general_index:{general_index}')\n",
    "print(\"Done!\")"
   ]
  },
  {
   "cell_type": "code",
   "execution_count": 13,
   "id": "9960bdf3",
   "metadata": {},
   "outputs": [
    {
     "ename": "ValueError",
     "evalue": "Must pass 2-d input. shape=()",
     "output_type": "error",
     "traceback": [
      "\u001b[0;31m---------------------------------------------------------------------------\u001b[0m",
      "\u001b[0;31mValueError\u001b[0m                                Traceback (most recent call last)",
      "\u001b[0;32m/tmp/ipykernel_257863/224025883.py\u001b[0m in \u001b[0;36m<module>\u001b[0;34m\u001b[0m\n\u001b[0;32m----> 1\u001b[0;31m \u001b[0msns\u001b[0m\u001b[0;34m.\u001b[0m\u001b[0mheatmap\u001b[0m\u001b[0;34m(\u001b[0m\u001b[0mconfusion_matrix\u001b[0m\u001b[0;34m,\u001b[0m\u001b[0mannot\u001b[0m\u001b[0;34m=\u001b[0m\u001b[0;32mTrue\u001b[0m\u001b[0;34m,\u001b[0m\u001b[0mannot_kws\u001b[0m\u001b[0;34m=\u001b[0m\u001b[0;34m{\u001b[0m\u001b[0;34m'size'\u001b[0m\u001b[0;34m:\u001b[0m\u001b[0;36m20\u001b[0m\u001b[0;34m,\u001b[0m\u001b[0;34m'weight'\u001b[0m\u001b[0;34m:\u001b[0m\u001b[0;34m'bold'\u001b[0m\u001b[0;34m,\u001b[0m\u001b[0;34m'color'\u001b[0m\u001b[0;34m:\u001b[0m\u001b[0;34m'red'\u001b[0m\u001b[0;34m}\u001b[0m\u001b[0;34m)\u001b[0m\u001b[0;34m\u001b[0m\u001b[0;34m\u001b[0m\u001b[0m\n\u001b[0m\u001b[1;32m      2\u001b[0m \u001b[0mplt\u001b[0m\u001b[0;34m.\u001b[0m\u001b[0mtitle\u001b[0m\u001b[0;34m(\u001b[0m\u001b[0;34m'confusion matrix'\u001b[0m\u001b[0;34m,\u001b[0m\u001b[0mfontsize\u001b[0m\u001b[0;34m=\u001b[0m\u001b[0;36m20\u001b[0m\u001b[0;34m)\u001b[0m\u001b[0;34m\u001b[0m\u001b[0;34m\u001b[0m\u001b[0m\n\u001b[1;32m      3\u001b[0m \u001b[0mplt\u001b[0m\u001b[0;34m.\u001b[0m\u001b[0mxlabel\u001b[0m\u001b[0;34m(\u001b[0m\u001b[0;34m'Predict'\u001b[0m\u001b[0;34m,\u001b[0m\u001b[0mfontsize\u001b[0m\u001b[0;34m=\u001b[0m\u001b[0;36m14\u001b[0m\u001b[0;34m)\u001b[0m\u001b[0;34m\u001b[0m\u001b[0;34m\u001b[0m\u001b[0m\n\u001b[1;32m      4\u001b[0m \u001b[0mplt\u001b[0m\u001b[0;34m.\u001b[0m\u001b[0mylabel\u001b[0m\u001b[0;34m(\u001b[0m\u001b[0;34m'Actual'\u001b[0m\u001b[0;34m,\u001b[0m\u001b[0mfontsize\u001b[0m\u001b[0;34m=\u001b[0m\u001b[0;36m14\u001b[0m\u001b[0;34m)\u001b[0m\u001b[0;34m\u001b[0m\u001b[0;34m\u001b[0m\u001b[0m\n\u001b[1;32m      5\u001b[0m \u001b[0mplt\u001b[0m\u001b[0;34m.\u001b[0m\u001b[0mshow\u001b[0m\u001b[0;34m(\u001b[0m\u001b[0;34m)\u001b[0m\u001b[0;34m\u001b[0m\u001b[0;34m\u001b[0m\u001b[0m\n",
      "\u001b[0;32m/home/anaconda/anaconda3/envs/pytorch/lib/python3.7/site-packages/seaborn/_decorators.py\u001b[0m in \u001b[0;36minner_f\u001b[0;34m(*args, **kwargs)\u001b[0m\n\u001b[1;32m     44\u001b[0m             )\n\u001b[1;32m     45\u001b[0m         \u001b[0mkwargs\u001b[0m\u001b[0;34m.\u001b[0m\u001b[0mupdate\u001b[0m\u001b[0;34m(\u001b[0m\u001b[0;34m{\u001b[0m\u001b[0mk\u001b[0m\u001b[0;34m:\u001b[0m \u001b[0marg\u001b[0m \u001b[0;32mfor\u001b[0m \u001b[0mk\u001b[0m\u001b[0;34m,\u001b[0m \u001b[0marg\u001b[0m \u001b[0;32min\u001b[0m \u001b[0mzip\u001b[0m\u001b[0;34m(\u001b[0m\u001b[0msig\u001b[0m\u001b[0;34m.\u001b[0m\u001b[0mparameters\u001b[0m\u001b[0;34m,\u001b[0m \u001b[0margs\u001b[0m\u001b[0;34m)\u001b[0m\u001b[0;34m}\u001b[0m\u001b[0;34m)\u001b[0m\u001b[0;34m\u001b[0m\u001b[0;34m\u001b[0m\u001b[0m\n\u001b[0;32m---> 46\u001b[0;31m         \u001b[0;32mreturn\u001b[0m \u001b[0mf\u001b[0m\u001b[0;34m(\u001b[0m\u001b[0;34m**\u001b[0m\u001b[0mkwargs\u001b[0m\u001b[0;34m)\u001b[0m\u001b[0;34m\u001b[0m\u001b[0;34m\u001b[0m\u001b[0m\n\u001b[0m\u001b[1;32m     47\u001b[0m     \u001b[0;32mreturn\u001b[0m \u001b[0minner_f\u001b[0m\u001b[0;34m\u001b[0m\u001b[0;34m\u001b[0m\u001b[0m\n\u001b[1;32m     48\u001b[0m \u001b[0;34m\u001b[0m\u001b[0m\n",
      "\u001b[0;32m/home/anaconda/anaconda3/envs/pytorch/lib/python3.7/site-packages/seaborn/matrix.py\u001b[0m in \u001b[0;36mheatmap\u001b[0;34m(data, vmin, vmax, cmap, center, robust, annot, fmt, annot_kws, linewidths, linecolor, cbar, cbar_kws, cbar_ax, square, xticklabels, yticklabels, mask, ax, **kwargs)\u001b[0m\n\u001b[1;32m    545\u001b[0m     plotter = _HeatMapper(data, vmin, vmax, cmap, center, robust, annot, fmt,\n\u001b[1;32m    546\u001b[0m                           \u001b[0mannot_kws\u001b[0m\u001b[0;34m,\u001b[0m \u001b[0mcbar\u001b[0m\u001b[0;34m,\u001b[0m \u001b[0mcbar_kws\u001b[0m\u001b[0;34m,\u001b[0m \u001b[0mxticklabels\u001b[0m\u001b[0;34m,\u001b[0m\u001b[0;34m\u001b[0m\u001b[0;34m\u001b[0m\u001b[0m\n\u001b[0;32m--> 547\u001b[0;31m                           yticklabels, mask)\n\u001b[0m\u001b[1;32m    548\u001b[0m \u001b[0;34m\u001b[0m\u001b[0m\n\u001b[1;32m    549\u001b[0m     \u001b[0;31m# Add the pcolormesh kwargs here\u001b[0m\u001b[0;34m\u001b[0m\u001b[0;34m\u001b[0m\u001b[0;34m\u001b[0m\u001b[0m\n",
      "\u001b[0;32m/home/anaconda/anaconda3/envs/pytorch/lib/python3.7/site-packages/seaborn/matrix.py\u001b[0m in \u001b[0;36m__init__\u001b[0;34m(self, data, vmin, vmax, cmap, center, robust, annot, fmt, annot_kws, cbar, cbar_kws, xticklabels, yticklabels, mask)\u001b[0m\n\u001b[1;32m    107\u001b[0m         \u001b[0;32melse\u001b[0m\u001b[0;34m:\u001b[0m\u001b[0;34m\u001b[0m\u001b[0;34m\u001b[0m\u001b[0m\n\u001b[1;32m    108\u001b[0m             \u001b[0mplot_data\u001b[0m \u001b[0;34m=\u001b[0m \u001b[0mnp\u001b[0m\u001b[0;34m.\u001b[0m\u001b[0masarray\u001b[0m\u001b[0;34m(\u001b[0m\u001b[0mdata\u001b[0m\u001b[0;34m)\u001b[0m\u001b[0;34m\u001b[0m\u001b[0;34m\u001b[0m\u001b[0m\n\u001b[0;32m--> 109\u001b[0;31m             \u001b[0mdata\u001b[0m \u001b[0;34m=\u001b[0m \u001b[0mpd\u001b[0m\u001b[0;34m.\u001b[0m\u001b[0mDataFrame\u001b[0m\u001b[0;34m(\u001b[0m\u001b[0mplot_data\u001b[0m\u001b[0;34m)\u001b[0m\u001b[0;34m\u001b[0m\u001b[0;34m\u001b[0m\u001b[0m\n\u001b[0m\u001b[1;32m    110\u001b[0m \u001b[0;34m\u001b[0m\u001b[0m\n\u001b[1;32m    111\u001b[0m         \u001b[0;31m# Validate the mask and convet to DataFrame\u001b[0m\u001b[0;34m\u001b[0m\u001b[0;34m\u001b[0m\u001b[0;34m\u001b[0m\u001b[0m\n",
      "\u001b[0;32m/home/anaconda/anaconda3/envs/pytorch/lib/python3.7/site-packages/pandas/core/frame.py\u001b[0m in \u001b[0;36m__init__\u001b[0;34m(self, data, index, columns, dtype, copy)\u001b[0m\n\u001b[1;32m    676\u001b[0m                     \u001b[0mdtype\u001b[0m\u001b[0;34m=\u001b[0m\u001b[0mdtype\u001b[0m\u001b[0;34m,\u001b[0m\u001b[0;34m\u001b[0m\u001b[0;34m\u001b[0m\u001b[0m\n\u001b[1;32m    677\u001b[0m                     \u001b[0mcopy\u001b[0m\u001b[0;34m=\u001b[0m\u001b[0mcopy\u001b[0m\u001b[0;34m,\u001b[0m\u001b[0;34m\u001b[0m\u001b[0;34m\u001b[0m\u001b[0m\n\u001b[0;32m--> 678\u001b[0;31m                     \u001b[0mtyp\u001b[0m\u001b[0;34m=\u001b[0m\u001b[0mmanager\u001b[0m\u001b[0;34m,\u001b[0m\u001b[0;34m\u001b[0m\u001b[0;34m\u001b[0m\u001b[0m\n\u001b[0m\u001b[1;32m    679\u001b[0m                 )\n\u001b[1;32m    680\u001b[0m \u001b[0;34m\u001b[0m\u001b[0m\n",
      "\u001b[0;32m/home/anaconda/anaconda3/envs/pytorch/lib/python3.7/site-packages/pandas/core/internals/construction.py\u001b[0m in \u001b[0;36mndarray_to_mgr\u001b[0;34m(values, index, columns, dtype, copy, typ)\u001b[0m\n\u001b[1;32m    302\u001b[0m         \u001b[0;31m# by definition an array here\u001b[0m\u001b[0;34m\u001b[0m\u001b[0;34m\u001b[0m\u001b[0;34m\u001b[0m\u001b[0m\n\u001b[1;32m    303\u001b[0m         \u001b[0;31m# the dtypes will be coerced to a single dtype\u001b[0m\u001b[0;34m\u001b[0m\u001b[0;34m\u001b[0m\u001b[0;34m\u001b[0m\u001b[0m\n\u001b[0;32m--> 304\u001b[0;31m         \u001b[0mvalues\u001b[0m \u001b[0;34m=\u001b[0m \u001b[0m_prep_ndarray\u001b[0m\u001b[0;34m(\u001b[0m\u001b[0mvalues\u001b[0m\u001b[0;34m,\u001b[0m \u001b[0mcopy\u001b[0m\u001b[0;34m=\u001b[0m\u001b[0mcopy\u001b[0m\u001b[0;34m)\u001b[0m\u001b[0;34m\u001b[0m\u001b[0;34m\u001b[0m\u001b[0m\n\u001b[0m\u001b[1;32m    305\u001b[0m \u001b[0;34m\u001b[0m\u001b[0m\n\u001b[1;32m    306\u001b[0m     \u001b[0;32mif\u001b[0m \u001b[0mdtype\u001b[0m \u001b[0;32mis\u001b[0m \u001b[0;32mnot\u001b[0m \u001b[0;32mNone\u001b[0m \u001b[0;32mand\u001b[0m \u001b[0;32mnot\u001b[0m \u001b[0mis_dtype_equal\u001b[0m\u001b[0;34m(\u001b[0m\u001b[0mvalues\u001b[0m\u001b[0;34m.\u001b[0m\u001b[0mdtype\u001b[0m\u001b[0;34m,\u001b[0m \u001b[0mdtype\u001b[0m\u001b[0;34m)\u001b[0m\u001b[0;34m:\u001b[0m\u001b[0;34m\u001b[0m\u001b[0;34m\u001b[0m\u001b[0m\n",
      "\u001b[0;32m/home/anaconda/anaconda3/envs/pytorch/lib/python3.7/site-packages/pandas/core/internals/construction.py\u001b[0m in \u001b[0;36m_prep_ndarray\u001b[0;34m(values, copy)\u001b[0m\n\u001b[1;32m    553\u001b[0m         \u001b[0mvalues\u001b[0m \u001b[0;34m=\u001b[0m \u001b[0mvalues\u001b[0m\u001b[0;34m.\u001b[0m\u001b[0mreshape\u001b[0m\u001b[0;34m(\u001b[0m\u001b[0;34m(\u001b[0m\u001b[0mvalues\u001b[0m\u001b[0;34m.\u001b[0m\u001b[0mshape\u001b[0m\u001b[0;34m[\u001b[0m\u001b[0;36m0\u001b[0m\u001b[0;34m]\u001b[0m\u001b[0;34m,\u001b[0m \u001b[0;36m1\u001b[0m\u001b[0;34m)\u001b[0m\u001b[0;34m)\u001b[0m\u001b[0;34m\u001b[0m\u001b[0;34m\u001b[0m\u001b[0m\n\u001b[1;32m    554\u001b[0m     \u001b[0;32melif\u001b[0m \u001b[0mvalues\u001b[0m\u001b[0;34m.\u001b[0m\u001b[0mndim\u001b[0m \u001b[0;34m!=\u001b[0m \u001b[0;36m2\u001b[0m\u001b[0;34m:\u001b[0m\u001b[0;34m\u001b[0m\u001b[0;34m\u001b[0m\u001b[0m\n\u001b[0;32m--> 555\u001b[0;31m         \u001b[0;32mraise\u001b[0m \u001b[0mValueError\u001b[0m\u001b[0;34m(\u001b[0m\u001b[0;34mf\"Must pass 2-d input. shape={values.shape}\"\u001b[0m\u001b[0;34m)\u001b[0m\u001b[0;34m\u001b[0m\u001b[0;34m\u001b[0m\u001b[0m\n\u001b[0m\u001b[1;32m    556\u001b[0m \u001b[0;34m\u001b[0m\u001b[0m\n\u001b[1;32m    557\u001b[0m     \u001b[0;32mreturn\u001b[0m \u001b[0mvalues\u001b[0m\u001b[0;34m\u001b[0m\u001b[0;34m\u001b[0m\u001b[0m\n",
      "\u001b[0;31mValueError\u001b[0m: Must pass 2-d input. shape=()"
     ]
    }
   ],
   "source": [
    "sns.heatmap(confusion_matrix,annot=True,annot_kws={'size':20,'weight':'bold','color':'red'})\n",
    "plt.title('confusion matrix',fontsize=20)\n",
    "plt.xlabel('Predict',fontsize=14)\n",
    "plt.ylabel('Actual',fontsize=14)\n",
    "plt.show()"
   ]
  },
  {
   "cell_type": "code",
   "execution_count": 14,
   "id": "969d5592",
   "metadata": {},
   "outputs": [
    {
     "name": "stdout",
     "output_type": "stream",
     "text": [
      "Test Accuracy: 95.1%\n",
      "\n",
      "valid_acc:0.9507246376811594\n",
      "confusion_matrix:[[140  12]\n",
      " [  4 188]]\n",
      "general_index:{'accuracy_score': 0.9534883720930233, 'precision_score': {'precision_score_micro': 0.9534883720930233, 'precision_score_macro': 0.9561111111111111, 'precision_score_weighted': 0.9542377260981911, 'precision_score_None': array([0.97222222, 0.94      ])}, 'recall_score': {'recall_score_micro': 0.9534883720930233, 'recall_score_macro': 0.9501096491228069, 'recall_score_weighted': 0.9534883720930233, 'recall_score_None': array([0.92105263, 0.97916667])}, 'f1_score': {'f1_score_micro': 0.9534883720930233, 'f1_score_macro': 0.9525648097076668, 'f1_score_weighted': 0.9533344450287972, 'f1_score_None': array([0.94594595, 0.95918367])}}\n",
      "Done!\n"
     ]
    }
   ],
   "source": [
    "valid_acc,confusion_matrix,general_index = test_loop(test_dataloader, model, mode='Test')\n",
    "print(f'valid_acc:{valid_acc}')\n",
    "print(f'confusion_matrix:{confusion_matrix}')\n",
    "print(f'general_index:{general_index}')\n",
    "print(\"Done!\")"
   ]
  },
  {
   "cell_type": "code",
   "execution_count": 15,
   "id": "070efb24",
   "metadata": {},
   "outputs": [
    {
     "data": {
      "image/png": "[encoded data removed]",
      "text/plain": [
       "<Figure size 432x288 with 2 Axes>"
      ]
     },
     "metadata": {
      "needs_background": "light"
     },
     "output_type": "display_data"
    }
   ],
   "source": [
    "sns.heatmap(confusion_matrix,annot=True,annot_kws={'size':20,'weight':'bold','color':'red'})\n",
    "plt.title('confusion matrix',fontsize=20)\n",
    "plt.xlabel('Predict',fontsize=14)\n",
    "plt.ylabel('Actual',fontsize=14)\n",
    "plt.show()"
   ]
  },
  {
   "cell_type": "markdown",
   "id": "857151c8",
   "metadata": {},
   "source": [
    "### Longformer+GRU模型"
   ]
  },
  {
   "cell_type": "code",
   "execution_count": 18,
   "id": "aa47cba0",
   "metadata": {},
   "outputs": [
    {
     "name": "stdout",
     "output_type": "stream",
     "text": [
      "Using cuda:1 device\n"
     ]
    }
   ],
   "source": [
    "from transformers import AutoTokenizer,AutoModelForSequenceClassification, TrainingArguments, Trainer\n",
    "from torch import nn\n",
    "from transformers import AutoModel\n",
    "\n",
    "device = torch.device('cuda:1' if torch.cuda.is_available() else 'cpu')\n",
    "print(f'Using {device} device')\n",
    "class NeuralNetwork(nn.Module):\n",
    "    def __init__(self):\n",
    "        super(NeuralNetwork, self).__init__()\n",
    "        # 这个可以拿到预训练模型最后一层的结果\n",
    "        self.longformer = AutoModel.from_pretrained(check_point)\n",
    "        # 接一个BiGRU\n",
    "        self.gru = nn.GRU(input_size=768,hidden_size=512,batch_first=True,dropout=0.5)\n",
    "        # 这里可以接分类层，输入768维，最后分为2个类别\n",
    "        # 这里可以添加其他网络模型，提升效果\n",
    "        # 加多一个线性层\n",
    "        self.linear = nn.Sequential(\n",
    "            nn.Linear(512,512),\n",
    "            torch.nn.Dropout(0.5),\n",
    "            torch.nn.ReLU(),\n",
    "            nn.Linear(512,2)\n",
    "        )\n",
    "        \n",
    "\n",
    "    def forward(self,input_ids,token_type_ids,attention_mask):\n",
    "        # 取最后一层的第一个，因为我们希望拿到的是整句话的一个语义\n",
    "        output = self.longformer(input_ids,token_type_ids,attention_mask).last_hidden_state # 维度 [batch,seq,hidden_size]\n",
    "        output,h_n = self.gru(output)\n",
    "        output = output[:,-1,:] # [batch,1024]\n",
    "        # 然后输送给分类的linear层\n",
    "        output = self.linear(output)\n",
    "        return output"
   ]
  },
  {
   "cell_type": "code",
   "execution_count": 19,
   "id": "166ce4db",
   "metadata": {},
   "outputs": [
    {
     "name": "stderr",
     "output_type": "stream",
     "text": [
      "Some weights of the model checkpoint at schen/longformer-chinese-base-4096 were not used when initializing BertModel: ['bert.encoder.layer.9.attention.self.query_global.bias', 'cls.seq_relationship.weight', 'bert.encoder.layer.4.attention.self.value_global.bias', 'bert.encoder.layer.4.attention.self.key_global.bias', 'bert.encoder.layer.1.attention.self.value_global.bias', 'bert.encoder.layer.8.attention.self.value_global.weight', 'bert.encoder.layer.11.attention.self.value_global.weight', 'bert.encoder.layer.9.attention.self.key_global.weight', 'bert.encoder.layer.8.attention.self.query_global.bias', 'cls.predictions.bias', 'bert.encoder.layer.10.attention.self.query_global.bias', 'bert.encoder.layer.8.attention.self.key_global.bias', 'bert.encoder.layer.10.attention.self.value_global.weight', 'bert.encoder.layer.3.attention.self.query_global.weight', 'bert.encoder.layer.0.attention.self.query_global.weight', 'bert.encoder.layer.6.attention.self.value_global.bias', 'bert.encoder.layer.4.attention.self.key_global.weight', 'bert.encoder.layer.2.attention.self.key_global.weight', 'bert.encoder.layer.3.attention.self.query_global.bias', 'bert.encoder.layer.0.attention.self.key_global.weight', 'bert.encoder.layer.5.attention.self.query_global.bias', 'bert.encoder.layer.9.attention.self.key_global.bias', 'bert.encoder.layer.10.attention.self.key_global.bias', 'bert.encoder.layer.2.attention.self.value_global.weight', 'bert.encoder.layer.6.attention.self.query_global.weight', 'cls.predictions.transform.dense.bias', 'bert.encoder.layer.7.attention.self.query_global.weight', 'bert.encoder.layer.6.attention.self.value_global.weight', 'bert.encoder.layer.5.attention.self.value_global.weight', 'bert.encoder.layer.7.attention.self.key_global.bias', 'cls.seq_relationship.bias', 'bert.encoder.layer.1.attention.self.query_global.weight', 'bert.encoder.layer.10.attention.self.query_global.weight', 'bert.encoder.layer.3.attention.self.key_global.bias', 'bert.encoder.layer.11.attention.self.value_global.bias', 'cls.predictions.transform.LayerNorm.bias', 'bert.encoder.layer.7.attention.self.key_global.weight', 'bert.encoder.layer.11.attention.self.key_global.weight', 'bert.encoder.layer.3.attention.self.value_global.weight', 'bert.encoder.layer.2.attention.self.query_global.bias', 'bert.encoder.layer.0.attention.self.value_global.bias', 'bert.encoder.layer.5.attention.self.value_global.bias', 'cls.predictions.decoder.weight', 'bert.encoder.layer.4.attention.self.query_global.weight', 'bert.encoder.layer.0.attention.self.query_global.bias', 'bert.encoder.layer.9.attention.self.query_global.weight', 'bert.encoder.layer.5.attention.self.query_global.weight', 'bert.encoder.layer.4.attention.self.query_global.bias', 'bert.encoder.layer.6.attention.self.key_global.weight', 'bert.encoder.layer.10.attention.self.key_global.weight', 'bert.encoder.layer.9.attention.self.value_global.bias', 'bert.encoder.layer.2.attention.self.value_global.bias', 'bert.encoder.layer.3.attention.self.value_global.bias', 'bert.encoder.layer.11.attention.self.query_global.bias', 'bert.encoder.layer.11.attention.self.query_global.weight', 'bert.encoder.layer.7.attention.self.query_global.bias', 'cls.predictions.decoder.bias', 'bert.encoder.layer.1.attention.self.value_global.weight', 'bert.encoder.layer.8.attention.self.value_global.bias', 'cls.predictions.transform.dense.weight', 'bert.encoder.layer.1.attention.self.query_global.bias', 'bert.encoder.layer.1.attention.self.key_global.bias', 'bert.encoder.layer.9.attention.self.value_global.weight', 'bert.encoder.layer.1.attention.self.key_global.weight', 'bert.encoder.layer.2.attention.self.query_global.weight', 'bert.encoder.layer.7.attention.self.value_global.weight', 'bert.encoder.layer.4.attention.self.value_global.weight', 'bert.encoder.layer.6.attention.self.query_global.bias', 'bert.encoder.layer.5.attention.self.key_global.weight', 'bert.encoder.layer.0.attention.self.value_global.weight', 'bert.encoder.layer.3.attention.self.key_global.weight', 'bert.encoder.layer.2.attention.self.key_global.bias', 'bert.encoder.layer.10.attention.self.value_global.bias', 'bert.encoder.layer.5.attention.self.key_global.bias', 'bert.encoder.layer.7.attention.self.value_global.bias', 'bert.encoder.layer.8.attention.self.key_global.weight', 'bert.encoder.layer.8.attention.self.query_global.weight', 'bert.encoder.layer.0.attention.self.key_global.bias', 'bert.encoder.layer.11.attention.self.key_global.bias', 'cls.predictions.transform.LayerNorm.weight', 'bert.encoder.layer.6.attention.self.key_global.bias']\n",
      "- This IS expected if you are initializing BertModel from the checkpoint of a model trained on another task or with another architecture (e.g. initializing a BertForSequenceClassification model from a BertForPreTraining model).\n",
      "- This IS NOT expected if you are initializing BertModel from the checkpoint of a model that you expect to be exactly identical (initializing a BertForSequenceClassification model from a BertForSequenceClassification model).\n"
     ]
    },
    {
     "data": {
      "text/plain": [
       "<All keys matched successfully>"
      ]
     },
     "execution_count": 19,
     "metadata": {},
     "output_type": "execute_result"
    }
   ],
   "source": [
    "model = NeuralNetwork().to(device)\n",
    "model.load_state_dict(torch.load('/home/chenli/pre_model/experiment_model/Longformer+GRU/epoch_7_valid_acc_96.2_model_weights.bin'))"
   ]
  },
  {
   "cell_type": "code",
   "execution_count": 23,
   "id": "64cc2d75",
   "metadata": {},
   "outputs": [],
   "source": [
    "from sklearn.metrics import confusion_matrix\n",
    "import matplotlib.pyplot as plt\n",
    "import seaborn as sns\n",
    "from sklearn.metrics import accuracy_score\n",
    "from sklearn.metrics import precision_score\n",
    "from sklearn.metrics import recall_score\n",
    "from sklearn.metrics import f1_score\n",
    "import numpy as np\n",
    "\n",
    "def test_loop(dataloader, model, mode='Test'):\n",
    "    assert mode in ['Valid', 'Test']\n",
    "    size = len(dataloader.dataset)\n",
    "    correct = 0\n",
    "\n",
    "    # 存储真实值和预测值\n",
    "    y_true = []\n",
    "    y_pred = []\n",
    "    \n",
    "    model.eval()\n",
    "    with torch.no_grad():\n",
    "        for batch,data in enumerate(dataloader,start=1):\n",
    "            labels = data.labels.to(device)\n",
    "            input_ids = data.input_ids.to(device)\n",
    "            token_type_ids = data.token_type_ids.to(device)\n",
    "            attention_mask = data.attention_mask.to(device)\n",
    "            pred = model(input_ids,token_type_ids,attention_mask)            \n",
    "            # 添加到列表里\n",
    "            y_true.append(labels.tolist())\n",
    "            y_pred.append(pred.argmax(1).tolist())\n",
    "            correct += (pred.argmax(1) == labels).type(torch.float).sum().item()\n",
    "\n",
    "    correct /= size\n",
    "    print(f\"{mode} Accuracy: {(100*correct):>0.1f}%\\n\")\n",
    "    \n",
    "    y_true = [i for k in y_true for i in k]\n",
    "    y_pred = [i for k in y_pred for i in k]\n",
    "    # 混淆矩阵\n",
    "    my_confusion_matrix = confusion_matrix(y_true,y_pred,labels=[0,1])\n",
    "    # 准确率\n",
    "    my_accuracy_score = accuracy_score(y_true,y_pred)\n",
    "    # 精准率\n",
    "    precision_score_micro = precision_score(y_true,y_pred,average='micro')# 推荐使用这个\n",
    "    precision_score_macro = precision_score(y_true,y_pred,average='macro')\n",
    "    precision_score_weighted = precision_score(y_true,y_pred,average='weighted')\n",
    "    precision_score_None = precision_score(y_true,y_pred,average=None)\n",
    "    precision_score_dict = {\n",
    "        \"precision_score_micro\":precision_score_micro,\n",
    "        \"precision_score_macro\":precision_score_macro,\n",
    "        \"precision_score_weighted\":precision_score_weighted,\n",
    "        \"precision_score_None\":precision_score_None\n",
    "    }\n",
    "    # 召回率\n",
    "    recall_score_micro = recall_score(y_true,y_pred,average='micro')\n",
    "    recall_score_macro = recall_score(y_true,y_pred,average='macro')\n",
    "    recall_score_weighted = recall_score(y_true,y_pred,average='weighted')\n",
    "    recall_score_None = recall_score(y_true,y_pred,average=None)\n",
    "    recall_score_dict = {\n",
    "        \"recall_score_micro\":recall_score_micro,\n",
    "        \"recall_score_macro\":recall_score_macro,\n",
    "        \"recall_score_weighted\":recall_score_weighted,\n",
    "        \"recall_score_None\":recall_score_None\n",
    "    }\n",
    "    # F1 score\n",
    "    f1_score_micro = f1_score(y_true,y_pred,average='micro')\n",
    "    f1_score_macro = f1_score(y_true,y_pred,average='macro')\n",
    "    f1_score_weighted = f1_score(y_true,y_pred,average='weighted')\n",
    "    f1_score_None = f1_score(y_true,y_pred,average=None)\n",
    "    f1_score_dict = {\n",
    "        \"f1_score_micro\":f1_score_micro,\n",
    "        \"f1_score_macro\":f1_score_macro,\n",
    "        \"f1_score_weighted\":f1_score_weighted,\n",
    "        \"f1_score_None\":f1_score_None\n",
    "    }\n",
    "    # 综合指标\n",
    "    general_index = {\n",
    "        \"accuracy_score\":my_accuracy_score,\n",
    "        \"precision_score\":precision_score_dict,\n",
    "        \"recall_score\":recall_score_dict,\n",
    "        \"f1_score\":f1_score_dict\n",
    "    }\n",
    "    \n",
    "    \n",
    "    return correct,my_confusion_matrix,general_index"
   ]
  },
  {
   "cell_type": "code",
   "execution_count": 21,
   "id": "08e314ed",
   "metadata": {},
   "outputs": [
    {
     "name": "stdout",
     "output_type": "stream",
     "text": [
      "Valid Accuracy: 96.2%\n",
      "\n",
      "valid_acc:0.9622093023255814\n",
      "confusion_matrix:[[147   7]\n",
      " [  6 184]]\n",
      "general_index:{'accuracy_score': 0.9622093023255814, 'precision_score': {'precision_score_micro': 0.9622093023255814, 'precision_score_macro': 0.9620675495329022, 'precision_score_weighted': 0.9622018416522824, 'precision_score_None': array([0.96078431, 0.96335079])}, 'recall_score': {'recall_score_micro': 0.9622093023255814, 'recall_score_macro': 0.9614832535885167, 'recall_score_weighted': 0.9622093023255814, 'recall_score_None': array([0.95454545, 0.96842105])}, 'f1_score': {'f1_score_micro': 0.9622093023255814, 'f1_score_macro': 0.9617669941094497, 'f1_score_weighted': 0.9621973480494697, 'f1_score_None': array([0.95765472, 0.96587927])}}\n",
      "Done!\n"
     ]
    }
   ],
   "source": [
    "valid_acc,confusion_matrix,general_index = test_loop(valid_dataloader, model, mode='Valid')\n",
    "print(f'valid_acc:{valid_acc}')\n",
    "print(f'confusion_matrix:{confusion_matrix}')\n",
    "print(f'general_index:{general_index}')\n",
    "print(\"Done!\")"
   ]
  },
  {
   "cell_type": "code",
   "execution_count": 22,
   "id": "3ea6b6f5",
   "metadata": {},
   "outputs": [
    {
     "data": {
      "image/png": "[encoded data removed]",
      "text/plain": [
       "<Figure size 432x288 with 2 Axes>"
      ]
     },
     "metadata": {
      "needs_background": "light"
     },
     "output_type": "display_data"
    }
   ],
   "source": [
    "sns.heatmap(confusion_matrix,annot=True,annot_kws={'size':20,'weight':'bold','color':'red'})\n",
    "plt.title('confusion matrix',fontsize=20)\n",
    "plt.xlabel('Predict',fontsize=14)\n",
    "plt.ylabel('Actual',fontsize=14)\n",
    "plt.show()"
   ]
  },
  {
   "cell_type": "code",
   "execution_count": 24,
   "id": "ca7e76a3",
   "metadata": {},
   "outputs": [
    {
     "name": "stdout",
     "output_type": "stream",
     "text": [
      "Test Accuracy: 95.7%\n",
      "\n",
      "valid_acc:0.9565217391304348\n",
      "confusion_matrix:[[142  11]\n",
      " [  3 188]]\n",
      "general_index:{'accuracy_score': 0.9593023255813954, 'precision_score': {'precision_score_micro': 0.9593023255813954, 'precision_score_macro': 0.9620169814590191, 'precision_score_weighted': 0.9601066680636542, 'precision_score_None': array([0.97931034, 0.94472362])}, 'recall_score': {'recall_score_micro': 0.9593023255813954, 'recall_score_macro': 0.9561988844403382, 'recall_score_weighted': 0.9593023255813954, 'recall_score_None': array([0.92810458, 0.98429319])}, 'f1_score': {'f1_score_micro': 0.9593023255813954, 'f1_score_macro': 0.9585613491653759, 'f1_score_weighted': 0.9591734601177397, 'f1_score_None': array([0.95302013, 0.96410256])}}\n",
      "Done!\n"
     ]
    }
   ],
   "source": [
    "valid_acc,confusion_matrix,general_index = test_loop(test_dataloader, model, mode='Test')\n",
    "print(f'valid_acc:{valid_acc}')\n",
    "print(f'confusion_matrix:{confusion_matrix}')\n",
    "print(f'general_index:{general_index}')\n",
    "print(\"Done!\")"
   ]
  },
  {
   "cell_type": "code",
   "execution_count": 25,
   "id": "012069af",
   "metadata": {},
   "outputs": [
    {
     "data": {
      "image/png": "[encoded data removed]",
      "text/plain": [
       "<Figure size 432x288 with 2 Axes>"
      ]
     },
     "metadata": {
      "needs_background": "light"
     },
     "output_type": "display_data"
    }
   ],
   "source": [
    "sns.heatmap(confusion_matrix,annot=True,annot_kws={'size':20,'weight':'bold','color':'red'})\n",
    "plt.title('confusion matrix',fontsize=20)\n",
    "plt.xlabel('Predict',fontsize=14)\n",
    "plt.ylabel('Actual',fontsize=14)\n",
    "plt.show()"
   ]
  },
  {
   "cell_type": "markdown",
   "id": "56a1203d",
   "metadata": {},
   "source": [
    "## Longformer+BiGRU模型"
   ]
  },
  {
   "cell_type": "code",
   "execution_count": 7,
   "id": "70517519",
   "metadata": {},
   "outputs": [
    {
     "name": "stdout",
     "output_type": "stream",
     "text": [
      "Using cuda:1 device\n"
     ]
    }
   ],
   "source": [
    "from transformers import AutoTokenizer,AutoModelForSequenceClassification, TrainingArguments, Trainer\n",
    "from torch import nn\n",
    "from transformers import AutoModel\n",
    "\n",
    "device = torch.device('cuda:1' if torch.cuda.is_available() else 'cpu')\n",
    "print(f'Using {device} device')\n",
    "class NeuralNetwork(nn.Module):\n",
    "    def __init__(self):\n",
    "        super(NeuralNetwork, self).__init__()\n",
    "        # 这个可以拿到预训练模型最后一层的结果\n",
    "        self.longformer = AutoModel.from_pretrained(check_point)\n",
    "        # 接一个BiGRU\n",
    "        self.gru = nn.GRU(input_size=768,hidden_size=512,batch_first=True,bidirectional=True,dropout=0.5)\n",
    "        # 这里可以接分类层，输入768维，最后分为2个类别\n",
    "        # 这里可以添加其他网络模型，提升效果\n",
    "        # 加多一个线性层\n",
    "        self.linear = nn.Sequential(\n",
    "            nn.Linear(1024,512),\n",
    "            torch.nn.Dropout(0.5),\n",
    "            torch.nn.ReLU(),\n",
    "            nn.Linear(512,2)\n",
    "        )\n",
    "        \n",
    "\n",
    "    def forward(self,input_ids,token_type_ids,attention_mask):\n",
    "        # 取最后一层的第一个，因为我们希望拿到的是整句话的一个语义\n",
    "        output = self.longformer(input_ids,token_type_ids,attention_mask).last_hidden_state # 维度 [batch,seq,hidden_size]\n",
    "        output,h_n = self.gru(output)\n",
    "        output = output[:,-1,:] # [batch,1024]\n",
    "        # 然后输送给分类的linear层\n",
    "        output = self.linear(output)\n",
    "        return output\n"
   ]
  },
  {
   "cell_type": "markdown",
   "id": "f782c861",
   "metadata": {},
   "source": [
    "### hidden_size=768"
   ]
  },
  {
   "cell_type": "code",
   "execution_count": 8,
   "id": "0c5ca0af",
   "metadata": {},
   "outputs": [],
   "source": [
    "import torch\n",
    "from torch import nn\n",
    "from transformers import AutoModel\n",
    "\n",
    "model = \"schen/longformer-chinese-base-4096\"\n",
    "device = torch.device('cuda' if torch.cuda.is_available() else 'cpu')\n",
    "class NeuralNetwork(nn.Module):\n",
    "    def __init__(self):\n",
    "        super(NeuralNetwork, self).__init__()\n",
    "        # 这个可以拿到预训练模型最后一层的结果\n",
    "        self.longformer = AutoModel.from_pretrained(model)\n",
    "        # 接一个BiGRU\n",
    "        # self.gru = nn.GRU(input_size=768, hidden_size=512, batch_first=True, bidirectional=True, dropout=0.5)\n",
    "        self.gru = nn.GRU(input_size=768, hidden_size=768, batch_first=True, bidirectional=True, dropout=0.5)\n",
    "        # 这里可以接分类层，输入768维，最后分为2个类别\n",
    "        # 这里可以添加其他网络模型，提升效果\n",
    "        # 加多一个线性层\n",
    "        # self.linear = nn.Sequential(\n",
    "        #     nn.Linear(1024, 512),\n",
    "        #     torch.nn.Dropout(0.5),\n",
    "        #     torch.nn.ReLU(),\n",
    "        #     nn.Linear(512, 2)\n",
    "        # )\n",
    "        self.linear = nn.Sequential(\n",
    "            nn.Linear(1536, 512),\n",
    "            torch.nn.Dropout(0.5),\n",
    "            torch.nn.ReLU(),\n",
    "            nn.Linear(512, 2)\n",
    "        )\n",
    "\n",
    "    def forward(self, input_ids, token_type_ids, attention_mask):\n",
    "        # 取最后一层的第一个，因为我们希望拿到的是整句话的一个语义\n",
    "        output = self.longformer(input_ids, token_type_ids,\n",
    "                                 attention_mask).last_hidden_state  # 维度 [batch,seq,hidden_size]\n",
    "        output, h_n = self.gru(output)\n",
    "        output = output[:, -1, :]  # [batch,1024]\n",
    "        # 然后输送给分类的linear层\n",
    "        output = self.linear(output)\n",
    "        return output\n"
   ]
  },
  {
   "cell_type": "markdown",
   "id": "08e294aa",
   "metadata": {},
   "source": [
    "## 加载参数"
   ]
  },
  {
   "cell_type": "code",
   "execution_count": 28,
   "id": "f4ffc047",
   "metadata": {},
   "outputs": [
    {
     "name": "stderr",
     "output_type": "stream",
     "text": [
      "Some weights of the model checkpoint at schen/longformer-chinese-base-4096 were not used when initializing BertModel: ['bert.encoder.layer.9.attention.self.query_global.bias', 'cls.seq_relationship.weight', 'bert.encoder.layer.4.attention.self.value_global.bias', 'bert.encoder.layer.4.attention.self.key_global.bias', 'bert.encoder.layer.1.attention.self.value_global.bias', 'bert.encoder.layer.8.attention.self.value_global.weight', 'bert.encoder.layer.11.attention.self.value_global.weight', 'bert.encoder.layer.9.attention.self.key_global.weight', 'bert.encoder.layer.8.attention.self.query_global.bias', 'cls.predictions.bias', 'bert.encoder.layer.10.attention.self.query_global.bias', 'bert.encoder.layer.8.attention.self.key_global.bias', 'bert.encoder.layer.10.attention.self.value_global.weight', 'bert.encoder.layer.3.attention.self.query_global.weight', 'bert.encoder.layer.0.attention.self.query_global.weight', 'bert.encoder.layer.6.attention.self.value_global.bias', 'bert.encoder.layer.4.attention.self.key_global.weight', 'bert.encoder.layer.2.attention.self.key_global.weight', 'bert.encoder.layer.3.attention.self.query_global.bias', 'bert.encoder.layer.0.attention.self.key_global.weight', 'bert.encoder.layer.5.attention.self.query_global.bias', 'bert.encoder.layer.9.attention.self.key_global.bias', 'bert.encoder.layer.10.attention.self.key_global.bias', 'bert.encoder.layer.2.attention.self.value_global.weight', 'bert.encoder.layer.6.attention.self.query_global.weight', 'cls.predictions.transform.dense.bias', 'bert.encoder.layer.7.attention.self.query_global.weight', 'bert.encoder.layer.6.attention.self.value_global.weight', 'bert.encoder.layer.5.attention.self.value_global.weight', 'bert.encoder.layer.7.attention.self.key_global.bias', 'cls.seq_relationship.bias', 'bert.encoder.layer.1.attention.self.query_global.weight', 'bert.encoder.layer.10.attention.self.query_global.weight', 'bert.encoder.layer.3.attention.self.key_global.bias', 'bert.encoder.layer.11.attention.self.value_global.bias', 'cls.predictions.transform.LayerNorm.bias', 'bert.encoder.layer.7.attention.self.key_global.weight', 'bert.encoder.layer.11.attention.self.key_global.weight', 'bert.encoder.layer.3.attention.self.value_global.weight', 'bert.encoder.layer.2.attention.self.query_global.bias', 'bert.encoder.layer.0.attention.self.value_global.bias', 'bert.encoder.layer.5.attention.self.value_global.bias', 'cls.predictions.decoder.weight', 'bert.encoder.layer.4.attention.self.query_global.weight', 'bert.encoder.layer.0.attention.self.query_global.bias', 'bert.encoder.layer.9.attention.self.query_global.weight', 'bert.encoder.layer.5.attention.self.query_global.weight', 'bert.encoder.layer.4.attention.self.query_global.bias', 'bert.encoder.layer.6.attention.self.key_global.weight', 'bert.encoder.layer.10.attention.self.key_global.weight', 'bert.encoder.layer.9.attention.self.value_global.bias', 'bert.encoder.layer.2.attention.self.value_global.bias', 'bert.encoder.layer.3.attention.self.value_global.bias', 'bert.encoder.layer.11.attention.self.query_global.bias', 'bert.encoder.layer.11.attention.self.query_global.weight', 'bert.encoder.layer.7.attention.self.query_global.bias', 'cls.predictions.decoder.bias', 'bert.encoder.layer.1.attention.self.value_global.weight', 'bert.encoder.layer.8.attention.self.value_global.bias', 'cls.predictions.transform.dense.weight', 'bert.encoder.layer.1.attention.self.query_global.bias', 'bert.encoder.layer.1.attention.self.key_global.bias', 'bert.encoder.layer.9.attention.self.value_global.weight', 'bert.encoder.layer.1.attention.self.key_global.weight', 'bert.encoder.layer.2.attention.self.query_global.weight', 'bert.encoder.layer.7.attention.self.value_global.weight', 'bert.encoder.layer.4.attention.self.value_global.weight', 'bert.encoder.layer.6.attention.self.query_global.bias', 'bert.encoder.layer.5.attention.self.key_global.weight', 'bert.encoder.layer.0.attention.self.value_global.weight', 'bert.encoder.layer.3.attention.self.key_global.weight', 'bert.encoder.layer.2.attention.self.key_global.bias', 'bert.encoder.layer.10.attention.self.value_global.bias', 'bert.encoder.layer.5.attention.self.key_global.bias', 'bert.encoder.layer.7.attention.self.value_global.bias', 'bert.encoder.layer.8.attention.self.key_global.weight', 'bert.encoder.layer.8.attention.self.query_global.weight', 'bert.encoder.layer.0.attention.self.key_global.bias', 'bert.encoder.layer.11.attention.self.key_global.bias', 'cls.predictions.transform.LayerNorm.weight', 'bert.encoder.layer.6.attention.self.key_global.bias']\n",
      "- This IS expected if you are initializing BertModel from the checkpoint of a model trained on another task or with another architecture (e.g. initializing a BertForSequenceClassification model from a BertForPreTraining model).\n",
      "- This IS NOT expected if you are initializing BertModel from the checkpoint of a model that you expect to be exactly identical (initializing a BertForSequenceClassification model from a BertForSequenceClassification model).\n"
     ]
    },
    {
     "data": {
      "text/plain": [
       "NeuralNetwork(\n",
       "  (longformer): BertModel(\n",
       "    (embeddings): BertEmbeddings(\n",
       "      (word_embeddings): Embedding(21128, 768, padding_idx=0)\n",
       "      (position_embeddings): Embedding(4096, 768)\n",
       "      (token_type_embeddings): Embedding(2, 768)\n",
       "      (LayerNorm): LayerNorm((768,), eps=1e-12, elementwise_affine=True)\n",
       "      (dropout): Dropout(p=0.1, inplace=False)\n",
       "    )\n",
       "    (encoder): BertEncoder(\n",
       "      (layer): ModuleList(\n",
       "        (0): BertLayer(\n",
       "          (attention): BertAttention(\n",
       "            (self): BertSelfAttention(\n",
       "              (query): Linear(in_features=768, out_features=768, bias=True)\n",
       "              (key): Linear(in_features=768, out_features=768, bias=True)\n",
       "              (value): Linear(in_features=768, out_features=768, bias=True)\n",
       "              (dropout): Dropout(p=0.1, inplace=False)\n",
       "            )\n",
       "            (output): BertSelfOutput(\n",
       "              (dense): Linear(in_features=768, out_features=768, bias=True)\n",
       "              (LayerNorm): LayerNorm((768,), eps=1e-12, elementwise_affine=True)\n",
       "              (dropout): Dropout(p=0.1, inplace=False)\n",
       "            )\n",
       "          )\n",
       "          (intermediate): BertIntermediate(\n",
       "            (dense): Linear(in_features=768, out_features=3072, bias=True)\n",
       "          )\n",
       "          (output): BertOutput(\n",
       "            (dense): Linear(in_features=3072, out_features=768, bias=True)\n",
       "            (LayerNorm): LayerNorm((768,), eps=1e-12, elementwise_affine=True)\n",
       "            (dropout): Dropout(p=0.1, inplace=False)\n",
       "          )\n",
       "        )\n",
       "        (1): BertLayer(\n",
       "          (attention): BertAttention(\n",
       "            (self): BertSelfAttention(\n",
       "              (query): Linear(in_features=768, out_features=768, bias=True)\n",
       "              (key): Linear(in_features=768, out_features=768, bias=True)\n",
       "              (value): Linear(in_features=768, out_features=768, bias=True)\n",
       "              (dropout): Dropout(p=0.1, inplace=False)\n",
       "            )\n",
       "            (output): BertSelfOutput(\n",
       "              (dense): Linear(in_features=768, out_features=768, bias=True)\n",
       "              (LayerNorm): LayerNorm((768,), eps=1e-12, elementwise_affine=True)\n",
       "              (dropout): Dropout(p=0.1, inplace=False)\n",
       "            )\n",
       "          )\n",
       "          (intermediate): BertIntermediate(\n",
       "            (dense): Linear(in_features=768, out_features=3072, bias=True)\n",
       "          )\n",
       "          (output): BertOutput(\n",
       "            (dense): Linear(in_features=3072, out_features=768, bias=True)\n",
       "            (LayerNorm): LayerNorm((768,), eps=1e-12, elementwise_affine=True)\n",
       "            (dropout): Dropout(p=0.1, inplace=False)\n",
       "          )\n",
       "        )\n",
       "        (2): BertLayer(\n",
       "          (attention): BertAttention(\n",
       "            (self): BertSelfAttention(\n",
       "              (query): Linear(in_features=768, out_features=768, bias=True)\n",
       "              (key): Linear(in_features=768, out_features=768, bias=True)\n",
       "              (value): Linear(in_features=768, out_features=768, bias=True)\n",
       "              (dropout): Dropout(p=0.1, inplace=False)\n",
       "            )\n",
       "            (output): BertSelfOutput(\n",
       "              (dense): Linear(in_features=768, out_features=768, bias=True)\n",
       "              (LayerNorm): LayerNorm((768,), eps=1e-12, elementwise_affine=True)\n",
       "              (dropout): Dropout(p=0.1, inplace=False)\n",
       "            )\n",
       "          )\n",
       "          (intermediate): BertIntermediate(\n",
       "            (dense): Linear(in_features=768, out_features=3072, bias=True)\n",
       "          )\n",
       "          (output): BertOutput(\n",
       "            (dense): Linear(in_features=3072, out_features=768, bias=True)\n",
       "            (LayerNorm): LayerNorm((768,), eps=1e-12, elementwise_affine=True)\n",
       "            (dropout): Dropout(p=0.1, inplace=False)\n",
       "          )\n",
       "        )\n",
       "        (3): BertLayer(\n",
       "          (attention): BertAttention(\n",
       "            (self): BertSelfAttention(\n",
       "              (query): Linear(in_features=768, out_features=768, bias=True)\n",
       "              (key): Linear(in_features=768, out_features=768, bias=True)\n",
       "              (value): Linear(in_features=768, out_features=768, bias=True)\n",
       "              (dropout): Dropout(p=0.1, inplace=False)\n",
       "            )\n",
       "            (output): BertSelfOutput(\n",
       "              (dense): Linear(in_features=768, out_features=768, bias=True)\n",
       "              (LayerNorm): LayerNorm((768,), eps=1e-12, elementwise_affine=True)\n",
       "              (dropout): Dropout(p=0.1, inplace=False)\n",
       "            )\n",
       "          )\n",
       "          (intermediate): BertIntermediate(\n",
       "            (dense): Linear(in_features=768, out_features=3072, bias=True)\n",
       "          )\n",
       "          (output): BertOutput(\n",
       "            (dense): Linear(in_features=3072, out_features=768, bias=True)\n",
       "            (LayerNorm): LayerNorm((768,), eps=1e-12, elementwise_affine=True)\n",
       "            (dropout): Dropout(p=0.1, inplace=False)\n",
       "          )\n",
       "        )\n",
       "        (4): BertLayer(\n",
       "          (attention): BertAttention(\n",
       "            (self): BertSelfAttention(\n",
       "              (query): Linear(in_features=768, out_features=768, bias=True)\n",
       "              (key): Linear(in_features=768, out_features=768, bias=True)\n",
       "              (value): Linear(in_features=768, out_features=768, bias=True)\n",
       "              (dropout): Dropout(p=0.1, inplace=False)\n",
       "            )\n",
       "            (output): BertSelfOutput(\n",
       "              (dense): Linear(in_features=768, out_features=768, bias=True)\n",
       "              (LayerNorm): LayerNorm((768,), eps=1e-12, elementwise_affine=True)\n",
       "              (dropout): Dropout(p=0.1, inplace=False)\n",
       "            )\n",
       "          )\n",
       "          (intermediate): BertIntermediate(\n",
       "            (dense): Linear(in_features=768, out_features=3072, bias=True)\n",
       "          )\n",
       "          (output): BertOutput(\n",
       "            (dense): Linear(in_features=3072, out_features=768, bias=True)\n",
       "            (LayerNorm): LayerNorm((768,), eps=1e-12, elementwise_affine=True)\n",
       "            (dropout): Dropout(p=0.1, inplace=False)\n",
       "          )\n",
       "        )\n",
       "        (5): BertLayer(\n",
       "          (attention): BertAttention(\n",
       "            (self): BertSelfAttention(\n",
       "              (query): Linear(in_features=768, out_features=768, bias=True)\n",
       "              (key): Linear(in_features=768, out_features=768, bias=True)\n",
       "              (value): Linear(in_features=768, out_features=768, bias=True)\n",
       "              (dropout): Dropout(p=0.1, inplace=False)\n",
       "            )\n",
       "            (output): BertSelfOutput(\n",
       "              (dense): Linear(in_features=768, out_features=768, bias=True)\n",
       "              (LayerNorm): LayerNorm((768,), eps=1e-12, elementwise_affine=True)\n",
       "              (dropout): Dropout(p=0.1, inplace=False)\n",
       "            )\n",
       "          )\n",
       "          (intermediate): BertIntermediate(\n",
       "            (dense): Linear(in_features=768, out_features=3072, bias=True)\n",
       "          )\n",
       "          (output): BertOutput(\n",
       "            (dense): Linear(in_features=3072, out_features=768, bias=True)\n",
       "            (LayerNorm): LayerNorm((768,), eps=1e-12, elementwise_affine=True)\n",
       "            (dropout): Dropout(p=0.1, inplace=False)\n",
       "          )\n",
       "        )\n",
       "        (6): BertLayer(\n",
       "          (attention): BertAttention(\n",
       "            (self): BertSelfAttention(\n",
       "              (query): Linear(in_features=768, out_features=768, bias=True)\n",
       "              (key): Linear(in_features=768, out_features=768, bias=True)\n",
       "              (value): Linear(in_features=768, out_features=768, bias=True)\n",
       "              (dropout): Dropout(p=0.1, inplace=False)\n",
       "            )\n",
       "            (output): BertSelfOutput(\n",
       "              (dense): Linear(in_features=768, out_features=768, bias=True)\n",
       "              (LayerNorm): LayerNorm((768,), eps=1e-12, elementwise_affine=True)\n",
       "              (dropout): Dropout(p=0.1, inplace=False)\n",
       "            )\n",
       "          )\n",
       "          (intermediate): BertIntermediate(\n",
       "            (dense): Linear(in_features=768, out_features=3072, bias=True)\n",
       "          )\n",
       "          (output): BertOutput(\n",
       "            (dense): Linear(in_features=3072, out_features=768, bias=True)\n",
       "            (LayerNorm): LayerNorm((768,), eps=1e-12, elementwise_affine=True)\n",
       "            (dropout): Dropout(p=0.1, inplace=False)\n",
       "          )\n",
       "        )\n",
       "        (7): BertLayer(\n",
       "          (attention): BertAttention(\n",
       "            (self): BertSelfAttention(\n",
       "              (query): Linear(in_features=768, out_features=768, bias=True)\n",
       "              (key): Linear(in_features=768, out_features=768, bias=True)\n",
       "              (value): Linear(in_features=768, out_features=768, bias=True)\n",
       "              (dropout): Dropout(p=0.1, inplace=False)\n",
       "            )\n",
       "            (output): BertSelfOutput(\n",
       "              (dense): Linear(in_features=768, out_features=768, bias=True)\n",
       "              (LayerNorm): LayerNorm((768,), eps=1e-12, elementwise_affine=True)\n",
       "              (dropout): Dropout(p=0.1, inplace=False)\n",
       "            )\n",
       "          )\n",
       "          (intermediate): BertIntermediate(\n",
       "            (dense): Linear(in_features=768, out_features=3072, bias=True)\n",
       "          )\n",
       "          (output): BertOutput(\n",
       "            (dense): Linear(in_features=3072, out_features=768, bias=True)\n",
       "            (LayerNorm): LayerNorm((768,), eps=1e-12, elementwise_affine=True)\n",
       "            (dropout): Dropout(p=0.1, inplace=False)\n",
       "          )\n",
       "        )\n",
       "        (8): BertLayer(\n",
       "          (attention): BertAttention(\n",
       "            (self): BertSelfAttention(\n",
       "              (query): Linear(in_features=768, out_features=768, bias=True)\n",
       "              (key): Linear(in_features=768, out_features=768, bias=True)\n",
       "              (value): Linear(in_features=768, out_features=768, bias=True)\n",
       "              (dropout): Dropout(p=0.1, inplace=False)\n",
       "            )\n",
       "            (output): BertSelfOutput(\n",
       "              (dense): Linear(in_features=768, out_features=768, bias=True)\n",
       "              (LayerNorm): LayerNorm((768,), eps=1e-12, elementwise_affine=True)\n",
       "              (dropout): Dropout(p=0.1, inplace=False)\n",
       "            )\n",
       "          )\n",
       "          (intermediate): BertIntermediate(\n",
       "            (dense): Linear(in_features=768, out_features=3072, bias=True)\n",
       "          )\n",
       "          (output): BertOutput(\n",
       "            (dense): Linear(in_features=3072, out_features=768, bias=True)\n",
       "            (LayerNorm): LayerNorm((768,), eps=1e-12, elementwise_affine=True)\n",
       "            (dropout): Dropout(p=0.1, inplace=False)\n",
       "          )\n",
       "        )\n",
       "        (9): BertLayer(\n",
       "          (attention): BertAttention(\n",
       "            (self): BertSelfAttention(\n",
       "              (query): Linear(in_features=768, out_features=768, bias=True)\n",
       "              (key): Linear(in_features=768, out_features=768, bias=True)\n",
       "              (value): Linear(in_features=768, out_features=768, bias=True)\n",
       "              (dropout): Dropout(p=0.1, inplace=False)\n",
       "            )\n",
       "            (output): BertSelfOutput(\n",
       "              (dense): Linear(in_features=768, out_features=768, bias=True)\n",
       "              (LayerNorm): LayerNorm((768,), eps=1e-12, elementwise_affine=True)\n",
       "              (dropout): Dropout(p=0.1, inplace=False)\n",
       "            )\n",
       "          )\n",
       "          (intermediate): BertIntermediate(\n",
       "            (dense): Linear(in_features=768, out_features=3072, bias=True)\n",
       "          )\n",
       "          (output): BertOutput(\n",
       "            (dense): Linear(in_features=3072, out_features=768, bias=True)\n",
       "            (LayerNorm): LayerNorm((768,), eps=1e-12, elementwise_affine=True)\n",
       "            (dropout): Dropout(p=0.1, inplace=False)\n",
       "          )\n",
       "        )\n",
       "        (10): BertLayer(\n",
       "          (attention): BertAttention(\n",
       "            (self): BertSelfAttention(\n",
       "              (query): Linear(in_features=768, out_features=768, bias=True)\n",
       "              (key): Linear(in_features=768, out_features=768, bias=True)\n",
       "              (value): Linear(in_features=768, out_features=768, bias=True)\n",
       "              (dropout): Dropout(p=0.1, inplace=False)\n",
       "            )\n",
       "            (output): BertSelfOutput(\n",
       "              (dense): Linear(in_features=768, out_features=768, bias=True)\n",
       "              (LayerNorm): LayerNorm((768,), eps=1e-12, elementwise_affine=True)\n",
       "              (dropout): Dropout(p=0.1, inplace=False)\n",
       "            )\n",
       "          )\n",
       "          (intermediate): BertIntermediate(\n",
       "            (dense): Linear(in_features=768, out_features=3072, bias=True)\n",
       "          )\n",
       "          (output): BertOutput(\n",
       "            (dense): Linear(in_features=3072, out_features=768, bias=True)\n",
       "            (LayerNorm): LayerNorm((768,), eps=1e-12, elementwise_affine=True)\n",
       "            (dropout): Dropout(p=0.1, inplace=False)\n",
       "          )\n",
       "        )\n",
       "        (11): BertLayer(\n",
       "          (attention): BertAttention(\n",
       "            (self): BertSelfAttention(\n",
       "              (query): Linear(in_features=768, out_features=768, bias=True)\n",
       "              (key): Linear(in_features=768, out_features=768, bias=True)\n",
       "              (value): Linear(in_features=768, out_features=768, bias=True)\n",
       "              (dropout): Dropout(p=0.1, inplace=False)\n",
       "            )\n",
       "            (output): BertSelfOutput(\n",
       "              (dense): Linear(in_features=768, out_features=768, bias=True)\n",
       "              (LayerNorm): LayerNorm((768,), eps=1e-12, elementwise_affine=True)\n",
       "              (dropout): Dropout(p=0.1, inplace=False)\n",
       "            )\n",
       "          )\n",
       "          (intermediate): BertIntermediate(\n",
       "            (dense): Linear(in_features=768, out_features=3072, bias=True)\n",
       "          )\n",
       "          (output): BertOutput(\n",
       "            (dense): Linear(in_features=3072, out_features=768, bias=True)\n",
       "            (LayerNorm): LayerNorm((768,), eps=1e-12, elementwise_affine=True)\n",
       "            (dropout): Dropout(p=0.1, inplace=False)\n",
       "          )\n",
       "        )\n",
       "      )\n",
       "    )\n",
       "    (pooler): BertPooler(\n",
       "      (dense): Linear(in_features=768, out_features=768, bias=True)\n",
       "      (activation): Tanh()\n",
       "    )\n",
       "  )\n",
       "  (gru): GRU(768, 512, batch_first=True, dropout=0.5, bidirectional=True)\n",
       "  (linear): Sequential(\n",
       "    (0): Linear(in_features=1024, out_features=512, bias=True)\n",
       "    (1): Dropout(p=0.5, inplace=False)\n",
       "    (2): ReLU()\n",
       "    (3): Linear(in_features=512, out_features=2, bias=True)\n",
       "  )\n",
       ")"
      ]
     },
     "execution_count": 28,
     "metadata": {},
     "output_type": "execute_result"
    }
   ],
   "source": [
    "model = NeuralNetwork().to(device)\n",
    "model.load_state_dict(torch.load('/home/chenli/pre_model/experiment_model/Longformer+GRU/epoch_4_valid_acc_97.1_model_weights.bin'))\n",
    "model.eval()"
   ]
  },
  {
   "cell_type": "code",
   "execution_count": 8,
   "id": "180daa5b",
   "metadata": {},
   "outputs": [
    {
     "name": "stderr",
     "output_type": "stream",
     "text": [
      "Some weights of the model checkpoint at schen/longformer-chinese-base-4096 were not used when initializing BertModel: ['bert.encoder.layer.5.attention.self.value_global.bias', 'bert.encoder.layer.11.attention.self.value_global.bias', 'bert.encoder.layer.3.attention.self.value_global.bias', 'bert.encoder.layer.10.attention.self.query_global.weight', 'bert.encoder.layer.3.attention.self.query_global.bias', 'bert.encoder.layer.0.attention.self.value_global.bias', 'bert.encoder.layer.4.attention.self.query_global.bias', 'cls.seq_relationship.bias', 'bert.encoder.layer.10.attention.self.key_global.bias', 'bert.encoder.layer.1.attention.self.key_global.weight', 'cls.predictions.transform.LayerNorm.weight', 'bert.encoder.layer.6.attention.self.query_global.bias', 'bert.encoder.layer.6.attention.self.key_global.weight', 'bert.encoder.layer.5.attention.self.key_global.bias', 'bert.encoder.layer.10.attention.self.key_global.weight', 'bert.encoder.layer.3.attention.self.key_global.bias', 'bert.encoder.layer.1.attention.self.value_global.weight', 'cls.predictions.transform.LayerNorm.bias', 'bert.encoder.layer.9.attention.self.query_global.weight', 'bert.encoder.layer.10.attention.self.value_global.bias', 'bert.encoder.layer.7.attention.self.key_global.bias', 'bert.encoder.layer.8.attention.self.query_global.bias', 'bert.encoder.layer.9.attention.self.query_global.bias', 'bert.encoder.layer.11.attention.self.key_global.weight', 'cls.predictions.transform.dense.bias', 'bert.encoder.layer.1.attention.self.value_global.bias', 'bert.encoder.layer.5.attention.self.query_global.weight', 'bert.encoder.layer.4.attention.self.value_global.weight', 'bert.encoder.layer.6.attention.self.value_global.weight', 'bert.encoder.layer.2.attention.self.query_global.bias', 'bert.encoder.layer.11.attention.self.query_global.bias', 'bert.encoder.layer.4.attention.self.key_global.weight', 'bert.encoder.layer.7.attention.self.value_global.bias', 'bert.encoder.layer.4.attention.self.value_global.bias', 'bert.encoder.layer.8.attention.self.key_global.weight', 'cls.predictions.decoder.bias', 'bert.encoder.layer.5.attention.self.value_global.weight', 'bert.encoder.layer.7.attention.self.key_global.weight', 'bert.encoder.layer.6.attention.self.value_global.bias', 'bert.encoder.layer.7.attention.self.value_global.weight', 'bert.encoder.layer.0.attention.self.key_global.weight', 'bert.encoder.layer.11.attention.self.query_global.weight', 'bert.encoder.layer.8.attention.self.query_global.weight', 'bert.encoder.layer.4.attention.self.key_global.bias', 'bert.encoder.layer.7.attention.self.query_global.bias', 'bert.encoder.layer.1.attention.self.query_global.weight', 'bert.encoder.layer.5.attention.self.query_global.bias', 'bert.encoder.layer.0.attention.self.query_global.bias', 'bert.encoder.layer.11.attention.self.key_global.bias', 'bert.encoder.layer.5.attention.self.key_global.weight', 'bert.encoder.layer.11.attention.self.value_global.weight', 'bert.encoder.layer.9.attention.self.key_global.bias', 'bert.encoder.layer.6.attention.self.key_global.bias', 'bert.encoder.layer.4.attention.self.query_global.weight', 'bert.encoder.layer.9.attention.self.key_global.weight', 'bert.encoder.layer.8.attention.self.key_global.bias', 'bert.encoder.layer.7.attention.self.query_global.weight', 'bert.encoder.layer.10.attention.self.query_global.bias', 'bert.encoder.layer.3.attention.self.key_global.weight', 'bert.encoder.layer.8.attention.self.value_global.weight', 'cls.predictions.bias', 'cls.predictions.decoder.weight', 'bert.encoder.layer.2.attention.self.value_global.weight', 'bert.encoder.layer.3.attention.self.query_global.weight', 'bert.encoder.layer.3.attention.self.value_global.weight', 'bert.encoder.layer.1.attention.self.query_global.bias', 'bert.encoder.layer.10.attention.self.value_global.weight', 'bert.encoder.layer.9.attention.self.value_global.weight', 'bert.encoder.layer.0.attention.self.query_global.weight', 'bert.encoder.layer.2.attention.self.key_global.weight', 'bert.encoder.layer.2.attention.self.key_global.bias', 'cls.seq_relationship.weight', 'cls.predictions.transform.dense.weight', 'bert.encoder.layer.0.attention.self.key_global.bias', 'bert.encoder.layer.6.attention.self.query_global.weight', 'bert.encoder.layer.8.attention.self.value_global.bias', 'bert.encoder.layer.0.attention.self.value_global.weight', 'bert.encoder.layer.9.attention.self.value_global.bias', 'bert.encoder.layer.2.attention.self.value_global.bias', 'bert.encoder.layer.2.attention.self.query_global.weight', 'bert.encoder.layer.1.attention.self.key_global.bias']\n",
      "- This IS expected if you are initializing BertModel from the checkpoint of a model trained on another task or with another architecture (e.g. initializing a BertForSequenceClassification model from a BertForPreTraining model).\n",
      "- This IS NOT expected if you are initializing BertModel from the checkpoint of a model that you expect to be exactly identical (initializing a BertForSequenceClassification model from a BertForSequenceClassification model).\n",
      "/home/anaconda/anaconda3/envs/pytorch/lib/python3.7/site-packages/torch/nn/modules/rnn.py:65: UserWarning: dropout option adds dropout after all but last recurrent layer, so non-zero dropout expects num_layers greater than 1, but got dropout=0.5 and num_layers=1\n",
      "  \"num_layers={}\".format(dropout, num_layers))\n"
     ]
    },
    {
     "name": "stdout",
     "output_type": "stream",
     "text": [
      "NeuralNetwork(\n",
      "  (longformer): BertModel(\n",
      "    (embeddings): BertEmbeddings(\n",
      "      (word_embeddings): Embedding(21128, 768, padding_idx=0)\n",
      "      (position_embeddings): Embedding(4096, 768)\n",
      "      (token_type_embeddings): Embedding(2, 768)\n",
      "      (LayerNorm): LayerNorm((768,), eps=1e-12, elementwise_affine=True)\n",
      "      (dropout): Dropout(p=0.1, inplace=False)\n",
      "    )\n",
      "    (encoder): BertEncoder(\n",
      "      (layer): ModuleList(\n",
      "        (0): BertLayer(\n",
      "          (attention): BertAttention(\n",
      "            (self): BertSelfAttention(\n",
      "              (query): Linear(in_features=768, out_features=768, bias=True)\n",
      "              (key): Linear(in_features=768, out_features=768, bias=True)\n",
      "              (value): Linear(in_features=768, out_features=768, bias=True)\n",
      "              (dropout): Dropout(p=0.1, inplace=False)\n",
      "            )\n",
      "            (output): BertSelfOutput(\n",
      "              (dense): Linear(in_features=768, out_features=768, bias=True)\n",
      "              (LayerNorm): LayerNorm((768,), eps=1e-12, elementwise_affine=True)\n",
      "              (dropout): Dropout(p=0.1, inplace=False)\n",
      "            )\n",
      "          )\n",
      "          (intermediate): BertIntermediate(\n",
      "            (dense): Linear(in_features=768, out_features=3072, bias=True)\n",
      "          )\n",
      "          (output): BertOutput(\n",
      "            (dense): Linear(in_features=3072, out_features=768, bias=True)\n",
      "            (LayerNorm): LayerNorm((768,), eps=1e-12, elementwise_affine=True)\n",
      "            (dropout): Dropout(p=0.1, inplace=False)\n",
      "          )\n",
      "        )\n",
      "        (1): BertLayer(\n",
      "          (attention): BertAttention(\n",
      "            (self): BertSelfAttention(\n",
      "              (query): Linear(in_features=768, out_features=768, bias=True)\n",
      "              (key): Linear(in_features=768, out_features=768, bias=True)\n",
      "              (value): Linear(in_features=768, out_features=768, bias=True)\n",
      "              (dropout): Dropout(p=0.1, inplace=False)\n",
      "            )\n",
      "            (output): BertSelfOutput(\n",
      "              (dense): Linear(in_features=768, out_features=768, bias=True)\n",
      "              (LayerNorm): LayerNorm((768,), eps=1e-12, elementwise_affine=True)\n",
      "              (dropout): Dropout(p=0.1, inplace=False)\n",
      "            )\n",
      "          )\n",
      "          (intermediate): BertIntermediate(\n",
      "            (dense): Linear(in_features=768, out_features=3072, bias=True)\n",
      "          )\n",
      "          (output): BertOutput(\n",
      "            (dense): Linear(in_features=3072, out_features=768, bias=True)\n",
      "            (LayerNorm): LayerNorm((768,), eps=1e-12, elementwise_affine=True)\n",
      "            (dropout): Dropout(p=0.1, inplace=False)\n",
      "          )\n",
      "        )\n",
      "        (2): BertLayer(\n",
      "          (attention): BertAttention(\n",
      "            (self): BertSelfAttention(\n",
      "              (query): Linear(in_features=768, out_features=768, bias=True)\n",
      "              (key): Linear(in_features=768, out_features=768, bias=True)\n",
      "              (value): Linear(in_features=768, out_features=768, bias=True)\n",
      "              (dropout): Dropout(p=0.1, inplace=False)\n",
      "            )\n",
      "            (output): BertSelfOutput(\n",
      "              (dense): Linear(in_features=768, out_features=768, bias=True)\n",
      "              (LayerNorm): LayerNorm((768,), eps=1e-12, elementwise_affine=True)\n",
      "              (dropout): Dropout(p=0.1, inplace=False)\n",
      "            )\n",
      "          )\n",
      "          (intermediate): BertIntermediate(\n",
      "            (dense): Linear(in_features=768, out_features=3072, bias=True)\n",
      "          )\n",
      "          (output): BertOutput(\n",
      "            (dense): Linear(in_features=3072, out_features=768, bias=True)\n",
      "            (LayerNorm): LayerNorm((768,), eps=1e-12, elementwise_affine=True)\n",
      "            (dropout): Dropout(p=0.1, inplace=False)\n",
      "          )\n",
      "        )\n",
      "        (3): BertLayer(\n",
      "          (attention): BertAttention(\n",
      "            (self): BertSelfAttention(\n",
      "              (query): Linear(in_features=768, out_features=768, bias=True)\n",
      "              (key): Linear(in_features=768, out_features=768, bias=True)\n",
      "              (value): Linear(in_features=768, out_features=768, bias=True)\n",
      "              (dropout): Dropout(p=0.1, inplace=False)\n",
      "            )\n",
      "            (output): BertSelfOutput(\n",
      "              (dense): Linear(in_features=768, out_features=768, bias=True)\n",
      "              (LayerNorm): LayerNorm((768,), eps=1e-12, elementwise_affine=True)\n",
      "              (dropout): Dropout(p=0.1, inplace=False)\n",
      "            )\n",
      "          )\n",
      "          (intermediate): BertIntermediate(\n",
      "            (dense): Linear(in_features=768, out_features=3072, bias=True)\n",
      "          )\n",
      "          (output): BertOutput(\n",
      "            (dense): Linear(in_features=3072, out_features=768, bias=True)\n",
      "            (LayerNorm): LayerNorm((768,), eps=1e-12, elementwise_affine=True)\n",
      "            (dropout): Dropout(p=0.1, inplace=False)\n",
      "          )\n",
      "        )\n",
      "        (4): BertLayer(\n",
      "          (attention): BertAttention(\n",
      "            (self): BertSelfAttention(\n",
      "              (query): Linear(in_features=768, out_features=768, bias=True)\n",
      "              (key): Linear(in_features=768, out_features=768, bias=True)\n",
      "              (value): Linear(in_features=768, out_features=768, bias=True)\n",
      "              (dropout): Dropout(p=0.1, inplace=False)\n",
      "            )\n",
      "            (output): BertSelfOutput(\n",
      "              (dense): Linear(in_features=768, out_features=768, bias=True)\n",
      "              (LayerNorm): LayerNorm((768,), eps=1e-12, elementwise_affine=True)\n",
      "              (dropout): Dropout(p=0.1, inplace=False)\n",
      "            )\n",
      "          )\n",
      "          (intermediate): BertIntermediate(\n",
      "            (dense): Linear(in_features=768, out_features=3072, bias=True)\n",
      "          )\n",
      "          (output): BertOutput(\n",
      "            (dense): Linear(in_features=3072, out_features=768, bias=True)\n",
      "            (LayerNorm): LayerNorm((768,), eps=1e-12, elementwise_affine=True)\n",
      "            (dropout): Dropout(p=0.1, inplace=False)\n",
      "          )\n",
      "        )\n",
      "        (5): BertLayer(\n",
      "          (attention): BertAttention(\n",
      "            (self): BertSelfAttention(\n",
      "              (query): Linear(in_features=768, out_features=768, bias=True)\n",
      "              (key): Linear(in_features=768, out_features=768, bias=True)\n",
      "              (value): Linear(in_features=768, out_features=768, bias=True)\n",
      "              (dropout): Dropout(p=0.1, inplace=False)\n",
      "            )\n",
      "            (output): BertSelfOutput(\n",
      "              (dense): Linear(in_features=768, out_features=768, bias=True)\n",
      "              (LayerNorm): LayerNorm((768,), eps=1e-12, elementwise_affine=True)\n",
      "              (dropout): Dropout(p=0.1, inplace=False)\n",
      "            )\n",
      "          )\n",
      "          (intermediate): BertIntermediate(\n",
      "            (dense): Linear(in_features=768, out_features=3072, bias=True)\n",
      "          )\n",
      "          (output): BertOutput(\n",
      "            (dense): Linear(in_features=3072, out_features=768, bias=True)\n",
      "            (LayerNorm): LayerNorm((768,), eps=1e-12, elementwise_affine=True)\n",
      "            (dropout): Dropout(p=0.1, inplace=False)\n",
      "          )\n",
      "        )\n",
      "        (6): BertLayer(\n",
      "          (attention): BertAttention(\n",
      "            (self): BertSelfAttention(\n",
      "              (query): Linear(in_features=768, out_features=768, bias=True)\n",
      "              (key): Linear(in_features=768, out_features=768, bias=True)\n",
      "              (value): Linear(in_features=768, out_features=768, bias=True)\n",
      "              (dropout): Dropout(p=0.1, inplace=False)\n",
      "            )\n",
      "            (output): BertSelfOutput(\n",
      "              (dense): Linear(in_features=768, out_features=768, bias=True)\n",
      "              (LayerNorm): LayerNorm((768,), eps=1e-12, elementwise_affine=True)\n",
      "              (dropout): Dropout(p=0.1, inplace=False)\n",
      "            )\n",
      "          )\n",
      "          (intermediate): BertIntermediate(\n",
      "            (dense): Linear(in_features=768, out_features=3072, bias=True)\n",
      "          )\n",
      "          (output): BertOutput(\n",
      "            (dense): Linear(in_features=3072, out_features=768, bias=True)\n",
      "            (LayerNorm): LayerNorm((768,), eps=1e-12, elementwise_affine=True)\n",
      "            (dropout): Dropout(p=0.1, inplace=False)\n",
      "          )\n",
      "        )\n",
      "        (7): BertLayer(\n",
      "          (attention): BertAttention(\n",
      "            (self): BertSelfAttention(\n",
      "              (query): Linear(in_features=768, out_features=768, bias=True)\n",
      "              (key): Linear(in_features=768, out_features=768, bias=True)\n",
      "              (value): Linear(in_features=768, out_features=768, bias=True)\n",
      "              (dropout): Dropout(p=0.1, inplace=False)\n",
      "            )\n",
      "            (output): BertSelfOutput(\n",
      "              (dense): Linear(in_features=768, out_features=768, bias=True)\n",
      "              (LayerNorm): LayerNorm((768,), eps=1e-12, elementwise_affine=True)\n",
      "              (dropout): Dropout(p=0.1, inplace=False)\n",
      "            )\n",
      "          )\n",
      "          (intermediate): BertIntermediate(\n",
      "            (dense): Linear(in_features=768, out_features=3072, bias=True)\n",
      "          )\n",
      "          (output): BertOutput(\n",
      "            (dense): Linear(in_features=3072, out_features=768, bias=True)\n",
      "            (LayerNorm): LayerNorm((768,), eps=1e-12, elementwise_affine=True)\n",
      "            (dropout): Dropout(p=0.1, inplace=False)\n",
      "          )\n",
      "        )\n",
      "        (8): BertLayer(\n",
      "          (attention): BertAttention(\n",
      "            (self): BertSelfAttention(\n",
      "              (query): Linear(in_features=768, out_features=768, bias=True)\n",
      "              (key): Linear(in_features=768, out_features=768, bias=True)\n",
      "              (value): Linear(in_features=768, out_features=768, bias=True)\n",
      "              (dropout): Dropout(p=0.1, inplace=False)\n",
      "            )\n",
      "            (output): BertSelfOutput(\n",
      "              (dense): Linear(in_features=768, out_features=768, bias=True)\n",
      "              (LayerNorm): LayerNorm((768,), eps=1e-12, elementwise_affine=True)\n",
      "              (dropout): Dropout(p=0.1, inplace=False)\n",
      "            )\n",
      "          )\n",
      "          (intermediate): BertIntermediate(\n",
      "            (dense): Linear(in_features=768, out_features=3072, bias=True)\n",
      "          )\n",
      "          (output): BertOutput(\n",
      "            (dense): Linear(in_features=3072, out_features=768, bias=True)\n",
      "            (LayerNorm): LayerNorm((768,), eps=1e-12, elementwise_affine=True)\n",
      "            (dropout): Dropout(p=0.1, inplace=False)\n",
      "          )\n",
      "        )\n",
      "        (9): BertLayer(\n",
      "          (attention): BertAttention(\n",
      "            (self): BertSelfAttention(\n",
      "              (query): Linear(in_features=768, out_features=768, bias=True)\n",
      "              (key): Linear(in_features=768, out_features=768, bias=True)\n",
      "              (value): Linear(in_features=768, out_features=768, bias=True)\n",
      "              (dropout): Dropout(p=0.1, inplace=False)\n",
      "            )\n",
      "            (output): BertSelfOutput(\n",
      "              (dense): Linear(in_features=768, out_features=768, bias=True)\n",
      "              (LayerNorm): LayerNorm((768,), eps=1e-12, elementwise_affine=True)\n",
      "              (dropout): Dropout(p=0.1, inplace=False)\n",
      "            )\n",
      "          )\n",
      "          (intermediate): BertIntermediate(\n",
      "            (dense): Linear(in_features=768, out_features=3072, bias=True)\n",
      "          )\n",
      "          (output): BertOutput(\n",
      "            (dense): Linear(in_features=3072, out_features=768, bias=True)\n",
      "            (LayerNorm): LayerNorm((768,), eps=1e-12, elementwise_affine=True)\n",
      "            (dropout): Dropout(p=0.1, inplace=False)\n",
      "          )\n",
      "        )\n",
      "        (10): BertLayer(\n",
      "          (attention): BertAttention(\n",
      "            (self): BertSelfAttention(\n",
      "              (query): Linear(in_features=768, out_features=768, bias=True)\n",
      "              (key): Linear(in_features=768, out_features=768, bias=True)\n",
      "              (value): Linear(in_features=768, out_features=768, bias=True)\n",
      "              (dropout): Dropout(p=0.1, inplace=False)\n",
      "            )\n",
      "            (output): BertSelfOutput(\n",
      "              (dense): Linear(in_features=768, out_features=768, bias=True)\n",
      "              (LayerNorm): LayerNorm((768,), eps=1e-12, elementwise_affine=True)\n",
      "              (dropout): Dropout(p=0.1, inplace=False)\n",
      "            )\n",
      "          )\n",
      "          (intermediate): BertIntermediate(\n",
      "            (dense): Linear(in_features=768, out_features=3072, bias=True)\n",
      "          )\n",
      "          (output): BertOutput(\n",
      "            (dense): Linear(in_features=3072, out_features=768, bias=True)\n",
      "            (LayerNorm): LayerNorm((768,), eps=1e-12, elementwise_affine=True)\n",
      "            (dropout): Dropout(p=0.1, inplace=False)\n",
      "          )\n",
      "        )\n",
      "        (11): BertLayer(\n",
      "          (attention): BertAttention(\n",
      "            (self): BertSelfAttention(\n",
      "              (query): Linear(in_features=768, out_features=768, bias=True)\n",
      "              (key): Linear(in_features=768, out_features=768, bias=True)\n",
      "              (value): Linear(in_features=768, out_features=768, bias=True)\n",
      "              (dropout): Dropout(p=0.1, inplace=False)\n",
      "            )\n",
      "            (output): BertSelfOutput(\n",
      "              (dense): Linear(in_features=768, out_features=768, bias=True)\n",
      "              (LayerNorm): LayerNorm((768,), eps=1e-12, elementwise_affine=True)\n",
      "              (dropout): Dropout(p=0.1, inplace=False)\n",
      "            )\n",
      "          )\n",
      "          (intermediate): BertIntermediate(\n",
      "            (dense): Linear(in_features=768, out_features=3072, bias=True)\n",
      "          )\n",
      "          (output): BertOutput(\n",
      "            (dense): Linear(in_features=3072, out_features=768, bias=True)\n",
      "            (LayerNorm): LayerNorm((768,), eps=1e-12, elementwise_affine=True)\n",
      "            (dropout): Dropout(p=0.1, inplace=False)\n",
      "          )\n",
      "        )\n",
      "      )\n",
      "    )\n",
      "    (pooler): BertPooler(\n",
      "      (dense): Linear(in_features=768, out_features=768, bias=True)\n",
      "      (activation): Tanh()\n",
      "    )\n",
      "  )\n",
      "  (gru): GRU(768, 512, batch_first=True, dropout=0.5, bidirectional=True)\n",
      "  (linear): Sequential(\n",
      "    (0): Linear(in_features=1024, out_features=512, bias=True)\n",
      "    (1): Dropout(p=0.5, inplace=False)\n",
      "    (2): ReLU()\n",
      "    (3): Linear(in_features=512, out_features=2, bias=True)\n",
      "  )\n",
      ")\n"
     ]
    }
   ],
   "source": [
    "model = NeuralNetwork().to(device)\n",
    "model.load_state_dict(torch.load('/home/chenli/pre_model/experiment_model/Longformer+BiGRU/epoch_9_valid_acc_96.2_model_weights.bin'))\n",
    "print(model)"
   ]
  },
  {
   "cell_type": "code",
   "execution_count": 36,
   "id": "6f212d81",
   "metadata": {},
   "outputs": [
    {
     "name": "stderr",
     "output_type": "stream",
     "text": [
      "Some weights of the model checkpoint at schen/longformer-chinese-base-4096 were not used when initializing BertModel: ['bert.encoder.layer.9.attention.self.query_global.bias', 'cls.seq_relationship.weight', 'bert.encoder.layer.4.attention.self.value_global.bias', 'bert.encoder.layer.4.attention.self.key_global.bias', 'bert.encoder.layer.1.attention.self.value_global.bias', 'bert.encoder.layer.8.attention.self.value_global.weight', 'bert.encoder.layer.11.attention.self.value_global.weight', 'bert.encoder.layer.9.attention.self.key_global.weight', 'bert.encoder.layer.8.attention.self.query_global.bias', 'cls.predictions.bias', 'bert.encoder.layer.10.attention.self.query_global.bias', 'bert.encoder.layer.8.attention.self.key_global.bias', 'bert.encoder.layer.10.attention.self.value_global.weight', 'bert.encoder.layer.3.attention.self.query_global.weight', 'bert.encoder.layer.0.attention.self.query_global.weight', 'bert.encoder.layer.6.attention.self.value_global.bias', 'bert.encoder.layer.4.attention.self.key_global.weight', 'bert.encoder.layer.2.attention.self.key_global.weight', 'bert.encoder.layer.3.attention.self.query_global.bias', 'bert.encoder.layer.0.attention.self.key_global.weight', 'bert.encoder.layer.5.attention.self.query_global.bias', 'bert.encoder.layer.9.attention.self.key_global.bias', 'bert.encoder.layer.10.attention.self.key_global.bias', 'bert.encoder.layer.2.attention.self.value_global.weight', 'bert.encoder.layer.6.attention.self.query_global.weight', 'cls.predictions.transform.dense.bias', 'bert.encoder.layer.7.attention.self.query_global.weight', 'bert.encoder.layer.6.attention.self.value_global.weight', 'bert.encoder.layer.5.attention.self.value_global.weight', 'bert.encoder.layer.7.attention.self.key_global.bias', 'cls.seq_relationship.bias', 'bert.encoder.layer.1.attention.self.query_global.weight', 'bert.encoder.layer.10.attention.self.query_global.weight', 'bert.encoder.layer.3.attention.self.key_global.bias', 'bert.encoder.layer.11.attention.self.value_global.bias', 'cls.predictions.transform.LayerNorm.bias', 'bert.encoder.layer.7.attention.self.key_global.weight', 'bert.encoder.layer.11.attention.self.key_global.weight', 'bert.encoder.layer.3.attention.self.value_global.weight', 'bert.encoder.layer.2.attention.self.query_global.bias', 'bert.encoder.layer.0.attention.self.value_global.bias', 'bert.encoder.layer.5.attention.self.value_global.bias', 'cls.predictions.decoder.weight', 'bert.encoder.layer.4.attention.self.query_global.weight', 'bert.encoder.layer.0.attention.self.query_global.bias', 'bert.encoder.layer.9.attention.self.query_global.weight', 'bert.encoder.layer.5.attention.self.query_global.weight', 'bert.encoder.layer.4.attention.self.query_global.bias', 'bert.encoder.layer.6.attention.self.key_global.weight', 'bert.encoder.layer.10.attention.self.key_global.weight', 'bert.encoder.layer.9.attention.self.value_global.bias', 'bert.encoder.layer.2.attention.self.value_global.bias', 'bert.encoder.layer.3.attention.self.value_global.bias', 'bert.encoder.layer.11.attention.self.query_global.bias', 'bert.encoder.layer.11.attention.self.query_global.weight', 'bert.encoder.layer.7.attention.self.query_global.bias', 'cls.predictions.decoder.bias', 'bert.encoder.layer.1.attention.self.value_global.weight', 'bert.encoder.layer.8.attention.self.value_global.bias', 'cls.predictions.transform.dense.weight', 'bert.encoder.layer.1.attention.self.query_global.bias', 'bert.encoder.layer.1.attention.self.key_global.bias', 'bert.encoder.layer.9.attention.self.value_global.weight', 'bert.encoder.layer.1.attention.self.key_global.weight', 'bert.encoder.layer.2.attention.self.query_global.weight', 'bert.encoder.layer.7.attention.self.value_global.weight', 'bert.encoder.layer.4.attention.self.value_global.weight', 'bert.encoder.layer.6.attention.self.query_global.bias', 'bert.encoder.layer.5.attention.self.key_global.weight', 'bert.encoder.layer.0.attention.self.value_global.weight', 'bert.encoder.layer.3.attention.self.key_global.weight', 'bert.encoder.layer.2.attention.self.key_global.bias', 'bert.encoder.layer.10.attention.self.value_global.bias', 'bert.encoder.layer.5.attention.self.key_global.bias', 'bert.encoder.layer.7.attention.self.value_global.bias', 'bert.encoder.layer.8.attention.self.key_global.weight', 'bert.encoder.layer.8.attention.self.query_global.weight', 'bert.encoder.layer.0.attention.self.key_global.bias', 'bert.encoder.layer.11.attention.self.key_global.bias', 'cls.predictions.transform.LayerNorm.weight', 'bert.encoder.layer.6.attention.self.key_global.bias']\n",
      "- This IS expected if you are initializing BertModel from the checkpoint of a model trained on another task or with another architecture (e.g. initializing a BertForSequenceClassification model from a BertForPreTraining model).\n",
      "- This IS NOT expected if you are initializing BertModel from the checkpoint of a model that you expect to be exactly identical (initializing a BertForSequenceClassification model from a BertForSequenceClassification model).\n",
      "/home/anaconda/anaconda3/envs/pytorch/lib/python3.7/site-packages/torch/nn/modules/rnn.py:65: UserWarning: dropout option adds dropout after all but last recurrent layer, so non-zero dropout expects num_layers greater than 1, but got dropout=0.5 and num_layers=1\n",
      "  \"num_layers={}\".format(dropout, num_layers))\n"
     ]
    },
    {
     "data": {
      "text/plain": [
       "<All keys matched successfully>"
      ]
     },
     "execution_count": 36,
     "metadata": {},
     "output_type": "execute_result"
    }
   ],
   "source": [
    "model = NeuralNetwork().to(device)\n",
    "model.load_state_dict(torch.load('/home/chenli/pre_model/experiment_model/Longformer+GRU/epoch_4_valid_acc_96.8_model_weights.bin'))"
   ]
  },
  {
   "cell_type": "code",
   "execution_count": 9,
   "id": "53110ee7",
   "metadata": {},
   "outputs": [
    {
     "name": "stderr",
     "output_type": "stream",
     "text": [
      "Some weights of the model checkpoint at schen/longformer-chinese-base-4096 were not used when initializing BertModel: ['bert.encoder.layer.1.attention.self.query_global.weight', 'cls.predictions.transform.LayerNorm.bias', 'bert.encoder.layer.8.attention.self.value_global.weight', 'bert.encoder.layer.5.attention.self.key_global.bias', 'bert.encoder.layer.7.attention.self.key_global.weight', 'bert.encoder.layer.4.attention.self.key_global.bias', 'bert.encoder.layer.9.attention.self.key_global.bias', 'cls.predictions.transform.dense.weight', 'bert.encoder.layer.5.attention.self.value_global.bias', 'bert.encoder.layer.3.attention.self.value_global.bias', 'bert.encoder.layer.1.attention.self.key_global.bias', 'bert.encoder.layer.3.attention.self.query_global.bias', 'bert.encoder.layer.11.attention.self.query_global.weight', 'bert.encoder.layer.8.attention.self.query_global.weight', 'bert.encoder.layer.6.attention.self.query_global.weight', 'bert.encoder.layer.10.attention.self.value_global.bias', 'bert.encoder.layer.11.attention.self.key_global.bias', 'bert.encoder.layer.1.attention.self.query_global.bias', 'bert.encoder.layer.11.attention.self.key_global.weight', 'bert.encoder.layer.4.attention.self.value_global.bias', 'bert.encoder.layer.0.attention.self.value_global.bias', 'bert.encoder.layer.9.attention.self.value_global.bias', 'bert.encoder.layer.2.attention.self.key_global.bias', 'bert.encoder.layer.7.attention.self.value_global.weight', 'bert.encoder.layer.0.attention.self.key_global.weight', 'bert.encoder.layer.8.attention.self.query_global.bias', 'bert.encoder.layer.7.attention.self.query_global.weight', 'bert.encoder.layer.11.attention.self.value_global.bias', 'bert.encoder.layer.9.attention.self.query_global.bias', 'bert.encoder.layer.6.attention.self.value_global.bias', 'bert.encoder.layer.10.attention.self.query_global.weight', 'cls.predictions.transform.dense.bias', 'bert.encoder.layer.1.attention.self.value_global.weight', 'bert.encoder.layer.10.attention.self.value_global.weight', 'bert.encoder.layer.1.attention.self.value_global.bias', 'bert.encoder.layer.8.attention.self.key_global.weight', 'bert.encoder.layer.6.attention.self.query_global.bias', 'bert.encoder.layer.4.attention.self.query_global.bias', 'bert.encoder.layer.5.attention.self.query_global.bias', 'bert.encoder.layer.3.attention.self.key_global.bias', 'bert.encoder.layer.10.attention.self.key_global.bias', 'bert.encoder.layer.4.attention.self.query_global.weight', 'bert.encoder.layer.6.attention.self.value_global.weight', 'bert.encoder.layer.11.attention.self.query_global.bias', 'bert.encoder.layer.1.attention.self.key_global.weight', 'bert.encoder.layer.8.attention.self.key_global.bias', 'bert.encoder.layer.2.attention.self.query_global.weight', 'bert.encoder.layer.9.attention.self.query_global.weight', 'bert.encoder.layer.2.attention.self.query_global.bias', 'bert.encoder.layer.2.attention.self.key_global.weight', 'bert.encoder.layer.0.attention.self.value_global.weight', 'bert.encoder.layer.0.attention.self.key_global.bias', 'cls.predictions.bias', 'bert.encoder.layer.7.attention.self.value_global.bias', 'cls.predictions.transform.LayerNorm.weight', 'bert.encoder.layer.3.attention.self.value_global.weight', 'bert.encoder.layer.5.attention.self.query_global.weight', 'bert.encoder.layer.3.attention.self.key_global.weight', 'bert.encoder.layer.0.attention.self.query_global.weight', 'bert.encoder.layer.6.attention.self.key_global.bias', 'bert.encoder.layer.9.attention.self.value_global.weight', 'cls.seq_relationship.bias', 'bert.encoder.layer.3.attention.self.query_global.weight', 'bert.encoder.layer.4.attention.self.key_global.weight', 'bert.encoder.layer.8.attention.self.value_global.bias', 'bert.encoder.layer.2.attention.self.value_global.weight', 'cls.seq_relationship.weight', 'bert.encoder.layer.10.attention.self.query_global.bias', 'bert.encoder.layer.6.attention.self.key_global.weight', 'bert.encoder.layer.7.attention.self.key_global.bias', 'bert.encoder.layer.5.attention.self.value_global.weight', 'cls.predictions.decoder.bias', 'bert.encoder.layer.9.attention.self.key_global.weight', 'cls.predictions.decoder.weight', 'bert.encoder.layer.7.attention.self.query_global.bias', 'bert.encoder.layer.4.attention.self.value_global.weight', 'bert.encoder.layer.0.attention.self.query_global.bias', 'bert.encoder.layer.2.attention.self.value_global.bias', 'bert.encoder.layer.10.attention.self.key_global.weight', 'bert.encoder.layer.11.attention.self.value_global.weight', 'bert.encoder.layer.5.attention.self.key_global.weight']\n",
      "- This IS expected if you are initializing BertModel from the checkpoint of a model trained on another task or with another architecture (e.g. initializing a BertForSequenceClassification model from a BertForPreTraining model).\n",
      "- This IS NOT expected if you are initializing BertModel from the checkpoint of a model that you expect to be exactly identical (initializing a BertForSequenceClassification model from a BertForSequenceClassification model).\n",
      "/home/anaconda/anaconda3/envs/pytorch/lib/python3.7/site-packages/torch/nn/modules/rnn.py:65: UserWarning: dropout option adds dropout after all but last recurrent layer, so non-zero dropout expects num_layers greater than 1, but got dropout=0.5 and num_layers=1\n",
      "  \"num_layers={}\".format(dropout, num_layers))\n"
     ]
    },
    {
     "name": "stdout",
     "output_type": "stream",
     "text": [
      "NeuralNetwork(\n",
      "  (longformer): BertModel(\n",
      "    (embeddings): BertEmbeddings(\n",
      "      (word_embeddings): Embedding(21128, 768, padding_idx=0)\n",
      "      (position_embeddings): Embedding(4096, 768)\n",
      "      (token_type_embeddings): Embedding(2, 768)\n",
      "      (LayerNorm): LayerNorm((768,), eps=1e-12, elementwise_affine=True)\n",
      "      (dropout): Dropout(p=0.1, inplace=False)\n",
      "    )\n",
      "    (encoder): BertEncoder(\n",
      "      (layer): ModuleList(\n",
      "        (0): BertLayer(\n",
      "          (attention): BertAttention(\n",
      "            (self): BertSelfAttention(\n",
      "              (query): Linear(in_features=768, out_features=768, bias=True)\n",
      "              (key): Linear(in_features=768, out_features=768, bias=True)\n",
      "              (value): Linear(in_features=768, out_features=768, bias=True)\n",
      "              (dropout): Dropout(p=0.1, inplace=False)\n",
      "            )\n",
      "            (output): BertSelfOutput(\n",
      "              (dense): Linear(in_features=768, out_features=768, bias=True)\n",
      "              (LayerNorm): LayerNorm((768,), eps=1e-12, elementwise_affine=True)\n",
      "              (dropout): Dropout(p=0.1, inplace=False)\n",
      "            )\n",
      "          )\n",
      "          (intermediate): BertIntermediate(\n",
      "            (dense): Linear(in_features=768, out_features=3072, bias=True)\n",
      "          )\n",
      "          (output): BertOutput(\n",
      "            (dense): Linear(in_features=3072, out_features=768, bias=True)\n",
      "            (LayerNorm): LayerNorm((768,), eps=1e-12, elementwise_affine=True)\n",
      "            (dropout): Dropout(p=0.1, inplace=False)\n",
      "          )\n",
      "        )\n",
      "        (1): BertLayer(\n",
      "          (attention): BertAttention(\n",
      "            (self): BertSelfAttention(\n",
      "              (query): Linear(in_features=768, out_features=768, bias=True)\n",
      "              (key): Linear(in_features=768, out_features=768, bias=True)\n",
      "              (value): Linear(in_features=768, out_features=768, bias=True)\n",
      "              (dropout): Dropout(p=0.1, inplace=False)\n",
      "            )\n",
      "            (output): BertSelfOutput(\n",
      "              (dense): Linear(in_features=768, out_features=768, bias=True)\n",
      "              (LayerNorm): LayerNorm((768,), eps=1e-12, elementwise_affine=True)\n",
      "              (dropout): Dropout(p=0.1, inplace=False)\n",
      "            )\n",
      "          )\n",
      "          (intermediate): BertIntermediate(\n",
      "            (dense): Linear(in_features=768, out_features=3072, bias=True)\n",
      "          )\n",
      "          (output): BertOutput(\n",
      "            (dense): Linear(in_features=3072, out_features=768, bias=True)\n",
      "            (LayerNorm): LayerNorm((768,), eps=1e-12, elementwise_affine=True)\n",
      "            (dropout): Dropout(p=0.1, inplace=False)\n",
      "          )\n",
      "        )\n",
      "        (2): BertLayer(\n",
      "          (attention): BertAttention(\n",
      "            (self): BertSelfAttention(\n",
      "              (query): Linear(in_features=768, out_features=768, bias=True)\n",
      "              (key): Linear(in_features=768, out_features=768, bias=True)\n",
      "              (value): Linear(in_features=768, out_features=768, bias=True)\n",
      "              (dropout): Dropout(p=0.1, inplace=False)\n",
      "            )\n",
      "            (output): BertSelfOutput(\n",
      "              (dense): Linear(in_features=768, out_features=768, bias=True)\n",
      "              (LayerNorm): LayerNorm((768,), eps=1e-12, elementwise_affine=True)\n",
      "              (dropout): Dropout(p=0.1, inplace=False)\n",
      "            )\n",
      "          )\n",
      "          (intermediate): BertIntermediate(\n",
      "            (dense): Linear(in_features=768, out_features=3072, bias=True)\n",
      "          )\n",
      "          (output): BertOutput(\n",
      "            (dense): Linear(in_features=3072, out_features=768, bias=True)\n",
      "            (LayerNorm): LayerNorm((768,), eps=1e-12, elementwise_affine=True)\n",
      "            (dropout): Dropout(p=0.1, inplace=False)\n",
      "          )\n",
      "        )\n",
      "        (3): BertLayer(\n",
      "          (attention): BertAttention(\n",
      "            (self): BertSelfAttention(\n",
      "              (query): Linear(in_features=768, out_features=768, bias=True)\n",
      "              (key): Linear(in_features=768, out_features=768, bias=True)\n",
      "              (value): Linear(in_features=768, out_features=768, bias=True)\n",
      "              (dropout): Dropout(p=0.1, inplace=False)\n",
      "            )\n",
      "            (output): BertSelfOutput(\n",
      "              (dense): Linear(in_features=768, out_features=768, bias=True)\n",
      "              (LayerNorm): LayerNorm((768,), eps=1e-12, elementwise_affine=True)\n",
      "              (dropout): Dropout(p=0.1, inplace=False)\n",
      "            )\n",
      "          )\n",
      "          (intermediate): BertIntermediate(\n",
      "            (dense): Linear(in_features=768, out_features=3072, bias=True)\n",
      "          )\n",
      "          (output): BertOutput(\n",
      "            (dense): Linear(in_features=3072, out_features=768, bias=True)\n",
      "            (LayerNorm): LayerNorm((768,), eps=1e-12, elementwise_affine=True)\n",
      "            (dropout): Dropout(p=0.1, inplace=False)\n",
      "          )\n",
      "        )\n",
      "        (4): BertLayer(\n",
      "          (attention): BertAttention(\n",
      "            (self): BertSelfAttention(\n",
      "              (query): Linear(in_features=768, out_features=768, bias=True)\n",
      "              (key): Linear(in_features=768, out_features=768, bias=True)\n",
      "              (value): Linear(in_features=768, out_features=768, bias=True)\n",
      "              (dropout): Dropout(p=0.1, inplace=False)\n",
      "            )\n",
      "            (output): BertSelfOutput(\n",
      "              (dense): Linear(in_features=768, out_features=768, bias=True)\n",
      "              (LayerNorm): LayerNorm((768,), eps=1e-12, elementwise_affine=True)\n",
      "              (dropout): Dropout(p=0.1, inplace=False)\n",
      "            )\n",
      "          )\n",
      "          (intermediate): BertIntermediate(\n",
      "            (dense): Linear(in_features=768, out_features=3072, bias=True)\n",
      "          )\n",
      "          (output): BertOutput(\n",
      "            (dense): Linear(in_features=3072, out_features=768, bias=True)\n",
      "            (LayerNorm): LayerNorm((768,), eps=1e-12, elementwise_affine=True)\n",
      "            (dropout): Dropout(p=0.1, inplace=False)\n",
      "          )\n",
      "        )\n",
      "        (5): BertLayer(\n",
      "          (attention): BertAttention(\n",
      "            (self): BertSelfAttention(\n",
      "              (query): Linear(in_features=768, out_features=768, bias=True)\n",
      "              (key): Linear(in_features=768, out_features=768, bias=True)\n",
      "              (value): Linear(in_features=768, out_features=768, bias=True)\n",
      "              (dropout): Dropout(p=0.1, inplace=False)\n",
      "            )\n",
      "            (output): BertSelfOutput(\n",
      "              (dense): Linear(in_features=768, out_features=768, bias=True)\n",
      "              (LayerNorm): LayerNorm((768,), eps=1e-12, elementwise_affine=True)\n",
      "              (dropout): Dropout(p=0.1, inplace=False)\n",
      "            )\n",
      "          )\n",
      "          (intermediate): BertIntermediate(\n",
      "            (dense): Linear(in_features=768, out_features=3072, bias=True)\n",
      "          )\n",
      "          (output): BertOutput(\n",
      "            (dense): Linear(in_features=3072, out_features=768, bias=True)\n",
      "            (LayerNorm): LayerNorm((768,), eps=1e-12, elementwise_affine=True)\n",
      "            (dropout): Dropout(p=0.1, inplace=False)\n",
      "          )\n",
      "        )\n",
      "        (6): BertLayer(\n",
      "          (attention): BertAttention(\n",
      "            (self): BertSelfAttention(\n",
      "              (query): Linear(in_features=768, out_features=768, bias=True)\n",
      "              (key): Linear(in_features=768, out_features=768, bias=True)\n",
      "              (value): Linear(in_features=768, out_features=768, bias=True)\n",
      "              (dropout): Dropout(p=0.1, inplace=False)\n",
      "            )\n",
      "            (output): BertSelfOutput(\n",
      "              (dense): Linear(in_features=768, out_features=768, bias=True)\n",
      "              (LayerNorm): LayerNorm((768,), eps=1e-12, elementwise_affine=True)\n",
      "              (dropout): Dropout(p=0.1, inplace=False)\n",
      "            )\n",
      "          )\n",
      "          (intermediate): BertIntermediate(\n",
      "            (dense): Linear(in_features=768, out_features=3072, bias=True)\n",
      "          )\n",
      "          (output): BertOutput(\n",
      "            (dense): Linear(in_features=3072, out_features=768, bias=True)\n",
      "            (LayerNorm): LayerNorm((768,), eps=1e-12, elementwise_affine=True)\n",
      "            (dropout): Dropout(p=0.1, inplace=False)\n",
      "          )\n",
      "        )\n",
      "        (7): BertLayer(\n",
      "          (attention): BertAttention(\n",
      "            (self): BertSelfAttention(\n",
      "              (query): Linear(in_features=768, out_features=768, bias=True)\n",
      "              (key): Linear(in_features=768, out_features=768, bias=True)\n",
      "              (value): Linear(in_features=768, out_features=768, bias=True)\n",
      "              (dropout): Dropout(p=0.1, inplace=False)\n",
      "            )\n",
      "            (output): BertSelfOutput(\n",
      "              (dense): Linear(in_features=768, out_features=768, bias=True)\n",
      "              (LayerNorm): LayerNorm((768,), eps=1e-12, elementwise_affine=True)\n",
      "              (dropout): Dropout(p=0.1, inplace=False)\n",
      "            )\n",
      "          )\n",
      "          (intermediate): BertIntermediate(\n",
      "            (dense): Linear(in_features=768, out_features=3072, bias=True)\n",
      "          )\n",
      "          (output): BertOutput(\n",
      "            (dense): Linear(in_features=3072, out_features=768, bias=True)\n",
      "            (LayerNorm): LayerNorm((768,), eps=1e-12, elementwise_affine=True)\n",
      "            (dropout): Dropout(p=0.1, inplace=False)\n",
      "          )\n",
      "        )\n",
      "        (8): BertLayer(\n",
      "          (attention): BertAttention(\n",
      "            (self): BertSelfAttention(\n",
      "              (query): Linear(in_features=768, out_features=768, bias=True)\n",
      "              (key): Linear(in_features=768, out_features=768, bias=True)\n",
      "              (value): Linear(in_features=768, out_features=768, bias=True)\n",
      "              (dropout): Dropout(p=0.1, inplace=False)\n",
      "            )\n",
      "            (output): BertSelfOutput(\n",
      "              (dense): Linear(in_features=768, out_features=768, bias=True)\n",
      "              (LayerNorm): LayerNorm((768,), eps=1e-12, elementwise_affine=True)\n",
      "              (dropout): Dropout(p=0.1, inplace=False)\n",
      "            )\n",
      "          )\n",
      "          (intermediate): BertIntermediate(\n",
      "            (dense): Linear(in_features=768, out_features=3072, bias=True)\n",
      "          )\n",
      "          (output): BertOutput(\n",
      "            (dense): Linear(in_features=3072, out_features=768, bias=True)\n",
      "            (LayerNorm): LayerNorm((768,), eps=1e-12, elementwise_affine=True)\n",
      "            (dropout): Dropout(p=0.1, inplace=False)\n",
      "          )\n",
      "        )\n",
      "        (9): BertLayer(\n",
      "          (attention): BertAttention(\n",
      "            (self): BertSelfAttention(\n",
      "              (query): Linear(in_features=768, out_features=768, bias=True)\n",
      "              (key): Linear(in_features=768, out_features=768, bias=True)\n",
      "              (value): Linear(in_features=768, out_features=768, bias=True)\n",
      "              (dropout): Dropout(p=0.1, inplace=False)\n",
      "            )\n",
      "            (output): BertSelfOutput(\n",
      "              (dense): Linear(in_features=768, out_features=768, bias=True)\n",
      "              (LayerNorm): LayerNorm((768,), eps=1e-12, elementwise_affine=True)\n",
      "              (dropout): Dropout(p=0.1, inplace=False)\n",
      "            )\n",
      "          )\n",
      "          (intermediate): BertIntermediate(\n",
      "            (dense): Linear(in_features=768, out_features=3072, bias=True)\n",
      "          )\n",
      "          (output): BertOutput(\n",
      "            (dense): Linear(in_features=3072, out_features=768, bias=True)\n",
      "            (LayerNorm): LayerNorm((768,), eps=1e-12, elementwise_affine=True)\n",
      "            (dropout): Dropout(p=0.1, inplace=False)\n",
      "          )\n",
      "        )\n",
      "        (10): BertLayer(\n",
      "          (attention): BertAttention(\n",
      "            (self): BertSelfAttention(\n",
      "              (query): Linear(in_features=768, out_features=768, bias=True)\n",
      "              (key): Linear(in_features=768, out_features=768, bias=True)\n",
      "              (value): Linear(in_features=768, out_features=768, bias=True)\n",
      "              (dropout): Dropout(p=0.1, inplace=False)\n",
      "            )\n",
      "            (output): BertSelfOutput(\n",
      "              (dense): Linear(in_features=768, out_features=768, bias=True)\n",
      "              (LayerNorm): LayerNorm((768,), eps=1e-12, elementwise_affine=True)\n",
      "              (dropout): Dropout(p=0.1, inplace=False)\n",
      "            )\n",
      "          )\n",
      "          (intermediate): BertIntermediate(\n",
      "            (dense): Linear(in_features=768, out_features=3072, bias=True)\n",
      "          )\n",
      "          (output): BertOutput(\n",
      "            (dense): Linear(in_features=3072, out_features=768, bias=True)\n",
      "            (LayerNorm): LayerNorm((768,), eps=1e-12, elementwise_affine=True)\n",
      "            (dropout): Dropout(p=0.1, inplace=False)\n",
      "          )\n",
      "        )\n",
      "        (11): BertLayer(\n",
      "          (attention): BertAttention(\n",
      "            (self): BertSelfAttention(\n",
      "              (query): Linear(in_features=768, out_features=768, bias=True)\n",
      "              (key): Linear(in_features=768, out_features=768, bias=True)\n",
      "              (value): Linear(in_features=768, out_features=768, bias=True)\n",
      "              (dropout): Dropout(p=0.1, inplace=False)\n",
      "            )\n",
      "            (output): BertSelfOutput(\n",
      "              (dense): Linear(in_features=768, out_features=768, bias=True)\n",
      "              (LayerNorm): LayerNorm((768,), eps=1e-12, elementwise_affine=True)\n",
      "              (dropout): Dropout(p=0.1, inplace=False)\n",
      "            )\n",
      "          )\n",
      "          (intermediate): BertIntermediate(\n",
      "            (dense): Linear(in_features=768, out_features=3072, bias=True)\n",
      "          )\n",
      "          (output): BertOutput(\n",
      "            (dense): Linear(in_features=3072, out_features=768, bias=True)\n",
      "            (LayerNorm): LayerNorm((768,), eps=1e-12, elementwise_affine=True)\n",
      "            (dropout): Dropout(p=0.1, inplace=False)\n",
      "          )\n",
      "        )\n",
      "      )\n",
      "    )\n",
      "    (pooler): BertPooler(\n",
      "      (dense): Linear(in_features=768, out_features=768, bias=True)\n",
      "      (activation): Tanh()\n",
      "    )\n",
      "  )\n",
      "  (gru): GRU(768, 768, batch_first=True, dropout=0.5, bidirectional=True)\n",
      "  (linear): Sequential(\n",
      "    (0): Linear(in_features=1536, out_features=512, bias=True)\n",
      "    (1): Dropout(p=0.5, inplace=False)\n",
      "    (2): ReLU()\n",
      "    (3): Linear(in_features=512, out_features=2, bias=True)\n",
      "  )\n",
      ")\n"
     ]
    }
   ],
   "source": [
    "model = NeuralNetwork().to(device)\n",
    "model.load_state_dict(torch.load('/home/chenli/pre_model/Longformer_BiGRU_hidden_size_768/epoch_9_valid_acc_97.7_model_weights.bin'))\n",
    "print(model)"
   ]
  },
  {
   "cell_type": "markdown",
   "id": "aeaa4b69",
   "metadata": {},
   "source": [
    "## 开始预测"
   ]
  },
  {
   "cell_type": "markdown",
   "id": "dde35c26",
   "metadata": {},
   "source": [
    "加入混淆矩阵、精准率、召回率、F1 score"
   ]
  },
  {
   "cell_type": "code",
   "execution_count": 13,
   "id": "e2f31352",
   "metadata": {},
   "outputs": [],
   "source": [
    "from sklearn.metrics import confusion_matrix\n",
    "import matplotlib.pyplot as plt\n",
    "import seaborn as sns\n",
    "from sklearn.metrics import accuracy_score\n",
    "from sklearn.metrics import precision_score\n",
    "from sklearn.metrics import recall_score\n",
    "from sklearn.metrics import f1_score\n",
    "import numpy as np\n",
    "\n",
    "def test_loop(dataloader, model, mode='Test'):\n",
    "    assert mode in ['Valid', 'Test']\n",
    "    size = len(dataloader.dataset)\n",
    "    correct = 0\n",
    "\n",
    "    # 存储真实值和预测值\n",
    "    y_true = []\n",
    "    y_pred = []\n",
    "    \n",
    "    model.eval()\n",
    "    with torch.no_grad():\n",
    "        for batch,data in enumerate(dataloader,start=1):\n",
    "            labels = data.labels.to(device)\n",
    "            input_ids = data.input_ids.to(device)\n",
    "            token_type_ids = data.token_type_ids.to(device)\n",
    "            attention_mask = data.attention_mask.to(device)\n",
    "            pred = model(input_ids,token_type_ids,attention_mask)            \n",
    "            # 添加到列表里\n",
    "            y_true.append(labels.tolist())\n",
    "            y_pred.append(pred.argmax(1).tolist())\n",
    "            correct += (pred.argmax(1) == labels).type(torch.float).sum().item()\n",
    "\n",
    "    correct /= size\n",
    "    print(f\"{mode} Accuracy: {(100*correct):>0.1f}%\\n\")\n",
    "    \n",
    "    y_true = [i for k in y_true for i in k]\n",
    "    y_pred = [i for k in y_pred for i in k]\n",
    "    # 混淆矩阵\n",
    "    my_confusion_matrix = confusion_matrix(y_true,y_pred,labels=[0,1])\n",
    "    # 准确率\n",
    "    my_accuracy_score = accuracy_score(y_true,y_pred)\n",
    "    # 精准率\n",
    "    precision_score_micro = precision_score(y_true,y_pred,average='micro')# 推荐使用这个\n",
    "    precision_score_macro = precision_score(y_true,y_pred,average='macro')\n",
    "    precision_score_weighted = precision_score(y_true,y_pred,average='weighted')\n",
    "    precision_score_None = precision_score(y_true,y_pred,average=None)\n",
    "    precision_score_dict = {\n",
    "        \"precision_score_micro\":precision_score_micro,\n",
    "        \"precision_score_macro\":precision_score_macro,\n",
    "        \"precision_score_weighted\":precision_score_weighted,\n",
    "        \"precision_score_None\":precision_score_None\n",
    "    }\n",
    "    # 召回率\n",
    "    recall_score_micro = recall_score(y_true,y_pred,average='micro')\n",
    "    recall_score_macro = recall_score(y_true,y_pred,average='macro')\n",
    "    recall_score_weighted = recall_score(y_true,y_pred,average='weighted')\n",
    "    recall_score_None = recall_score(y_true,y_pred,average=None)\n",
    "    recall_score_dict = {\n",
    "        \"recall_score_micro\":recall_score_micro,\n",
    "        \"recall_score_macro\":recall_score_macro,\n",
    "        \"recall_score_weighted\":recall_score_weighted,\n",
    "        \"recall_score_None\":recall_score_None\n",
    "    }\n",
    "    # F1 score\n",
    "    f1_score_micro = f1_score(y_true,y_pred,average='micro')\n",
    "    f1_score_macro = f1_score(y_true,y_pred,average='macro')\n",
    "    f1_score_weighted = f1_score(y_true,y_pred,average='weighted')\n",
    "    f1_score_None = f1_score(y_true,y_pred,average=None)\n",
    "    f1_score_dict = {\n",
    "        \"f1_score_micro\":f1_score_micro,\n",
    "        \"f1_score_macro\":f1_score_macro,\n",
    "        \"f1_score_weighted\":f1_score_weighted,\n",
    "        \"f1_score_None\":f1_score_None\n",
    "    }\n",
    "    # 综合指标\n",
    "    general_index = {\n",
    "        \"accuracy_score\":my_accuracy_score,\n",
    "        \"precision_score\":precision_score_dict,\n",
    "        \"recall_score\":recall_score_dict,\n",
    "        \"f1_score\":f1_score_dict\n",
    "    }\n",
    "    \n",
    "    \n",
    "    return correct,my_confusion_matrix,general_index"
   ]
  },
  {
   "cell_type": "markdown",
   "id": "bc41def9",
   "metadata": {},
   "source": [
    "97.7%准确率的模型，hidden_size=768"
   ]
  },
  {
   "cell_type": "code",
   "execution_count": 11,
   "id": "f3b0ba2a",
   "metadata": {},
   "outputs": [
    {
     "name": "stdout",
     "output_type": "stream",
     "text": [
      "Valid Accuracy: 97.7%\n",
      "\n",
      "valid_acc:0.9767441860465116\n",
      "confusion_matrix:[[148   6]\n",
      " [  2 188]]\n",
      "general_index:{'accuracy_score': 0.9767441860465116, 'precision_score': {'precision_score_micro': 0.9767441860465116, 'precision_score_macro': 0.9778694158075601, 'precision_score_weighted': 0.9769487732757931, 'precision_score_None': array([0.98666667, 0.96907216])}, 'recall_score': {'recall_score_micro': 0.9767441860465116, 'recall_score_macro': 0.9752563226247437, 'recall_score_weighted': 0.9767441860465116, 'recall_score_None': array([0.96103896, 0.98947368])}, 'f1_score': {'f1_score_micro': 0.9767441860465116, 'f1_score_macro': 0.9764254385964912, 'f1_score_weighted': 0.9767123113015096, 'f1_score_None': array([0.97368421, 0.97916667])}}\n",
      "Done!\n"
     ]
    }
   ],
   "source": [
    "valid_acc,confusion_matrix,general_index = test_loop(valid_dataloader, model, mode='Valid')\n",
    "print(f'valid_acc:{valid_acc}')\n",
    "print(f'confusion_matrix:{confusion_matrix}')\n",
    "print(f'general_index:{general_index}')\n",
    "print(\"Done!\")"
   ]
  },
  {
   "cell_type": "code",
   "execution_count": 12,
   "id": "74482d4f",
   "metadata": {},
   "outputs": [
    {
     "data": {
      "image/png": "[encoded data removed]",
      "text/plain": [
       "<Figure size 432x288 with 2 Axes>"
      ]
     },
     "metadata": {
      "needs_background": "light"
     },
     "output_type": "display_data"
    }
   ],
   "source": [
    "sns.heatmap(confusion_matrix,annot=True,annot_kws={'size':20,'weight':'bold','color':'red'})\n",
    "plt.title('confusion matrix',fontsize=20)\n",
    "plt.xlabel('Predict',fontsize=14)\n",
    "plt.ylabel('Actual',fontsize=14)\n",
    "plt.show()"
   ]
  },
  {
   "cell_type": "code",
   "execution_count": 14,
   "id": "d9bd9f15",
   "metadata": {},
   "outputs": [
    {
     "name": "stdout",
     "output_type": "stream",
     "text": [
      "Test Accuracy: 95.4%\n",
      "\n",
      "valid_acc:0.9536231884057971\n",
      "confusion_matrix:[[141  11]\n",
      " [  4 188]]\n",
      "general_index:{'accuracy_score': 0.9563953488372093, 'precision_score': {'precision_score_micro': 0.9563953488372093, 'precision_score_macro': 0.9585687055969503, 'precision_score_weighted': 0.9569588117008457, 'precision_score_None': array([0.97241379, 0.94472362])}, 'recall_score': {'recall_score_micro': 0.9563953488372093, 'recall_score_macro': 0.9533991228070176, 'recall_score_weighted': 0.9563953488372093, 'recall_score_None': array([0.92763158, 0.97916667])}, 'f1_score': {'f1_score_micro': 0.9563953488372093, 'f1_score_macro': 0.9555658890697254, 'f1_score_weighted': 0.9562718122760947, 'f1_score_None': array([0.94949495, 0.96163683])}}\n",
      "Done!\n"
     ]
    }
   ],
   "source": [
    "valid_acc,confusion_matrix,general_index = test_loop(test_dataloader, model, mode='Test')\n",
    "print(f'valid_acc:{valid_acc}')\n",
    "print(f'confusion_matrix:{confusion_matrix}')\n",
    "print(f'general_index:{general_index}')\n",
    "print(\"Done!\")"
   ]
  },
  {
   "cell_type": "code",
   "execution_count": 15,
   "id": "e601eb1a",
   "metadata": {},
   "outputs": [
    {
     "data": {
      "image/png": "[encoded data removed]",
      "text/plain": [
       "<Figure size 432x288 with 2 Axes>"
      ]
     },
     "metadata": {
      "needs_background": "light"
     },
     "output_type": "display_data"
    }
   ],
   "source": [
    "sns.heatmap(confusion_matrix,annot=True,annot_kws={'size':20,'weight':'bold','color':'red'})\n",
    "plt.title('confusion matrix',fontsize=20)\n",
    "plt.xlabel('Predict',fontsize=14)\n",
    "plt.ylabel('Actual',fontsize=14)\n",
    "plt.show()"
   ]
  },
  {
   "cell_type": "markdown",
   "id": "87021b13",
   "metadata": {},
   "source": [
    "97.1%准确率的模型"
   ]
  },
  {
   "cell_type": "code",
   "execution_count": 30,
   "id": "c7dbc785",
   "metadata": {},
   "outputs": [
    {
     "name": "stdout",
     "output_type": "stream",
     "text": [
      "Valid Accuracy: 97.1%\n",
      "\n",
      "valid_acc:0.9709302325581395\n",
      "confusion_matrix:[[148   6]\n",
      " [  4 186]]\n",
      "general_index:{'accuracy_score': 0.9709302325581395, 'precision_score': {'precision_score_micro': 0.9709302325581395, 'precision_score_macro': 0.971217105263158, 'precision_score_weighted': 0.9709589198286412, 'precision_score_None': array([0.97368421, 0.96875   ])}, 'recall_score': {'recall_score_micro': 0.9709302325581395, 'recall_score_macro': 0.9699931647300069, 'recall_score_weighted': 0.9709302325581395, 'recall_score_None': array([0.96103896, 0.97894737])}, 'f1_score': {'f1_score_micro': 0.9709302325581395, 'f1_score_macro': 0.9705711254833522, 'f1_score_weighted': 0.9709113321857823, 'f1_score_None': array([0.96732026, 0.97382199])}}\n",
      "Done!\n"
     ]
    }
   ],
   "source": [
    "valid_acc,confusion_matrix,general_index = test_loop(valid_dataloader, model, mode='Valid')\n",
    "print(f'valid_acc:{valid_acc}')\n",
    "print(f'confusion_matrix:{confusion_matrix}')\n",
    "print(f'general_index:{general_index}')\n",
    "print(\"Done!\")"
   ]
  },
  {
   "cell_type": "code",
   "execution_count": 31,
   "id": "f7c153aa",
   "metadata": {},
   "outputs": [
    {
     "data": {
      "image/png": "[encoded data removed]",
      "text/plain": [
       "<Figure size 432x288 with 2 Axes>"
      ]
     },
     "metadata": {
      "needs_background": "light"
     },
     "output_type": "display_data"
    }
   ],
   "source": [
    "sns.heatmap(confusion_matrix,annot=True,annot_kws={'size':20,'weight':'bold','color':'red'})\n",
    "plt.title('confusion matrix',fontsize=20)\n",
    "plt.xlabel('Predict',fontsize=14)\n",
    "plt.ylabel('Actual',fontsize=14)\n",
    "plt.show()"
   ]
  },
  {
   "cell_type": "code",
   "execution_count": 33,
   "id": "c5f0a138",
   "metadata": {},
   "outputs": [
    {
     "name": "stdout",
     "output_type": "stream",
     "text": [
      "Test Accuracy: 95.7%\n",
      "\n",
      "valid_acc:0.9565217391304348\n",
      "confusion_matrix:[[142  11]\n",
      " [  3 188]]\n",
      "general_index:{'accuracy_score': 0.9593023255813954, 'precision_score': {'precision_score_micro': 0.9593023255813954, 'precision_score_macro': 0.9620169814590191, 'precision_score_weighted': 0.9601066680636542, 'precision_score_None': array([0.97931034, 0.94472362])}, 'recall_score': {'recall_score_micro': 0.9593023255813954, 'recall_score_macro': 0.9561988844403382, 'recall_score_weighted': 0.9593023255813954, 'recall_score_None': array([0.92810458, 0.98429319])}, 'f1_score': {'f1_score_micro': 0.9593023255813954, 'f1_score_macro': 0.9585613491653759, 'f1_score_weighted': 0.9591734601177397, 'f1_score_None': array([0.95302013, 0.96410256])}}\n",
      "Done!\n"
     ]
    }
   ],
   "source": [
    "valid_acc,confusion_matrix,general_index = test_loop(test_dataloader, model, mode='Test')\n",
    "print(f'valid_acc:{valid_acc}')\n",
    "print(f'confusion_matrix:{confusion_matrix}')\n",
    "print(f'general_index:{general_index}')\n",
    "print(\"Done!\")"
   ]
  },
  {
   "cell_type": "code",
   "execution_count": 34,
   "id": "52ccdbf3",
   "metadata": {},
   "outputs": [
    {
     "data": {
      "image/png": "[encoded data removed]",
      "text/plain": [
       "<Figure size 432x288 with 2 Axes>"
      ]
     },
     "metadata": {
      "needs_background": "light"
     },
     "output_type": "display_data"
    }
   ],
   "source": [
    "sns.heatmap(confusion_matrix,annot=True,annot_kws={'size':20,'weight':'bold','color':'red'})\n",
    "plt.title('confusion matrix',fontsize=20)\n",
    "plt.xlabel('Predict',fontsize=14)\n",
    "plt.ylabel('Actual',fontsize=14)\n",
    "plt.show()"
   ]
  },
  {
   "cell_type": "markdown",
   "id": "fa46d1fb",
   "metadata": {},
   "source": [
    "96.8%准确率的模型"
   ]
  },
  {
   "cell_type": "code",
   "execution_count": 38,
   "id": "a4739564",
   "metadata": {},
   "outputs": [
    {
     "name": "stdout",
     "output_type": "stream",
     "text": [
      "Valid Accuracy: 96.8%\n",
      "\n",
      "valid_acc:0.9680232558139535\n",
      "confusion_matrix:[[147   7]\n",
      " [  4 186]]\n",
      "general_index:{'accuracy_score': 0.9680232558139535, 'precision_score': {'precision_score_micro': 0.9680232558139535, 'precision_score_macro': 0.9686202518615105, 'precision_score_weighted': 0.9681085409636044, 'precision_score_None': array([0.97350993, 0.96373057])}, 'recall_score': {'recall_score_micro': 0.9680232558139535, 'recall_score_macro': 0.9667464114832536, 'recall_score_weighted': 0.9680232558139535, 'recall_score_None': array([0.95454545, 0.97894737])}, 'f1_score': {'f1_score_micro': 0.9680232558139535, 'f1_score_macro': 0.9676068997988273, 'f1_score_weighted': 0.9679912284281745, 'f1_score_None': array([0.96393443, 0.97127937])}}\n",
      "Done!\n"
     ]
    }
   ],
   "source": [
    "valid_acc,confusion_matrix,general_index = test_loop(valid_dataloader, model, mode='Valid')\n",
    "print(f'valid_acc:{valid_acc}')\n",
    "print(f'confusion_matrix:{confusion_matrix}')\n",
    "print(f'general_index:{general_index}')\n",
    "print(\"Done!\")"
   ]
  },
  {
   "cell_type": "code",
   "execution_count": 39,
   "id": "4ce4dbbd",
   "metadata": {},
   "outputs": [
    {
     "data": {
      "image/png": "[encoded data removed]",
      "text/plain": [
       "<Figure size 432x288 with 2 Axes>"
      ]
     },
     "metadata": {
      "needs_background": "light"
     },
     "output_type": "display_data"
    }
   ],
   "source": [
    "sns.heatmap(confusion_matrix,annot=True,annot_kws={'size':20,'weight':'bold','color':'red'})\n",
    "plt.title('confusion matrix',fontsize=20)\n",
    "plt.xlabel('Predict',fontsize=14)\n",
    "plt.ylabel('Actual',fontsize=14)\n",
    "plt.show()"
   ]
  },
  {
   "cell_type": "code",
   "execution_count": 41,
   "id": "7f10caad",
   "metadata": {},
   "outputs": [
    {
     "name": "stdout",
     "output_type": "stream",
     "text": [
      "Test Accuracy: 95.4%\n",
      "\n",
      "valid_acc:0.9536231884057971\n",
      "confusion_matrix:[[142  11]\n",
      " [  4 187]]\n",
      "general_index:{'accuracy_score': 0.9563953488372093, 'precision_score': {'precision_score_micro': 0.9563953488372093, 'precision_score_macro': 0.958523592085236, 'precision_score_weighted': 0.9569683374039856, 'precision_score_None': array([0.97260274, 0.94444444])}, 'recall_score': {'recall_score_micro': 0.9563953488372093, 'recall_score_macro': 0.9535810833932177, 'recall_score_weighted': 0.9563953488372093, 'recall_score_None': array([0.92810458, 0.97905759])}, 'f1_score': {'f1_score_micro': 0.9563953488372093, 'f1_score_macro': 0.9556361823043392, 'f1_score_weighted': 0.9562772562654295, 'f1_score_None': array([0.94983278, 0.96143959])}}\n",
      "Done!\n"
     ]
    }
   ],
   "source": [
    "valid_acc,confusion_matrix,general_index = test_loop(test_dataloader, model, mode='Test')\n",
    "print(f'valid_acc:{valid_acc}')\n",
    "print(f'confusion_matrix:{confusion_matrix}')\n",
    "print(f'general_index:{general_index}')\n",
    "print(\"Done!\")"
   ]
  },
  {
   "cell_type": "code",
   "execution_count": 42,
   "id": "a3ff23c4",
   "metadata": {},
   "outputs": [
    {
     "data": {
      "image/png": "[encoded data removed]",
      "text/plain": [
       "<Figure size 432x288 with 2 Axes>"
      ]
     },
     "metadata": {
      "needs_background": "light"
     },
     "output_type": "display_data"
    }
   ],
   "source": [
    "sns.heatmap(confusion_matrix,annot=True,annot_kws={'size':20,'weight':'bold','color':'red'})\n",
    "plt.title('confusion matrix',fontsize=20)\n",
    "plt.xlabel('Predict',fontsize=14)\n",
    "plt.ylabel('Actual',fontsize=14)\n",
    "plt.show()"
   ]
  },
  {
   "cell_type": "markdown",
   "id": "9dab952d",
   "metadata": {},
   "source": [
    "96.2% 准确率的模型"
   ]
  },
  {
   "cell_type": "code",
   "execution_count": 10,
   "id": "6b91b926",
   "metadata": {},
   "outputs": [
    {
     "name": "stdout",
     "output_type": "stream",
     "text": [
      "Test Accuracy: 95.1%\n",
      "\n",
      "valid_acc:0.9507246376811594\n",
      "confusion_matrix:[[140  12]\n",
      " [  4 188]]\n",
      "general_index:{'accuracy_score': 0.9534883720930233, 'precision_score': {'precision_score_micro': 0.9534883720930233, 'precision_score_macro': 0.9561111111111111, 'precision_score_weighted': 0.9542377260981911, 'precision_score_None': array([0.97222222, 0.94      ])}, 'recall_score': {'recall_score_micro': 0.9534883720930233, 'recall_score_macro': 0.9501096491228069, 'recall_score_weighted': 0.9534883720930233, 'recall_score_None': array([0.92105263, 0.97916667])}, 'f1_score': {'f1_score_micro': 0.9534883720930233, 'f1_score_macro': 0.9525648097076668, 'f1_score_weighted': 0.9533344450287972, 'f1_score_None': array([0.94594595, 0.95918367])}}\n",
      "Done!\n"
     ]
    }
   ],
   "source": [
    "valid_acc,confusion_matrix,general_index = test_loop(test_dataloader, model, mode='Test')\n",
    "print(f'valid_acc:{valid_acc}')\n",
    "print(f'confusion_matrix:{confusion_matrix}')\n",
    "print(f'general_index:{general_index}')\n",
    "print(\"Done!\")"
   ]
  },
  {
   "cell_type": "code",
   "execution_count": null,
   "id": "550ed368",
   "metadata": {},
   "outputs": [],
   "source": [
    "sns.heatmap(confusion_matrix,annot=True,annot_kws={'size':20,'weight':'bold','color':'red'})\n",
    "plt.title('confusion matrix',fontsize=20)\n",
    "plt.xlabel('Predict',fontsize=14)\n",
    "plt.ylabel('Actual',fontsize=14)\n",
    "plt.show()"
   ]
  },
  {
   "cell_type": "markdown",
   "id": "03dc98b2",
   "metadata": {},
   "source": [
    "# 后面都是自己的测试"
   ]
  },
  {
   "cell_type": "markdown",
   "id": "467de16b",
   "metadata": {},
   "source": [
    "### 20221118 测试\n",
    "对全连接层进行测试"
   ]
  },
  {
   "cell_type": "code",
   "execution_count": 15,
   "id": "26261682",
   "metadata": {},
   "outputs": [
    {
     "name": "stdout",
     "output_type": "stream",
     "text": [
      "Test Accuracy: 96.2%\n",
      "\n",
      "0.9623188405797102\n",
      "Done!\n"
     ]
    }
   ],
   "source": [
    "valid_acc = test_loop(test_dataloader, model, mode='Test')\n",
    "print(valid_acc)\n",
    "print(\"Done!\")"
   ]
  },
  {
   "cell_type": "markdown",
   "id": "57e76467",
   "metadata": {},
   "source": [
    "### 20221118 测试\n",
    "对Longformer + LSTM测试，没跑任务一"
   ]
  },
  {
   "cell_type": "code",
   "execution_count": 9,
   "id": "b71e1e59",
   "metadata": {},
   "outputs": [
    {
     "name": "stdout",
     "output_type": "stream",
     "text": [
      "Test Accuracy: 95.9%\n",
      "\n",
      "0.9594202898550724\n",
      "Done!\n"
     ]
    }
   ],
   "source": [
    "valid_acc = test_loop(test_dataloader, model, mode='Test')\n",
    "print(valid_acc)\n",
    "print(\"Done!\")"
   ]
  },
  {
   "cell_type": "markdown",
   "id": "d06317c3",
   "metadata": {},
   "source": [
    "### 20221118 测试\n",
    "在任务一的基础上，对Longformer + LSTM。<br/>\n",
    "分词模型是Longformer"
   ]
  },
  {
   "cell_type": "code",
   "execution_count": 11,
   "id": "be5403f8",
   "metadata": {},
   "outputs": [
    {
     "name": "stdout",
     "output_type": "stream",
     "text": [
      "Test Accuracy: 95.7%\n",
      "\n",
      "0.9565217391304348\n",
      "Done!\n"
     ]
    }
   ],
   "source": [
    "valid_acc = test_loop(test_dataloader, model, mode='Test')\n",
    "print(valid_acc)\n",
    "print(\"Done!\")"
   ]
  },
  {
   "cell_type": "markdown",
   "id": "51a7b770",
   "metadata": {},
   "source": [
    "### 20221118 测试\n",
    "在任务一的基础上，对Longformer + LSTM。<br/>\n",
    "分词模型是是任务一"
   ]
  },
  {
   "cell_type": "code",
   "execution_count": null,
   "id": "cc60b5ec",
   "metadata": {},
   "outputs": [],
   "source": [
    "valid_acc = test_loop(test_dataloader, model, mode='Test')\n",
    "print(valid_acc)\n",
    "print(\"Done!\")"
   ]
  },
  {
   "cell_type": "markdown",
   "id": "72cf7517",
   "metadata": {},
   "source": [
    "## 20221214 测试\n",
    "加入混淆矩阵、精准率、召回率、F1 score等评价指标"
   ]
  },
  {
   "cell_type": "code",
   "execution_count": 25,
   "id": "eeba0c44",
   "metadata": {},
   "outputs": [
    {
     "name": "stdout",
     "output_type": "stream",
     "text": [
      "tensor([1, 0], device='cuda:1')\n",
      "tensor([[-1.3763,  1.2524],\n",
      "        [ 3.2752, -2.5231]], device='cuda:1')\n",
      "tensor([1, 0], device='cuda:1')\n",
      "tensor([True, True], device='cuda:1')\n",
      "2.0\n",
      "Test Accuracy: 0.6%\n",
      "\n",
      "0.005797101449275362\n",
      "Done!\n"
     ]
    }
   ],
   "source": [
    "valid_acc,y_true,y_pred = test_loop(test_dataloader, model, mode='Test')\n",
    "print(valid_acc)\n",
    "print(\"Done!\")"
   ]
  },
  {
   "cell_type": "markdown",
   "id": "d018fe00",
   "metadata": {},
   "source": [
    "print(labels)<br>\n",
    "print(pred)<br>\n",
    "print(pred.argmax(1))<br>\n",
    "print(pred.argmax(1) == labels)<br>\n",
    "print((pred.argmax(1) == labels).type(torch.float).sum().item())"
   ]
  },
  {
   "cell_type": "code",
   "execution_count": 26,
   "id": "7de6bcee",
   "metadata": {},
   "outputs": [
    {
     "name": "stdout",
     "output_type": "stream",
     "text": [
      "[[1, 0]]\n",
      "[[1, 0]]\n"
     ]
    }
   ],
   "source": [
    "print(y_true)\n",
    "print(y_pred)"
   ]
  },
  {
   "cell_type": "code",
   "execution_count": 31,
   "id": "f67722f2",
   "metadata": {},
   "outputs": [
    {
     "name": "stdout",
     "output_type": "stream",
     "text": [
      "Test Accuracy: 95.7%\n",
      "\n",
      "0.9565217391304348\n",
      "Done!\n"
     ]
    }
   ],
   "source": [
    "valid_acc,y_true,y_pred = test_loop(test_dataloader, model, mode='Test')\n",
    "print(valid_acc)\n",
    "print(\"Done!\")"
   ]
  },
  {
   "cell_type": "code",
   "execution_count": 32,
   "id": "9da6b211",
   "metadata": {},
   "outputs": [
    {
     "name": "stdout",
     "output_type": "stream",
     "text": [
      "[[0, 1], [1, 0], [0, 1], [1, 0], [0, 0], [0, 1], [1, 1], [0, 0], [0, 1], [1, 1], [1, 0], [0, 0], [0, 1], [0, 0], [0, 1], [1, 0], [1, 1], [1, 0], [0, 1], [1, 0], [0, 0], [1, 1], [1, 0], [0, 1], [1, 0], [0, 0], [0, 0], [0, 1], [0, 0], [1, 0], [1, 1], [0, 1], [0, 1], [0, 1], [0, 0], [0, 0], [1, 0], [0, 1], [0, 0], [0, 1], [0, 1], [0, 1], [1, 1], [1, 0], [1, 1], [1, 1], [1, 1], [0, 0], [0, 0], [0, 1], [1, 1], [1, 1], [1, 0], [0, 1], [1, 1], [1, 1], [1, 0], [1, 1], [1, 0], [0, 1], [0, 1], [0, 1], [0, 1], [1, 0], [0, 1], [1, 0], [1, 0], [0, 1], [0, 0], [1, 0], [1, 1], [1, 1], [1, 1], [0, 0], [0, 0], [1, 1], [1, 0], [1, 1], [1, 1], [1, 0], [1, 0], [1, 1], [0, 0], [1, 0], [0, 1], [0, 0], [1, 0], [1, 0], [1, 1], [1, 1], [0, 0], [1, 0], [1, 1], [1, 1], [1, 0], [1, 0], [1, 1], [1, 0], [1, 1], [0, 1], [1, 1], [0, 1], [0, 0], [0, 1], [1, 1], [1, 1], [0, 1], [1, 0], [1, 1], [0, 1], [1, 1], [1, 1], [0, 0], [1, 1], [1, 0], [0, 1], [1, 1], [1, 1], [0, 1], [1, 1], [1, 0], [0, 0], [0, 0], [1, 0], [0, 1], [1, 0], [0, 0], [0, 0], [0, 1], [0, 1], [1, 0], [0, 1], [0, 1], [1, 0], [1, 1], [1, 1], [1, 0], [1, 1], [1, 1], [0, 0], [1, 0], [1, 1], [0, 1], [1, 1], [1, 0], [1, 1], [1, 1], [1, 1], [0, 1], [1, 0], [0, 0], [0, 0], [1, 1], [0, 1], [1, 0], [1, 1], [0, 0], [1, 1], [0, 0], [0, 1], [1, 0], [1, 1], [0, 0], [0, 1], [1, 0], [0, 1], [1, 0], [0, 0], [1, 1], [0, 1], [1, 1], [0, 0]]\n",
      "[[0, 1], [1, 0], [0, 1], [1, 0], [0, 0], [0, 1], [1, 1], [0, 0], [0, 1], [1, 1], [1, 0], [0, 1], [0, 1], [0, 0], [0, 1], [1, 0], [1, 1], [1, 0], [0, 1], [1, 0], [0, 0], [1, 0], [1, 0], [0, 1], [1, 0], [0, 0], [0, 0], [0, 1], [0, 0], [1, 0], [1, 1], [0, 1], [0, 1], [0, 1], [0, 0], [0, 0], [1, 0], [0, 1], [0, 0], [1, 1], [0, 1], [0, 1], [1, 1], [1, 0], [1, 1], [1, 1], [1, 1], [0, 0], [0, 0], [0, 1], [1, 1], [1, 1], [1, 1], [0, 1], [1, 1], [1, 1], [1, 0], [1, 1], [1, 0], [0, 1], [0, 1], [1, 1], [0, 1], [1, 0], [1, 1], [1, 0], [1, 0], [0, 1], [0, 0], [1, 0], [1, 1], [1, 1], [1, 1], [0, 0], [1, 1], [1, 1], [1, 0], [1, 1], [1, 1], [1, 0], [1, 0], [1, 1], [0, 0], [1, 0], [0, 1], [0, 0], [1, 0], [1, 0], [1, 1], [1, 1], [0, 0], [1, 0], [1, 1], [1, 1], [1, 0], [1, 0], [1, 1], [1, 0], [1, 1], [0, 1], [1, 1], [0, 1], [0, 0], [0, 1], [1, 1], [1, 1], [0, 1], [1, 0], [1, 1], [1, 0], [1, 1], [1, 1], [0, 0], [1, 1], [1, 0], [0, 1], [1, 1], [1, 1], [0, 1], [1, 1], [0, 0], [0, 0], [0, 0], [1, 0], [0, 1], [1, 0], [0, 0], [0, 0], [0, 1], [0, 1], [1, 0], [1, 1], [0, 1], [1, 0], [1, 1], [1, 1], [1, 0], [1, 1], [1, 1], [0, 0], [1, 0], [1, 1], [0, 1], [1, 1], [1, 0], [1, 1], [1, 1], [1, 1], [0, 1], [1, 0], [1, 0], [0, 0], [1, 1], [0, 1], [1, 0], [1, 1], [0, 0], [1, 1], [0, 0], [0, 1], [1, 0], [1, 1], [0, 0], [0, 1], [1, 0], [0, 1], [1, 0], [0, 0], [1, 1], [0, 1], [1, 1], [1, 0]]\n"
     ]
    }
   ],
   "source": [
    "print(y_true)\n",
    "print(y_pred)"
   ]
  },
  {
   "cell_type": "code",
   "execution_count": 38,
   "id": "9a924481",
   "metadata": {},
   "outputs": [
    {
     "name": "stdout",
     "output_type": "stream",
     "text": [
      "[0, 1, 1, 0, 0, 1, 1, 0, 0, 0, 0, 1, 1, 1, 0, 0, 0, 1, 1, 1, 1, 0, 0, 0, 0, 1, 0, 0, 0, 1, 1, 0, 1, 1, 1, 0, 0, 1, 1, 0, 0, 0, 1, 1, 1, 0, 0, 1, 1, 0, 0, 0, 0, 0, 0, 1, 0, 0, 1, 0, 1, 1, 0, 1, 0, 1, 0, 1, 0, 0, 0, 0, 1, 0, 0, 1, 0, 0, 0, 1, 0, 1, 0, 1, 1, 1, 1, 0, 1, 1, 1, 1, 1, 1, 0, 0, 0, 0, 0, 1, 1, 1, 1, 1, 1, 0, 0, 1, 1, 1, 1, 1, 1, 0, 1, 1, 1, 0, 0, 1, 0, 1, 0, 1, 0, 1, 1, 0, 0, 1, 1, 0, 1, 0, 0, 1, 0, 0, 1, 0, 1, 1, 1, 1, 1, 1, 0, 0, 0, 0, 1, 1, 1, 0, 1, 1, 1, 1, 1, 0, 1, 0, 1, 1, 0, 0, 1, 0, 0, 1, 0, 0, 1, 0, 1, 0, 1, 1, 1, 1, 0, 0, 1, 0, 1, 1, 1, 1, 1, 0, 1, 0, 1, 1, 1, 0, 1, 1, 0, 1, 1, 1, 0, 1, 0, 0, 0, 1, 1, 1, 1, 1, 0, 1, 1, 0, 1, 1, 0, 1, 1, 1, 1, 1, 0, 0, 1, 1, 1, 0, 0, 1, 1, 1, 1, 1, 0, 1, 1, 1, 1, 0, 0, 0, 0, 0, 1, 0, 0, 1, 1, 0, 0, 0, 0, 0, 0, 1, 0, 1, 1, 0, 0, 1, 0, 1, 1, 0, 1, 1, 1, 1, 1, 0, 1, 1, 1, 1, 0, 0, 1, 0, 1, 1, 0, 1, 1, 1, 1, 0, 1, 1, 1, 1, 1, 1, 0, 1, 1, 0, 0, 0, 0, 0, 1, 1, 0, 1, 1, 0, 1, 1, 0, 0, 1, 1, 0, 0, 0, 1, 1, 0, 1, 1, 0, 0, 0, 1, 1, 0, 0, 1, 1, 0, 0, 0, 1, 1, 0, 1, 1, 1, 0, 0]\n",
      "[0, 1, 1, 0, 0, 1, 1, 0, 0, 0, 0, 1, 1, 1, 0, 0, 0, 1, 1, 1, 1, 0, 0, 1, 0, 1, 0, 0, 0, 1, 1, 0, 1, 1, 1, 0, 0, 1, 1, 0, 0, 0, 1, 0, 1, 0, 0, 1, 1, 0, 0, 0, 0, 0, 0, 1, 0, 0, 1, 0, 1, 1, 0, 1, 0, 1, 0, 1, 0, 0, 0, 0, 1, 0, 0, 1, 0, 0, 1, 1, 0, 1, 0, 1, 1, 1, 1, 0, 1, 1, 1, 1, 1, 1, 0, 0, 0, 0, 0, 1, 1, 1, 1, 1, 1, 1, 0, 1, 1, 1, 1, 1, 1, 0, 1, 1, 1, 0, 0, 1, 0, 1, 1, 1, 0, 1, 1, 0, 1, 1, 1, 0, 1, 0, 0, 1, 0, 0, 1, 0, 1, 1, 1, 1, 1, 1, 0, 0, 1, 1, 1, 1, 1, 0, 1, 1, 1, 1, 1, 0, 1, 0, 1, 1, 0, 0, 1, 0, 0, 1, 0, 0, 1, 0, 1, 0, 1, 1, 1, 1, 0, 0, 1, 0, 1, 1, 1, 1, 1, 0, 1, 0, 1, 1, 1, 0, 1, 1, 0, 1, 1, 1, 0, 1, 0, 0, 0, 1, 1, 1, 1, 1, 0, 1, 1, 0, 1, 1, 1, 0, 1, 1, 1, 1, 0, 0, 1, 1, 1, 0, 0, 1, 1, 1, 1, 1, 0, 1, 1, 1, 0, 0, 0, 0, 0, 0, 1, 0, 0, 1, 1, 0, 0, 0, 0, 0, 0, 1, 0, 1, 1, 0, 1, 1, 0, 1, 1, 0, 1, 1, 1, 1, 1, 0, 1, 1, 1, 1, 0, 0, 1, 0, 1, 1, 0, 1, 1, 1, 1, 0, 1, 1, 1, 1, 1, 1, 0, 1, 1, 0, 1, 0, 0, 0, 1, 1, 0, 1, 1, 0, 1, 1, 0, 0, 1, 1, 0, 0, 0, 1, 1, 0, 1, 1, 0, 0, 0, 1, 1, 0, 0, 1, 1, 0, 0, 0, 1, 1, 0, 1, 1, 1, 1, 0]\n"
     ]
    }
   ],
   "source": [
    "y_true = [i for k in y_true for i in k]\n",
    "y_pred = [i for k in y_pred for i in k]\n",
    "print(y_true)\n",
    "print(y_pred)"
   ]
  },
  {
   "cell_type": "code",
   "execution_count": 39,
   "id": "b7843bbb",
   "metadata": {},
   "outputs": [
    {
     "data": {
      "image/png": "[encoded data removed]",
      "text/plain": [
       "<Figure size 432x288 with 2 Axes>"
      ]
     },
     "metadata": {
      "needs_background": "light"
     },
     "output_type": "display_data"
    }
   ],
   "source": [
    "# 混淆矩阵\n",
    "cm = confusion_matrix(y_true,y_pred,labels=[0,1])\n",
    "sns.heatmap(cm,annot=True,annot_kws={'size':20,'weight':'bold','color':'blue'})\n",
    "plt.title('confusion matrix',fontsize=20)\n",
    "plt.xlabel('Predict',fontsize=14)\n",
    "plt.ylabel('Actual',fontsize=14)\n",
    "plt.show()"
   ]
  },
  {
   "cell_type": "code",
   "execution_count": 40,
   "id": "c25710fc",
   "metadata": {},
   "outputs": [
    {
     "data": {
      "text/plain": [
       "0.9593023255813954"
      ]
     },
     "execution_count": 40,
     "metadata": {},
     "output_type": "execute_result"
    }
   ],
   "source": [
    "accuracy_score(y_true,y_pred)"
   ]
  },
  {
   "cell_type": "code",
   "execution_count": 41,
   "id": "618924ee",
   "metadata": {},
   "outputs": [
    {
     "name": "stdout",
     "output_type": "stream",
     "text": [
      "0.9593023255813954\n",
      "0.9620169814590191\n",
      "0.9601066680636542\n",
      "[0.97931034 0.94472362]\n"
     ]
    }
   ],
   "source": [
    "p1 = precision_score(y_true,y_pred,average='micro')# 推荐使用这个\n",
    "p2 = precision_score(y_true,y_pred,average='macro')\n",
    "p3 = precision_score(y_true,y_pred,average='weighted')\n",
    "p4 = precision_score(y_true,y_pred,average=None)\n",
    "\n",
    "print(p1)\n",
    "print(p2)\n",
    "print(p3)\n",
    "print(p4)"
   ]
  },
  {
   "cell_type": "code",
   "execution_count": 42,
   "id": "cff24507",
   "metadata": {},
   "outputs": [
    {
     "name": "stdout",
     "output_type": "stream",
     "text": [
      "0.9593023255813954\n",
      "0.9561988844403382\n",
      "0.9593023255813954\n",
      "[0.92810458 0.98429319]\n"
     ]
    }
   ],
   "source": [
    "r1 = recall_score(y_true,y_pred,average='micro')\n",
    "r2 = recall_score(y_true,y_pred,average='macro')\n",
    "r3 = recall_score(y_true,y_pred,average='weighted')\n",
    "r4 = recall_score(y_true,y_pred,average=None)\n",
    "print(r1)\n",
    "print(r2)\n",
    "print(r3)\n",
    "print(r4)"
   ]
  },
  {
   "cell_type": "code",
   "execution_count": 43,
   "id": "da59a651",
   "metadata": {},
   "outputs": [
    {
     "name": "stdout",
     "output_type": "stream",
     "text": [
      "0.9593023255813954\n",
      "0.9585613491653759\n",
      "0.9591734601177397\n",
      "[0.95302013 0.96410256]\n"
     ]
    }
   ],
   "source": [
    "f1 = f1_score(y_true,y_pred,average='micro')\n",
    "f2 = f1_score(y_true,y_pred,average='macro')\n",
    "f3 = f1_score(y_true,y_pred,average='weighted')\n",
    "f4 = f1_score(y_true,y_pred,average=None)\n",
    "print(f1)\n",
    "print(f2)\n",
    "print(f3)\n",
    "print(f4)"
   ]
  },
  {
   "cell_type": "code",
   "execution_count": 47,
   "id": "69d52744",
   "metadata": {},
   "outputs": [
    {
     "data": {
      "text/plain": [
       "0"
      ]
     },
     "execution_count": 47,
     "metadata": {},
     "output_type": "execute_result"
    }
   ],
   "source": [
    "p4.argmax(0)"
   ]
  },
  {
   "cell_type": "markdown",
   "id": "25aeda70",
   "metadata": {},
   "source": [
    "最终测试指标"
   ]
  },
  {
   "cell_type": "code",
   "execution_count": 55,
   "id": "24de1372",
   "metadata": {},
   "outputs": [
    {
     "name": "stdout",
     "output_type": "stream",
     "text": [
      "Test Accuracy: 95.7%\n",
      "\n",
      "valid_acc:0.9565217391304348\n",
      "confusion_matrix:[[142  11]\n",
      " [  3 188]]\n",
      "general_index:{'accuracy_score': 0.9593023255813954, 'precision_score': {'precision_score_micro': 0.9593023255813954, 'precision_score_macro': 0.9620169814590191, 'precision_score_weighted': 0.9601066680636542, 'precision_score_None': array([0.97931034, 0.94472362])}, 'recall_score': {'recall_score_micro': 0.9593023255813954, 'recall_score_macro': 0.9561988844403382, 'recall_score_weighted': 0.9593023255813954, 'recall_score_None': array([0.92810458, 0.98429319])}, 'f1_score': {'f1_score_micro': 0.9593023255813954, 'f1_score_macro': 0.9585613491653759, 'f1_score_weighted': 0.9591734601177397, 'f1_score_None': array([0.95302013, 0.96410256])}}\n",
      "Done!\n"
     ]
    }
   ],
   "source": [
    "valid_acc,confusion_matrix,general_index = test_loop(test_dataloader, model, mode='Test')\n",
    "print(f'valid_acc:{valid_acc}')\n",
    "print(f'confusion_matrix:{confusion_matrix}')\n",
    "print(f'general_index:{general_index}')\n",
    "print(\"Done!\")"
   ]
  },
  {
   "cell_type": "code",
   "execution_count": 61,
   "id": "1ab889a1",
   "metadata": {},
   "outputs": [
    {
     "data": {
      "image/png": "[encoded data removed]",
      "text/plain": [
       "<Figure size 432x288 with 2 Axes>"
      ]
     },
     "metadata": {
      "needs_background": "light"
     },
     "output_type": "display_data"
    }
   ],
   "source": [
    "sns.heatmap(confusion_matrix,annot=True,annot_kws={'size':20,'weight':'bold','color':'red'})\n",
    "plt.title('confusion matrix',fontsize=20)\n",
    "plt.xlabel('Predict',fontsize=14)\n",
    "plt.ylabel('Actual',fontsize=14)\n",
    "plt.show()"
   ]
  },
  {
   "cell_type": "code",
   "execution_count": 62,
   "id": "540b8f37",
   "metadata": {},
   "outputs": [
    {
     "data": {
      "image/png": "[encoded data removed]",
      "text/plain": [
       "<Figure size 432x288 with 2 Axes>"
      ]
     },
     "metadata": {
      "needs_background": "light"
     },
     "output_type": "display_data"
    }
   ],
   "source": [
    "sns.heatmap(confusion_matrix,annot=True,annot_kws={'size':20,'weight':'bold','color':'red'})\n",
    "plt.title('confusion matrix',fontsize=20)\n",
    "plt.xlabel('Actual',fontsize=14)\n",
    "plt.ylabel('Predict',fontsize=14)\n",
    "plt.show()"
   ]
  },
  {
   "cell_type": "code",
   "execution_count": null,
   "id": "16ce693d",
   "metadata": {},
   "outputs": [],
   "source": []
  }
 ],
 "metadata": {
  "kernelspec": {
   "display_name": "pytorch",
   "language": "python",
   "name": "pytorch"
  },
  "language_info": {
   "codemirror_mode": {
    "name": "ipython",
    "version": 3
   },
   "file_extension": ".py",
   "mimetype": "text/x-python",
   "name": "python",
   "nbconvert_exporter": "python",
   "pygments_lexer": "ipython3",
   "version": "3.7.11"
  }
 },
 "nbformat": 4,
 "nbformat_minor": 5
}
