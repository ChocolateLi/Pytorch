{
 "cells": [
  {
   "cell_type": "markdown",
   "id": "962cde83",
   "metadata": {},
   "source": [
    "# 混淆矩阵"
   ]
  },
  {
   "cell_type": "markdown",
   "id": "6b111852",
   "metadata": {},
   "source": [
    "sklearn中的混淆矩阵 <br>\n",
    "sklearn.metrics.confusion_matrix(y_true,y_pred,labels=None,sample_weight=None) <br>\n",
    "* y_true:是样本真实分类结果\n",
    "* y_pred:是样本预测分类结果\n",
    "* labels:是所给出的类别，通过这个可对类别进行选择\n",
    "* sample_weight:样本权重"
   ]
  },
  {
   "cell_type": "code",
   "execution_count": 2,
   "id": "79421ab2",
   "metadata": {},
   "outputs": [
    {
     "data": {
      "text/plain": [
       "array([[1, 1],\n",
       "       [1, 2]])"
      ]
     },
     "execution_count": 2,
     "metadata": {},
     "output_type": "execute_result"
    }
   ],
   "source": [
    "from sklearn.metrics import confusion_matrix\n",
    "y_true=[1,0,1,0,1]\n",
    "y_prd=[1,1,1,0,0]\n",
    "confusion_matrix(y_true,y_prd)"
   ]
  },
  {
   "cell_type": "code",
   "execution_count": 5,
   "id": "9a50fcfe",
   "metadata": {},
   "outputs": [
    {
     "name": "stdout",
     "output_type": "stream",
     "text": [
      "[[1 1]\n",
      " [2 6]]\n"
     ]
    },
    {
     "data": {
      "image/png": "[encoded data removed]",
      "text/plain": [
       "<Figure size 432x288 with 2 Axes>"
      ]
     },
     "metadata": {
      "needs_background": "light"
     },
     "output_type": "display_data"
    }
   ],
   "source": [
    "import matplotlib.pyplot as plt\n",
    "import seaborn as sns\n",
    "from sklearn.metrics import confusion_matrix\n",
    "# 实际值\n",
    "acts = [1,1,1,1,1,0,0,1,1,1]\n",
    "# 预测值\n",
    "preds = [1,0,1,1,1,1,0,1,1,0]\n",
    "\n",
    "# 混淆矩阵\n",
    "cm = confusion_matrix(acts,preds,labels=[0,1])\n",
    "print(cm)\n",
    "sns.heatmap(cm,annot=True,annot_kws={'size':20,'weight':'bold','color':'blue'})\n",
    "plt.title('confusion matrix',fontsize=20)\n",
    "plt.xlabel('Predict',fontsize=14)\n",
    "plt.ylabel('Actual',fontsize=14)\n",
    "plt.show()"
   ]
  },
  {
   "cell_type": "markdown",
   "id": "652e1b93",
   "metadata": {},
   "source": [
    "# 准确率\n",
    "sklearn.metrics.accuracy_score(y_true,y_pred,normalize=True,sample_weight=None)"
   ]
  },
  {
   "cell_type": "code",
   "execution_count": 6,
   "id": "cb75359d",
   "metadata": {},
   "outputs": [
    {
     "data": {
      "text/plain": [
       "array([[1, 1],\n",
       "       [2, 6]])"
      ]
     },
     "execution_count": 6,
     "metadata": {},
     "output_type": "execute_result"
    }
   ],
   "source": [
    "from sklearn.metrics import accuracy_score\n",
    "# 实际值\n",
    "y_true = [1,1,1,1,1,0,0,1,1,1]\n",
    "# 预测值\n",
    "y_pred = [1,0,1,1,1,1,0,1,1,0]\n",
    "confusion_matrix(y_true,y_pred,labels=[0,1])"
   ]
  },
  {
   "cell_type": "code",
   "execution_count": 7,
   "id": "65d1ee13",
   "metadata": {},
   "outputs": [
    {
     "data": {
      "text/plain": [
       "0.7"
      ]
     },
     "execution_count": 7,
     "metadata": {},
     "output_type": "execute_result"
    }
   ],
   "source": [
    "accuracy_score(y_true,y_pred)"
   ]
  },
  {
   "cell_type": "code",
   "execution_count": 9,
   "id": "24fc8243",
   "metadata": {},
   "outputs": [
    {
     "data": {
      "text/plain": [
       "7"
      ]
     },
     "execution_count": 9,
     "metadata": {},
     "output_type": "execute_result"
    }
   ],
   "source": [
    "# normalize=False 表示预测对了多少次\n",
    "accuracy_score(y_true,y_pred,normalize=False)"
   ]
  },
  {
   "cell_type": "markdown",
   "id": "06ab0ed8",
   "metadata": {},
   "source": [
    "# 精确率\n",
    "sklearn.metrics.precision_score(y_true,y_pred,labels=None,pos_labels=1,average='binary',sample_weight=None)<br>\n",
    "* y_true:实际(正确的)标签\n",
    "* y_pred:分类器返回的预测标签\n",
    "* average:字符串，可选值为[None,'binary','micro','macro','samples','weighted']。多分类或者多标签目标需要这个参数，如果为None，每个类别的分数将会返回，否则，它决定了数据的平均值类型。\n",
    " * binary:仅报告由pos_label指定的类的结果。这仅适用于目标是二进制的情况\n",
    " * micro:通过计算总的真正性、假负性和假正性来全局计算指标\n",
    " * macro:为每个标签计算指标，找到他们未加权的均值。它不考虑标签数据不平衡的情况。\n",
    " * weighted:未每个标签计算指标，并通过各类占比找到他们的加权均值(每个标签的正例数)。它解决了macro的标签不平衡问题；它可以产生不在精确率和召回率之间的F-score\n"
   ]
  },
  {
   "cell_type": "code",
   "execution_count": 10,
   "id": "084ff565",
   "metadata": {},
   "outputs": [
    {
     "data": {
      "text/plain": [
       "array([[1, 1],\n",
       "       [2, 6]])"
      ]
     },
     "execution_count": 10,
     "metadata": {},
     "output_type": "execute_result"
    }
   ],
   "source": [
    "from sklearn.metrics import precision_score\n",
    "# 实际值\n",
    "y_true = [1,1,1,1,1,0,0,1,1,1]\n",
    "# 预测值\n",
    "y_pred = [1,0,1,1,1,1,0,1,1,0]\n",
    "confusion_matrix(y_true,y_pred,labels=[0,1])"
   ]
  },
  {
   "cell_type": "code",
   "execution_count": 11,
   "id": "d78c032f",
   "metadata": {},
   "outputs": [
    {
     "name": "stdout",
     "output_type": "stream",
     "text": [
      "0.7\n",
      "0.5952380952380952\n",
      "0.7523809523809524\n",
      "[0.33333333 0.85714286]\n"
     ]
    }
   ],
   "source": [
    "p1 = precision_score(y_true,y_pred,average='micro')# 推荐使用这个\n",
    "p2 = precision_score(y_true,y_pred,average='macro')\n",
    "p3 = precision_score(y_true,y_pred,average='weighted')\n",
    "p4 = precision_score(y_true,y_pred,average=None)\n",
    "\n",
    "print(p1)\n",
    "print(p2)\n",
    "print(p3)\n",
    "print(p4)"
   ]
  },
  {
   "cell_type": "markdown",
   "id": "c598b14e",
   "metadata": {},
   "source": [
    "# 召回率\n",
    "sklearn.metrics.recall_score(y_true,y_pred,labels=None,pos_labels=1,average='binary',sample_weight=None)"
   ]
  },
  {
   "cell_type": "code",
   "execution_count": 12,
   "id": "0137ed1c",
   "metadata": {},
   "outputs": [
    {
     "data": {
      "text/plain": [
       "array([[1, 1],\n",
       "       [2, 6]])"
      ]
     },
     "execution_count": 12,
     "metadata": {},
     "output_type": "execute_result"
    }
   ],
   "source": [
    "from sklearn.metrics import recall_score\n",
    "# 实际值\n",
    "y_true = [1,1,1,1,1,0,0,1,1,1]\n",
    "# 预测值\n",
    "y_pred = [1,0,1,1,1,1,0,1,1,0]\n",
    "confusion_matrix(y_true,y_pred,labels=[0,1])"
   ]
  },
  {
   "cell_type": "code",
   "execution_count": 14,
   "id": "0ad4654f",
   "metadata": {},
   "outputs": [
    {
     "name": "stdout",
     "output_type": "stream",
     "text": [
      "0.7\n",
      "0.625\n",
      "0.7\n",
      "[0.5  0.75]\n"
     ]
    }
   ],
   "source": [
    "r1 = recall_score(y_true,y_pred,average='micro')\n",
    "r2 = recall_score(y_true,y_pred,average='macro')\n",
    "r3 = recall_score(y_true,y_pred,average='weighted')\n",
    "r4 = recall_score(y_true,y_pred,average=None)\n",
    "print(r1)\n",
    "print(r2)\n",
    "print(r3)\n",
    "print(r4)"
   ]
  },
  {
   "cell_type": "markdown",
   "id": "7760c927",
   "metadata": {},
   "source": [
    "# F1 score\n",
    "sklearn.metrics.f1_score(y_true,y_pred,labels=None,pos_labels=1,average='binary',sample_weight=None)"
   ]
  },
  {
   "cell_type": "code",
   "execution_count": 16,
   "id": "2f579383",
   "metadata": {},
   "outputs": [
    {
     "data": {
      "text/plain": [
       "array([[1, 1],\n",
       "       [2, 6]])"
      ]
     },
     "execution_count": 16,
     "metadata": {},
     "output_type": "execute_result"
    }
   ],
   "source": [
    "from sklearn.metrics import f1_score\n",
    "# 实际值\n",
    "y_true = [1,1,1,1,1,0,0,1,1,1]\n",
    "# 预测值\n",
    "y_pred = [1,0,1,1,1,1,0,1,1,0]\n",
    "confusion_matrix(y_true,y_pred,labels=[0,1])"
   ]
  },
  {
   "cell_type": "code",
   "execution_count": null,
   "id": "25e1cd93",
   "metadata": {},
   "outputs": [],
   "source": [
    "f1 = f1_score()"
   ]
  },
  {
   "cell_type": "code",
   "execution_count": null,
   "id": "a8231d67",
   "metadata": {},
   "outputs": [],
   "source": []
  }
 ],
 "metadata": {
  "kernelspec": {
   "display_name": "pytorch",
   "language": "python",
   "name": "pytorch"
  },
  "language_info": {
   "codemirror_mode": {
    "name": "ipython",
    "version": 3
   },
   "file_extension": ".py",
   "mimetype": "text/x-python",
   "name": "python",
   "nbconvert_exporter": "python",
   "pygments_lexer": "ipython3",
   "version": "3.7.11"
  }
 },
 "nbformat": 4,
 "nbformat_minor": 5
}
