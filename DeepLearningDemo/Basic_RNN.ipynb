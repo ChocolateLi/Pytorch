{
 "cells": [
  {
   "cell_type": "markdown",
   "id": "91c73d6a",
   "metadata": {},
   "source": [
    "# 基础RNN"
   ]
  },
  {
   "cell_type": "markdown",
   "id": "86b6c023",
   "metadata": {},
   "source": [
    "## RNNCell\n",
    "这个要自己写循环，因为输入是一个个序列"
   ]
  },
  {
   "cell_type": "code",
   "execution_count": 1,
   "id": "bd82dc0f",
   "metadata": {},
   "outputs": [
    {
     "data": {
      "text/plain": [
       "tensor([[[-0.7947, -0.6821,  0.5168,  0.7511]],\n",
       "\n",
       "        [[-0.4426,  0.4632, -0.6277, -1.9453]],\n",
       "\n",
       "        [[-0.0390, -1.2800, -0.5796, -0.4423]]])"
      ]
     },
     "execution_count": 1,
     "metadata": {},
     "output_type": "execute_result"
    }
   ],
   "source": [
    "import torch\n",
    "\n",
    "batch_size = 1\n",
    "# 序列的个数\n",
    "seq_len = 3\n",
    "# 每个序列元素的维度\n",
    "input_size = 4\n",
    "# 隐层的维度\n",
    "hidden_size = 2\n",
    "\n",
    "# 这一次的输入，加上上一次的隐层\n",
    "cell = torch.nn.RNNCell(input_size=input_size,hidden_size=hidden_size)\n",
    "\n",
    "# (seq,batch,features)\n",
    "dataset = torch.randn(seq_len,batch_size,input_size)\n",
    "dataset"
   ]
  },
  {
   "cell_type": "code",
   "execution_count": 2,
   "id": "6208c461",
   "metadata": {},
   "outputs": [
    {
     "data": {
      "text/plain": [
       "tensor([[0., 0.]])"
      ]
     },
     "execution_count": 2,
     "metadata": {},
     "output_type": "execute_result"
    }
   ],
   "source": [
    "# 初始值为全零\n",
    "hidden = torch.zeros(batch_size,hidden_size)\n",
    "hidden"
   ]
  },
  {
   "cell_type": "code",
   "execution_count": 5,
   "id": "8ac2bb0a",
   "metadata": {},
   "outputs": [
    {
     "name": "stdout",
     "output_type": "stream",
     "text": [
      "==================== 0 ====================\n",
      "input size: torch.Size([1, 4])\n",
      "tensor([[-0.7947, -0.6821,  0.5168,  0.7511]])\n",
      "outputs size: torch.Size([1, 2])\n",
      "tensor([[ 0.2991, -0.0042]], grad_fn=<TanhBackward0>)\n",
      "==================== 1 ====================\n",
      "input size: torch.Size([1, 4])\n",
      "tensor([[-0.4426,  0.4632, -0.6277, -1.9453]])\n",
      "outputs size: torch.Size([1, 2])\n",
      "tensor([[ 0.9739, -0.7383]], grad_fn=<TanhBackward0>)\n",
      "==================== 2 ====================\n",
      "input size: torch.Size([1, 4])\n",
      "tensor([[-0.0390, -1.2800, -0.5796, -0.4423]])\n",
      "outputs size: torch.Size([1, 2])\n",
      "tensor([[0.8112, 0.8467]], grad_fn=<TanhBackward0>)\n"
     ]
    }
   ],
   "source": [
    "# 自己写循环，一个个序列训练\n",
    "for idx,input in enumerate(dataset):\n",
    "    print('='*20,idx,'='*20)\n",
    "    print('input size:',input.shape)\n",
    "    print(input)\n",
    "    # 这里的input只是一个序列，而RNN模块的input是整个序列\n",
    "    hidden = cell(input,hidden)\n",
    "    print('outputs size:',hidden.shape)\n",
    "    print(hidden)"
   ]
  },
  {
   "cell_type": "markdown",
   "id": "4b2b3935",
   "metadata": {},
   "source": [
    "## RNN模块\n",
    "不用自己写循环，因为是全部序列一起送进去训练的"
   ]
  },
  {
   "cell_type": "code",
   "execution_count": 22,
   "id": "215bbfae",
   "metadata": {},
   "outputs": [
    {
     "data": {
      "text/plain": [
       "odict_keys(['weight_ih_l0', 'weight_hh_l0', 'bias_ih_l0', 'bias_hh_l0', 'weight_ih_l1', 'weight_hh_l1', 'bias_ih_l1', 'bias_hh_l1'])"
      ]
     },
     "execution_count": 22,
     "metadata": {},
     "output_type": "execute_result"
    }
   ],
   "source": [
    "import torch\n",
    "\n",
    "batch_size = 1\n",
    "seq_len = 3\n",
    "input_size = 4\n",
    "hidden_size = 2\n",
    "num_layers = 2\n",
    "\n",
    "# 相比RNN Cell 多了一个num_layers参数\n",
    "cell = torch.nn.RNN(input_size=input_size,hidden_size=hidden_size,num_layers=num_layers)\n",
    "# 有两层，所以有 L0 和L1\n",
    "cell._parameters.keys()"
   ]
  },
  {
   "cell_type": "code",
   "execution_count": 23,
   "id": "10af3507",
   "metadata": {},
   "outputs": [
    {
     "data": {
      "text/plain": [
       "tensor([[[ 0.5733, -2.0924, -0.0403,  0.4757]],\n",
       "\n",
       "        [[ 0.9369,  1.4870, -2.5997,  0.4912]],\n",
       "\n",
       "        [[ 0.1648,  1.5491, -0.4033,  1.4957]]])"
      ]
     },
     "execution_count": 23,
     "metadata": {},
     "output_type": "execute_result"
    }
   ],
   "source": [
    "# (seqLen,batchSize,inputSize)\n",
    "inputs = torch.randn(seq_len,batch_size,input_size)\n",
    "inputs"
   ]
  },
  {
   "cell_type": "code",
   "execution_count": 24,
   "id": "3ced3fa8",
   "metadata": {},
   "outputs": [
    {
     "data": {
      "text/plain": [
       "tensor([[[0., 0.]],\n",
       "\n",
       "        [[0., 0.]]])"
      ]
     },
     "execution_count": 24,
     "metadata": {},
     "output_type": "execute_result"
    }
   ],
   "source": [
    "# 多了一层num_layer\n",
    "hidden = torch.zeros(num_layers,batch_size,hidden_size)\n",
    "hidden"
   ]
  },
  {
   "cell_type": "code",
   "execution_count": 25,
   "id": "287a389d",
   "metadata": {},
   "outputs": [
    {
     "name": "stdout",
     "output_type": "stream",
     "text": [
      "Output size: torch.Size([3, 1, 2])\n",
      "Output: tensor([[[ 0.7328,  0.0594]],\n",
      "\n",
      "        [[ 0.9721, -0.1198]],\n",
      "\n",
      "        [[ 0.9592, -0.4367]]], grad_fn=<StackBackward0>)\n",
      "Hidden size: torch.Size([2, 1, 2])\n",
      "Hidden: tensor([[[-0.6193, -0.8778]],\n",
      "\n",
      "        [[ 0.9592, -0.4367]]], grad_fn=<StackBackward0>)\n"
     ]
    }
   ],
   "source": [
    "# 不用循环\n",
    "# inputs全部序列\n",
    "out,hidden = cell(inputs,hidden)\n",
    "\n",
    "# (seqSize,batchSize,hiddenSize)\n",
    "print('Output size:',out.shape)\n",
    "print('Output:',out)\n",
    "# (numLayers,batchSize,hiddenSize)\n",
    "print('Hidden size:',hidden.shape)\n",
    "print('Hidden:',hidden)"
   ]
  },
  {
   "cell_type": "code",
   "execution_count": null,
   "id": "ac7cfc65",
   "metadata": {},
   "outputs": [],
   "source": []
  }
 ],
 "metadata": {
  "kernelspec": {
   "display_name": "pytorch",
   "language": "python",
   "name": "pytorch"
  },
  "language_info": {
   "codemirror_mode": {
    "name": "ipython",
    "version": 3
   },
   "file_extension": ".py",
   "mimetype": "text/x-python",
   "name": "python",
   "nbconvert_exporter": "python",
   "pygments_lexer": "ipython3",
   "version": "3.7.11"
  },
  "toc": {
   "base_numbering": 1,
   "nav_menu": {},
   "number_sections": true,
   "sideBar": true,
   "skip_h1_title": false,
   "title_cell": "Table of Contents",
   "title_sidebar": "Contents",
   "toc_cell": false,
   "toc_position": {},
   "toc_section_display": true,
   "toc_window_display": false
  }
 },
 "nbformat": 4,
 "nbformat_minor": 5
}
