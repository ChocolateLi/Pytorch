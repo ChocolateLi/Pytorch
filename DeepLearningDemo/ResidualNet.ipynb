{
 "cells": [
  {
   "cell_type": "markdown",
   "id": "92519357",
   "metadata": {},
   "source": [
    "# 残差网络"
   ]
  },
  {
   "cell_type": "markdown",
   "id": "b83149f8",
   "metadata": {},
   "source": [
    "## 准备数据集"
   ]
  },
  {
   "cell_type": "code",
   "execution_count": 1,
   "id": "e3fe832f",
   "metadata": {},
   "outputs": [],
   "source": [
    "import torch\n",
    "from torchvision import transforms\n",
    "from torchvision import datasets\n",
    "from torch.utils.data import DataLoader\n",
    "import torch.nn.functional as F\n",
    "import torch.optim as optim\n",
    "\n",
    "batch_size = 64\n",
    "# 使用torch把图像转化为tensor,图像 c * w * h\n",
    "# 把单通道转换成多通道，把一系列的图像进行转换，变成 [0,1]之间。0.1307是均值，0.3081是标准差\n",
    "# 使用Normalize也是希望像素值满足 0 1 分布\n",
    "transform = transforms.Compose([transforms.ToTensor(),transforms.Normalize((0.1307,),(0.3081,))])\n",
    "# 变换好之后直接放进数据集里\n",
    "train_dataset = datasets.MNIST(root='./dataset/mnist',train=True,download=True,transform=transform)\n",
    "train_loader = DataLoader(train_dataset,shuffle=True,batch_size=batch_size)\n",
    "test_dataset = datasets.MNIST(root='./dataset/mnist',train=False,download=True,transform=transform)\n",
    "test_loader = DataLoader(test_dataset,shuffle=False,batch_size=batch_size)"
   ]
  },
  {
   "cell_type": "markdown",
   "id": "813796aa",
   "metadata": {},
   "source": [
    "## 定义模型"
   ]
  },
  {
   "cell_type": "markdown",
   "id": "352cce7f",
   "metadata": {},
   "source": [
    "### 定义残差模块"
   ]
  },
  {
   "cell_type": "code",
   "execution_count": 3,
   "id": "fc154faf",
   "metadata": {},
   "outputs": [],
   "source": [
    "class ResidualBlock(torch.nn.Module):\n",
    "    def __init__(self,channels):\n",
    "        super(ResidualBlock,self).__init__()\n",
    "        self.channels = channels\n",
    "        # 为了保证输出图像大小不变，那么需要把padding设置为1.因为得保证输出和输入的通道得是一样的\n",
    "        # padding的大小是通过kernel_size求的，3/2=1\n",
    "        self.conv1 = torch.nn.Conv2d(in_channels=channels,out_channels=channels,kernel_size=3,padding=1)\n",
    "        self.conv2 = torch.nn.Conv2d(in_channels=channels,out_channels=channels,kernel_size=3,padding=1)\n",
    "        \n",
    "    def forward(self,x):\n",
    "        y = F.relu(self.conv1(x))\n",
    "        y = self.conv2(y)\n",
    "        return F.relu(x+y)\n",
    "        "
   ]
  },
  {
   "cell_type": "markdown",
   "id": "b39ef1cb",
   "metadata": {},
   "source": [
    "### 定义网络模型"
   ]
  },
  {
   "cell_type": "code",
   "execution_count": 4,
   "id": "292f4c6f",
   "metadata": {},
   "outputs": [],
   "source": [
    "class Net(torch.nn.Module):\n",
    "    def __init__(self):\n",
    "        super(Net,self).__init__()\n",
    "        # 先定义两个卷积层\n",
    "        self.conv1 = torch.nn.Conv2d(1,16,kernel_size=5)\n",
    "        self.conv2 = torch.nn.Conv2d(16,32,kernel_size=5)\n",
    "        self.mp = torch.nn.MaxPool2d(2)\n",
    "        \n",
    "        self.rblock1 = ResidualBlock(16)\n",
    "        self.rblock2 = ResidualBlock(32)\n",
    "        \n",
    "        self.fc = torch.nn.Linear(512,10)\n",
    "        \n",
    "    def forward(self,x):\n",
    "        in_size = x.size(0)\n",
    "        x = self.mp(F.relu(self.conv1(x)))\n",
    "        x = self.rblock1(x)\n",
    "        x = self.mp(F.relu(self.conv2(x)))\n",
    "        x = self.rblock2(x)\n",
    "        x = x.view(in_size,-1) \n",
    "        x = self.fc(x)\n",
    "        return x\n",
    "        \n",
    "    \n",
    "model = Net()"
   ]
  },
  {
   "cell_type": "markdown",
   "id": "8eb14f35",
   "metadata": {},
   "source": [
    "## 构造损失函数和优化器"
   ]
  },
  {
   "cell_type": "code",
   "execution_count": 5,
   "id": "be7fa0ac",
   "metadata": {},
   "outputs": [],
   "source": [
    "criterion = torch.nn.CrossEntropyLoss()\n",
    "optimizer = torch.optim.SGD(model.parameters(),lr=0.01,momentum=0.5)"
   ]
  },
  {
   "cell_type": "markdown",
   "id": "b163fc5b",
   "metadata": {},
   "source": [
    "## 构造训练器"
   ]
  },
  {
   "cell_type": "code",
   "execution_count": 6,
   "id": "c28aa0b9",
   "metadata": {},
   "outputs": [],
   "source": [
    "def train(epoch):\n",
    "    running_loss = 0.0\n",
    "    for batch_idx,data in enumerate(train_loader,0):\n",
    "        inputs,target = data\n",
    "        # 把inputs,target都迁移到GPU中\n",
    "        # inputs,target = inputs.to(device),target.to(device)\n",
    "        # 优化器在优化之前先清零\n",
    "        optimizer.zero_grad()\n",
    "        # forward backward update\n",
    "        outputs = model(inputs)\n",
    "        loss = criterion(outputs,target)\n",
    "        loss.backward()\n",
    "        optimizer.step()\n",
    "        \n",
    "        running_loss += loss.item()\n",
    "        # 每300输出一次\n",
    "        if batch_idx % 300 == 299:\n",
    "            print('[%d,%5d] loss:%.3f' % (epoch+1,batch_idx+1,running_loss/300))\n",
    "            # 每300一组数据跑完，清零\n",
    "            running_loss = 0.0"
   ]
  },
  {
   "cell_type": "markdown",
   "id": "a1d637af",
   "metadata": {},
   "source": [
    "## 测试"
   ]
  },
  {
   "cell_type": "code",
   "execution_count": 7,
   "id": "be2384f0",
   "metadata": {},
   "outputs": [],
   "source": [
    "# test里面不需要计算反向传播，只需要计算正向的就行了\n",
    "def test():\n",
    "    # 表示正确了多少\n",
    "    correct = 0\n",
    "    # 表示总数有多少\n",
    "    total = 0\n",
    "    # 在test过程中是不需要计算梯度的\n",
    "    # 这部分的代码不会求导\n",
    "    with torch.no_grad():\n",
    "        for data in test_loader:\n",
    "            images,labels = data\n",
    "            # 把数据迁移到GPU上\n",
    "            # images,labels = images.to(device),labels.to(device)\n",
    "            outputs = model(images)\n",
    "            # dim=1 返回每一个行的最大值和索引\n",
    "            # dim=0 返回每一列的最大值和索引\n",
    "            # 这里的索引或者下标对应的是它的分类\n",
    "            _,predicted = torch.max(outputs.data,dim=1)\n",
    "            # label是一个元组，(N,1)\n",
    "            # size是计算元素的个数，0表示计算行数，1表示计算列数\n",
    "            total += labels.size(0)\n",
    "            correct += (predicted==labels).sum().item()\n",
    "            \n",
    "    # 使用正确的数除以总数\n",
    "    print('Accuracy on test set: %d %%' % (100 * correct/total))"
   ]
  },
  {
   "cell_type": "code",
   "execution_count": 8,
   "id": "f0235bd1",
   "metadata": {},
   "outputs": [
    {
     "name": "stdout",
     "output_type": "stream",
     "text": [
      "[1,  300] loss:0.538\n",
      "[1,  600] loss:0.152\n",
      "[1,  900] loss:0.108\n",
      "Accuracy on test set: 97 %\n",
      "[2,  300] loss:0.092\n",
      "[2,  600] loss:0.077\n",
      "[2,  900] loss:0.073\n",
      "Accuracy on test set: 98 %\n",
      "[3,  300] loss:0.062\n",
      "[3,  600] loss:0.061\n",
      "[3,  900] loss:0.055\n",
      "Accuracy on test set: 98 %\n",
      "[4,  300] loss:0.053\n",
      "[4,  600] loss:0.041\n",
      "[4,  900] loss:0.050\n",
      "Accuracy on test set: 98 %\n",
      "[5,  300] loss:0.038\n",
      "[5,  600] loss:0.042\n",
      "[5,  900] loss:0.044\n",
      "Accuracy on test set: 98 %\n",
      "[6,  300] loss:0.037\n",
      "[6,  600] loss:0.031\n",
      "[6,  900] loss:0.039\n",
      "Accuracy on test set: 98 %\n",
      "[7,  300] loss:0.030\n",
      "[7,  600] loss:0.031\n",
      "[7,  900] loss:0.034\n",
      "Accuracy on test set: 98 %\n",
      "[8,  300] loss:0.027\n",
      "[8,  600] loss:0.028\n",
      "[8,  900] loss:0.029\n",
      "Accuracy on test set: 98 %\n",
      "[9,  300] loss:0.024\n",
      "[9,  600] loss:0.025\n",
      "[9,  900] loss:0.028\n",
      "Accuracy on test set: 98 %\n",
      "[10,  300] loss:0.022\n",
      "[10,  600] loss:0.024\n",
      "[10,  900] loss:0.022\n",
      "Accuracy on test set: 98 %\n"
     ]
    }
   ],
   "source": [
    "for epoch in range(10):\n",
    "    # 一轮训练\n",
    "    train(epoch)\n",
    "    # 一轮测试\n",
    "    test()"
   ]
  },
  {
   "cell_type": "code",
   "execution_count": null,
   "id": "a6d2d571",
   "metadata": {},
   "outputs": [],
   "source": []
  }
 ],
 "metadata": {
  "kernelspec": {
   "display_name": "pytorch",
   "language": "python",
   "name": "pytorch"
  },
  "language_info": {
   "codemirror_mode": {
    "name": "ipython",
    "version": 3
   },
   "file_extension": ".py",
   "mimetype": "text/x-python",
   "name": "python",
   "nbconvert_exporter": "python",
   "pygments_lexer": "ipython3",
   "version": "3.7.11"
  },
  "toc": {
   "base_numbering": 1,
   "nav_menu": {},
   "number_sections": true,
   "sideBar": true,
   "skip_h1_title": false,
   "title_cell": "Table of Contents",
   "title_sidebar": "Contents",
   "toc_cell": false,
   "toc_position": {},
   "toc_section_display": true,
   "toc_window_display": false
  }
 },
 "nbformat": 4,
 "nbformat_minor": 5
}
